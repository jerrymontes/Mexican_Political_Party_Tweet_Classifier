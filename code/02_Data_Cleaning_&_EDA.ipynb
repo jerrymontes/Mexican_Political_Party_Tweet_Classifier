{
 "cells": [
  {
   "cell_type": "code",
   "execution_count": 76,
   "id": "27f6c3e9-7282-44cb-9ee8-a9cd99731368",
   "metadata": {},
   "outputs": [],
   "source": [
    "# Imported all of the modules I would need to utilize.  I commented out Plotly, since it is not available in my base environment, which is what I always use except for when creating Plotly visualizations.\n",
    "\n",
    "import matplotlib.pyplot as plt\n",
    "import numpy as np\n",
    "import pandas as pd\n",
    "# import plotly\n",
    "# import plotly.express as px\n",
    "import seaborn as sns\n",
    "\n",
    "from sklearn.feature_extraction.text import CountVectorizer\n",
    "\n",
    "# This setting widens how many characters Pandas will display in a column:\n",
    "pd.options.display.max_colwidth = 400\n",
    "\n",
    "# Obtained spanish stop words list from: https://github.com/stopwords-iso/stopwords-es/blob/master/stopwords-es.txt\n",
    "# Obtained guidance on creating stop_words_list using .txt file from: https://stackoverflow.com/questions/36369870/sklearn-how-to-add-custom-stopword-list-from-txt-file#36371942\n",
    "with open('../data/spanish.txt', 'r') as file:\n",
    "    spanish=[file.read().replace('\\n', ',')]"
   ]
  },
  {
   "cell_type": "markdown",
   "id": "b5f8b9bd-f284-43eb-904d-e464752750aa",
   "metadata": {},
   "source": [
    "## Data Cleaning"
   ]
  },
  {
   "cell_type": "code",
   "execution_count": 2,
   "id": "5ea0c274-4610-4ee9-adab-a66dfdd34b30",
   "metadata": {},
   "outputs": [],
   "source": [
    "# Created a DataFrame from the .csv file I saved with Partido Acción Nacional's pulled tweets.\n",
    "pan_df = pd.read_csv('../data/pan.csv')"
   ]
  },
  {
   "cell_type": "code",
   "execution_count": 3,
   "id": "f17333d2-3c62-467f-a63f-44dc6c9882e1",
   "metadata": {},
   "outputs": [],
   "source": [
    "# Created a DataFrame from the .csv file I saved with Partido Revolucionario Institucional's pulled tweets.\n",
    "pri_df = pd.read_csv('../data/pri.csv')"
   ]
  },
  {
   "cell_type": "code",
   "execution_count": 4,
   "id": "338c6cd9-ed36-4a1f-9c38-977ed81bf60a",
   "metadata": {},
   "outputs": [],
   "source": [
    "# Created a DataFrame from the .csv file I saved with Partido de la Revolución Democrática's pulled tweets.\n",
    "prd_df = pd.read_csv('../data/prd.csv')"
   ]
  },
  {
   "cell_type": "code",
   "execution_count": 5,
   "id": "228943db-8571-40d4-99ae-94eaea0f513b",
   "metadata": {},
   "outputs": [],
   "source": [
    "# Created a DataFrame from the .csv file I saved with Partido Verde Ecologista de México's pulled tweets.\n",
    "pv_df = pd.read_csv('../data/pv.csv')"
   ]
  },
  {
   "cell_type": "code",
   "execution_count": 6,
   "id": "a7598f30-05c1-4fc2-8228-47a7056aadde",
   "metadata": {},
   "outputs": [],
   "source": [
    "# Created a DataFrame from the .csv file I saved with Movimiento Ciudadano's pulled tweets.\n",
    "mc_df = pd.read_csv('../data/mc.csv')"
   ]
  },
  {
   "cell_type": "code",
   "execution_count": 7,
   "id": "603d9542-84d8-49ed-a585-84f6300ec895",
   "metadata": {},
   "outputs": [],
   "source": [
    "# Created a DataFrame from the .csv file I saved with Morena's pulled tweets.\n",
    "mrn_df = pd.read_csv('../data/mrn.csv')"
   ]
  },
  {
   "cell_type": "code",
   "execution_count": 8,
   "id": "4241ee70-3fc3-409f-b5cb-ee839e2e81ec",
   "metadata": {},
   "outputs": [],
   "source": [
    "# Concatenating Dataframes\n",
    "mx_tweets = pd.concat([pan_df, pri_df, prd_df, pv_df, mc_df, mrn_df])"
   ]
  },
  {
   "cell_type": "code",
   "execution_count": 9,
   "id": "31343b16-9e71-4242-9015-d3fdf8489e95",
   "metadata": {},
   "outputs": [
    {
     "data": {
      "text/plain": [
       "(19169, 3)"
      ]
     },
     "execution_count": 9,
     "metadata": {},
     "output_type": "execute_result"
    }
   ],
   "source": [
    "mx_tweets.shape"
   ]
  },
  {
   "cell_type": "code",
   "execution_count": 10,
   "id": "ff854ece-671e-4f95-94ea-9f77bc605e62",
   "metadata": {},
   "outputs": [],
   "source": [
    "# Resetting the index of this concatenated DataFrame and ensuring shape didn't change.\n",
    "mx_tweets.reset_index(inplace = True, drop = True)"
   ]
  },
  {
   "cell_type": "code",
   "execution_count": 11,
   "id": "2beaa90f-258f-4fdd-b23b-0ea8b72dba2d",
   "metadata": {},
   "outputs": [
    {
     "data": {
      "text/plain": [
       "(19169, 3)"
      ]
     },
     "execution_count": 11,
     "metadata": {},
     "output_type": "execute_result"
    }
   ],
   "source": [
    "mx_tweets.shape"
   ]
  },
  {
   "cell_type": "code",
   "execution_count": 12,
   "id": "89074220-827f-4ae4-8264-3814f430fab2",
   "metadata": {},
   "outputs": [
    {
     "data": {
      "text/html": [
       "<div>\n",
       "<style scoped>\n",
       "    .dataframe tbody tr th:only-of-type {\n",
       "        vertical-align: middle;\n",
       "    }\n",
       "\n",
       "    .dataframe tbody tr th {\n",
       "        vertical-align: top;\n",
       "    }\n",
       "\n",
       "    .dataframe thead th {\n",
       "        text-align: right;\n",
       "    }\n",
       "</style>\n",
       "<table border=\"1\" class=\"dataframe\">\n",
       "  <thead>\n",
       "    <tr style=\"text-align: right;\">\n",
       "      <th></th>\n",
       "      <th>time</th>\n",
       "      <th>user</th>\n",
       "      <th>tweet</th>\n",
       "    </tr>\n",
       "  </thead>\n",
       "  <tbody>\n",
       "    <tr>\n",
       "      <th>0</th>\n",
       "      <td>2022-06-06 22:52:00+00:00</td>\n",
       "      <td>AccionNacional</td>\n",
       "      <td>¡Lo hicimos, Durango! El municipio sigue pintándose de azul y @josejoseantonio trabajará incansablemente por un gobierno cercano a la gente, que continúe dando resultados y mejore la calidad de vida de las familias👏🏼 https://t.co/XEYD1XdXQr</td>\n",
       "    </tr>\n",
       "    <tr>\n",
       "      <th>1</th>\n",
       "      <td>2022-06-06 17:01:25+00:00</td>\n",
       "      <td>AccionNacional</td>\n",
       "      <td>¡Ganamos Durango con @EVillegasV!\\n\\nGracias a las y los duranguenses por su confianza, trabajaremos juntos para que continúen los buenos resultados y el crecimiento en el estado.\\n\\n#EstebanGobernador https://t.co/j5HikIlkMv</td>\n",
       "    </tr>\n",
       "    <tr>\n",
       "      <th>2</th>\n",
       "      <td>2022-06-06 15:01:41+00:00</td>\n",
       "      <td>AccionNacional</td>\n",
       "      <td>¡Muchas felicidades @TereJimenezE por tu triunfo contundente! Eres un orgullo para todo el panismo y estamos seguros te convertirás en la mejor gobernadora de Aguascalientes.\\n\\n#TereGobernadora https://t.co/5kuBaOMfWE</td>\n",
       "    </tr>\n",
       "    <tr>\n",
       "      <th>3</th>\n",
       "      <td>2022-06-06 14:06:27+00:00</td>\n",
       "      <td>AccionNacional</td>\n",
       "      <td>RT @TereJimenezE: ¡Hoy ganaron las propuestas y la unidad! ¡Hoy ganó Aguascalientes!\\n\\n¡GRACIAS! https://t.co/NzYv7dsqYb</td>\n",
       "    </tr>\n",
       "    <tr>\n",
       "      <th>4</th>\n",
       "      <td>2022-06-06 14:06:15+00:00</td>\n",
       "      <td>AccionNacional</td>\n",
       "      <td>RT @EVillegasV: ¡Durango ganó con valor! Simplemente, ¡gracias a las y los duranguenses que me han otorgado su confianza! Hoy comienza el g…</td>\n",
       "    </tr>\n",
       "  </tbody>\n",
       "</table>\n",
       "</div>"
      ],
      "text/plain": [
       "                        time            user  \\\n",
       "0  2022-06-06 22:52:00+00:00  AccionNacional   \n",
       "1  2022-06-06 17:01:25+00:00  AccionNacional   \n",
       "2  2022-06-06 15:01:41+00:00  AccionNacional   \n",
       "3  2022-06-06 14:06:27+00:00  AccionNacional   \n",
       "4  2022-06-06 14:06:15+00:00  AccionNacional   \n",
       "\n",
       "                                                                                                                                                                                                                                              tweet  \n",
       "0  ¡Lo hicimos, Durango! El municipio sigue pintándose de azul y @josejoseantonio trabajará incansablemente por un gobierno cercano a la gente, que continúe dando resultados y mejore la calidad de vida de las familias👏🏼 https://t.co/XEYD1XdXQr  \n",
       "1                 ¡Ganamos Durango con @EVillegasV!\\n\\nGracias a las y los duranguenses por su confianza, trabajaremos juntos para que continúen los buenos resultados y el crecimiento en el estado.\\n\\n#EstebanGobernador https://t.co/j5HikIlkMv  \n",
       "2                        ¡Muchas felicidades @TereJimenezE por tu triunfo contundente! Eres un orgullo para todo el panismo y estamos seguros te convertirás en la mejor gobernadora de Aguascalientes.\\n\\n#TereGobernadora https://t.co/5kuBaOMfWE  \n",
       "3                                                                                                                         RT @TereJimenezE: ¡Hoy ganaron las propuestas y la unidad! ¡Hoy ganó Aguascalientes!\\n\\n¡GRACIAS! https://t.co/NzYv7dsqYb  \n",
       "4                                                                                                      RT @EVillegasV: ¡Durango ganó con valor! Simplemente, ¡gracias a las y los duranguenses que me han otorgado su confianza! Hoy comienza el g…  "
      ]
     },
     "execution_count": 12,
     "metadata": {},
     "output_type": "execute_result"
    }
   ],
   "source": [
    "mx_tweets.head()"
   ]
  },
  {
   "cell_type": "code",
   "execution_count": 13,
   "id": "76fd76e9-879c-493f-82dd-9f3ed3ee7511",
   "metadata": {},
   "outputs": [],
   "source": [
    "# Created new DataFrame named mx_political that contained only the feature column and the label.\n",
    "mx_political = mx_tweets[['user', 'tweet']]"
   ]
  },
  {
   "cell_type": "code",
   "execution_count": 14,
   "id": "8796a4b7-26c7-4af8-96c1-7de95cb07f81",
   "metadata": {},
   "outputs": [
    {
     "data": {
      "text/plain": [
       "pandas.core.frame.DataFrame"
      ]
     },
     "execution_count": 14,
     "metadata": {},
     "output_type": "execute_result"
    }
   ],
   "source": [
    "type(mx_political)"
   ]
  },
  {
   "cell_type": "code",
   "execution_count": 15,
   "id": "d6250395-c0d3-4b4b-bac4-af397751db97",
   "metadata": {},
   "outputs": [
    {
     "data": {
      "text/plain": [
       "user     0\n",
       "tweet    0\n",
       "dtype: int64"
      ]
     },
     "execution_count": 15,
     "metadata": {},
     "output_type": "execute_result"
    }
   ],
   "source": [
    "mx_political.isna().sum()"
   ]
  },
  {
   "cell_type": "code",
   "execution_count": 16,
   "id": "e32a3286-27ad-4292-acb9-98f78d210dfe",
   "metadata": {},
   "outputs": [],
   "source": [
    "# Proceeded to save this new DataFrame (with only the feature and target columns) as a .csv file.\n",
    "mx_political.to_csv('../data/mx_political.csv', index=False)"
   ]
  },
  {
   "cell_type": "markdown",
   "id": "82496bf5-1786-49dd-9387-41e54dcb48e6",
   "metadata": {},
   "source": [
    "## Exploratory Data Analysis"
   ]
  },
  {
   "cell_type": "code",
   "execution_count": 17,
   "id": "542df0b4-399f-4f76-b700-b1bf0a73376a",
   "metadata": {},
   "outputs": [],
   "source": [
    "#In order to perform Exploratory Data Analysis without altering the \"mx_political\" DataFrame, I created a copy of it and named it \"mx_political_eda\"\n",
    "mx_political_eda = mx_political.copy()"
   ]
  },
  {
   "cell_type": "code",
   "execution_count": 18,
   "id": "cf167a49-f6c9-4ef2-b210-0635865f89d7",
   "metadata": {},
   "outputs": [
    {
     "data": {
      "text/plain": [
       "partidoverdemex    0.166936\n",
       "PRI_Nacional       0.166884\n",
       "AccionNacional     0.166832\n",
       "PartidoMorenaMx    0.166780\n",
       "PRDMexico          0.166519\n",
       "MovCiudadanoMX     0.166049\n",
       "Name: user, dtype: float64"
      ]
     },
     "execution_count": 18,
     "metadata": {},
     "output_type": "execute_result"
    }
   ],
   "source": [
    "mx_political_eda['user'].value_counts(normalize=True)"
   ]
  },
  {
   "cell_type": "code",
   "execution_count": 19,
   "id": "323c5aeb-9522-4be6-a853-b87330c104c9",
   "metadata": {},
   "outputs": [
    {
     "name": "stdout",
     "output_type": "stream",
     "text": [
      "<class 'pandas.core.frame.DataFrame'>\n",
      "RangeIndex: 19169 entries, 0 to 19168\n",
      "Data columns (total 2 columns):\n",
      " #   Column  Non-Null Count  Dtype \n",
      "---  ------  --------------  ----- \n",
      " 0   user    19169 non-null  object\n",
      " 1   tweet   19169 non-null  object\n",
      "dtypes: object(2)\n",
      "memory usage: 299.6+ KB\n"
     ]
    }
   ],
   "source": [
    "mx_political_eda.info()"
   ]
  },
  {
   "cell_type": "code",
   "execution_count": 20,
   "id": "31afe6da-3189-4ddf-ab02-3fe0e5417a7d",
   "metadata": {},
   "outputs": [
    {
     "data": {
      "text/html": [
       "<div>\n",
       "<style scoped>\n",
       "    .dataframe tbody tr th:only-of-type {\n",
       "        vertical-align: middle;\n",
       "    }\n",
       "\n",
       "    .dataframe tbody tr th {\n",
       "        vertical-align: top;\n",
       "    }\n",
       "\n",
       "    .dataframe thead th {\n",
       "        text-align: right;\n",
       "    }\n",
       "</style>\n",
       "<table border=\"1\" class=\"dataframe\">\n",
       "  <thead>\n",
       "    <tr style=\"text-align: right;\">\n",
       "      <th></th>\n",
       "      <th>user</th>\n",
       "      <th>tweet</th>\n",
       "    </tr>\n",
       "  </thead>\n",
       "  <tbody>\n",
       "    <tr>\n",
       "      <th>0</th>\n",
       "      <td>AccionNacional</td>\n",
       "      <td>¡Lo hicimos, Durango! El municipio sigue pintándose de azul y @josejoseantonio trabajará incansablemente por un gobierno cercano a la gente, que continúe dando resultados y mejore la calidad de vida de las familias👏🏼 https://t.co/XEYD1XdXQr</td>\n",
       "    </tr>\n",
       "    <tr>\n",
       "      <th>1</th>\n",
       "      <td>AccionNacional</td>\n",
       "      <td>¡Ganamos Durango con @EVillegasV!\\n\\nGracias a las y los duranguenses por su confianza, trabajaremos juntos para que continúen los buenos resultados y el crecimiento en el estado.\\n\\n#EstebanGobernador https://t.co/j5HikIlkMv</td>\n",
       "    </tr>\n",
       "    <tr>\n",
       "      <th>2</th>\n",
       "      <td>AccionNacional</td>\n",
       "      <td>¡Muchas felicidades @TereJimenezE por tu triunfo contundente! Eres un orgullo para todo el panismo y estamos seguros te convertirás en la mejor gobernadora de Aguascalientes.\\n\\n#TereGobernadora https://t.co/5kuBaOMfWE</td>\n",
       "    </tr>\n",
       "    <tr>\n",
       "      <th>3</th>\n",
       "      <td>AccionNacional</td>\n",
       "      <td>RT @TereJimenezE: ¡Hoy ganaron las propuestas y la unidad! ¡Hoy ganó Aguascalientes!\\n\\n¡GRACIAS! https://t.co/NzYv7dsqYb</td>\n",
       "    </tr>\n",
       "    <tr>\n",
       "      <th>4</th>\n",
       "      <td>AccionNacional</td>\n",
       "      <td>RT @EVillegasV: ¡Durango ganó con valor! Simplemente, ¡gracias a las y los duranguenses que me han otorgado su confianza! Hoy comienza el g…</td>\n",
       "    </tr>\n",
       "    <tr>\n",
       "      <th>5</th>\n",
       "      <td>AccionNacional</td>\n",
       "      <td>RT @josejoseantonio: Con la reserva de los resultados oficiales, todas las encuestas de salida nos marcan como ganadores de la contienda. ¡…</td>\n",
       "    </tr>\n",
       "    <tr>\n",
       "      <th>6</th>\n",
       "      <td>AccionNacional</td>\n",
       "      <td>Lamentamos profundamente el fallecimiento de nuestra diputada federal Alma Rosa Hernández Escobar. Nuestro más sentido pésame y un fuerte abrazo a sus seres queridos.\\n\\nDescanse en paz. https://t.co/PbfrM8fEJd</td>\n",
       "    </tr>\n",
       "    <tr>\n",
       "      <th>7</th>\n",
       "      <td>AccionNacional</td>\n",
       "      <td>¡Ganamos contundentemente Aguascalientes y Durango, y vamos arriba en Tamaulipas!\\n\\nHoy queda claro que vamos en el camino correcto, seguimos avanzando y #SíHayTiro2024. https://t.co/lgDGvyVZ93</td>\n",
       "    </tr>\n",
       "    <tr>\n",
       "      <th>8</th>\n",
       "      <td>AccionNacional</td>\n",
       "      <td>RT @JorgeRoHe: Hoy las y los ciudadanos dieron su confianza a los buenos gobiernos de @AccionNacional\\n\\n¡Vencimos el intento fallido de elec…</td>\n",
       "    </tr>\n",
       "    <tr>\n",
       "      <th>9</th>\n",
       "      <td>AccionNacional</td>\n",
       "      <td>RT @MarkoCortes: Hoy quedó claro que a pesar de toda la ilegalidad y autoritarismo del Gobierno federal y Morena, avanzamos para en el 2024…</td>\n",
       "    </tr>\n",
       "  </tbody>\n",
       "</table>\n",
       "</div>"
      ],
      "text/plain": [
       "             user  \\\n",
       "0  AccionNacional   \n",
       "1  AccionNacional   \n",
       "2  AccionNacional   \n",
       "3  AccionNacional   \n",
       "4  AccionNacional   \n",
       "5  AccionNacional   \n",
       "6  AccionNacional   \n",
       "7  AccionNacional   \n",
       "8  AccionNacional   \n",
       "9  AccionNacional   \n",
       "\n",
       "                                                                                                                                                                                                                                              tweet  \n",
       "0  ¡Lo hicimos, Durango! El municipio sigue pintándose de azul y @josejoseantonio trabajará incansablemente por un gobierno cercano a la gente, que continúe dando resultados y mejore la calidad de vida de las familias👏🏼 https://t.co/XEYD1XdXQr  \n",
       "1                 ¡Ganamos Durango con @EVillegasV!\\n\\nGracias a las y los duranguenses por su confianza, trabajaremos juntos para que continúen los buenos resultados y el crecimiento en el estado.\\n\\n#EstebanGobernador https://t.co/j5HikIlkMv  \n",
       "2                        ¡Muchas felicidades @TereJimenezE por tu triunfo contundente! Eres un orgullo para todo el panismo y estamos seguros te convertirás en la mejor gobernadora de Aguascalientes.\\n\\n#TereGobernadora https://t.co/5kuBaOMfWE  \n",
       "3                                                                                                                         RT @TereJimenezE: ¡Hoy ganaron las propuestas y la unidad! ¡Hoy ganó Aguascalientes!\\n\\n¡GRACIAS! https://t.co/NzYv7dsqYb  \n",
       "4                                                                                                      RT @EVillegasV: ¡Durango ganó con valor! Simplemente, ¡gracias a las y los duranguenses que me han otorgado su confianza! Hoy comienza el g…  \n",
       "5                                                                                                      RT @josejoseantonio: Con la reserva de los resultados oficiales, todas las encuestas de salida nos marcan como ganadores de la contienda. ¡…  \n",
       "6                                Lamentamos profundamente el fallecimiento de nuestra diputada federal Alma Rosa Hernández Escobar. Nuestro más sentido pésame y un fuerte abrazo a sus seres queridos.\\n\\nDescanse en paz. https://t.co/PbfrM8fEJd  \n",
       "7                                                ¡Ganamos contundentemente Aguascalientes y Durango, y vamos arriba en Tamaulipas!\\n\\nHoy queda claro que vamos en el camino correcto, seguimos avanzando y #SíHayTiro2024. https://t.co/lgDGvyVZ93  \n",
       "8                                                                                                    RT @JorgeRoHe: Hoy las y los ciudadanos dieron su confianza a los buenos gobiernos de @AccionNacional\\n\\n¡Vencimos el intento fallido de elec…  \n",
       "9                                                                                                      RT @MarkoCortes: Hoy quedó claro que a pesar de toda la ilegalidad y autoritarismo del Gobierno federal y Morena, avanzamos para en el 2024…  "
      ]
     },
     "execution_count": 20,
     "metadata": {},
     "output_type": "execute_result"
    }
   ],
   "source": [
    "mx_political_eda.head(10)"
   ]
  },
  {
   "cell_type": "code",
   "execution_count": 21,
   "id": "34c73477-389c-40e8-a6a4-1e71ec7738dd",
   "metadata": {},
   "outputs": [
    {
     "data": {
      "text/html": [
       "<div>\n",
       "<style scoped>\n",
       "    .dataframe tbody tr th:only-of-type {\n",
       "        vertical-align: middle;\n",
       "    }\n",
       "\n",
       "    .dataframe tbody tr th {\n",
       "        vertical-align: top;\n",
       "    }\n",
       "\n",
       "    .dataframe thead th {\n",
       "        text-align: right;\n",
       "    }\n",
       "</style>\n",
       "<table border=\"1\" class=\"dataframe\">\n",
       "  <thead>\n",
       "    <tr style=\"text-align: right;\">\n",
       "      <th></th>\n",
       "      <th>user</th>\n",
       "      <th>tweet</th>\n",
       "    </tr>\n",
       "  </thead>\n",
       "  <tbody>\n",
       "    <tr>\n",
       "      <th>19159</th>\n",
       "      <td>PartidoMorenaMx</td>\n",
       "      <td>Impulsar una cultura de paz y eliminar todo tipo de violencia contras las mujeres es fundamental para construir una sociedad verdaderamente justa. Acompáñanos en las actividades en el marco del #DiaContralaViolenciadeGenero\\n\\nhttps://t.co/pTfHuv28AM</td>\n",
       "    </tr>\n",
       "    <tr>\n",
       "      <th>19160</th>\n",
       "      <td>PartidoMorenaMx</td>\n",
       "      <td>RT @DiputadosMorena: No más indiferencia ante los abusos</td>\n",
       "    </tr>\n",
       "    <tr>\n",
       "      <th>19161</th>\n",
       "      <td>PartidoMorenaMx</td>\n",
       "      <td>RT @DiputadosMorena: Vivas nos queremos #DiaContralaViolenciadeGenero</td>\n",
       "    </tr>\n",
       "    <tr>\n",
       "      <th>19162</th>\n",
       "      <td>PartidoMorenaMx</td>\n",
       "      <td>RT @DiputadosMorena: Ni una menos #NiUnaMenos</td>\n",
       "    </tr>\n",
       "    <tr>\n",
       "      <th>19163</th>\n",
       "      <td>PartidoMorenaMx</td>\n",
       "      <td>RT @DiputadosMorena: Exigimos respeto #DiaContralaViolenciadeGenero</td>\n",
       "    </tr>\n",
       "    <tr>\n",
       "      <th>19164</th>\n",
       "      <td>PartidoMorenaMx</td>\n",
       "      <td>RT @DiputadosMorena: Abajo el patriarcado #NiUnaMas</td>\n",
       "    </tr>\n",
       "    <tr>\n",
       "      <th>19165</th>\n",
       "      <td>PartidoMorenaMx</td>\n",
       "      <td>RT @DiputadosMorena: Hartas de violencias machistas #NiUnaMenos</td>\n",
       "    </tr>\n",
       "    <tr>\n",
       "      <th>19166</th>\n",
       "      <td>PartidoMorenaMx</td>\n",
       "      <td>RT @DiputadosMorena: Vivas, libres y en lucha #DiaContralaViolenciadeGenero</td>\n",
       "    </tr>\n",
       "    <tr>\n",
       "      <th>19167</th>\n",
       "      <td>PartidoMorenaMx</td>\n",
       "      <td>RT @DiputadosMorena: No nos sentimos seguras, no nos sentimos a salvo #NiUnaMenos #25Nov</td>\n",
       "    </tr>\n",
       "    <tr>\n",
       "      <th>19168</th>\n",
       "      <td>PartidoMorenaMx</td>\n",
       "      <td>RT @DiputadosMorena: Luchamos hoy para no morir mañana #DiaContralaViolenciadeGenero</td>\n",
       "    </tr>\n",
       "  </tbody>\n",
       "</table>\n",
       "</div>"
      ],
      "text/plain": [
       "                  user  \\\n",
       "19159  PartidoMorenaMx   \n",
       "19160  PartidoMorenaMx   \n",
       "19161  PartidoMorenaMx   \n",
       "19162  PartidoMorenaMx   \n",
       "19163  PartidoMorenaMx   \n",
       "19164  PartidoMorenaMx   \n",
       "19165  PartidoMorenaMx   \n",
       "19166  PartidoMorenaMx   \n",
       "19167  PartidoMorenaMx   \n",
       "19168  PartidoMorenaMx   \n",
       "\n",
       "                                                                                                                                                                                                                                                            tweet  \n",
       "19159  Impulsar una cultura de paz y eliminar todo tipo de violencia contras las mujeres es fundamental para construir una sociedad verdaderamente justa. Acompáñanos en las actividades en el marco del #DiaContralaViolenciadeGenero\\n\\nhttps://t.co/pTfHuv28AM  \n",
       "19160                                                                                                                                                                                                    RT @DiputadosMorena: No más indiferencia ante los abusos  \n",
       "19161                                                                                                                                                                                       RT @DiputadosMorena: Vivas nos queremos #DiaContralaViolenciadeGenero  \n",
       "19162                                                                                                                                                                                                               RT @DiputadosMorena: Ni una menos #NiUnaMenos  \n",
       "19163                                                                                                                                                                                         RT @DiputadosMorena: Exigimos respeto #DiaContralaViolenciadeGenero  \n",
       "19164                                                                                                                                                                                                         RT @DiputadosMorena: Abajo el patriarcado #NiUnaMas  \n",
       "19165                                                                                                                                                                                             RT @DiputadosMorena: Hartas de violencias machistas #NiUnaMenos  \n",
       "19166                                                                                                                                                                                 RT @DiputadosMorena: Vivas, libres y en lucha #DiaContralaViolenciadeGenero  \n",
       "19167                                                                                                                                                                    RT @DiputadosMorena: No nos sentimos seguras, no nos sentimos a salvo #NiUnaMenos #25Nov  \n",
       "19168                                                                                                                                                                        RT @DiputadosMorena: Luchamos hoy para no morir mañana #DiaContralaViolenciadeGenero  "
      ]
     },
     "execution_count": 21,
     "metadata": {},
     "output_type": "execute_result"
    }
   ],
   "source": [
    "mx_political_eda.tail(10)"
   ]
  },
  {
   "cell_type": "code",
   "execution_count": 22,
   "id": "7a05bee5-8c5e-4911-b246-99684646ac69",
   "metadata": {},
   "outputs": [],
   "source": [
    "# Created a new column named 'tweet_char_length' which contained the character length of each tweet.\n",
    "mx_political_eda['tweet_char_length'] = mx_political_eda['tweet'].apply(len)"
   ]
  },
  {
   "cell_type": "code",
   "execution_count": 23,
   "id": "de4eb490-5a71-4621-a588-f00adcc60d98",
   "metadata": {},
   "outputs": [],
   "source": [
    "# Obtained white space counter function from: https://www.geeksforgeeks.org/python-program-to-count-the-number-of-spaces-in-string/\n",
    "# Created a function named \"check_space\" that counted the number of spaces in each title and added 1 to obtain the total number of words.\n",
    "def check_space(Test_string):\n",
    "    return Test_string.count(\" \") + 1"
   ]
  },
  {
   "cell_type": "code",
   "execution_count": 24,
   "id": "67ba45b2-cda8-4147-b36a-8e3e8fc4bf37",
   "metadata": {},
   "outputs": [],
   "source": [
    "# Created a new column named 'title_word_count' which contained each title's word count.\n",
    "mx_political_eda['tweet_word_count'] = mx_political_eda['tweet'].apply(check_space)"
   ]
  },
  {
   "cell_type": "code",
   "execution_count": 25,
   "id": "9dd973a4-42d0-41e4-9fc6-6abaf54e49ea",
   "metadata": {},
   "outputs": [
    {
     "data": {
      "text/html": [
       "<div>\n",
       "<style scoped>\n",
       "    .dataframe tbody tr th:only-of-type {\n",
       "        vertical-align: middle;\n",
       "    }\n",
       "\n",
       "    .dataframe tbody tr th {\n",
       "        vertical-align: top;\n",
       "    }\n",
       "\n",
       "    .dataframe thead th {\n",
       "        text-align: right;\n",
       "    }\n",
       "</style>\n",
       "<table border=\"1\" class=\"dataframe\">\n",
       "  <thead>\n",
       "    <tr style=\"text-align: right;\">\n",
       "      <th></th>\n",
       "      <th>user</th>\n",
       "      <th>tweet</th>\n",
       "      <th>tweet_char_length</th>\n",
       "      <th>tweet_word_count</th>\n",
       "    </tr>\n",
       "  </thead>\n",
       "  <tbody>\n",
       "    <tr>\n",
       "      <th>13916</th>\n",
       "      <td>MovCiudadanoMX</td>\n",
       "      <td>¡Noticias chidas para las plebes! Es #8M.\\n\\n              💚 💚     💚   💚\\n         💚           💚           💚\\n         💚     Y Sinaloa      💚\\n          💚     lo sabe.      💚\\n               💚                 💚\\n                    💚      💚   \\n                          💚</td>\n",
       "      <td>264</td>\n",
       "      <td>191</td>\n",
       "    </tr>\n",
       "    <tr>\n",
       "      <th>15456</th>\n",
       "      <td>MovCiudadanoMX</td>\n",
       "      <td>RT @BancadaNaranja: En todo México:\\n\\n                🌶 🌽      🥑 🧅\\n            🥒          🫑            🍅\\n             🫒    HAGAMOS    🍠…</td>\n",
       "      <td>135</td>\n",
       "      <td>84</td>\n",
       "    </tr>\n",
       "    <tr>\n",
       "      <th>15743</th>\n",
       "      <td>MovCiudadanoMX</td>\n",
       "      <td>RT @MovCiudadanoCMX: No les pasa que:\\n               🏳️‍🌈 🏳️‍🌈      🏳️‍🌈 🏳️‍🌈\\n            🏳️‍🌈          🏳️‍🌈           🏳️‍🌈\\n           🏳️‍🌈…</td>\n",
       "      <td>140</td>\n",
       "      <td>73</td>\n",
       "    </tr>\n",
       "    <tr>\n",
       "      <th>11206</th>\n",
       "      <td>partidoverdemex</td>\n",
       "      <td>@azcarmx @ernesto_mendez @WWF_LAC @unep_espanol @prensaanimal4 @lajornadaonline @ContraReplicaMX @heraldodemexico @ImagenTVMex @laoctavadigital @Reforma Buen día, igual que a ustedes, nos preocupan muchas cuestiones en torno a esta obra, una de ellas es el uso de diésel. Por ello, ya pedimos a @SCT_mx informe el impacto ambiental que genera su uso, al igual que priorizar fuentes sustentables q...</td>\n",
       "      <td>430</td>\n",
       "      <td>60</td>\n",
       "    </tr>\n",
       "    <tr>\n",
       "      <th>15133</th>\n",
       "      <td>MovCiudadanoMX</td>\n",
       "      <td>.@ClementeCH en #Tragaluz: 😎🖐\\n                                                     🎤\\n\\nhttps://t.co/70kz0mpxpW</td>\n",
       "      <td>109</td>\n",
       "      <td>57</td>\n",
       "    </tr>\n",
       "    <tr>\n",
       "      <th>15936</th>\n",
       "      <td>MovCiudadanoMX</td>\n",
       "      <td>En el tercer informe de gobierno, el presidente olvidó informarnos sobre la falta de servicios de salud que tienen millones de personas y que hoy es un gran problema. 😢\\n\\nUrge un #NuevoTrato por la salud para que el acceso a ella sea un derecho y no un privilegio de unos cuantos. https://t.co/j2yssnO6ga</td>\n",
       "      <td>303</td>\n",
       "      <td>52</td>\n",
       "    </tr>\n",
       "    <tr>\n",
       "      <th>5234</th>\n",
       "      <td>PRI_Nacional</td>\n",
       "      <td>Este 6 de junio, en #SalinaCruz y en #Oaxaca vamos a defender todo lo que hemos logrado, con un objetivo claro, asegurar la tranquilidad de las familias, el futuro de los jóvenes y la seguridad de las mujeres. \\n\\n¡No vamos a descansar ni un solo día por las y los mexicanos! https://t.co/ejcgj9umcW</td>\n",
       "      <td>297</td>\n",
       "      <td>52</td>\n",
       "    </tr>\n",
       "    <tr>\n",
       "      <th>292</th>\n",
       "      <td>AccionNacional</td>\n",
       "      <td>En un encuentro con la Red por los Derechos de la Infancia en México, coincidimos que es fundamental cuidar a la niñez mexicana para que no sea carne de cañón de las mafias, para que tengan un presente y un futuro, donde su arranque sea más parejo y no haya desigualdades. https://t.co/XBUd9IWjaF</td>\n",
       "      <td>296</td>\n",
       "      <td>52</td>\n",
       "    </tr>\n",
       "    <tr>\n",
       "      <th>15670</th>\n",
       "      <td>MovCiudadanoMX</td>\n",
       "      <td>@ZERIM78 Gracias por el voto de confianza, RAM; sin duda tenemos mucho por hacer en este Movimiento y lo haremos de la mano de las y los ciudadanos. El defender las causas ciudadanas, es la prioridad desde todos los espacios en los que nos encontramos. No les vamos a fallar. 🙌 😉</td>\n",
       "      <td>279</td>\n",
       "      <td>52</td>\n",
       "    </tr>\n",
       "    <tr>\n",
       "      <th>5750</th>\n",
       "      <td>PRI_Nacional</td>\n",
       "      <td>Una de las tareas más importantes de los diputados es la de atender las necesidades de la gente, pero la mayoría de Morena en el Congreso sigue sin hacer nada para apoyar a los mexicanos frente a la crisis. Este 6 de junio vota por los que sí saben, ¡#VotaPRI! https://t.co/14OOwNJnom</td>\n",
       "      <td>284</td>\n",
       "      <td>51</td>\n",
       "    </tr>\n",
       "  </tbody>\n",
       "</table>\n",
       "</div>"
      ],
      "text/plain": [
       "                  user  \\\n",
       "13916   MovCiudadanoMX   \n",
       "15456   MovCiudadanoMX   \n",
       "15743   MovCiudadanoMX   \n",
       "11206  partidoverdemex   \n",
       "15133   MovCiudadanoMX   \n",
       "15936   MovCiudadanoMX   \n",
       "5234      PRI_Nacional   \n",
       "292     AccionNacional   \n",
       "15670   MovCiudadanoMX   \n",
       "5750      PRI_Nacional   \n",
       "\n",
       "                                                                                                                                                                                                                                                                                                                                                                                                                 tweet  \\\n",
       "13916                                                                                                                                 ¡Noticias chidas para las plebes! Es #8M.\\n\\n              💚 💚     💚   💚\\n         💚           💚           💚\\n         💚     Y Sinaloa      💚\\n          💚     lo sabe.      💚\\n               💚                 💚\\n                    💚      💚   \\n                          💚   \n",
       "15456                                                                                                                                                                                                                                                                      RT @BancadaNaranja: En todo México:\\n\\n                🌶 🌽      🥑 🧅\\n            🥒          🫑            🍅\\n             🫒    HAGAMOS    🍠…   \n",
       "15743                                                                                                                                                                                                                                                                  RT @MovCiudadanoCMX: No les pasa que:\\n               🏳️‍🌈 🏳️‍🌈      🏳️‍🌈 🏳️‍🌈\\n            🏳️‍🌈          🏳️‍🌈           🏳️‍🌈\\n           🏳️‍🌈…   \n",
       "11206  @azcarmx @ernesto_mendez @WWF_LAC @unep_espanol @prensaanimal4 @lajornadaonline @ContraReplicaMX @heraldodemexico @ImagenTVMex @laoctavadigital @Reforma Buen día, igual que a ustedes, nos preocupan muchas cuestiones en torno a esta obra, una de ellas es el uso de diésel. Por ello, ya pedimos a @SCT_mx informe el impacto ambiental que genera su uso, al igual que priorizar fuentes sustentables q...   \n",
       "15133                                                                                                                                                                                                                                                                                                 .@ClementeCH en #Tragaluz: 😎🖐\\n                                                     🎤\\n\\nhttps://t.co/70kz0mpxpW   \n",
       "15936                                                                                                En el tercer informe de gobierno, el presidente olvidó informarnos sobre la falta de servicios de salud que tienen millones de personas y que hoy es un gran problema. 😢\\n\\nUrge un #NuevoTrato por la salud para que el acceso a ella sea un derecho y no un privilegio de unos cuantos. https://t.co/j2yssnO6ga   \n",
       "5234                                                                                                       Este 6 de junio, en #SalinaCruz y en #Oaxaca vamos a defender todo lo que hemos logrado, con un objetivo claro, asegurar la tranquilidad de las familias, el futuro de los jóvenes y la seguridad de las mujeres. \\n\\n¡No vamos a descansar ni un solo día por las y los mexicanos! https://t.co/ejcgj9umcW   \n",
       "292                                                                                                           En un encuentro con la Red por los Derechos de la Infancia en México, coincidimos que es fundamental cuidar a la niñez mexicana para que no sea carne de cañón de las mafias, para que tengan un presente y un futuro, donde su arranque sea más parejo y no haya desigualdades. https://t.co/XBUd9IWjaF   \n",
       "15670                                                                                                                          @ZERIM78 Gracias por el voto de confianza, RAM; sin duda tenemos mucho por hacer en este Movimiento y lo haremos de la mano de las y los ciudadanos. El defender las causas ciudadanas, es la prioridad desde todos los espacios en los que nos encontramos. No les vamos a fallar. 🙌 😉   \n",
       "5750                                                                                                                      Una de las tareas más importantes de los diputados es la de atender las necesidades de la gente, pero la mayoría de Morena en el Congreso sigue sin hacer nada para apoyar a los mexicanos frente a la crisis. Este 6 de junio vota por los que sí saben, ¡#VotaPRI! https://t.co/14OOwNJnom   \n",
       "\n",
       "       tweet_char_length  tweet_word_count  \n",
       "13916                264               191  \n",
       "15456                135                84  \n",
       "15743                140                73  \n",
       "11206                430                60  \n",
       "15133                109                57  \n",
       "15936                303                52  \n",
       "5234                 297                52  \n",
       "292                  296                52  \n",
       "15670                279                52  \n",
       "5750                 284                51  "
      ]
     },
     "execution_count": 25,
     "metadata": {},
     "output_type": "execute_result"
    }
   ],
   "source": [
    "mx_political_eda.sort_values(by = 'tweet_word_count', ascending=False).head(10)"
   ]
  },
  {
   "cell_type": "code",
   "execution_count": 27,
   "id": "b71829bb-f67c-410c-bfa0-88645e71d4e5",
   "metadata": {},
   "outputs": [
    {
     "data": {
      "text/html": [
       "<div>\n",
       "<style scoped>\n",
       "    .dataframe tbody tr th:only-of-type {\n",
       "        vertical-align: middle;\n",
       "    }\n",
       "\n",
       "    .dataframe tbody tr th {\n",
       "        vertical-align: top;\n",
       "    }\n",
       "\n",
       "    .dataframe thead th {\n",
       "        text-align: right;\n",
       "    }\n",
       "</style>\n",
       "<table border=\"1\" class=\"dataframe\">\n",
       "  <thead>\n",
       "    <tr style=\"text-align: right;\">\n",
       "      <th></th>\n",
       "      <th>user</th>\n",
       "      <th>tweet</th>\n",
       "      <th>tweet_char_length</th>\n",
       "      <th>tweet_word_count</th>\n",
       "    </tr>\n",
       "  </thead>\n",
       "  <tbody>\n",
       "    <tr>\n",
       "      <th>18059</th>\n",
       "      <td>PartidoMorenaMx</td>\n",
       "      <td>https://t.co/jr3x4eOrmX</td>\n",
       "      <td>23</td>\n",
       "      <td>1</td>\n",
       "    </tr>\n",
       "    <tr>\n",
       "      <th>16339</th>\n",
       "      <td>PartidoMorenaMx</td>\n",
       "      <td>https://t.co/WH9mcws1dx</td>\n",
       "      <td>23</td>\n",
       "      <td>1</td>\n",
       "    </tr>\n",
       "    <tr>\n",
       "      <th>15416</th>\n",
       "      <td>MovCiudadanoMX</td>\n",
       "      <td>🤦‍♀️\\nhttps://t.co/DvRqk7HvOY</td>\n",
       "      <td>28</td>\n",
       "      <td>1</td>\n",
       "    </tr>\n",
       "    <tr>\n",
       "      <th>10093</th>\n",
       "      <td>partidoverdemex</td>\n",
       "      <td>https://t.co/QbU8uXaePr</td>\n",
       "      <td>23</td>\n",
       "      <td>1</td>\n",
       "    </tr>\n",
       "    <tr>\n",
       "      <th>16340</th>\n",
       "      <td>PartidoMorenaMx</td>\n",
       "      <td>https://t.co/ED6IWot6qL</td>\n",
       "      <td>23</td>\n",
       "      <td>1</td>\n",
       "    </tr>\n",
       "    <tr>\n",
       "      <th>6845</th>\n",
       "      <td>PRDMexico</td>\n",
       "      <td>*#SalvemosalIECM</td>\n",
       "      <td>16</td>\n",
       "      <td>1</td>\n",
       "    </tr>\n",
       "    <tr>\n",
       "      <th>17408</th>\n",
       "      <td>PartidoMorenaMx</td>\n",
       "      <td>https://t.co/Q9PaHYXigB</td>\n",
       "      <td>23</td>\n",
       "      <td>1</td>\n",
       "    </tr>\n",
       "    <tr>\n",
       "      <th>15177</th>\n",
       "      <td>MovCiudadanoMX</td>\n",
       "      <td>🤩👇\\nhttps://t.co/iyo6EzYE0h</td>\n",
       "      <td>26</td>\n",
       "      <td>1</td>\n",
       "    </tr>\n",
       "    <tr>\n",
       "      <th>18044</th>\n",
       "      <td>PartidoMorenaMx</td>\n",
       "      <td>https://t.co/cKxXhga7mY</td>\n",
       "      <td>23</td>\n",
       "      <td>1</td>\n",
       "    </tr>\n",
       "    <tr>\n",
       "      <th>9930</th>\n",
       "      <td>partidoverdemex</td>\n",
       "      <td>@sdpnoticias\\n@Siete24mx\\n@ReporteIndigo\\n@Excelsior\\n@LaCronicaDeHoy\\n@lajornadaonline\\n@laprensaoem\\n@Milenio\\n@Reforma\\n@SinEmbargoMX\\n@Formato21GRC\\n@Radio_Formula\\n@MVSNoticias\\n@Imagen_Mx\\n@EfektoTv\\n@NTelevisa_com\\n@AztecaNoticias\\n@ImagenTVMex\\n@mileniotv\\n@Pajaropolitico\\n@EjeCentral</td>\n",
       "      <td>273</td>\n",
       "      <td>1</td>\n",
       "    </tr>\n",
       "  </tbody>\n",
       "</table>\n",
       "</div>"
      ],
      "text/plain": [
       "                  user  \\\n",
       "18059  PartidoMorenaMx   \n",
       "16339  PartidoMorenaMx   \n",
       "15416   MovCiudadanoMX   \n",
       "10093  partidoverdemex   \n",
       "16340  PartidoMorenaMx   \n",
       "6845         PRDMexico   \n",
       "17408  PartidoMorenaMx   \n",
       "15177   MovCiudadanoMX   \n",
       "18044  PartidoMorenaMx   \n",
       "9930   partidoverdemex   \n",
       "\n",
       "                                                                                                                                                                                                                                                                                                       tweet  \\\n",
       "18059                                                                                                                                                                                                                                                                                https://t.co/jr3x4eOrmX   \n",
       "16339                                                                                                                                                                                                                                                                                https://t.co/WH9mcws1dx   \n",
       "15416                                                                                                                                                                                                                                                                          🤦‍♀️\\nhttps://t.co/DvRqk7HvOY   \n",
       "10093                                                                                                                                                                                                                                                                                https://t.co/QbU8uXaePr   \n",
       "16340                                                                                                                                                                                                                                                                                https://t.co/ED6IWot6qL   \n",
       "6845                                                                                                                                                                                                                                                                                        *#SalvemosalIECM   \n",
       "17408                                                                                                                                                                                                                                                                                https://t.co/Q9PaHYXigB   \n",
       "15177                                                                                                                                                                                                                                                                            🤩👇\\nhttps://t.co/iyo6EzYE0h   \n",
       "18044                                                                                                                                                                                                                                                                                https://t.co/cKxXhga7mY   \n",
       "9930   @sdpnoticias\\n@Siete24mx\\n@ReporteIndigo\\n@Excelsior\\n@LaCronicaDeHoy\\n@lajornadaonline\\n@laprensaoem\\n@Milenio\\n@Reforma\\n@SinEmbargoMX\\n@Formato21GRC\\n@Radio_Formula\\n@MVSNoticias\\n@Imagen_Mx\\n@EfektoTv\\n@NTelevisa_com\\n@AztecaNoticias\\n@ImagenTVMex\\n@mileniotv\\n@Pajaropolitico\\n@EjeCentral   \n",
       "\n",
       "       tweet_char_length  tweet_word_count  \n",
       "18059                 23                 1  \n",
       "16339                 23                 1  \n",
       "15416                 28                 1  \n",
       "10093                 23                 1  \n",
       "16340                 23                 1  \n",
       "6845                  16                 1  \n",
       "17408                 23                 1  \n",
       "15177                 26                 1  \n",
       "18044                 23                 1  \n",
       "9930                 273                 1  "
      ]
     },
     "execution_count": 27,
     "metadata": {},
     "output_type": "execute_result"
    }
   ],
   "source": [
    "mx_political_eda.sort_values(by = 'tweet_word_count', ascending=True).head(10)"
   ]
  },
  {
   "cell_type": "code",
   "execution_count": 26,
   "id": "3e768e25-b199-4ec1-a8ed-3507251a5522",
   "metadata": {},
   "outputs": [
    {
     "data": {
      "text/html": [
       "<div>\n",
       "<style scoped>\n",
       "    .dataframe tbody tr th:only-of-type {\n",
       "        vertical-align: middle;\n",
       "    }\n",
       "\n",
       "    .dataframe tbody tr th {\n",
       "        vertical-align: top;\n",
       "    }\n",
       "\n",
       "    .dataframe thead th {\n",
       "        text-align: right;\n",
       "    }\n",
       "</style>\n",
       "<table border=\"1\" class=\"dataframe\">\n",
       "  <thead>\n",
       "    <tr style=\"text-align: right;\">\n",
       "      <th></th>\n",
       "      <th>user</th>\n",
       "      <th>tweet</th>\n",
       "      <th>tweet_char_length</th>\n",
       "      <th>tweet_word_count</th>\n",
       "    </tr>\n",
       "  </thead>\n",
       "  <tbody>\n",
       "    <tr>\n",
       "      <th>11206</th>\n",
       "      <td>partidoverdemex</td>\n",
       "      <td>@azcarmx @ernesto_mendez @WWF_LAC @unep_espanol @prensaanimal4 @lajornadaonline @ContraReplicaMX @heraldodemexico @ImagenTVMex @laoctavadigital @Reforma Buen día, igual que a ustedes, nos preocupan muchas cuestiones en torno a esta obra, una de ellas es el uso de diésel. Por ello, ya pedimos a @SCT_mx informe el impacto ambiental que genera su uso, al igual que priorizar fuentes sustentables q...</td>\n",
       "      <td>430</td>\n",
       "      <td>60</td>\n",
       "    </tr>\n",
       "    <tr>\n",
       "      <th>14978</th>\n",
       "      <td>MovCiudadanoMX</td>\n",
       "      <td>@ClementeCH @VeroDelgadilloG @DanteDelgado @Chertorivski @Pat_MercadoC @AlvarezMaynez Para José Luis Rodríguez Zapatero la democracia tiene como características: la no discriminación, la redistribución, la protección de todos los derechos y el feminismo.\\nAdemás, prioriza el diálogo, estando de lado de la ciencia y del conocimiento, nunca del fanatismo. https://t.co/LYxNAa8uC0</td>\n",
       "      <td>378</td>\n",
       "      <td>46</td>\n",
       "    </tr>\n",
       "    <tr>\n",
       "      <th>14975</th>\n",
       "      <td>MovCiudadanoMX</td>\n",
       "      <td>@ClementeCH @VeroDelgadilloG @IndiraKempis @Pat_MercadoC @Chertorivski @DanteDelgado @AlvarezMaynez “En #MovimientoCiudadano hemos representado una alternativa haciendo un llamado a todo el país para imaginarnos el México en el que queremos vivir: un México socialdemócrata. A ese llamado lo hemos denominado la #EvoluciónMexicana”: @VeroDelgadilloG. https://t.co/8pEDktkSLp</td>\n",
       "      <td>374</td>\n",
       "      <td>42</td>\n",
       "    </tr>\n",
       "    <tr>\n",
       "      <th>14972</th>\n",
       "      <td>MovCiudadanoMX</td>\n",
       "      <td>@Pat_MercadoC @DanteDelgado @VeroDelgadilloG @IndiraKempis @Chertorivski @ClementeCH @AlvarezMaynez “La socialdemocracia es decir paz, persuasión, perseverancia, igualdad y libertad; sobre todo un querer vivir juntos”: José Luis Rodríguez Zapatero.\\n\\nEn #MovimientoCiudadano estamos convencidos de que el futuro es socialdemócrata, #ElFuturoEsNaranja. https://t.co/AdBxP3hQ9C</td>\n",
       "      <td>374</td>\n",
       "      <td>38</td>\n",
       "    </tr>\n",
       "    <tr>\n",
       "      <th>14239</th>\n",
       "      <td>MovCiudadanoMX</td>\n",
       "      <td>@PaolaSaeb @SergioGilRu @Pablo_VAh En🇲🇽, más de 93,000 personas están detenidas sin sentencia por la prisión preventiva; la mayoría son pobres y no tienen una defensa adecuada, y son las mujeres las más afectadas.\\nConoce más en #PalabrasEnMovimiento y analicemos juntas y juntos la realidad de la justicia en México</td>\n",
       "      <td>315</td>\n",
       "      <td>48</td>\n",
       "    </tr>\n",
       "    <tr>\n",
       "      <th>10615</th>\n",
       "      <td>partidoverdemex</td>\n",
       "      <td>@Martha_Herrera @karencastrejon_ Hola Martha; seguimos luchando para erradicar el maltrato animal. Hemos promovido el uso de calesas eléctricas para demostrar su funcionalidad: https://t.co/S5iavv0T1g\\nTu voz será de mucha ayuda al denunciar y sumar a la causa, en: https://t.co/qcMUs54XHN\\nGracias por tu reporte</td>\n",
       "      <td>311</td>\n",
       "      <td>40</td>\n",
       "    </tr>\n",
       "    <tr>\n",
       "      <th>7465</th>\n",
       "      <td>PRDMexico</td>\n",
       "      <td>@ZubeIb @PRI_Nacional @AccionNacional Si lo hemos hecho, el #PRD ha denunciado todos y cada uno de los atropellos del Presidente, funcionarios federales y miembros del partido Morena. Poco a poco se ha avanzado. Por ejemplo conseguimos un amparo para detener la desaparición de las #EscuelasDeTiempoCompleto. ☀️</td>\n",
       "      <td>311</td>\n",
       "      <td>46</td>\n",
       "    </tr>\n",
       "    <tr>\n",
       "      <th>18202</th>\n",
       "      <td>PartidoMorenaMx</td>\n",
       "      <td>En lugar de Chipotle deberían ponerle Chayote... en vez de gastar más recursos en justificar sus privilegios, deberían destinarlos a garantizar la democracia para el pueblo.\\n\\nQuieren explicar #PerasConPeras y aquí un ejemplo de sus excesos con #PerasYManzanas 👇🏽 https://t.co/FHOe65elAi https://t.co/9qR8ORmS0R</td>\n",
       "      <td>310</td>\n",
       "      <td>40</td>\n",
       "    </tr>\n",
       "    <tr>\n",
       "      <th>9734</th>\n",
       "      <td>partidoverdemex</td>\n",
       "      <td>@MartaGuzmanOf @LauMondragon @verde_ags @verde_bcs @PVEMCAMPECHE @chihuahua_verde @VerdeCDMX @coahuila_verde @PVEMColima1 @PvemEstatalDgo @verdeedomex @partidoverdegto @verdeguerrero_ @partidoverdehgo @partidoverdejal @pvemmorelos @NayaritPve @PartidoVerde_NL @partidoverde_oa @PVEM_Puebla @PartidoVerdeQu1</td>\n",
       "      <td>306</td>\n",
       "      <td>21</td>\n",
       "    </tr>\n",
       "    <tr>\n",
       "      <th>16911</th>\n",
       "      <td>PartidoMorenaMx</td>\n",
       "      <td>@CiroMurayamaINE @brozoxmiswebs No se equivoque, consejero, no nos “cala”, a diferencia de ustedes, la libertad de expresión. \\n\\nAl contrario, le sugerimos que manifieste sus posturas políticas desde un partido, transparentemente, y no desde un espacio donde su trabajo es garantizar imparcialidad. Saludos.</td>\n",
       "      <td>306</td>\n",
       "      <td>42</td>\n",
       "    </tr>\n",
       "  </tbody>\n",
       "</table>\n",
       "</div>"
      ],
      "text/plain": [
       "                  user  \\\n",
       "11206  partidoverdemex   \n",
       "14978   MovCiudadanoMX   \n",
       "14975   MovCiudadanoMX   \n",
       "14972   MovCiudadanoMX   \n",
       "14239   MovCiudadanoMX   \n",
       "10615  partidoverdemex   \n",
       "7465         PRDMexico   \n",
       "18202  PartidoMorenaMx   \n",
       "9734   partidoverdemex   \n",
       "16911  PartidoMorenaMx   \n",
       "\n",
       "                                                                                                                                                                                                                                                                                                                                                                                                                 tweet  \\\n",
       "11206  @azcarmx @ernesto_mendez @WWF_LAC @unep_espanol @prensaanimal4 @lajornadaonline @ContraReplicaMX @heraldodemexico @ImagenTVMex @laoctavadigital @Reforma Buen día, igual que a ustedes, nos preocupan muchas cuestiones en torno a esta obra, una de ellas es el uso de diésel. Por ello, ya pedimos a @SCT_mx informe el impacto ambiental que genera su uso, al igual que priorizar fuentes sustentables q...   \n",
       "14978                      @ClementeCH @VeroDelgadilloG @DanteDelgado @Chertorivski @Pat_MercadoC @AlvarezMaynez Para José Luis Rodríguez Zapatero la democracia tiene como características: la no discriminación, la redistribución, la protección de todos los derechos y el feminismo.\\nAdemás, prioriza el diálogo, estando de lado de la ciencia y del conocimiento, nunca del fanatismo. https://t.co/LYxNAa8uC0   \n",
       "14975                           @ClementeCH @VeroDelgadilloG @IndiraKempis @Pat_MercadoC @Chertorivski @DanteDelgado @AlvarezMaynez “En #MovimientoCiudadano hemos representado una alternativa haciendo un llamado a todo el país para imaginarnos el México en el que queremos vivir: un México socialdemócrata. A ese llamado lo hemos denominado la #EvoluciónMexicana”: @VeroDelgadilloG. https://t.co/8pEDktkSLp   \n",
       "14972                         @Pat_MercadoC @DanteDelgado @VeroDelgadilloG @IndiraKempis @Chertorivski @ClementeCH @AlvarezMaynez “La socialdemocracia es decir paz, persuasión, perseverancia, igualdad y libertad; sobre todo un querer vivir juntos”: José Luis Rodríguez Zapatero.\\n\\nEn #MovimientoCiudadano estamos convencidos de que el futuro es socialdemócrata, #ElFuturoEsNaranja. https://t.co/AdBxP3hQ9C   \n",
       "14239                                                                                     @PaolaSaeb @SergioGilRu @Pablo_VAh En🇲🇽, más de 93,000 personas están detenidas sin sentencia por la prisión preventiva; la mayoría son pobres y no tienen una defensa adecuada, y son las mujeres las más afectadas.\\nConoce más en #PalabrasEnMovimiento y analicemos juntas y juntos la realidad de la justicia en México   \n",
       "10615                                                                                        @Martha_Herrera @karencastrejon_ Hola Martha; seguimos luchando para erradicar el maltrato animal. Hemos promovido el uso de calesas eléctricas para demostrar su funcionalidad: https://t.co/S5iavv0T1g\\nTu voz será de mucha ayuda al denunciar y sumar a la causa, en: https://t.co/qcMUs54XHN\\nGracias por tu reporte   \n",
       "7465                                                                                           @ZubeIb @PRI_Nacional @AccionNacional Si lo hemos hecho, el #PRD ha denunciado todos y cada uno de los atropellos del Presidente, funcionarios federales y miembros del partido Morena. Poco a poco se ha avanzado. Por ejemplo conseguimos un amparo para detener la desaparición de las #EscuelasDeTiempoCompleto. ☀️   \n",
       "18202                                                                                         En lugar de Chipotle deberían ponerle Chayote... en vez de gastar más recursos en justificar sus privilegios, deberían destinarlos a garantizar la democracia para el pueblo.\\n\\nQuieren explicar #PerasConPeras y aquí un ejemplo de sus excesos con #PerasYManzanas 👇🏽 https://t.co/FHOe65elAi https://t.co/9qR8ORmS0R   \n",
       "9734                                                                                                @MartaGuzmanOf @LauMondragon @verde_ags @verde_bcs @PVEMCAMPECHE @chihuahua_verde @VerdeCDMX @coahuila_verde @PVEMColima1 @PvemEstatalDgo @verdeedomex @partidoverdegto @verdeguerrero_ @partidoverdehgo @partidoverdejal @pvemmorelos @NayaritPve @PartidoVerde_NL @partidoverde_oa @PVEM_Puebla @PartidoVerdeQu1   \n",
       "16911                                                                                             @CiroMurayamaINE @brozoxmiswebs No se equivoque, consejero, no nos “cala”, a diferencia de ustedes, la libertad de expresión. \\n\\nAl contrario, le sugerimos que manifieste sus posturas políticas desde un partido, transparentemente, y no desde un espacio donde su trabajo es garantizar imparcialidad. Saludos.   \n",
       "\n",
       "       tweet_char_length  tweet_word_count  \n",
       "11206                430                60  \n",
       "14978                378                46  \n",
       "14975                374                42  \n",
       "14972                374                38  \n",
       "14239                315                48  \n",
       "10615                311                40  \n",
       "7465                 311                46  \n",
       "18202                310                40  \n",
       "9734                 306                21  \n",
       "16911                306                42  "
      ]
     },
     "execution_count": 26,
     "metadata": {},
     "output_type": "execute_result"
    }
   ],
   "source": [
    "# Obtained the longest tweets by character length.\n",
    "mx_political_eda.sort_values(by = 'tweet_char_length', ascending=False).head(10)"
   ]
  },
  {
   "cell_type": "code",
   "execution_count": 28,
   "id": "1e971565-88d6-471c-9d4f-6fb5bd580c9d",
   "metadata": {},
   "outputs": [
    {
     "data": {
      "text/html": [
       "<div>\n",
       "<style scoped>\n",
       "    .dataframe tbody tr th:only-of-type {\n",
       "        vertical-align: middle;\n",
       "    }\n",
       "\n",
       "    .dataframe tbody tr th {\n",
       "        vertical-align: top;\n",
       "    }\n",
       "\n",
       "    .dataframe thead th {\n",
       "        text-align: right;\n",
       "    }\n",
       "</style>\n",
       "<table border=\"1\" class=\"dataframe\">\n",
       "  <thead>\n",
       "    <tr style=\"text-align: right;\">\n",
       "      <th></th>\n",
       "      <th>user</th>\n",
       "      <th>tweet</th>\n",
       "      <th>tweet_char_length</th>\n",
       "      <th>tweet_word_count</th>\n",
       "    </tr>\n",
       "  </thead>\n",
       "  <tbody>\n",
       "    <tr>\n",
       "      <th>13735</th>\n",
       "      <td>MovCiudadanoMX</td>\n",
       "      <td>🖼: @larenn16</td>\n",
       "      <td>12</td>\n",
       "      <td>2</td>\n",
       "    </tr>\n",
       "    <tr>\n",
       "      <th>15567</th>\n",
       "      <td>MovCiudadanoMX</td>\n",
       "      <td>@damarisgc 😳</td>\n",
       "      <td>12</td>\n",
       "      <td>2</td>\n",
       "    </tr>\n",
       "    <tr>\n",
       "      <th>14620</th>\n",
       "      <td>MovCiudadanoMX</td>\n",
       "      <td>@EriqORulo 🙁 💔</td>\n",
       "      <td>14</td>\n",
       "      <td>3</td>\n",
       "    </tr>\n",
       "    <tr>\n",
       "      <th>15495</th>\n",
       "      <td>MovCiudadanoMX</td>\n",
       "      <td>@ChavoNava 😎 🙌</td>\n",
       "      <td>14</td>\n",
       "      <td>3</td>\n",
       "    </tr>\n",
       "    <tr>\n",
       "      <th>14785</th>\n",
       "      <td>MovCiudadanoMX</td>\n",
       "      <td>@SophieYunes 😻</td>\n",
       "      <td>14</td>\n",
       "      <td>2</td>\n",
       "    </tr>\n",
       "    <tr>\n",
       "      <th>15669</th>\n",
       "      <td>MovCiudadanoMX</td>\n",
       "      <td>@GuroSilva 🧡 🙌</td>\n",
       "      <td>14</td>\n",
       "      <td>3</td>\n",
       "    </tr>\n",
       "    <tr>\n",
       "      <th>15529</th>\n",
       "      <td>MovCiudadanoMX</td>\n",
       "      <td>@DaffnyRoM 👍 😀</td>\n",
       "      <td>14</td>\n",
       "      <td>3</td>\n",
       "    </tr>\n",
       "    <tr>\n",
       "      <th>15913</th>\n",
       "      <td>MovCiudadanoMX</td>\n",
       "      <td>Cerramos hilo.</td>\n",
       "      <td>14</td>\n",
       "      <td>2</td>\n",
       "    </tr>\n",
       "    <tr>\n",
       "      <th>14579</th>\n",
       "      <td>MovCiudadanoMX</td>\n",
       "      <td>@ErikaHadaz 🙌 🍊</td>\n",
       "      <td>15</td>\n",
       "      <td>3</td>\n",
       "    </tr>\n",
       "    <tr>\n",
       "      <th>15479</th>\n",
       "      <td>MovCiudadanoMX</td>\n",
       "      <td>@gafer54gdl 🙌 ✨</td>\n",
       "      <td>15</td>\n",
       "      <td>3</td>\n",
       "    </tr>\n",
       "  </tbody>\n",
       "</table>\n",
       "</div>"
      ],
      "text/plain": [
       "                 user            tweet  tweet_char_length  tweet_word_count\n",
       "13735  MovCiudadanoMX     🖼: @larenn16                 12                 2\n",
       "15567  MovCiudadanoMX     @damarisgc 😳                 12                 2\n",
       "14620  MovCiudadanoMX   @EriqORulo 🙁 💔                 14                 3\n",
       "15495  MovCiudadanoMX   @ChavoNava 😎 🙌                 14                 3\n",
       "14785  MovCiudadanoMX   @SophieYunes 😻                 14                 2\n",
       "15669  MovCiudadanoMX   @GuroSilva 🧡 🙌                 14                 3\n",
       "15529  MovCiudadanoMX   @DaffnyRoM 👍 😀                 14                 3\n",
       "15913  MovCiudadanoMX   Cerramos hilo.                 14                 2\n",
       "14579  MovCiudadanoMX  @ErikaHadaz 🙌 🍊                 15                 3\n",
       "15479  MovCiudadanoMX  @gafer54gdl 🙌 ✨                 15                 3"
      ]
     },
     "execution_count": 28,
     "metadata": {},
     "output_type": "execute_result"
    }
   ],
   "source": [
    "# Obtained the longest tweets by character length.\n",
    "mx_political_eda.sort_values(by = 'tweet_char_length', ascending=True).head(10)"
   ]
  },
  {
   "cell_type": "code",
   "execution_count": null,
   "id": "8ba6e600-82b0-425a-90a5-4308d23b125f",
   "metadata": {},
   "outputs": [],
   "source": []
  },
  {
   "cell_type": "markdown",
   "id": "9fd4865f-a4cd-4d9b-99d1-5e1f05d6103e",
   "metadata": {},
   "source": [
    "### 10 Most Common Unigrams"
   ]
  },
  {
   "cell_type": "code",
   "execution_count": 77,
   "id": "09ffd0e8-7454-4142-a406-41014288447c",
   "metadata": {},
   "outputs": [
    {
     "name": "stderr",
     "output_type": "stream",
     "text": [
      "/opt/anaconda3/lib/python3.9/site-packages/sklearn/feature_extraction/text.py:396: UserWarning: Your stop_words may be inconsistent with your preprocessing. Tokenizing the stop words generated tokens ['actualmente', 'acuerdo', 'adelante', 'ademas', 'además', 'adrede', 'afirmó', 'agregó', 'ahi', 'ahora', 'ahí', 'al', 'algo', 'alguna', 'algunas', 'alguno', 'algunos', 'algún', 'alli', 'allí', 'alrededor', 'ambos', 'ampleamos', 'antano', 'antaño', 'ante', 'anterior', 'antes', 'apenas', 'aproximadamente', 'aquel', 'aquella', 'aquellas', 'aquello', 'aquellos', 'aqui', 'aquél', 'aquélla', 'aquéllas', 'aquéllos', 'aquí', 'arriba', 'arribaabajo', 'aseguró', 'asi', 'así', 'atras', 'aun', 'aunque', 'ayer', 'añadió', 'aún', 'bajo', 'bastante', 'bien', 'breve', 'buen', 'buena', 'buenas', 'bueno', 'buenos', 'cada', 'casi', 'cerca', 'cierta', 'ciertas', 'cierto', 'ciertos', 'cinco', 'claro', 'co', 'comentó', 'como', 'con', 'conmigo', 'conocer', 'conseguimos', 'conseguir', 'considera', 'consideró', 'consigo', 'consigue', 'consiguen', 'consigues', 'contigo', 'contra', 'cosas', 'creo', 'cual', 'cuales', 'cualquier', 'cuando', 'cuanta', 'cuantas', 'cuanto', 'cuantos', 'cuatro', 'cuenta', 'cuál', 'cuáles', 'cuándo', 'cuánta', 'cuántas', 'cuánto', 'cuántos', 'cómo', 'da', 'dado', 'dan', 'dar', 'de', 'debajo', 'debe', 'deben', 'debido', 'decir', 'dejó', 'del', 'delante', 'demasiado', 'demás', 'dentro', 'deprisa', 'desde', 'despacio', 'despues', 'después', 'detras', 'detrás', 'dia', 'dias', 'dice', 'dicen', 'dicho', 'dieron', 'diferente', 'diferentes', 'dijeron', 'dijo', 'dio', 'donde', 'dos', 'durante', 'día', 'días', 'dónde', 'ejemplo', 'el', 'ella', 'ellas', 'ello', 'ellos', 'embargo', 'empleais', 'emplean', 'emplear', 'empleas', 'empleo', 'en', 'encima', 'encuentra', 'enfrente', 'enseguida', 'entonces', 'entre', 'era', 'erais', 'eramos', 'eran', 'eras', 'eres', 'es', 'esa', 'esas', 'ese', 'eso', 'esos', 'esta', 'estaba', 'estabais', 'estaban', 'estabas', 'estad', 'estada', 'estadas', 'estado', 'estados', 'estais', 'estamos', 'estan', 'estando', 'estar', 'estaremos', 'estará', 'estarán', 'estarás', 'estaré', 'estaréis', 'estaría', 'estaríais', 'estaríamos', 'estarían', 'estarías', 'estas', 'este', 'estemos', 'esto', 'estos', 'estoy', 'estuve', 'estuviera', 'estuvierais', 'estuvieran', 'estuvieras', 'estuvieron', 'estuviese', 'estuvieseis', 'estuviesen', 'estuvieses', 'estuvimos', 'estuviste', 'estuvisteis', 'estuviéramos', 'estuviésemos', 'estuvo', 'está', 'estábamos', 'estáis', 'están', 'estás', 'esté', 'estéis', 'estén', 'estés', 'ex', 'excepto', 'existe', 'existen', 'explicó', 'expresó', 'fin', 'final', 'fue', 'fuera', 'fuerais', 'fueran', 'fueras', 'fueron', 'fuese', 'fueseis', 'fuesen', 'fueses', 'fui', 'fuimos', 'fuiste', 'fuisteis', 'fuéramos', 'fuésemos', 'general', 'gran', 'grandes', 'gueno', 'ha', 'haber', 'habia', 'habida', 'habidas', 'habido', 'habidos', 'habiendo', 'habla', 'hablan', 'habremos', 'habrá', 'habrán', 'habrás', 'habré', 'habréis', 'habría', 'habríais', 'habríamos', 'habrían', 'habrías', 'habéis', 'había', 'habíais', 'habíamos', 'habían', 'habías', 'hace', 'haceis', 'hacemos', 'hacen', 'hacer', 'hacerlo', 'haces', 'hacia', 'haciendo', 'hago', 'han', 'has', 'hasta', 'hay', 'haya', 'hayamos', 'hayan', 'hayas', 'hayáis', 'he', 'hecho', 'hemos', 'hicieron', 'hizo', 'horas', 'hoy', 'https', 'hube', 'hubiera', 'hubierais', 'hubieran', 'hubieras', 'hubieron', 'hubiese', 'hubieseis', 'hubiesen', 'hubieses', 'hubimos', 'hubiste', 'hubisteis', 'hubiéramos', 'hubiésemos', 'hubo', 'igual', 'incluso', 'indicó', 'informo', 'informó', 'intenta', 'intentais', 'intentamos', 'intentan', 'intentar', 'intentas', 'intento', 'ir', 'junto', 'la', 'lado', 'largo', 'las', 'le', 'lejos', 'les', 'llegó', 'lleva', 'llevar', 'lo', 'los', 'luego', 'lugar', 'mal', 'manera', 'manifestó', 'mas', 'mayor', 'me', 'mediante', 'medio', 'mejor', 'mencionó', 'menos', 'menudo', 'mi', 'mia', 'mias', 'mientras', 'mio', 'mios', 'mis', 'misma', 'mismas', 'mismo', 'mismos', 'modo', 'momento', 'mucha', 'muchas', 'mucho', 'muchos', 'muy', 'más', 'mí', 'mía', 'mías', 'mío', 'míos', 'nada', 'nadie', 'ni', 'ninguna', 'ningunas', 'ninguno', 'ningunos', 'ningún', 'no', 'nos', 'nosotras', 'nosotros', 'nuestra', 'nuestras', 'nuestro', 'nuestros', 'nueva', 'nuevas', 'nuevo', 'nuevos', 'nunca', 'ocho', 'os', 'otra', 'otras', 'otro', 'otros', 'pais', 'para', 'parece', 'parte', 'partir', 'pasada', 'pasado', 'paìs', 'peor', 'pero', 'pesar', 'poca', 'pocas', 'poco', 'pocos', 'podeis', 'podemos', 'poder', 'podria', 'podriais', 'podriamos', 'podrian', 'podrias', 'podrá', 'podrán', 'podría', 'podrían', 'poner', 'por', 'porque', 'posible', 'primer', 'primera', 'primero', 'primeros', 'principalmente', 'pronto', 'propia', 'propias', 'propio', 'propios', 'proximo', 'próximo', 'próximos', 'pudo', 'pueda', 'puede', 'pueden', 'puedo', 'pues', 'qeu', 'que', 'quedó', 'queremos', 'quien', 'quienes', 'quiere', 'quiza', 'quizas', 'quizá', 'quizás', 'quién', 'quiénes', 'qué', 'raras', 'realizado', 'realizar', 'realizó', 'repente', 'respecto', 'rt', 'sabe', 'sabeis', 'sabemos', 'saben', 'saber', 'sabes', 'sal', 'salvo', 'se', 'sea', 'seamos', 'sean', 'seas', 'segun', 'segunda', 'segundo', 'según', 'seis', 'ser', 'sera', 'seremos', 'será', 'serán', 'serás', 'seré', 'seréis', 'sería', 'seríais', 'seríamos', 'serían', 'serías', 'seáis', 'señaló', 'si', 'sido', 'siempre', 'siendo', 'siete', 'sigue', 'siguiente', 'sin', 'sino', 'sobre', 'sois', 'sola', 'solamente', 'solas', 'solo', 'solos', 'somos', 'son', 'soy', 'soyos', 'su', 'supuesto', 'sus', 'suya', 'suyas', 'suyo', 'suyos', 'sé', 'sí', 'sólo', 'tal', 'tambien', 'también', 'tampoco', 'tan', 'tanto', 'tarde', 'te', 'temprano', 'tendremos', 'tendrá', 'tendrán', 'tendrás', 'tendré', 'tendréis', 'tendría', 'tendríais', 'tendríamos', 'tendrían', 'tendrías', 'tened', 'teneis', 'tenemos', 'tener', 'tenga', 'tengamos', 'tengan', 'tengas', 'tengo', 'tengáis', 'tenida', 'tenidas', 'tenido', 'tenidos', 'teniendo', 'tenéis', 'tenía', 'teníais', 'teníamos', 'tenían', 'tenías', 'tercera', 'ti', 'tiempo', 'tiene', 'tienen', 'tienes', 'toda', 'todas', 'todavia', 'todavía', 'todo', 'todos', 'total', 'trabaja', 'trabajais', 'trabajamos', 'trabajan', 'trabajar', 'trabajas', 'trabajo', 'tras', 'trata', 'través', 'tres', 'tu', 'tus', 'tuve', 'tuviera', 'tuvierais', 'tuvieran', 'tuvieras', 'tuvieron', 'tuviese', 'tuvieseis', 'tuviesen', 'tuvieses', 'tuvimos', 'tuviste', 'tuvisteis', 'tuviéramos', 'tuviésemos', 'tuvo', 'tuya', 'tuyas', 'tuyo', 'tuyos', 'tú', 'ultimo', 'un', 'una', 'unas', 'uno', 'unos', 'usa', 'usais', 'usamos', 'usan', 'usar', 'usas', 'uso', 'usted', 'ustedes', 'va', 'vais', 'valor', 'vamos', 'van', 'varias', 'varios', 'vaya', 'veces', 'ver', 'verdad', 'verdadera', 'verdadero', 'vez', 'vosotras', 'vosotros', 'voy', 'vuestra', 'vuestras', 'vuestro', 'vuestros', 'ya', 'yo', 'él', 'éramos', 'ésa', 'ésas', 'ése', 'ésos', 'ésta', 'éstas', 'éste', 'éstos', 'última', 'últimas', 'último', 'últimos'] not in stop_words.\n",
      "  warnings.warn(\n"
     ]
    },
    {
     "data": {
      "text/plain": [
       "de       4388\n",
       "la       3062\n",
       "el       2104\n",
       "en       1793\n",
       "rt       1792\n",
       "https    1554\n",
       "que      1550\n",
       "co       1539\n",
       "las      1391\n",
       "para     1319\n",
       "dtype: int64"
      ]
     },
     "execution_count": 77,
     "metadata": {},
     "output_type": "execute_result"
    }
   ],
   "source": [
    "# Instantiating a CountVectorizer object that splits the documents in the corpus into unigrams.  Then fit and transformed Partido Acción Nacional's tweets before obtaining the 10 most common unigrams.\n",
    "cvec_uni = CountVectorizer(ngram_range=(1, 1), stop_words=spanish)\n",
    "\n",
    "pan_uni_tweets = cvec_uni.fit_transform(pan_df['tweet'])\n",
    "\n",
    "pan_uni_tweets_df = pd.DataFrame(data=pan_uni_tweets.A, columns=cvec_uni.get_feature_names_out())\n",
    "\n",
    "pan_most_common_unigrams = pan_uni_tweets_df.sum().sort_values(ascending=False).head(10)\n",
    "pan_most_common_unigrams"
   ]
  },
  {
   "cell_type": "code",
   "execution_count": 78,
   "id": "65b93f41-658b-45c6-8e64-e1fb152f2918",
   "metadata": {},
   "outputs": [
    {
     "data": {
      "text/plain": [
       "de       4819\n",
       "la       3035\n",
       "https    2282\n",
       "co       2273\n",
       "el       2226\n",
       "que      2204\n",
       "en       2203\n",
       "con      1660\n",
       "los      1582\n",
       "las      1441\n",
       "dtype: int64"
      ]
     },
     "execution_count": 78,
     "metadata": {},
     "output_type": "execute_result"
    }
   ],
   "source": [
    "# Fit and transformed the CountVectorizer object above on Partido Revolucionario Institucional's tweets before obtaining the 10 most common unigrams.\n",
    "\n",
    "pri_uni_tweets = cvec_uni.fit_transform(pri_df['tweet'])\n",
    "\n",
    "pri_uni_tweets_df = pd.DataFrame(data=pri_uni_tweets.A, columns=cvec_uni.get_feature_names_out())\n",
    "\n",
    "pri_most_common_unigrams = pri_uni_tweets_df.sum().sort_values(ascending=False).head(10)\n",
    "pri_most_common_unigrams"
   ]
  },
  {
   "cell_type": "code",
   "execution_count": 79,
   "id": "f32e4460-1d8c-49e4-97ed-9651b27ff49c",
   "metadata": {},
   "outputs": [
    {
     "data": {
      "text/plain": [
       "de       3736\n",
       "la       3030\n",
       "el       2216\n",
       "rt       1870\n",
       "en       1697\n",
       "https    1594\n",
       "co       1568\n",
       "que      1417\n",
       "las      1335\n",
       "los       988\n",
       "dtype: int64"
      ]
     },
     "execution_count": 79,
     "metadata": {},
     "output_type": "execute_result"
    }
   ],
   "source": [
    "# Fit and transformed the CountVectorizer object above on Partido de la Revolución Democrática's tweets before obtaining the 10 most common unigrams.\n",
    "\n",
    "prd_uni_tweets = cvec_uni.fit_transform(prd_df['tweet'])\n",
    "\n",
    "prd_uni_tweets_df = pd.DataFrame(data=prd_uni_tweets.A, columns=cvec_uni.get_feature_names_out())\n",
    "\n",
    "prd_most_common_unigrams = prd_uni_tweets_df.sum().sort_values(ascending=False).head(10)\n",
    "prd_most_common_unigrams"
   ]
  },
  {
   "cell_type": "code",
   "execution_count": 80,
   "id": "badf7bbf-27a4-4ab8-a029-b57dd8a7b622",
   "metadata": {},
   "outputs": [
    {
     "data": {
      "text/plain": [
       "de       4456\n",
       "https    3096\n",
       "co       3094\n",
       "la       2743\n",
       "el       2103\n",
       "en       1903\n",
       "que      1312\n",
       "los      1024\n",
       "para     1005\n",
       "por       968\n",
       "dtype: int64"
      ]
     },
     "execution_count": 80,
     "metadata": {},
     "output_type": "execute_result"
    }
   ],
   "source": [
    "# Fit and transformed the CountVectorizer object above on Partido Verde Ecologista de México's tweets before obtaining the 10 most common unigrams.\n",
    "\n",
    "pv_uni_tweets = cvec_uni.fit_transform(pv_df['tweet'])\n",
    "\n",
    "pv_uni_tweets_df = pd.DataFrame(data=pv_uni_tweets.A, columns=cvec_uni.get_feature_names_out())\n",
    "\n",
    "pv_most_common_unigrams = pv_uni_tweets_df.sum().sort_values(ascending=False).head(10)\n",
    "pv_most_common_unigrams"
   ]
  },
  {
   "cell_type": "code",
   "execution_count": 81,
   "id": "59e3e9bf-fd22-476b-953a-3456c21e81b7",
   "metadata": {},
   "outputs": [
    {
     "data": {
      "text/plain": [
       "de       2984\n",
       "https    2831\n",
       "co       2829\n",
       "la       2455\n",
       "que      1890\n",
       "el       1836\n",
       "en       1686\n",
       "para     1113\n",
       "las      1054\n",
       "con       999\n",
       "dtype: int64"
      ]
     },
     "execution_count": 81,
     "metadata": {},
     "output_type": "execute_result"
    }
   ],
   "source": [
    "# Fit and transformed the CountVectorizer object above on Movimiento Ciudadano's tweets before obtaining the 10 most common unigrams.\n",
    "\n",
    "mc_uni_tweets = cvec_uni.fit_transform(mc_df['tweet'])\n",
    "\n",
    "mc_uni_tweets_df = pd.DataFrame(data=mc_uni_tweets.A, columns=cvec_uni.get_feature_names_out())\n",
    "\n",
    "mc_most_common_unigrams = mc_uni_tweets_df.sum().sort_values(ascending=False).head(10)\n",
    "mc_most_common_unigrams"
   ]
  },
  {
   "cell_type": "code",
   "execution_count": 82,
   "id": "d94323d2-df98-4ab6-b153-b2f5b547b8f3",
   "metadata": {},
   "outputs": [
    {
     "data": {
      "text/plain": [
       "de       4640\n",
       "la       3693\n",
       "https    3017\n",
       "co       3005\n",
       "el       2488\n",
       "en       1562\n",
       "que      1387\n",
       "los      1087\n",
       "del       913\n",
       "es        874\n",
       "dtype: int64"
      ]
     },
     "execution_count": 82,
     "metadata": {},
     "output_type": "execute_result"
    }
   ],
   "source": [
    "# Fit and transformed the CountVectorizer object above on Morena's tweets before obtaining the 10 most common unigrams.\n",
    "\n",
    "mrn_uni_tweets = cvec_uni.fit_transform(mrn_df['tweet'])\n",
    "\n",
    "mrn_uni_tweets_df = pd.DataFrame(data=mrn_uni_tweets.A, columns=cvec_uni.get_feature_names_out())\n",
    "\n",
    "mrn_most_common_unigrams = mrn_uni_tweets_df.sum().sort_values(ascending=False).head(10)\n",
    "mrn_most_common_unigrams"
   ]
  },
  {
   "cell_type": "markdown",
   "id": "abd540ff-d592-44d0-a1ff-5fc15124449c",
   "metadata": {},
   "source": [
    "### 10 Most Common Bigrams"
   ]
  },
  {
   "cell_type": "code",
   "execution_count": 83,
   "id": "3369724d-d162-4b1e-8e9e-aa2f290df72f",
   "metadata": {},
   "outputs": [
    {
     "data": {
      "text/plain": [
       "https co           1535\n",
       "de la               493\n",
       "las los             314\n",
       "de las              310\n",
       "las familias        277\n",
       "en el               247\n",
       "en la               200\n",
       "de junio            187\n",
       "acción nacional     162\n",
       "de los              144\n",
       "dtype: int64"
      ]
     },
     "execution_count": 83,
     "metadata": {},
     "output_type": "execute_result"
    }
   ],
   "source": [
    "# Instantiating a CountVectorizer object that splits the documents in the corpus into bigrams.  Then fit and transformed Partido Acción Nacional's tweets before obtaining the 10 most common bigrams.\n",
    "cvec_bi = CountVectorizer(ngram_range=(2, 2), stop_words=spanish)\n",
    "\n",
    "pan_bi_tweets = cvec_bi.fit_transform(pan_df['tweet'])\n",
    "\n",
    "pan_bi_tweets_df = pd.DataFrame(data=pan_bi_tweets.A, columns=cvec_bi.get_feature_names_out())\n",
    "\n",
    "pan_most_common_bigrams = pan_bi_tweets_df.sum().sort_values(ascending=False).head(10)\n",
    "pan_most_common_bigrams"
   ]
  },
  {
   "cell_type": "code",
   "execution_count": 84,
   "id": "470c9532-8bcc-421b-99d5-3b0620a3933e",
   "metadata": {},
   "outputs": [
    {
     "data": {
      "text/plain": [
       "https co                   2268\n",
       "de la                       584\n",
       "en el                       473\n",
       "nuestro presidente          398\n",
       "presidente alitomorenoc     376\n",
       "el pri                      330\n",
       "rt alitomorenoc             319\n",
       "de las                      291\n",
       "de junio                    286\n",
       "para que                    285\n",
       "dtype: int64"
      ]
     },
     "execution_count": 84,
     "metadata": {},
     "output_type": "execute_result"
    }
   ],
   "source": [
    "# Fit and transformed the CountVectorizer object above on Partido Revolucionario Institucional's tweets before obtaining the 10 most common bigrams.\n",
    "\n",
    "pri_bi_tweets = cvec_bi.fit_transform(pri_df['tweet'])\n",
    "\n",
    "pri_bi_tweets_df = pd.DataFrame(data=pri_bi_tweets.A, columns=cvec_bi.get_feature_names_out())\n",
    "\n",
    "pri_most_common_bigrams = pri_bi_tweets_df.sum().sort_values(ascending=False).head(10)\n",
    "pri_most_common_bigrams"
   ]
  },
  {
   "cell_type": "code",
   "execution_count": 85,
   "id": "d7925e3b-d592-4c38-b83b-93cb9f22ff8a",
   "metadata": {},
   "outputs": [
    {
     "data": {
      "text/plain": [
       "https co              1557\n",
       "rt prdmexico           644\n",
       "de la                  596\n",
       "en el                  369\n",
       "de las                 332\n",
       "el prd                 284\n",
       "rt jesus_zambranog     278\n",
       "las los                211\n",
       "en la                  161\n",
       "las mujeres            143\n",
       "dtype: int64"
      ]
     },
     "execution_count": 85,
     "metadata": {},
     "output_type": "execute_result"
    }
   ],
   "source": [
    "# Fit and transformed the CountVectorizer object above on Partido de la Revolución Democrática's tweets before obtaining the 10 most common bigrams.\n",
    "\n",
    "prd_bi_tweets = cvec_bi.fit_transform(prd_df['tweet'])\n",
    "\n",
    "prd_bi_tweets_df = pd.DataFrame(data=prd_bi_tweets.A, columns=cvec_bi.get_feature_names_out())\n",
    "\n",
    "prd_most_common_bigrams = prd_bi_tweets_df.sum().sort_values(ascending=False).head(10)\n",
    "prd_most_common_bigrams"
   ]
  },
  {
   "cell_type": "code",
   "execution_count": 86,
   "id": "28b06beb-c719-4778-a225-fa88a5aded57",
   "metadata": {},
   "outputs": [
    {
     "data": {
      "text/plain": [
       "https co              3088\n",
       "de la                  530\n",
       "en el                  435\n",
       "por un                 259\n",
       "medio ambiente         243\n",
       "de los                 235\n",
       "en la                  220\n",
       "de las                 146\n",
       "rt karencastrejont     138\n",
       "méxicounido https      138\n",
       "dtype: int64"
      ]
     },
     "execution_count": 86,
     "metadata": {},
     "output_type": "execute_result"
    }
   ],
   "source": [
    "# Fit and transformed the CountVectorizer object above on Partido Verde Ecologista de México's tweets before obtaining the 10 most common bigrams.\n",
    "\n",
    "pv_bi_tweets = cvec_bi.fit_transform(pv_df['tweet'])\n",
    "\n",
    "pv_bi_tweets_df = pd.DataFrame(data=pv_bi_tweets.A, columns=cvec_bi.get_feature_names_out())\n",
    "\n",
    "pv_most_common_bigrams = pv_bi_tweets_df.sum().sort_values(ascending=False).head(10)\n",
    "pv_most_common_bigrams"
   ]
  },
  {
   "cell_type": "code",
   "execution_count": 87,
   "id": "aa02ee0a-d2e3-481b-ad5f-ab8ccf79ce08",
   "metadata": {},
   "outputs": [
    {
     "data": {
      "text/plain": [
       "https co                     2825\n",
       "de la                         338\n",
       "en el                         241\n",
       "de las                        229\n",
       "elfuturoesnaranja https       195\n",
       "las los                       179\n",
       "delríopresopolítico https     172\n",
       "la bancadanaranja             152\n",
       "en la                         149\n",
       "que se                        140\n",
       "dtype: int64"
      ]
     },
     "execution_count": 87,
     "metadata": {},
     "output_type": "execute_result"
    }
   ],
   "source": [
    "# Fit and transformed the CountVectorizer object above on Movimiento Ciudadano's tweets before obtaining the 10 most common bigrams.\n",
    "\n",
    "mc_bi_tweets = cvec_bi.fit_transform(mc_df['tweet'])\n",
    "\n",
    "mc_bi_tweets_df = pd.DataFrame(data=mc_bi_tweets.A, columns=cvec_bi.get_feature_names_out())\n",
    "\n",
    "mc_most_common_bigrams = mc_bi_tweets_df.sum().sort_values(ascending=False).head(10)\n",
    "mc_most_common_bigrams"
   ]
  },
  {
   "cell_type": "code",
   "execution_count": 88,
   "id": "7c792f90-cd8e-4d81-8bea-3f7a36d288be",
   "metadata": {},
   "outputs": [
    {
     "data": {
      "text/plain": [
       "https co                       3005\n",
       "de la                           879\n",
       "de méxico                       563\n",
       "conferenciapresidente https     446\n",
       "el pueblo                       414\n",
       "la 4t                           404\n",
       "presidente de                   370\n",
       "lopezobrador_ presidente        335\n",
       "22 conferenciapresidente        255\n",
       "las los                         250\n",
       "dtype: int64"
      ]
     },
     "execution_count": 88,
     "metadata": {},
     "output_type": "execute_result"
    }
   ],
   "source": [
    "# Fit and transformed the CountVectorizer object above on Morena's tweets before obtaining the 10 most common bigrams.\n",
    "\n",
    "mrn_bi_tweets = cvec_bi.fit_transform(mrn_df['tweet'])\n",
    "\n",
    "mrn_bi_tweets_df = pd.DataFrame(data=mrn_bi_tweets.A, columns=cvec_bi.get_feature_names_out())\n",
    "\n",
    "mrn_most_common_bigrams = mrn_bi_tweets_df.sum().sort_values(ascending=False).head(10)\n",
    "mrn_most_common_bigrams"
   ]
  },
  {
   "cell_type": "markdown",
   "id": "be45df6f-ab61-43f1-9af7-4aff7dc30f5c",
   "metadata": {},
   "source": [
    "### 10 Most Common Trigrams"
   ]
  },
  {
   "cell_type": "code",
   "execution_count": 89,
   "id": "0bc84852-2244-40a9-8c7c-0f22aa6e6d5e",
   "metadata": {},
   "outputs": [
    {
     "data": {
      "text/plain": [
       "votapan https co          128\n",
       "de las familias           110\n",
       "este de junio              88\n",
       "para las familias          70\n",
       "las los mexicanos          67\n",
       "de las los                 66\n",
       "las familias mexicanas     62\n",
       "las los diputadospan       57\n",
       "vamos con todo             56\n",
       "de acción nacional         54\n",
       "dtype: int64"
      ]
     },
     "execution_count": 89,
     "metadata": {},
     "output_type": "execute_result"
    }
   ],
   "source": [
    "# Instantiating a CountVectorizer object that splits the documents in the corpus into trigrams.  Then fit and transformed Partido Acción Nacional's tweets before obtaining the 10 most common trigrams.\n",
    "cvec_tri = CountVectorizer(ngram_range=(3, 3), stop_words=spanish)\n",
    "\n",
    "pan_tri_tweets = cvec_tri.fit_transform(pan_df['tweet'])\n",
    "\n",
    "pan_tri_tweets_df = pd.DataFrame(data=pan_tri_tweets.A, columns=cvec_tri.get_feature_names_out())\n",
    "\n",
    "pan_most_common_trigrams = pan_tri_tweets_df.sum().sort_values(ascending=False).head(10)\n",
    "pan_most_common_trigrams"
   ]
  },
  {
   "cell_type": "code",
   "execution_count": 90,
   "id": "786d4a95-c053-4e17-a18c-c5c5f81f4055",
   "metadata": {},
   "outputs": [
    {
     "data": {
      "text/plain": [
       "nuestro presidente alitomorenoc    374\n",
       "este de junio                      270\n",
       "votapri https co                   213\n",
       "en el pri                          191\n",
       "presidente alitomorenoc se         112\n",
       "de nuestro partido                  95\n",
       "las familias de                     79\n",
       "alitomorenoc se encuentra           72\n",
       "se encuentra en                     71\n",
       "méxico https co                     69\n",
       "dtype: int64"
      ]
     },
     "execution_count": 90,
     "metadata": {},
     "output_type": "execute_result"
    }
   ],
   "source": [
    "# Fit and transformed the CountVectorizer object above on Partido Revolucionario Institucional's tweets before obtaining the 10 most common trigrams.\n",
    "\n",
    "pri_tri_tweets = cvec_tri.fit_transform(pri_df['tweet'])\n",
    "\n",
    "pri_tri_tweets_df = pd.DataFrame(data=pri_tri_tweets.A, columns=cvec_tri.get_feature_names_out())\n",
    "\n",
    "pri_most_common_trigrams = pri_tri_tweets_df.sum().sort_values(ascending=False).head(10)\n",
    "pri_most_common_trigrams"
   ]
  },
  {
   "cell_type": "code",
   "execution_count": 91,
   "id": "b5b93750-2a03-4fa3-b9fd-7f0c35041b94",
   "metadata": {},
   "outputs": [
    {
     "data": {
      "text/plain": [
       "en el prd             113\n",
       "somosprd https co      99\n",
       "votaprd https co       97\n",
       "rt prdmexico el        87\n",
       "rt prdmexico la        69\n",
       "rt prdmexico en        68\n",
       "en contra de           65\n",
       "de las los             62\n",
       "boletín https co       61\n",
       "link boletín https     59\n",
       "dtype: int64"
      ]
     },
     "execution_count": 91,
     "metadata": {},
     "output_type": "execute_result"
    }
   ],
   "source": [
    "# Fit and transformed the CountVectorizer object above on Partido de la Revolución Democrática's tweets before obtaining the 10 most common trigrams.\n",
    "\n",
    "prd_tri_tweets = cvec_tri.fit_transform(prd_df['tweet'])\n",
    "\n",
    "prd_tri_tweets_df = pd.DataFrame(data=prd_tri_tweets.A, columns=cvec_tri.get_feature_names_out())\n",
    "\n",
    "prd_most_common_trigrams = prd_tri_tweets_df.sum().sort_values(ascending=False).head(10)\n",
    "prd_most_common_trigrams"
   ]
  },
  {
   "cell_type": "code",
   "execution_count": 92,
   "id": "03d584e0-8ca9-4011-873b-b57b0f5350a5",
   "metadata": {},
   "outputs": [
    {
     "data": {
      "text/plain": [
       "méxicounido https co     138\n",
       "por un méxicoverde       114\n",
       "méxicoverde https co     109\n",
       "un méxicoverde https      74\n",
       "aquí https co             73\n",
       "actitudverde https co     72\n",
       "el uso de                 71\n",
       "yosoyverde https co       64\n",
       "en el país                64\n",
       "enhorabuena https co      60\n",
       "dtype: int64"
      ]
     },
     "execution_count": 92,
     "metadata": {},
     "output_type": "execute_result"
    }
   ],
   "source": [
    "# Fit and transformed the CountVectorizer object above on Partido Verde Ecologista de México's tweets before obtaining the 10 most common trigrams.\n",
    "\n",
    "pv_tri_tweets = cvec_tri.fit_transform(pv_df['tweet'])\n",
    "\n",
    "pv_tri_tweets_df = pd.DataFrame(data=pv_tri_tweets.A, columns=cvec_tri.get_feature_names_out())\n",
    "\n",
    "pv_most_common_trigrams = pv_tri_tweets_df.sum().sort_values(ascending=False).head(10)\n",
    "pv_most_common_trigrams"
   ]
  },
  {
   "cell_type": "code",
   "execution_count": 93,
   "id": "522f4c1a-33fb-4f1f-b04d-ef3042bf96e6",
   "metadata": {},
   "outputs": [
    {
     "data": {
      "text/plain": [
       "elfuturoesnaranja https co      195\n",
       "delríopresopolítico https co    172\n",
       "google https co                 102\n",
       "amazon https co                 102\n",
       "apple https co                  102\n",
       "spotify https co                 93\n",
       "un nuevo trato                   93\n",
       "tu plataforma favorita           80\n",
       "en tu plataforma                 80\n",
       "el medio ambiente                74\n",
       "dtype: int64"
      ]
     },
     "execution_count": 93,
     "metadata": {},
     "output_type": "execute_result"
    }
   ],
   "source": [
    "# Fit and transformed the CountVectorizer object above on Movimiento Ciudadano's tweets before obtaining the 10 most common trigrams.\n",
    "\n",
    "mc_tri_tweets = cvec_tri.fit_transform(mc_df['tweet'])\n",
    "\n",
    "mc_tri_tweets_df = pd.DataFrame(data=mc_tri_tweets.A, columns=cvec_tri.get_feature_names_out())\n",
    "\n",
    "mc_most_common_trigrams = mc_tri_tweets_df.sum().sort_values(ascending=False).head(10)\n",
    "mc_most_common_trigrams"
   ]
  },
  {
   "cell_type": "code",
   "execution_count": 94,
   "id": "ddc99a9f-d256-49fe-8d98-1c071a9943de",
   "metadata": {},
   "outputs": [
    {
     "data": {
      "text/plain": [
       "conferenciapresidente https co    446\n",
       "presidente de méxico              343\n",
       "lopezobrador_ presidente de       335\n",
       "22 conferenciapresidente https    250\n",
       "francamente https co              192\n",
       "para el pueblo                    172\n",
       "la 4t es                          160\n",
       "circulaenredes https co           132\n",
       "de la conferenciapresidente       127\n",
       "el presidente lopezobrador_       122\n",
       "dtype: int64"
      ]
     },
     "execution_count": 94,
     "metadata": {},
     "output_type": "execute_result"
    }
   ],
   "source": [
    "# Fit and transformed the CountVectorizer object above on Morena's tweets before obtaining the 10 most common trigrams.\n",
    "\n",
    "mrn_tri_tweets = cvec_tri.fit_transform(mrn_df['tweet'])\n",
    "\n",
    "mrn_tri_tweets_df = pd.DataFrame(data=mrn_tri_tweets.A, columns=cvec_tri.get_feature_names_out())\n",
    "\n",
    "mrn_most_common_trigrams = mrn_tri_tweets_df.sum().sort_values(ascending=False).head(10)\n",
    "mrn_most_common_trigrams"
   ]
  },
  {
   "cell_type": "markdown",
   "id": "3f99d080-e1f9-4c86-8ece-fbf3f51b4b17",
   "metadata": {},
   "source": [
    "### 10 Most Common 4-grams"
   ]
  },
  {
   "cell_type": "code",
   "execution_count": 95,
   "id": "bc28839c-dbae-47dc-aebd-bb6072dbb2dc",
   "metadata": {},
   "outputs": [
    {
     "data": {
      "text/plain": [
       "en paz https co                  50\n",
       "descanse en paz https            50\n",
       "el próximo de junio              48\n",
       "la cámara de diputados           38\n",
       "en la cámara de                  35\n",
       "de las familias mexicanas        31\n",
       "junio votapan https co           31\n",
       "sus familiares seres queridos    30\n",
       "de junio votapan https           29\n",
       "de las los mexicanos             28\n",
       "dtype: int64"
      ]
     },
     "execution_count": 95,
     "metadata": {},
     "output_type": "execute_result"
    }
   ],
   "source": [
    "# Instantiating a CountVectorizer object that splits the documents in the corpus into 4-grams.  Then fit and transformed Partido Acción Nacional's tweets before obtaining the 10 most common 4-grams.\n",
    "cvec_quad = CountVectorizer(ngram_range=(4, 4), stop_words=spanish)\n",
    "\n",
    "pan_quad_tweets = cvec_quad.fit_transform(pan_df['tweet'])\n",
    "\n",
    "pan_quad_tweets_df = pd.DataFrame(data=pan_quad_tweets.A, columns=cvec_quad.get_feature_names_out())\n",
    "\n",
    "pan_most_common_quadgrams = pan_quad_tweets_df.sum().sort_values(ascending=False).head(10)\n",
    "pan_most_common_quadgrams"
   ]
  },
  {
   "cell_type": "code",
   "execution_count": 96,
   "id": "6179a2ee-6cce-42fc-bd03-506b54a160b8",
   "metadata": {},
   "outputs": [
    {
     "data": {
      "text/plain": [
       "nuestro presidente alitomorenoc se      112\n",
       "presidente alitomorenoc se encuentra     69\n",
       "alitomorenoc se encuentra en             68\n",
       "este de junio votapri                    51\n",
       "la cámara de diputados                   51\n",
       "ganar este de junio                      47\n",
       "este de junio vamos                      46\n",
       "junio votapri https co                   41\n",
       "de junio votapri https                   41\n",
       "de las los mexicanos                     40\n",
       "dtype: int64"
      ]
     },
     "execution_count": 96,
     "metadata": {},
     "output_type": "execute_result"
    }
   ],
   "source": [
    "# Fit and transformed the CountVectorizer object above on Partido Revolucionario Institucional's tweets before obtaining the 10 most common 4-grams.\n",
    "\n",
    "pri_quad_tweets = cvec_quad.fit_transform(pri_df['tweet'])\n",
    "\n",
    "pri_quad_tweets_df = pd.DataFrame(data=pri_quad_tweets.A, columns=cvec_quad.get_feature_names_out())\n",
    "\n",
    "pri_most_common_quadgrams = pri_quad_tweets_df.sum().sort_values(ascending=False).head(10)\n",
    "pri_most_common_quadgrams"
   ]
  },
  {
   "cell_type": "code",
   "execution_count": 97,
   "id": "49523358-0109-4ebb-8d95-637d7b243d7d",
   "metadata": {},
   "outputs": [
    {
     "data": {
      "text/plain": [
       "link boletín https co                 58\n",
       "el próximo de junio                   52\n",
       "rt prdmexico en el                    39\n",
       "jesus_zambranog link boletín https    35\n",
       "millones de estudiantes los           34\n",
       "de estudiantes los que                33\n",
       "que les niega una                     33\n",
       "los que les niega                     33\n",
       "delfina gómez dé la                   33\n",
       "dé la cara los                        33\n",
       "dtype: int64"
      ]
     },
     "execution_count": 97,
     "metadata": {},
     "output_type": "execute_result"
    }
   ],
   "source": [
    "# Fit and transformed the CountVectorizer object above on Partido de la Revolución Democrática's tweets before obtaining the 10 most common 4-grams.\n",
    "\n",
    "prd_quad_tweets = cvec_quad.fit_transform(prd_df['tweet'])\n",
    "\n",
    "prd_quad_tweets_df = pd.DataFrame(data=prd_quad_tweets.A, columns=cvec_quad.get_feature_names_out())\n",
    "\n",
    "prd_most_common_quadgrams = prd_quad_tweets_df.sum().sort_values(ascending=False).head(10)\n",
    "prd_most_common_quadgrams"
   ]
  },
  {
   "cell_type": "code",
   "execution_count": 98,
   "id": "f14c7732-9ee8-4053-92d5-8f3d395e70c7",
   "metadata": {},
   "outputs": [
    {
     "data": {
      "text/plain": [
       "un méxicoverde https co           74\n",
       "por un méxicoverde https          68\n",
       "sen raulbccue https co            53\n",
       "motivo de su cumpleaños           42\n",
       "dip arturoesc https co            42\n",
       "con motivo de su                  42\n",
       "medio ambiente https co           38\n",
       "enviamos una gran felicitación    37\n",
       "dip betymanrique https co         36\n",
       "de su cumpleaños sigamos          35\n",
       "dtype: int64"
      ]
     },
     "execution_count": 98,
     "metadata": {},
     "output_type": "execute_result"
    }
   ],
   "source": [
    "# Fit and transformed the CountVectorizer object above on Partido Verde Ecologista de México's tweets before obtaining the 10 most common 4-grams.\n",
    "\n",
    "pv_quad_tweets = cvec_quad.fit_transform(pv_df['tweet'])\n",
    "\n",
    "pv_quad_tweets_df = pd.DataFrame(data=pv_quad_tweets.A, columns=cvec_quad.get_feature_names_out())\n",
    "\n",
    "pv_most_common_quadgrams = pv_quad_tweets_df.sum().sort_values(ascending=False).head(10)\n",
    "pv_most_common_quadgrams"
   ]
  },
  {
   "cell_type": "code",
   "execution_count": 99,
   "id": "edbd96ad-33d9-41bc-b552-69252c6b9d08",
   "metadata": {},
   "outputs": [
    {
     "data": {
      "text/plain": [
       "en tu plataforma favorita            80\n",
       "escúchanos en tu plataforma          63\n",
       "tu plataforma favorita spotify       55\n",
       "plataforma favorita spotify https    55\n",
       "favorita spotify https co            55\n",
       "un nuevo trato por                   46\n",
       "por el medio ambiente                39\n",
       "en redes https co                    30\n",
       "medio ambiente https co              30\n",
       "circula en redes https               28\n",
       "dtype: int64"
      ]
     },
     "execution_count": 99,
     "metadata": {},
     "output_type": "execute_result"
    }
   ],
   "source": [
    "# Fit and transformed the CountVectorizer object above on Movimiento Ciudadano's tweets before obtaining the 10 most common 4-grams.\n",
    "\n",
    "mc_quad_tweets = cvec_quad.fit_transform(mc_df['tweet'])\n",
    "\n",
    "mc_quad_tweets_df = pd.DataFrame(data=mc_quad_tweets.A, columns=cvec_quad.get_feature_names_out())\n",
    "\n",
    "mc_most_common_quadgrams = mc_quad_tweets_df.sum().sort_values(ascending=False).head(10)\n",
    "mc_most_common_quadgrams"
   ]
  },
  {
   "cell_type": "code",
   "execution_count": 100,
   "id": "1546396b-b767-4b9d-a968-597deb027373",
   "metadata": {},
   "outputs": [
    {
     "data": {
      "text/plain": [
       "lopezobrador_ presidente de méxico     335\n",
       "22 conferenciapresidente https co      250\n",
       "compartimos el resumen de              116\n",
       "te compartimos el resumen              116\n",
       "resumen de la conferenciapresidente    116\n",
       "el resumen de la                       116\n",
       "la conferenciapresidente del día       115\n",
       "4t es información para                 115\n",
       "conferenciapresidente del día de       115\n",
       "de la conferenciapresidente del        115\n",
       "dtype: int64"
      ]
     },
     "execution_count": 100,
     "metadata": {},
     "output_type": "execute_result"
    }
   ],
   "source": [
    "# Fit and transformed the CountVectorizer object above on Morena's tweets before obtaining the 10 most common 4-grams.\n",
    "\n",
    "mrn_quad_tweets = cvec_quad.fit_transform(mrn_df['tweet'])\n",
    "\n",
    "mrn_quad_tweets_df = pd.DataFrame(data=mrn_quad_tweets.A, columns=cvec_quad.get_feature_names_out())\n",
    "\n",
    "mrn_most_common_quadgrams = mrn_quad_tweets_df.sum().sort_values(ascending=False).head(10)\n",
    "mrn_most_common_quadgrams"
   ]
  },
  {
   "cell_type": "markdown",
   "id": "afe5c225-b309-4833-ab6a-a7b58dc2b7d9",
   "metadata": {},
   "source": [
    "### 10 Most Common 5-grams"
   ]
  },
  {
   "cell_type": "code",
   "execution_count": 101,
   "id": "d4c594ee-2770-454f-9148-422590b758b0",
   "metadata": {},
   "outputs": [
    {
     "data": {
      "text/plain": [
       "descanse en paz https co                        50\n",
       "en la cámara de diputados                       33\n",
       "de junio votapan https co                       29\n",
       "seres queridos descanse en paz                  25\n",
       "para todas todos https co                       23\n",
       "lamentamos profundamente el fallecimiento de    23\n",
       "queridos descanse en paz https                  23\n",
       "de esta semana https co                         22\n",
       "familiares seres queridos descanse en           21\n",
       "sus familiares seres queridos descanse          21\n",
       "dtype: int64"
      ]
     },
     "execution_count": 101,
     "metadata": {},
     "output_type": "execute_result"
    }
   ],
   "source": [
    "# Instantiating a CountVectorizer object that splits the documents in the corpus into 5-grams.  Then fit and transformed Partido Acción Nacional's tweets before obtaining the 10 most common 5-grams.\n",
    "cvec_quint = CountVectorizer(ngram_range=(5, 5), stop_words=spanish)\n",
    "\n",
    "pan_quint_tweets = cvec_quint.fit_transform(pan_df['tweet'])\n",
    "\n",
    "pan_quint_tweets_df = pd.DataFrame(data=pan_quint_tweets.A, columns=cvec_quint.get_feature_names_out())\n",
    "\n",
    "pan_most_common_quintgrams = pan_quint_tweets_df.sum().sort_values(ascending=False).head(10)\n",
    "pan_most_common_quintgrams"
   ]
  },
  {
   "cell_type": "code",
   "execution_count": 102,
   "id": "6b5c5abd-c63f-496e-bf69-e99b4f22107c",
   "metadata": {},
   "outputs": [
    {
     "data": {
      "text/plain": [
       "nuestro presidente alitomorenoc se encuentra     69\n",
       "presidente alitomorenoc se encuentra en          65\n",
       "de junio votapri https co                        41\n",
       "este de junio votapri https                      41\n",
       "este de junio https co                           38\n",
       "nuestro presidente alitomorenoc se reúne         34\n",
       "vamos ganar este de junio                        34\n",
       "este de junio vamos ganar                        30\n",
       "nuestro presidente alitomorenoc tomó protesta    29\n",
       "presidente alitomorenoc se reúne con             27\n",
       "dtype: int64"
      ]
     },
     "execution_count": 102,
     "metadata": {},
     "output_type": "execute_result"
    }
   ],
   "source": [
    "# Fit and transformed the CountVectorizer object above on Partido Revolucionario Institucional's tweets before obtaining the 10 most common 5-grams.\n",
    "\n",
    "pri_quint_tweets = cvec_quint.fit_transform(pri_df['tweet'])\n",
    "\n",
    "pri_quint_tweets_df = pd.DataFrame(data=pri_quint_tweets.A, columns=cvec_quint.get_feature_names_out())\n",
    "\n",
    "pri_most_common_quintgrams = pri_quint_tweets_df.sum().sort_values(ascending=False).head(10)\n",
    "pri_most_common_quintgrams"
   ]
  },
  {
   "cell_type": "code",
   "execution_count": 103,
   "id": "75ab0b27-4f12-47fc-ab3c-03d4a13aa013",
   "metadata": {},
   "outputs": [
    {
     "data": {
      "text/plain": [
       "jesus_zambranog link boletín https co    35\n",
       "cara los millones de estudiantes         33\n",
       "de estudiantes los que les               33\n",
       "gómez dé la cara los                     33\n",
       "los millones de estudiantes los          33\n",
       "millones de estudiantes los que          33\n",
       "les niega una educación de               33\n",
       "delfina gómez dé la cara                 33\n",
       "que les niega una educación              33\n",
       "la cara los millones de                  33\n",
       "dtype: int64"
      ]
     },
     "execution_count": 103,
     "metadata": {},
     "output_type": "execute_result"
    }
   ],
   "source": [
    "# Fit and transformed the CountVectorizer object above on Partido de la Revolución Democrática's tweets before obtaining the 10 most common 5-grams.\n",
    "\n",
    "prd_quint_tweets = cvec_quint.fit_transform(prd_df['tweet'])\n",
    "\n",
    "prd_quint_tweets_df = pd.DataFrame(data=prd_quint_tweets.A, columns=cvec_quint.get_feature_names_out())\n",
    "\n",
    "prd_most_common_quintgrams = prd_quint_tweets_df.sum().sort_values(ascending=False).head(10)\n",
    "prd_most_common_quintgrams"
   ]
  },
  {
   "cell_type": "code",
   "execution_count": 104,
   "id": "7372cf30-2515-4296-8a20-a1461649835f",
   "metadata": {},
   "outputs": [
    {
     "data": {
      "text/plain": [
       "por un méxicoverde https co             68\n",
       "con motivo de su cumpleaños             42\n",
       "motivo de su cumpleaños sigamos         35\n",
       "su cumpleaños sigamos trabajando por    32\n",
       "enviamos una gran felicitación un       32\n",
       "cumpleaños sigamos trabajando por un    32\n",
       "de su cumpleaños sigamos trabajando     32\n",
       "gran felicitación un fuerte abrazo      31\n",
       "una gran felicitación un fuerte         31\n",
       "unidos por un méxicoverde https         30\n",
       "dtype: int64"
      ]
     },
     "execution_count": 104,
     "metadata": {},
     "output_type": "execute_result"
    }
   ],
   "source": [
    "# Fit and transformed the CountVectorizer object above on Partido Verde Ecologista de México's tweets before obtaining the 10 most common 5-grams.\n",
    "\n",
    "pv_quint_tweets = cvec_quint.fit_transform(pv_df['tweet'])\n",
    "\n",
    "pv_quint_tweets_df = pd.DataFrame(data=pv_quint_tweets.A, columns=cvec_quint.get_feature_names_out())\n",
    "\n",
    "pv_most_common_quintgrams = pv_quint_tweets_df.sum().sort_values(ascending=False).head(10)\n",
    "pv_most_common_quintgrams"
   ]
  },
  {
   "cell_type": "code",
   "execution_count": 105,
   "id": "609b6efc-1f6b-46f9-80f7-189a3c9e4d00",
   "metadata": {},
   "outputs": [
    {
     "data": {
      "text/plain": [
       "escúchanos en tu plataforma favorita        63\n",
       "tu plataforma favorita spotify https        55\n",
       "plataforma favorita spotify https co        55\n",
       "en tu plataforma favorita spotify           55\n",
       "circula en redes https co                   28\n",
       "nuevo trato por el medio                    23\n",
       "andamosbienpuestxs para regular https co    23\n",
       "trato por el medio ambiente                 23\n",
       "un nuevo trato por el                       22\n",
       "un nuevo trato al medio                     21\n",
       "dtype: int64"
      ]
     },
     "execution_count": 105,
     "metadata": {},
     "output_type": "execute_result"
    }
   ],
   "source": [
    "# Fit and transformed the CountVectorizer object above on Movimiento Ciudadano's tweets before obtaining the 10 most common 5-grams.\n",
    "\n",
    "mc_quint_tweets = cvec_quint.fit_transform(mc_df['tweet'])\n",
    "\n",
    "mc_quint_tweets_df = pd.DataFrame(data=mc_quint_tweets.A, columns=cvec_quint.get_feature_names_out())\n",
    "\n",
    "mc_most_common_quintgrams = mc_quint_tweets_df.sum().sort_values(ascending=False).head(10)\n",
    "mc_most_common_quintgrams"
   ]
  },
  {
   "cell_type": "code",
   "execution_count": 106,
   "id": "bb051f43-2c7a-4a2c-a3ec-d83391f54926",
   "metadata": {},
   "outputs": [
    {
     "data": {
      "text/plain": [
       "compartimos el resumen de la               116\n",
       "el resumen de la conferenciapresidente     116\n",
       "te compartimos el resumen de               116\n",
       "la 4t es información para                  115\n",
       "la conferenciapresidente del día de        115\n",
       "conferenciapresidente del día de hoy       115\n",
       "de la conferenciapresidente del día        115\n",
       "resumen de la conferenciapresidente del    114\n",
       "es información para el pueblo              113\n",
       "para el pueblo democracia transparencia    113\n",
       "dtype: int64"
      ]
     },
     "execution_count": 106,
     "metadata": {},
     "output_type": "execute_result"
    }
   ],
   "source": [
    "# Fit and transformed the CountVectorizer object above on Morena's tweets before obtaining the 10 most common 5-grams.\n",
    "\n",
    "mrn_quint_tweets = cvec_quint.fit_transform(mrn_df['tweet'])\n",
    "\n",
    "mrn_quint_tweets_df = pd.DataFrame(data=mrn_quint_tweets.A, columns=cvec_quint.get_feature_names_out())\n",
    "\n",
    "mrn_most_common_quintgrams = mrn_quint_tweets_df.sum().sort_values(ascending=False).head(10)\n",
    "mrn_most_common_quintgrams"
   ]
  }
 ],
 "metadata": {
  "kernelspec": {
   "display_name": "Python 3 (ipykernel)",
   "language": "python",
   "name": "python3"
  },
  "language_info": {
   "codemirror_mode": {
    "name": "ipython",
    "version": 3
   },
   "file_extension": ".py",
   "mimetype": "text/x-python",
   "name": "python",
   "nbconvert_exporter": "python",
   "pygments_lexer": "ipython3",
   "version": "3.9.7"
  }
 },
 "nbformat": 4,
 "nbformat_minor": 5
}
