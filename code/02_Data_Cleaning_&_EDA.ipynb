{
 "cells": [
  {
   "cell_type": "code",
   "execution_count": 1,
   "id": "27f6c3e9-7282-44cb-9ee8-a9cd99731368",
   "metadata": {},
   "outputs": [],
   "source": [
    "# Imported all of the modules I would need to utilize.  I commented out Plotly, since it is not available in my base environment, which is what I always use except for when creating Plotly visualizations.\n",
    "\n",
    "import matplotlib.pyplot as plt\n",
    "import numpy as np\n",
    "import pandas as pd\n",
    "# import plotly\n",
    "# import plotly.express as px\n",
    "import seaborn as sns\n",
    "\n",
    "from sklearn.feature_extraction.text import CountVectorizer\n",
    "\n",
    "# This setting widens how many characters Pandas will display in a column:\n",
    "pd.options.display.max_colwidth = 400\n",
    "\n",
    "# Obtained spanish stop words list from: https://github.com/stopwords-iso/stopwords-es/blob/master/stopwords-es.txt\n",
    "# Obtained guidance on creating stop_words_list using .txt file from: https://stackoverflow.com/questions/36369870/sklearn-how-to-add-custom-stopword-list-from-txt-file#36371942\n",
    "    \n",
    "with open('../data/spanish.txt') as file:\n",
    "    spanish = file.read().split()\n",
    "    \n",
    "with open('../data/spanish_politics.txt') as file:\n",
    "    spanish_politics = file.read().split()"
   ]
  },
  {
   "cell_type": "code",
   "execution_count": 2,
   "id": "87d93733-edef-4bd1-8dff-682c95a63846",
   "metadata": {
    "tags": []
   },
   "outputs": [
    {
     "data": {
      "text/plain": [
       "['0',\n",
       " '1',\n",
       " '2',\n",
       " '3',\n",
       " '4',\n",
       " '5',\n",
       " '6',\n",
       " '7',\n",
       " '8',\n",
       " '9',\n",
       " '_',\n",
       " 'a',\n",
       " 'actualmente',\n",
       " 'acuerdo',\n",
       " 'adelante',\n",
       " 'ademas',\n",
       " 'además',\n",
       " 'adrede',\n",
       " 'afirmó',\n",
       " 'agregó']"
      ]
     },
     "execution_count": 2,
     "metadata": {},
     "output_type": "execute_result"
    }
   ],
   "source": [
    "spanish[:20]"
   ]
  },
  {
   "cell_type": "code",
   "execution_count": 3,
   "id": "6b2d3e18-8841-4bfe-9882-6463615464d6",
   "metadata": {},
   "outputs": [
    {
     "data": {
      "text/plain": [
       "['pt',\n",
       " 'trabajo',\n",
       " 'pv',\n",
       " 'verde',\n",
       " 'ecologista',\n",
       " 'sen',\n",
       " 'dip',\n",
       " 'karencastrejont',\n",
       " 'mc',\n",
       " 'movimiento',\n",
       " 'ciudadano',\n",
       " 'elfuturoesnaranja',\n",
       " 'bancadanaranja',\n",
       " 'pablo_vah',\n",
       " 'clementech',\n",
       " 'mrn',\n",
       " 'lopezobrador_',\n",
       " 'conferenciapresidente',\n",
       " '22',\n",
       " 'amlo']"
      ]
     },
     "execution_count": 3,
     "metadata": {},
     "output_type": "execute_result"
    }
   ],
   "source": [
    "spanish_politics[-20:]"
   ]
  },
  {
   "cell_type": "markdown",
   "id": "b5f8b9bd-f284-43eb-904d-e464752750aa",
   "metadata": {
    "jp-MarkdownHeadingCollapsed": true,
    "tags": []
   },
   "source": [
    "## Data Cleaning"
   ]
  },
  {
   "cell_type": "code",
   "execution_count": 4,
   "id": "5ea0c274-4610-4ee9-adab-a66dfdd34b30",
   "metadata": {},
   "outputs": [],
   "source": [
    "# Created a DataFrame from the .csv file I saved with Partido Acción Nacional's pulled tweets.\n",
    "pan_df = pd.read_csv('../data/pan.csv')"
   ]
  },
  {
   "cell_type": "code",
   "execution_count": 5,
   "id": "f17333d2-3c62-467f-a63f-44dc6c9882e1",
   "metadata": {},
   "outputs": [],
   "source": [
    "# Created a DataFrame from the .csv file I saved with Partido Revolucionario Institucional's pulled tweets.\n",
    "pri_df = pd.read_csv('../data/pri.csv')"
   ]
  },
  {
   "cell_type": "code",
   "execution_count": 6,
   "id": "338c6cd9-ed36-4a1f-9c38-977ed81bf60a",
   "metadata": {},
   "outputs": [],
   "source": [
    "# Created a DataFrame from the .csv file I saved with Partido de la Revolución Democrática's pulled tweets.\n",
    "prd_df = pd.read_csv('../data/prd.csv')"
   ]
  },
  {
   "cell_type": "code",
   "execution_count": 7,
   "id": "228943db-8571-40d4-99ae-94eaea0f513b",
   "metadata": {},
   "outputs": [],
   "source": [
    "# Created a DataFrame from the .csv file I saved with Partido Verde Ecologista de México's pulled tweets.\n",
    "pv_df = pd.read_csv('../data/pv.csv')"
   ]
  },
  {
   "cell_type": "code",
   "execution_count": 8,
   "id": "a7598f30-05c1-4fc2-8228-47a7056aadde",
   "metadata": {},
   "outputs": [],
   "source": [
    "# Created a DataFrame from the .csv file I saved with Movimiento Ciudadano's pulled tweets.\n",
    "mc_df = pd.read_csv('../data/mc.csv')"
   ]
  },
  {
   "cell_type": "code",
   "execution_count": 9,
   "id": "603d9542-84d8-49ed-a585-84f6300ec895",
   "metadata": {},
   "outputs": [],
   "source": [
    "# Created a DataFrame from the .csv file I saved with Morena's pulled tweets.\n",
    "mrn_df = pd.read_csv('../data/mrn.csv')"
   ]
  },
  {
   "cell_type": "code",
   "execution_count": 10,
   "id": "4241ee70-3fc3-409f-b5cb-ee839e2e81ec",
   "metadata": {},
   "outputs": [],
   "source": [
    "mx_tweets = pd.concat([pan_df, pri_df, prd_df, pv_df, mc_df, mrn_df])"
   ]
  },
  {
   "cell_type": "code",
   "execution_count": 11,
   "id": "31343b16-9e71-4242-9015-d3fdf8489e95",
   "metadata": {},
   "outputs": [
    {
     "data": {
      "text/plain": [
       "(19169, 3)"
      ]
     },
     "execution_count": 11,
     "metadata": {},
     "output_type": "execute_result"
    }
   ],
   "source": [
    "mx_tweets.shape"
   ]
  },
  {
   "cell_type": "code",
   "execution_count": 12,
   "id": "ff854ece-671e-4f95-94ea-9f77bc605e62",
   "metadata": {},
   "outputs": [],
   "source": [
    "mx_tweets.reset_index(inplace = True, drop = True)"
   ]
  },
  {
   "cell_type": "code",
   "execution_count": 13,
   "id": "2beaa90f-258f-4fdd-b23b-0ea8b72dba2d",
   "metadata": {},
   "outputs": [
    {
     "data": {
      "text/plain": [
       "(19169, 3)"
      ]
     },
     "execution_count": 13,
     "metadata": {},
     "output_type": "execute_result"
    }
   ],
   "source": [
    "mx_tweets.shape"
   ]
  },
  {
   "cell_type": "code",
   "execution_count": 14,
   "id": "89074220-827f-4ae4-8264-3814f430fab2",
   "metadata": {},
   "outputs": [
    {
     "data": {
      "text/html": [
       "<div>\n",
       "<style scoped>\n",
       "    .dataframe tbody tr th:only-of-type {\n",
       "        vertical-align: middle;\n",
       "    }\n",
       "\n",
       "    .dataframe tbody tr th {\n",
       "        vertical-align: top;\n",
       "    }\n",
       "\n",
       "    .dataframe thead th {\n",
       "        text-align: right;\n",
       "    }\n",
       "</style>\n",
       "<table border=\"1\" class=\"dataframe\">\n",
       "  <thead>\n",
       "    <tr style=\"text-align: right;\">\n",
       "      <th></th>\n",
       "      <th>time</th>\n",
       "      <th>user</th>\n",
       "      <th>tweet</th>\n",
       "    </tr>\n",
       "  </thead>\n",
       "  <tbody>\n",
       "    <tr>\n",
       "      <th>0</th>\n",
       "      <td>2022-06-06 22:52:00+00:00</td>\n",
       "      <td>AccionNacional</td>\n",
       "      <td>¡Lo hicimos, Durango! El municipio sigue pintándose de azul y @josejoseantonio trabajará incansablemente por un gobierno cercano a la gente, que continúe dando resultados y mejore la calidad de vida de las familias👏🏼 https://t.co/XEYD1XdXQr</td>\n",
       "    </tr>\n",
       "    <tr>\n",
       "      <th>1</th>\n",
       "      <td>2022-06-06 17:01:25+00:00</td>\n",
       "      <td>AccionNacional</td>\n",
       "      <td>¡Ganamos Durango con @EVillegasV!\\n\\nGracias a las y los duranguenses por su confianza, trabajaremos juntos para que continúen los buenos resultados y el crecimiento en el estado.\\n\\n#EstebanGobernador https://t.co/j5HikIlkMv</td>\n",
       "    </tr>\n",
       "    <tr>\n",
       "      <th>2</th>\n",
       "      <td>2022-06-06 15:01:41+00:00</td>\n",
       "      <td>AccionNacional</td>\n",
       "      <td>¡Muchas felicidades @TereJimenezE por tu triunfo contundente! Eres un orgullo para todo el panismo y estamos seguros te convertirás en la mejor gobernadora de Aguascalientes.\\n\\n#TereGobernadora https://t.co/5kuBaOMfWE</td>\n",
       "    </tr>\n",
       "    <tr>\n",
       "      <th>3</th>\n",
       "      <td>2022-06-06 14:06:27+00:00</td>\n",
       "      <td>AccionNacional</td>\n",
       "      <td>RT @TereJimenezE: ¡Hoy ganaron las propuestas y la unidad! ¡Hoy ganó Aguascalientes!\\n\\n¡GRACIAS! https://t.co/NzYv7dsqYb</td>\n",
       "    </tr>\n",
       "    <tr>\n",
       "      <th>4</th>\n",
       "      <td>2022-06-06 14:06:15+00:00</td>\n",
       "      <td>AccionNacional</td>\n",
       "      <td>RT @EVillegasV: ¡Durango ganó con valor! Simplemente, ¡gracias a las y los duranguenses que me han otorgado su confianza! Hoy comienza el g…</td>\n",
       "    </tr>\n",
       "  </tbody>\n",
       "</table>\n",
       "</div>"
      ],
      "text/plain": [
       "                        time            user  \\\n",
       "0  2022-06-06 22:52:00+00:00  AccionNacional   \n",
       "1  2022-06-06 17:01:25+00:00  AccionNacional   \n",
       "2  2022-06-06 15:01:41+00:00  AccionNacional   \n",
       "3  2022-06-06 14:06:27+00:00  AccionNacional   \n",
       "4  2022-06-06 14:06:15+00:00  AccionNacional   \n",
       "\n",
       "                                                                                                                                                                                                                                              tweet  \n",
       "0  ¡Lo hicimos, Durango! El municipio sigue pintándose de azul y @josejoseantonio trabajará incansablemente por un gobierno cercano a la gente, que continúe dando resultados y mejore la calidad de vida de las familias👏🏼 https://t.co/XEYD1XdXQr  \n",
       "1                 ¡Ganamos Durango con @EVillegasV!\\n\\nGracias a las y los duranguenses por su confianza, trabajaremos juntos para que continúen los buenos resultados y el crecimiento en el estado.\\n\\n#EstebanGobernador https://t.co/j5HikIlkMv  \n",
       "2                        ¡Muchas felicidades @TereJimenezE por tu triunfo contundente! Eres un orgullo para todo el panismo y estamos seguros te convertirás en la mejor gobernadora de Aguascalientes.\\n\\n#TereGobernadora https://t.co/5kuBaOMfWE  \n",
       "3                                                                                                                         RT @TereJimenezE: ¡Hoy ganaron las propuestas y la unidad! ¡Hoy ganó Aguascalientes!\\n\\n¡GRACIAS! https://t.co/NzYv7dsqYb  \n",
       "4                                                                                                      RT @EVillegasV: ¡Durango ganó con valor! Simplemente, ¡gracias a las y los duranguenses que me han otorgado su confianza! Hoy comienza el g…  "
      ]
     },
     "execution_count": 14,
     "metadata": {},
     "output_type": "execute_result"
    }
   ],
   "source": [
    "mx_tweets.head()"
   ]
  },
  {
   "cell_type": "code",
   "execution_count": 15,
   "id": "76fd76e9-879c-493f-82dd-9f3ed3ee7511",
   "metadata": {},
   "outputs": [],
   "source": [
    "# Created new DataFrame named mx_political that contained only the feature column and the label.\n",
    "mx_political = mx_tweets[['user', 'tweet']]"
   ]
  },
  {
   "cell_type": "code",
   "execution_count": 16,
   "id": "8796a4b7-26c7-4af8-96c1-7de95cb07f81",
   "metadata": {},
   "outputs": [
    {
     "data": {
      "text/plain": [
       "pandas.core.frame.DataFrame"
      ]
     },
     "execution_count": 16,
     "metadata": {},
     "output_type": "execute_result"
    }
   ],
   "source": [
    "type(mx_political)"
   ]
  },
  {
   "cell_type": "code",
   "execution_count": 17,
   "id": "d6250395-c0d3-4b4b-bac4-af397751db97",
   "metadata": {},
   "outputs": [
    {
     "data": {
      "text/plain": [
       "user     0\n",
       "tweet    0\n",
       "dtype: int64"
      ]
     },
     "execution_count": 17,
     "metadata": {},
     "output_type": "execute_result"
    }
   ],
   "source": [
    "mx_political.isna().sum()"
   ]
  },
  {
   "cell_type": "code",
   "execution_count": 18,
   "id": "e32a3286-27ad-4292-acb9-98f78d210dfe",
   "metadata": {},
   "outputs": [],
   "source": [
    "# Proceeded to save this new DataFrame (with only the feature and target columns) as a .csv file.\n",
    "mx_political.to_csv('../data/mx_political.csv', index=False)"
   ]
  },
  {
   "cell_type": "markdown",
   "id": "82496bf5-1786-49dd-9387-41e54dcb48e6",
   "metadata": {
    "jp-MarkdownHeadingCollapsed": true,
    "tags": []
   },
   "source": [
    "## Exploratory Data Analysis"
   ]
  },
  {
   "cell_type": "code",
   "execution_count": 19,
   "id": "542df0b4-399f-4f76-b700-b1bf0a73376a",
   "metadata": {},
   "outputs": [],
   "source": [
    "#In order to perform Exploratory Data Analysis without altering the \"mx_political\" DataFrame, I created a copy of it and named it \"mx_political_eda\"\n",
    "mx_political_eda = mx_political.copy()"
   ]
  },
  {
   "cell_type": "code",
   "execution_count": 20,
   "id": "cf167a49-f6c9-4ef2-b210-0635865f89d7",
   "metadata": {},
   "outputs": [
    {
     "data": {
      "text/plain": [
       "partidoverdemex    0.166936\n",
       "PRI_Nacional       0.166884\n",
       "AccionNacional     0.166832\n",
       "PartidoMorenaMx    0.166780\n",
       "PRDMexico          0.166519\n",
       "MovCiudadanoMX     0.166049\n",
       "Name: user, dtype: float64"
      ]
     },
     "execution_count": 20,
     "metadata": {},
     "output_type": "execute_result"
    }
   ],
   "source": [
    "mx_political_eda['user'].value_counts(normalize=True)"
   ]
  },
  {
   "cell_type": "code",
   "execution_count": 21,
   "id": "323c5aeb-9522-4be6-a853-b87330c104c9",
   "metadata": {},
   "outputs": [
    {
     "name": "stdout",
     "output_type": "stream",
     "text": [
      "<class 'pandas.core.frame.DataFrame'>\n",
      "RangeIndex: 19169 entries, 0 to 19168\n",
      "Data columns (total 2 columns):\n",
      " #   Column  Non-Null Count  Dtype \n",
      "---  ------  --------------  ----- \n",
      " 0   user    19169 non-null  object\n",
      " 1   tweet   19169 non-null  object\n",
      "dtypes: object(2)\n",
      "memory usage: 299.6+ KB\n"
     ]
    }
   ],
   "source": [
    "mx_political_eda.info()"
   ]
  },
  {
   "cell_type": "code",
   "execution_count": 22,
   "id": "31afe6da-3189-4ddf-ab02-3fe0e5417a7d",
   "metadata": {},
   "outputs": [
    {
     "data": {
      "text/html": [
       "<div>\n",
       "<style scoped>\n",
       "    .dataframe tbody tr th:only-of-type {\n",
       "        vertical-align: middle;\n",
       "    }\n",
       "\n",
       "    .dataframe tbody tr th {\n",
       "        vertical-align: top;\n",
       "    }\n",
       "\n",
       "    .dataframe thead th {\n",
       "        text-align: right;\n",
       "    }\n",
       "</style>\n",
       "<table border=\"1\" class=\"dataframe\">\n",
       "  <thead>\n",
       "    <tr style=\"text-align: right;\">\n",
       "      <th></th>\n",
       "      <th>user</th>\n",
       "      <th>tweet</th>\n",
       "    </tr>\n",
       "  </thead>\n",
       "  <tbody>\n",
       "    <tr>\n",
       "      <th>0</th>\n",
       "      <td>AccionNacional</td>\n",
       "      <td>¡Lo hicimos, Durango! El municipio sigue pintándose de azul y @josejoseantonio trabajará incansablemente por un gobierno cercano a la gente, que continúe dando resultados y mejore la calidad de vida de las familias👏🏼 https://t.co/XEYD1XdXQr</td>\n",
       "    </tr>\n",
       "    <tr>\n",
       "      <th>1</th>\n",
       "      <td>AccionNacional</td>\n",
       "      <td>¡Ganamos Durango con @EVillegasV!\\n\\nGracias a las y los duranguenses por su confianza, trabajaremos juntos para que continúen los buenos resultados y el crecimiento en el estado.\\n\\n#EstebanGobernador https://t.co/j5HikIlkMv</td>\n",
       "    </tr>\n",
       "    <tr>\n",
       "      <th>2</th>\n",
       "      <td>AccionNacional</td>\n",
       "      <td>¡Muchas felicidades @TereJimenezE por tu triunfo contundente! Eres un orgullo para todo el panismo y estamos seguros te convertirás en la mejor gobernadora de Aguascalientes.\\n\\n#TereGobernadora https://t.co/5kuBaOMfWE</td>\n",
       "    </tr>\n",
       "    <tr>\n",
       "      <th>3</th>\n",
       "      <td>AccionNacional</td>\n",
       "      <td>RT @TereJimenezE: ¡Hoy ganaron las propuestas y la unidad! ¡Hoy ganó Aguascalientes!\\n\\n¡GRACIAS! https://t.co/NzYv7dsqYb</td>\n",
       "    </tr>\n",
       "    <tr>\n",
       "      <th>4</th>\n",
       "      <td>AccionNacional</td>\n",
       "      <td>RT @EVillegasV: ¡Durango ganó con valor! Simplemente, ¡gracias a las y los duranguenses que me han otorgado su confianza! Hoy comienza el g…</td>\n",
       "    </tr>\n",
       "    <tr>\n",
       "      <th>5</th>\n",
       "      <td>AccionNacional</td>\n",
       "      <td>RT @josejoseantonio: Con la reserva de los resultados oficiales, todas las encuestas de salida nos marcan como ganadores de la contienda. ¡…</td>\n",
       "    </tr>\n",
       "    <tr>\n",
       "      <th>6</th>\n",
       "      <td>AccionNacional</td>\n",
       "      <td>Lamentamos profundamente el fallecimiento de nuestra diputada federal Alma Rosa Hernández Escobar. Nuestro más sentido pésame y un fuerte abrazo a sus seres queridos.\\n\\nDescanse en paz. https://t.co/PbfrM8fEJd</td>\n",
       "    </tr>\n",
       "    <tr>\n",
       "      <th>7</th>\n",
       "      <td>AccionNacional</td>\n",
       "      <td>¡Ganamos contundentemente Aguascalientes y Durango, y vamos arriba en Tamaulipas!\\n\\nHoy queda claro que vamos en el camino correcto, seguimos avanzando y #SíHayTiro2024. https://t.co/lgDGvyVZ93</td>\n",
       "    </tr>\n",
       "    <tr>\n",
       "      <th>8</th>\n",
       "      <td>AccionNacional</td>\n",
       "      <td>RT @JorgeRoHe: Hoy las y los ciudadanos dieron su confianza a los buenos gobiernos de @AccionNacional\\n\\n¡Vencimos el intento fallido de elec…</td>\n",
       "    </tr>\n",
       "    <tr>\n",
       "      <th>9</th>\n",
       "      <td>AccionNacional</td>\n",
       "      <td>RT @MarkoCortes: Hoy quedó claro que a pesar de toda la ilegalidad y autoritarismo del Gobierno federal y Morena, avanzamos para en el 2024…</td>\n",
       "    </tr>\n",
       "  </tbody>\n",
       "</table>\n",
       "</div>"
      ],
      "text/plain": [
       "             user  \\\n",
       "0  AccionNacional   \n",
       "1  AccionNacional   \n",
       "2  AccionNacional   \n",
       "3  AccionNacional   \n",
       "4  AccionNacional   \n",
       "5  AccionNacional   \n",
       "6  AccionNacional   \n",
       "7  AccionNacional   \n",
       "8  AccionNacional   \n",
       "9  AccionNacional   \n",
       "\n",
       "                                                                                                                                                                                                                                              tweet  \n",
       "0  ¡Lo hicimos, Durango! El municipio sigue pintándose de azul y @josejoseantonio trabajará incansablemente por un gobierno cercano a la gente, que continúe dando resultados y mejore la calidad de vida de las familias👏🏼 https://t.co/XEYD1XdXQr  \n",
       "1                 ¡Ganamos Durango con @EVillegasV!\\n\\nGracias a las y los duranguenses por su confianza, trabajaremos juntos para que continúen los buenos resultados y el crecimiento en el estado.\\n\\n#EstebanGobernador https://t.co/j5HikIlkMv  \n",
       "2                        ¡Muchas felicidades @TereJimenezE por tu triunfo contundente! Eres un orgullo para todo el panismo y estamos seguros te convertirás en la mejor gobernadora de Aguascalientes.\\n\\n#TereGobernadora https://t.co/5kuBaOMfWE  \n",
       "3                                                                                                                         RT @TereJimenezE: ¡Hoy ganaron las propuestas y la unidad! ¡Hoy ganó Aguascalientes!\\n\\n¡GRACIAS! https://t.co/NzYv7dsqYb  \n",
       "4                                                                                                      RT @EVillegasV: ¡Durango ganó con valor! Simplemente, ¡gracias a las y los duranguenses que me han otorgado su confianza! Hoy comienza el g…  \n",
       "5                                                                                                      RT @josejoseantonio: Con la reserva de los resultados oficiales, todas las encuestas de salida nos marcan como ganadores de la contienda. ¡…  \n",
       "6                                Lamentamos profundamente el fallecimiento de nuestra diputada federal Alma Rosa Hernández Escobar. Nuestro más sentido pésame y un fuerte abrazo a sus seres queridos.\\n\\nDescanse en paz. https://t.co/PbfrM8fEJd  \n",
       "7                                                ¡Ganamos contundentemente Aguascalientes y Durango, y vamos arriba en Tamaulipas!\\n\\nHoy queda claro que vamos en el camino correcto, seguimos avanzando y #SíHayTiro2024. https://t.co/lgDGvyVZ93  \n",
       "8                                                                                                    RT @JorgeRoHe: Hoy las y los ciudadanos dieron su confianza a los buenos gobiernos de @AccionNacional\\n\\n¡Vencimos el intento fallido de elec…  \n",
       "9                                                                                                      RT @MarkoCortes: Hoy quedó claro que a pesar de toda la ilegalidad y autoritarismo del Gobierno federal y Morena, avanzamos para en el 2024…  "
      ]
     },
     "execution_count": 22,
     "metadata": {},
     "output_type": "execute_result"
    }
   ],
   "source": [
    "mx_political_eda.head(10)"
   ]
  },
  {
   "cell_type": "code",
   "execution_count": 23,
   "id": "34c73477-389c-40e8-a6a4-1e71ec7738dd",
   "metadata": {},
   "outputs": [
    {
     "data": {
      "text/html": [
       "<div>\n",
       "<style scoped>\n",
       "    .dataframe tbody tr th:only-of-type {\n",
       "        vertical-align: middle;\n",
       "    }\n",
       "\n",
       "    .dataframe tbody tr th {\n",
       "        vertical-align: top;\n",
       "    }\n",
       "\n",
       "    .dataframe thead th {\n",
       "        text-align: right;\n",
       "    }\n",
       "</style>\n",
       "<table border=\"1\" class=\"dataframe\">\n",
       "  <thead>\n",
       "    <tr style=\"text-align: right;\">\n",
       "      <th></th>\n",
       "      <th>user</th>\n",
       "      <th>tweet</th>\n",
       "    </tr>\n",
       "  </thead>\n",
       "  <tbody>\n",
       "    <tr>\n",
       "      <th>19159</th>\n",
       "      <td>PartidoMorenaMx</td>\n",
       "      <td>Impulsar una cultura de paz y eliminar todo tipo de violencia contras las mujeres es fundamental para construir una sociedad verdaderamente justa. Acompáñanos en las actividades en el marco del #DiaContralaViolenciadeGenero\\n\\nhttps://t.co/pTfHuv28AM</td>\n",
       "    </tr>\n",
       "    <tr>\n",
       "      <th>19160</th>\n",
       "      <td>PartidoMorenaMx</td>\n",
       "      <td>RT @DiputadosMorena: No más indiferencia ante los abusos</td>\n",
       "    </tr>\n",
       "    <tr>\n",
       "      <th>19161</th>\n",
       "      <td>PartidoMorenaMx</td>\n",
       "      <td>RT @DiputadosMorena: Vivas nos queremos #DiaContralaViolenciadeGenero</td>\n",
       "    </tr>\n",
       "    <tr>\n",
       "      <th>19162</th>\n",
       "      <td>PartidoMorenaMx</td>\n",
       "      <td>RT @DiputadosMorena: Ni una menos #NiUnaMenos</td>\n",
       "    </tr>\n",
       "    <tr>\n",
       "      <th>19163</th>\n",
       "      <td>PartidoMorenaMx</td>\n",
       "      <td>RT @DiputadosMorena: Exigimos respeto #DiaContralaViolenciadeGenero</td>\n",
       "    </tr>\n",
       "    <tr>\n",
       "      <th>19164</th>\n",
       "      <td>PartidoMorenaMx</td>\n",
       "      <td>RT @DiputadosMorena: Abajo el patriarcado #NiUnaMas</td>\n",
       "    </tr>\n",
       "    <tr>\n",
       "      <th>19165</th>\n",
       "      <td>PartidoMorenaMx</td>\n",
       "      <td>RT @DiputadosMorena: Hartas de violencias machistas #NiUnaMenos</td>\n",
       "    </tr>\n",
       "    <tr>\n",
       "      <th>19166</th>\n",
       "      <td>PartidoMorenaMx</td>\n",
       "      <td>RT @DiputadosMorena: Vivas, libres y en lucha #DiaContralaViolenciadeGenero</td>\n",
       "    </tr>\n",
       "    <tr>\n",
       "      <th>19167</th>\n",
       "      <td>PartidoMorenaMx</td>\n",
       "      <td>RT @DiputadosMorena: No nos sentimos seguras, no nos sentimos a salvo #NiUnaMenos #25Nov</td>\n",
       "    </tr>\n",
       "    <tr>\n",
       "      <th>19168</th>\n",
       "      <td>PartidoMorenaMx</td>\n",
       "      <td>RT @DiputadosMorena: Luchamos hoy para no morir mañana #DiaContralaViolenciadeGenero</td>\n",
       "    </tr>\n",
       "  </tbody>\n",
       "</table>\n",
       "</div>"
      ],
      "text/plain": [
       "                  user  \\\n",
       "19159  PartidoMorenaMx   \n",
       "19160  PartidoMorenaMx   \n",
       "19161  PartidoMorenaMx   \n",
       "19162  PartidoMorenaMx   \n",
       "19163  PartidoMorenaMx   \n",
       "19164  PartidoMorenaMx   \n",
       "19165  PartidoMorenaMx   \n",
       "19166  PartidoMorenaMx   \n",
       "19167  PartidoMorenaMx   \n",
       "19168  PartidoMorenaMx   \n",
       "\n",
       "                                                                                                                                                                                                                                                            tweet  \n",
       "19159  Impulsar una cultura de paz y eliminar todo tipo de violencia contras las mujeres es fundamental para construir una sociedad verdaderamente justa. Acompáñanos en las actividades en el marco del #DiaContralaViolenciadeGenero\\n\\nhttps://t.co/pTfHuv28AM  \n",
       "19160                                                                                                                                                                                                    RT @DiputadosMorena: No más indiferencia ante los abusos  \n",
       "19161                                                                                                                                                                                       RT @DiputadosMorena: Vivas nos queremos #DiaContralaViolenciadeGenero  \n",
       "19162                                                                                                                                                                                                               RT @DiputadosMorena: Ni una menos #NiUnaMenos  \n",
       "19163                                                                                                                                                                                         RT @DiputadosMorena: Exigimos respeto #DiaContralaViolenciadeGenero  \n",
       "19164                                                                                                                                                                                                         RT @DiputadosMorena: Abajo el patriarcado #NiUnaMas  \n",
       "19165                                                                                                                                                                                             RT @DiputadosMorena: Hartas de violencias machistas #NiUnaMenos  \n",
       "19166                                                                                                                                                                                 RT @DiputadosMorena: Vivas, libres y en lucha #DiaContralaViolenciadeGenero  \n",
       "19167                                                                                                                                                                    RT @DiputadosMorena: No nos sentimos seguras, no nos sentimos a salvo #NiUnaMenos #25Nov  \n",
       "19168                                                                                                                                                                        RT @DiputadosMorena: Luchamos hoy para no morir mañana #DiaContralaViolenciadeGenero  "
      ]
     },
     "execution_count": 23,
     "metadata": {},
     "output_type": "execute_result"
    }
   ],
   "source": [
    "mx_political_eda.tail(10)"
   ]
  },
  {
   "cell_type": "code",
   "execution_count": 24,
   "id": "7a05bee5-8c5e-4911-b246-99684646ac69",
   "metadata": {},
   "outputs": [],
   "source": [
    "# Created a new column named 'tweet_char_length' which contained the character length of each tweet.\n",
    "mx_political_eda['tweet_char_length'] = mx_political_eda['tweet'].apply(len)"
   ]
  },
  {
   "cell_type": "code",
   "execution_count": 25,
   "id": "de4eb490-5a71-4621-a588-f00adcc60d98",
   "metadata": {},
   "outputs": [],
   "source": [
    "# Obtained white space counter function from: https://www.geeksforgeeks.org/python-program-to-count-the-number-of-spaces-in-string/\n",
    "# Created a function named \"check_space\" that counted the number of spaces in each title and added 1 to obtain the total number of words.\n",
    "def check_space(Test_string):\n",
    "    return Test_string.count(\" \") + 1"
   ]
  },
  {
   "cell_type": "code",
   "execution_count": 26,
   "id": "67ba45b2-cda8-4147-b36a-8e3e8fc4bf37",
   "metadata": {},
   "outputs": [],
   "source": [
    "# Created a new column named 'title_word_count' which contained each title's word count.\n",
    "mx_political_eda['tweet_word_count'] = mx_political_eda['tweet'].apply(check_space)"
   ]
  },
  {
   "cell_type": "code",
   "execution_count": 27,
   "id": "9dd973a4-42d0-41e4-9fc6-6abaf54e49ea",
   "metadata": {},
   "outputs": [
    {
     "data": {
      "text/html": [
       "<div>\n",
       "<style scoped>\n",
       "    .dataframe tbody tr th:only-of-type {\n",
       "        vertical-align: middle;\n",
       "    }\n",
       "\n",
       "    .dataframe tbody tr th {\n",
       "        vertical-align: top;\n",
       "    }\n",
       "\n",
       "    .dataframe thead th {\n",
       "        text-align: right;\n",
       "    }\n",
       "</style>\n",
       "<table border=\"1\" class=\"dataframe\">\n",
       "  <thead>\n",
       "    <tr style=\"text-align: right;\">\n",
       "      <th></th>\n",
       "      <th>user</th>\n",
       "      <th>tweet</th>\n",
       "      <th>tweet_char_length</th>\n",
       "      <th>tweet_word_count</th>\n",
       "    </tr>\n",
       "  </thead>\n",
       "  <tbody>\n",
       "    <tr>\n",
       "      <th>13916</th>\n",
       "      <td>MovCiudadanoMX</td>\n",
       "      <td>¡Noticias chidas para las plebes! Es #8M.\\n\\n              💚 💚     💚   💚\\n         💚           💚           💚\\n         💚     Y Sinaloa      💚\\n          💚     lo sabe.      💚\\n               💚                 💚\\n                    💚      💚   \\n                          💚</td>\n",
       "      <td>264</td>\n",
       "      <td>191</td>\n",
       "    </tr>\n",
       "    <tr>\n",
       "      <th>15456</th>\n",
       "      <td>MovCiudadanoMX</td>\n",
       "      <td>RT @BancadaNaranja: En todo México:\\n\\n                🌶 🌽      🥑 🧅\\n            🥒          🫑            🍅\\n             🫒    HAGAMOS    🍠…</td>\n",
       "      <td>135</td>\n",
       "      <td>84</td>\n",
       "    </tr>\n",
       "    <tr>\n",
       "      <th>15743</th>\n",
       "      <td>MovCiudadanoMX</td>\n",
       "      <td>RT @MovCiudadanoCMX: No les pasa que:\\n               🏳️‍🌈 🏳️‍🌈      🏳️‍🌈 🏳️‍🌈\\n            🏳️‍🌈          🏳️‍🌈           🏳️‍🌈\\n           🏳️‍🌈…</td>\n",
       "      <td>140</td>\n",
       "      <td>73</td>\n",
       "    </tr>\n",
       "    <tr>\n",
       "      <th>11206</th>\n",
       "      <td>partidoverdemex</td>\n",
       "      <td>@azcarmx @ernesto_mendez @WWF_LAC @unep_espanol @prensaanimal4 @lajornadaonline @ContraReplicaMX @heraldodemexico @ImagenTVMex @laoctavadigital @Reforma Buen día, igual que a ustedes, nos preocupan muchas cuestiones en torno a esta obra, una de ellas es el uso de diésel. Por ello, ya pedimos a @SCT_mx informe el impacto ambiental que genera su uso, al igual que priorizar fuentes sustentables q...</td>\n",
       "      <td>430</td>\n",
       "      <td>60</td>\n",
       "    </tr>\n",
       "    <tr>\n",
       "      <th>15133</th>\n",
       "      <td>MovCiudadanoMX</td>\n",
       "      <td>.@ClementeCH en #Tragaluz: 😎🖐\\n                                                     🎤\\n\\nhttps://t.co/70kz0mpxpW</td>\n",
       "      <td>109</td>\n",
       "      <td>57</td>\n",
       "    </tr>\n",
       "    <tr>\n",
       "      <th>15936</th>\n",
       "      <td>MovCiudadanoMX</td>\n",
       "      <td>En el tercer informe de gobierno, el presidente olvidó informarnos sobre la falta de servicios de salud que tienen millones de personas y que hoy es un gran problema. 😢\\n\\nUrge un #NuevoTrato por la salud para que el acceso a ella sea un derecho y no un privilegio de unos cuantos. https://t.co/j2yssnO6ga</td>\n",
       "      <td>303</td>\n",
       "      <td>52</td>\n",
       "    </tr>\n",
       "    <tr>\n",
       "      <th>5234</th>\n",
       "      <td>PRI_Nacional</td>\n",
       "      <td>Este 6 de junio, en #SalinaCruz y en #Oaxaca vamos a defender todo lo que hemos logrado, con un objetivo claro, asegurar la tranquilidad de las familias, el futuro de los jóvenes y la seguridad de las mujeres. \\n\\n¡No vamos a descansar ni un solo día por las y los mexicanos! https://t.co/ejcgj9umcW</td>\n",
       "      <td>297</td>\n",
       "      <td>52</td>\n",
       "    </tr>\n",
       "    <tr>\n",
       "      <th>292</th>\n",
       "      <td>AccionNacional</td>\n",
       "      <td>En un encuentro con la Red por los Derechos de la Infancia en México, coincidimos que es fundamental cuidar a la niñez mexicana para que no sea carne de cañón de las mafias, para que tengan un presente y un futuro, donde su arranque sea más parejo y no haya desigualdades. https://t.co/XBUd9IWjaF</td>\n",
       "      <td>296</td>\n",
       "      <td>52</td>\n",
       "    </tr>\n",
       "    <tr>\n",
       "      <th>15670</th>\n",
       "      <td>MovCiudadanoMX</td>\n",
       "      <td>@ZERIM78 Gracias por el voto de confianza, RAM; sin duda tenemos mucho por hacer en este Movimiento y lo haremos de la mano de las y los ciudadanos. El defender las causas ciudadanas, es la prioridad desde todos los espacios en los que nos encontramos. No les vamos a fallar. 🙌 😉</td>\n",
       "      <td>279</td>\n",
       "      <td>52</td>\n",
       "    </tr>\n",
       "    <tr>\n",
       "      <th>5750</th>\n",
       "      <td>PRI_Nacional</td>\n",
       "      <td>Una de las tareas más importantes de los diputados es la de atender las necesidades de la gente, pero la mayoría de Morena en el Congreso sigue sin hacer nada para apoyar a los mexicanos frente a la crisis. Este 6 de junio vota por los que sí saben, ¡#VotaPRI! https://t.co/14OOwNJnom</td>\n",
       "      <td>284</td>\n",
       "      <td>51</td>\n",
       "    </tr>\n",
       "  </tbody>\n",
       "</table>\n",
       "</div>"
      ],
      "text/plain": [
       "                  user  \\\n",
       "13916   MovCiudadanoMX   \n",
       "15456   MovCiudadanoMX   \n",
       "15743   MovCiudadanoMX   \n",
       "11206  partidoverdemex   \n",
       "15133   MovCiudadanoMX   \n",
       "15936   MovCiudadanoMX   \n",
       "5234      PRI_Nacional   \n",
       "292     AccionNacional   \n",
       "15670   MovCiudadanoMX   \n",
       "5750      PRI_Nacional   \n",
       "\n",
       "                                                                                                                                                                                                                                                                                                                                                                                                                 tweet  \\\n",
       "13916                                                                                                                                 ¡Noticias chidas para las plebes! Es #8M.\\n\\n              💚 💚     💚   💚\\n         💚           💚           💚\\n         💚     Y Sinaloa      💚\\n          💚     lo sabe.      💚\\n               💚                 💚\\n                    💚      💚   \\n                          💚   \n",
       "15456                                                                                                                                                                                                                                                                      RT @BancadaNaranja: En todo México:\\n\\n                🌶 🌽      🥑 🧅\\n            🥒          🫑            🍅\\n             🫒    HAGAMOS    🍠…   \n",
       "15743                                                                                                                                                                                                                                                                  RT @MovCiudadanoCMX: No les pasa que:\\n               🏳️‍🌈 🏳️‍🌈      🏳️‍🌈 🏳️‍🌈\\n            🏳️‍🌈          🏳️‍🌈           🏳️‍🌈\\n           🏳️‍🌈…   \n",
       "11206  @azcarmx @ernesto_mendez @WWF_LAC @unep_espanol @prensaanimal4 @lajornadaonline @ContraReplicaMX @heraldodemexico @ImagenTVMex @laoctavadigital @Reforma Buen día, igual que a ustedes, nos preocupan muchas cuestiones en torno a esta obra, una de ellas es el uso de diésel. Por ello, ya pedimos a @SCT_mx informe el impacto ambiental que genera su uso, al igual que priorizar fuentes sustentables q...   \n",
       "15133                                                                                                                                                                                                                                                                                                 .@ClementeCH en #Tragaluz: 😎🖐\\n                                                     🎤\\n\\nhttps://t.co/70kz0mpxpW   \n",
       "15936                                                                                                En el tercer informe de gobierno, el presidente olvidó informarnos sobre la falta de servicios de salud que tienen millones de personas y que hoy es un gran problema. 😢\\n\\nUrge un #NuevoTrato por la salud para que el acceso a ella sea un derecho y no un privilegio de unos cuantos. https://t.co/j2yssnO6ga   \n",
       "5234                                                                                                       Este 6 de junio, en #SalinaCruz y en #Oaxaca vamos a defender todo lo que hemos logrado, con un objetivo claro, asegurar la tranquilidad de las familias, el futuro de los jóvenes y la seguridad de las mujeres. \\n\\n¡No vamos a descansar ni un solo día por las y los mexicanos! https://t.co/ejcgj9umcW   \n",
       "292                                                                                                           En un encuentro con la Red por los Derechos de la Infancia en México, coincidimos que es fundamental cuidar a la niñez mexicana para que no sea carne de cañón de las mafias, para que tengan un presente y un futuro, donde su arranque sea más parejo y no haya desigualdades. https://t.co/XBUd9IWjaF   \n",
       "15670                                                                                                                          @ZERIM78 Gracias por el voto de confianza, RAM; sin duda tenemos mucho por hacer en este Movimiento y lo haremos de la mano de las y los ciudadanos. El defender las causas ciudadanas, es la prioridad desde todos los espacios en los que nos encontramos. No les vamos a fallar. 🙌 😉   \n",
       "5750                                                                                                                      Una de las tareas más importantes de los diputados es la de atender las necesidades de la gente, pero la mayoría de Morena en el Congreso sigue sin hacer nada para apoyar a los mexicanos frente a la crisis. Este 6 de junio vota por los que sí saben, ¡#VotaPRI! https://t.co/14OOwNJnom   \n",
       "\n",
       "       tweet_char_length  tweet_word_count  \n",
       "13916                264               191  \n",
       "15456                135                84  \n",
       "15743                140                73  \n",
       "11206                430                60  \n",
       "15133                109                57  \n",
       "15936                303                52  \n",
       "5234                 297                52  \n",
       "292                  296                52  \n",
       "15670                279                52  \n",
       "5750                 284                51  "
      ]
     },
     "execution_count": 27,
     "metadata": {},
     "output_type": "execute_result"
    }
   ],
   "source": [
    "mx_political_eda.sort_values(by = 'tweet_word_count', ascending=False).head(10)"
   ]
  },
  {
   "cell_type": "code",
   "execution_count": 28,
   "id": "b71829bb-f67c-410c-bfa0-88645e71d4e5",
   "metadata": {},
   "outputs": [
    {
     "data": {
      "text/html": [
       "<div>\n",
       "<style scoped>\n",
       "    .dataframe tbody tr th:only-of-type {\n",
       "        vertical-align: middle;\n",
       "    }\n",
       "\n",
       "    .dataframe tbody tr th {\n",
       "        vertical-align: top;\n",
       "    }\n",
       "\n",
       "    .dataframe thead th {\n",
       "        text-align: right;\n",
       "    }\n",
       "</style>\n",
       "<table border=\"1\" class=\"dataframe\">\n",
       "  <thead>\n",
       "    <tr style=\"text-align: right;\">\n",
       "      <th></th>\n",
       "      <th>user</th>\n",
       "      <th>tweet</th>\n",
       "      <th>tweet_char_length</th>\n",
       "      <th>tweet_word_count</th>\n",
       "    </tr>\n",
       "  </thead>\n",
       "  <tbody>\n",
       "    <tr>\n",
       "      <th>18059</th>\n",
       "      <td>PartidoMorenaMx</td>\n",
       "      <td>https://t.co/jr3x4eOrmX</td>\n",
       "      <td>23</td>\n",
       "      <td>1</td>\n",
       "    </tr>\n",
       "    <tr>\n",
       "      <th>16339</th>\n",
       "      <td>PartidoMorenaMx</td>\n",
       "      <td>https://t.co/WH9mcws1dx</td>\n",
       "      <td>23</td>\n",
       "      <td>1</td>\n",
       "    </tr>\n",
       "    <tr>\n",
       "      <th>15416</th>\n",
       "      <td>MovCiudadanoMX</td>\n",
       "      <td>🤦‍♀️\\nhttps://t.co/DvRqk7HvOY</td>\n",
       "      <td>28</td>\n",
       "      <td>1</td>\n",
       "    </tr>\n",
       "    <tr>\n",
       "      <th>10093</th>\n",
       "      <td>partidoverdemex</td>\n",
       "      <td>https://t.co/QbU8uXaePr</td>\n",
       "      <td>23</td>\n",
       "      <td>1</td>\n",
       "    </tr>\n",
       "    <tr>\n",
       "      <th>16340</th>\n",
       "      <td>PartidoMorenaMx</td>\n",
       "      <td>https://t.co/ED6IWot6qL</td>\n",
       "      <td>23</td>\n",
       "      <td>1</td>\n",
       "    </tr>\n",
       "    <tr>\n",
       "      <th>6845</th>\n",
       "      <td>PRDMexico</td>\n",
       "      <td>*#SalvemosalIECM</td>\n",
       "      <td>16</td>\n",
       "      <td>1</td>\n",
       "    </tr>\n",
       "    <tr>\n",
       "      <th>17408</th>\n",
       "      <td>PartidoMorenaMx</td>\n",
       "      <td>https://t.co/Q9PaHYXigB</td>\n",
       "      <td>23</td>\n",
       "      <td>1</td>\n",
       "    </tr>\n",
       "    <tr>\n",
       "      <th>15177</th>\n",
       "      <td>MovCiudadanoMX</td>\n",
       "      <td>🤩👇\\nhttps://t.co/iyo6EzYE0h</td>\n",
       "      <td>26</td>\n",
       "      <td>1</td>\n",
       "    </tr>\n",
       "    <tr>\n",
       "      <th>18044</th>\n",
       "      <td>PartidoMorenaMx</td>\n",
       "      <td>https://t.co/cKxXhga7mY</td>\n",
       "      <td>23</td>\n",
       "      <td>1</td>\n",
       "    </tr>\n",
       "    <tr>\n",
       "      <th>9930</th>\n",
       "      <td>partidoverdemex</td>\n",
       "      <td>@sdpnoticias\\n@Siete24mx\\n@ReporteIndigo\\n@Excelsior\\n@LaCronicaDeHoy\\n@lajornadaonline\\n@laprensaoem\\n@Milenio\\n@Reforma\\n@SinEmbargoMX\\n@Formato21GRC\\n@Radio_Formula\\n@MVSNoticias\\n@Imagen_Mx\\n@EfektoTv\\n@NTelevisa_com\\n@AztecaNoticias\\n@ImagenTVMex\\n@mileniotv\\n@Pajaropolitico\\n@EjeCentral</td>\n",
       "      <td>273</td>\n",
       "      <td>1</td>\n",
       "    </tr>\n",
       "  </tbody>\n",
       "</table>\n",
       "</div>"
      ],
      "text/plain": [
       "                  user  \\\n",
       "18059  PartidoMorenaMx   \n",
       "16339  PartidoMorenaMx   \n",
       "15416   MovCiudadanoMX   \n",
       "10093  partidoverdemex   \n",
       "16340  PartidoMorenaMx   \n",
       "6845         PRDMexico   \n",
       "17408  PartidoMorenaMx   \n",
       "15177   MovCiudadanoMX   \n",
       "18044  PartidoMorenaMx   \n",
       "9930   partidoverdemex   \n",
       "\n",
       "                                                                                                                                                                                                                                                                                                       tweet  \\\n",
       "18059                                                                                                                                                                                                                                                                                https://t.co/jr3x4eOrmX   \n",
       "16339                                                                                                                                                                                                                                                                                https://t.co/WH9mcws1dx   \n",
       "15416                                                                                                                                                                                                                                                                          🤦‍♀️\\nhttps://t.co/DvRqk7HvOY   \n",
       "10093                                                                                                                                                                                                                                                                                https://t.co/QbU8uXaePr   \n",
       "16340                                                                                                                                                                                                                                                                                https://t.co/ED6IWot6qL   \n",
       "6845                                                                                                                                                                                                                                                                                        *#SalvemosalIECM   \n",
       "17408                                                                                                                                                                                                                                                                                https://t.co/Q9PaHYXigB   \n",
       "15177                                                                                                                                                                                                                                                                            🤩👇\\nhttps://t.co/iyo6EzYE0h   \n",
       "18044                                                                                                                                                                                                                                                                                https://t.co/cKxXhga7mY   \n",
       "9930   @sdpnoticias\\n@Siete24mx\\n@ReporteIndigo\\n@Excelsior\\n@LaCronicaDeHoy\\n@lajornadaonline\\n@laprensaoem\\n@Milenio\\n@Reforma\\n@SinEmbargoMX\\n@Formato21GRC\\n@Radio_Formula\\n@MVSNoticias\\n@Imagen_Mx\\n@EfektoTv\\n@NTelevisa_com\\n@AztecaNoticias\\n@ImagenTVMex\\n@mileniotv\\n@Pajaropolitico\\n@EjeCentral   \n",
       "\n",
       "       tweet_char_length  tweet_word_count  \n",
       "18059                 23                 1  \n",
       "16339                 23                 1  \n",
       "15416                 28                 1  \n",
       "10093                 23                 1  \n",
       "16340                 23                 1  \n",
       "6845                  16                 1  \n",
       "17408                 23                 1  \n",
       "15177                 26                 1  \n",
       "18044                 23                 1  \n",
       "9930                 273                 1  "
      ]
     },
     "execution_count": 28,
     "metadata": {},
     "output_type": "execute_result"
    }
   ],
   "source": [
    "mx_political_eda.sort_values(by = 'tweet_word_count', ascending=True).head(10)"
   ]
  },
  {
   "cell_type": "code",
   "execution_count": 29,
   "id": "3e768e25-b199-4ec1-a8ed-3507251a5522",
   "metadata": {},
   "outputs": [
    {
     "data": {
      "text/html": [
       "<div>\n",
       "<style scoped>\n",
       "    .dataframe tbody tr th:only-of-type {\n",
       "        vertical-align: middle;\n",
       "    }\n",
       "\n",
       "    .dataframe tbody tr th {\n",
       "        vertical-align: top;\n",
       "    }\n",
       "\n",
       "    .dataframe thead th {\n",
       "        text-align: right;\n",
       "    }\n",
       "</style>\n",
       "<table border=\"1\" class=\"dataframe\">\n",
       "  <thead>\n",
       "    <tr style=\"text-align: right;\">\n",
       "      <th></th>\n",
       "      <th>user</th>\n",
       "      <th>tweet</th>\n",
       "      <th>tweet_char_length</th>\n",
       "      <th>tweet_word_count</th>\n",
       "    </tr>\n",
       "  </thead>\n",
       "  <tbody>\n",
       "    <tr>\n",
       "      <th>11206</th>\n",
       "      <td>partidoverdemex</td>\n",
       "      <td>@azcarmx @ernesto_mendez @WWF_LAC @unep_espanol @prensaanimal4 @lajornadaonline @ContraReplicaMX @heraldodemexico @ImagenTVMex @laoctavadigital @Reforma Buen día, igual que a ustedes, nos preocupan muchas cuestiones en torno a esta obra, una de ellas es el uso de diésel. Por ello, ya pedimos a @SCT_mx informe el impacto ambiental que genera su uso, al igual que priorizar fuentes sustentables q...</td>\n",
       "      <td>430</td>\n",
       "      <td>60</td>\n",
       "    </tr>\n",
       "    <tr>\n",
       "      <th>14978</th>\n",
       "      <td>MovCiudadanoMX</td>\n",
       "      <td>@ClementeCH @VeroDelgadilloG @DanteDelgado @Chertorivski @Pat_MercadoC @AlvarezMaynez Para José Luis Rodríguez Zapatero la democracia tiene como características: la no discriminación, la redistribución, la protección de todos los derechos y el feminismo.\\nAdemás, prioriza el diálogo, estando de lado de la ciencia y del conocimiento, nunca del fanatismo. https://t.co/LYxNAa8uC0</td>\n",
       "      <td>378</td>\n",
       "      <td>46</td>\n",
       "    </tr>\n",
       "    <tr>\n",
       "      <th>14975</th>\n",
       "      <td>MovCiudadanoMX</td>\n",
       "      <td>@ClementeCH @VeroDelgadilloG @IndiraKempis @Pat_MercadoC @Chertorivski @DanteDelgado @AlvarezMaynez “En #MovimientoCiudadano hemos representado una alternativa haciendo un llamado a todo el país para imaginarnos el México en el que queremos vivir: un México socialdemócrata. A ese llamado lo hemos denominado la #EvoluciónMexicana”: @VeroDelgadilloG. https://t.co/8pEDktkSLp</td>\n",
       "      <td>374</td>\n",
       "      <td>42</td>\n",
       "    </tr>\n",
       "    <tr>\n",
       "      <th>14972</th>\n",
       "      <td>MovCiudadanoMX</td>\n",
       "      <td>@Pat_MercadoC @DanteDelgado @VeroDelgadilloG @IndiraKempis @Chertorivski @ClementeCH @AlvarezMaynez “La socialdemocracia es decir paz, persuasión, perseverancia, igualdad y libertad; sobre todo un querer vivir juntos”: José Luis Rodríguez Zapatero.\\n\\nEn #MovimientoCiudadano estamos convencidos de que el futuro es socialdemócrata, #ElFuturoEsNaranja. https://t.co/AdBxP3hQ9C</td>\n",
       "      <td>374</td>\n",
       "      <td>38</td>\n",
       "    </tr>\n",
       "    <tr>\n",
       "      <th>14239</th>\n",
       "      <td>MovCiudadanoMX</td>\n",
       "      <td>@PaolaSaeb @SergioGilRu @Pablo_VAh En🇲🇽, más de 93,000 personas están detenidas sin sentencia por la prisión preventiva; la mayoría son pobres y no tienen una defensa adecuada, y son las mujeres las más afectadas.\\nConoce más en #PalabrasEnMovimiento y analicemos juntas y juntos la realidad de la justicia en México</td>\n",
       "      <td>315</td>\n",
       "      <td>48</td>\n",
       "    </tr>\n",
       "    <tr>\n",
       "      <th>10615</th>\n",
       "      <td>partidoverdemex</td>\n",
       "      <td>@Martha_Herrera @karencastrejon_ Hola Martha; seguimos luchando para erradicar el maltrato animal. Hemos promovido el uso de calesas eléctricas para demostrar su funcionalidad: https://t.co/S5iavv0T1g\\nTu voz será de mucha ayuda al denunciar y sumar a la causa, en: https://t.co/qcMUs54XHN\\nGracias por tu reporte</td>\n",
       "      <td>311</td>\n",
       "      <td>40</td>\n",
       "    </tr>\n",
       "    <tr>\n",
       "      <th>7465</th>\n",
       "      <td>PRDMexico</td>\n",
       "      <td>@ZubeIb @PRI_Nacional @AccionNacional Si lo hemos hecho, el #PRD ha denunciado todos y cada uno de los atropellos del Presidente, funcionarios federales y miembros del partido Morena. Poco a poco se ha avanzado. Por ejemplo conseguimos un amparo para detener la desaparición de las #EscuelasDeTiempoCompleto. ☀️</td>\n",
       "      <td>311</td>\n",
       "      <td>46</td>\n",
       "    </tr>\n",
       "    <tr>\n",
       "      <th>18202</th>\n",
       "      <td>PartidoMorenaMx</td>\n",
       "      <td>En lugar de Chipotle deberían ponerle Chayote... en vez de gastar más recursos en justificar sus privilegios, deberían destinarlos a garantizar la democracia para el pueblo.\\n\\nQuieren explicar #PerasConPeras y aquí un ejemplo de sus excesos con #PerasYManzanas 👇🏽 https://t.co/FHOe65elAi https://t.co/9qR8ORmS0R</td>\n",
       "      <td>310</td>\n",
       "      <td>40</td>\n",
       "    </tr>\n",
       "    <tr>\n",
       "      <th>9734</th>\n",
       "      <td>partidoverdemex</td>\n",
       "      <td>@MartaGuzmanOf @LauMondragon @verde_ags @verde_bcs @PVEMCAMPECHE @chihuahua_verde @VerdeCDMX @coahuila_verde @PVEMColima1 @PvemEstatalDgo @verdeedomex @partidoverdegto @verdeguerrero_ @partidoverdehgo @partidoverdejal @pvemmorelos @NayaritPve @PartidoVerde_NL @partidoverde_oa @PVEM_Puebla @PartidoVerdeQu1</td>\n",
       "      <td>306</td>\n",
       "      <td>21</td>\n",
       "    </tr>\n",
       "    <tr>\n",
       "      <th>16911</th>\n",
       "      <td>PartidoMorenaMx</td>\n",
       "      <td>@CiroMurayamaINE @brozoxmiswebs No se equivoque, consejero, no nos “cala”, a diferencia de ustedes, la libertad de expresión. \\n\\nAl contrario, le sugerimos que manifieste sus posturas políticas desde un partido, transparentemente, y no desde un espacio donde su trabajo es garantizar imparcialidad. Saludos.</td>\n",
       "      <td>306</td>\n",
       "      <td>42</td>\n",
       "    </tr>\n",
       "  </tbody>\n",
       "</table>\n",
       "</div>"
      ],
      "text/plain": [
       "                  user  \\\n",
       "11206  partidoverdemex   \n",
       "14978   MovCiudadanoMX   \n",
       "14975   MovCiudadanoMX   \n",
       "14972   MovCiudadanoMX   \n",
       "14239   MovCiudadanoMX   \n",
       "10615  partidoverdemex   \n",
       "7465         PRDMexico   \n",
       "18202  PartidoMorenaMx   \n",
       "9734   partidoverdemex   \n",
       "16911  PartidoMorenaMx   \n",
       "\n",
       "                                                                                                                                                                                                                                                                                                                                                                                                                 tweet  \\\n",
       "11206  @azcarmx @ernesto_mendez @WWF_LAC @unep_espanol @prensaanimal4 @lajornadaonline @ContraReplicaMX @heraldodemexico @ImagenTVMex @laoctavadigital @Reforma Buen día, igual que a ustedes, nos preocupan muchas cuestiones en torno a esta obra, una de ellas es el uso de diésel. Por ello, ya pedimos a @SCT_mx informe el impacto ambiental que genera su uso, al igual que priorizar fuentes sustentables q...   \n",
       "14978                      @ClementeCH @VeroDelgadilloG @DanteDelgado @Chertorivski @Pat_MercadoC @AlvarezMaynez Para José Luis Rodríguez Zapatero la democracia tiene como características: la no discriminación, la redistribución, la protección de todos los derechos y el feminismo.\\nAdemás, prioriza el diálogo, estando de lado de la ciencia y del conocimiento, nunca del fanatismo. https://t.co/LYxNAa8uC0   \n",
       "14975                           @ClementeCH @VeroDelgadilloG @IndiraKempis @Pat_MercadoC @Chertorivski @DanteDelgado @AlvarezMaynez “En #MovimientoCiudadano hemos representado una alternativa haciendo un llamado a todo el país para imaginarnos el México en el que queremos vivir: un México socialdemócrata. A ese llamado lo hemos denominado la #EvoluciónMexicana”: @VeroDelgadilloG. https://t.co/8pEDktkSLp   \n",
       "14972                         @Pat_MercadoC @DanteDelgado @VeroDelgadilloG @IndiraKempis @Chertorivski @ClementeCH @AlvarezMaynez “La socialdemocracia es decir paz, persuasión, perseverancia, igualdad y libertad; sobre todo un querer vivir juntos”: José Luis Rodríguez Zapatero.\\n\\nEn #MovimientoCiudadano estamos convencidos de que el futuro es socialdemócrata, #ElFuturoEsNaranja. https://t.co/AdBxP3hQ9C   \n",
       "14239                                                                                     @PaolaSaeb @SergioGilRu @Pablo_VAh En🇲🇽, más de 93,000 personas están detenidas sin sentencia por la prisión preventiva; la mayoría son pobres y no tienen una defensa adecuada, y son las mujeres las más afectadas.\\nConoce más en #PalabrasEnMovimiento y analicemos juntas y juntos la realidad de la justicia en México   \n",
       "10615                                                                                        @Martha_Herrera @karencastrejon_ Hola Martha; seguimos luchando para erradicar el maltrato animal. Hemos promovido el uso de calesas eléctricas para demostrar su funcionalidad: https://t.co/S5iavv0T1g\\nTu voz será de mucha ayuda al denunciar y sumar a la causa, en: https://t.co/qcMUs54XHN\\nGracias por tu reporte   \n",
       "7465                                                                                           @ZubeIb @PRI_Nacional @AccionNacional Si lo hemos hecho, el #PRD ha denunciado todos y cada uno de los atropellos del Presidente, funcionarios federales y miembros del partido Morena. Poco a poco se ha avanzado. Por ejemplo conseguimos un amparo para detener la desaparición de las #EscuelasDeTiempoCompleto. ☀️   \n",
       "18202                                                                                         En lugar de Chipotle deberían ponerle Chayote... en vez de gastar más recursos en justificar sus privilegios, deberían destinarlos a garantizar la democracia para el pueblo.\\n\\nQuieren explicar #PerasConPeras y aquí un ejemplo de sus excesos con #PerasYManzanas 👇🏽 https://t.co/FHOe65elAi https://t.co/9qR8ORmS0R   \n",
       "9734                                                                                                @MartaGuzmanOf @LauMondragon @verde_ags @verde_bcs @PVEMCAMPECHE @chihuahua_verde @VerdeCDMX @coahuila_verde @PVEMColima1 @PvemEstatalDgo @verdeedomex @partidoverdegto @verdeguerrero_ @partidoverdehgo @partidoverdejal @pvemmorelos @NayaritPve @PartidoVerde_NL @partidoverde_oa @PVEM_Puebla @PartidoVerdeQu1   \n",
       "16911                                                                                             @CiroMurayamaINE @brozoxmiswebs No se equivoque, consejero, no nos “cala”, a diferencia de ustedes, la libertad de expresión. \\n\\nAl contrario, le sugerimos que manifieste sus posturas políticas desde un partido, transparentemente, y no desde un espacio donde su trabajo es garantizar imparcialidad. Saludos.   \n",
       "\n",
       "       tweet_char_length  tweet_word_count  \n",
       "11206                430                60  \n",
       "14978                378                46  \n",
       "14975                374                42  \n",
       "14972                374                38  \n",
       "14239                315                48  \n",
       "10615                311                40  \n",
       "7465                 311                46  \n",
       "18202                310                40  \n",
       "9734                 306                21  \n",
       "16911                306                42  "
      ]
     },
     "execution_count": 29,
     "metadata": {},
     "output_type": "execute_result"
    }
   ],
   "source": [
    "# Obtained the longest tweets by character length.\n",
    "mx_political_eda.sort_values(by = 'tweet_char_length', ascending=False).head(10)"
   ]
  },
  {
   "cell_type": "code",
   "execution_count": 30,
   "id": "1e971565-88d6-471c-9d4f-6fb5bd580c9d",
   "metadata": {},
   "outputs": [
    {
     "data": {
      "text/html": [
       "<div>\n",
       "<style scoped>\n",
       "    .dataframe tbody tr th:only-of-type {\n",
       "        vertical-align: middle;\n",
       "    }\n",
       "\n",
       "    .dataframe tbody tr th {\n",
       "        vertical-align: top;\n",
       "    }\n",
       "\n",
       "    .dataframe thead th {\n",
       "        text-align: right;\n",
       "    }\n",
       "</style>\n",
       "<table border=\"1\" class=\"dataframe\">\n",
       "  <thead>\n",
       "    <tr style=\"text-align: right;\">\n",
       "      <th></th>\n",
       "      <th>user</th>\n",
       "      <th>tweet</th>\n",
       "      <th>tweet_char_length</th>\n",
       "      <th>tweet_word_count</th>\n",
       "    </tr>\n",
       "  </thead>\n",
       "  <tbody>\n",
       "    <tr>\n",
       "      <th>13735</th>\n",
       "      <td>MovCiudadanoMX</td>\n",
       "      <td>🖼: @larenn16</td>\n",
       "      <td>12</td>\n",
       "      <td>2</td>\n",
       "    </tr>\n",
       "    <tr>\n",
       "      <th>15567</th>\n",
       "      <td>MovCiudadanoMX</td>\n",
       "      <td>@damarisgc 😳</td>\n",
       "      <td>12</td>\n",
       "      <td>2</td>\n",
       "    </tr>\n",
       "    <tr>\n",
       "      <th>14620</th>\n",
       "      <td>MovCiudadanoMX</td>\n",
       "      <td>@EriqORulo 🙁 💔</td>\n",
       "      <td>14</td>\n",
       "      <td>3</td>\n",
       "    </tr>\n",
       "    <tr>\n",
       "      <th>15495</th>\n",
       "      <td>MovCiudadanoMX</td>\n",
       "      <td>@ChavoNava 😎 🙌</td>\n",
       "      <td>14</td>\n",
       "      <td>3</td>\n",
       "    </tr>\n",
       "    <tr>\n",
       "      <th>14785</th>\n",
       "      <td>MovCiudadanoMX</td>\n",
       "      <td>@SophieYunes 😻</td>\n",
       "      <td>14</td>\n",
       "      <td>2</td>\n",
       "    </tr>\n",
       "    <tr>\n",
       "      <th>15669</th>\n",
       "      <td>MovCiudadanoMX</td>\n",
       "      <td>@GuroSilva 🧡 🙌</td>\n",
       "      <td>14</td>\n",
       "      <td>3</td>\n",
       "    </tr>\n",
       "    <tr>\n",
       "      <th>15529</th>\n",
       "      <td>MovCiudadanoMX</td>\n",
       "      <td>@DaffnyRoM 👍 😀</td>\n",
       "      <td>14</td>\n",
       "      <td>3</td>\n",
       "    </tr>\n",
       "    <tr>\n",
       "      <th>15913</th>\n",
       "      <td>MovCiudadanoMX</td>\n",
       "      <td>Cerramos hilo.</td>\n",
       "      <td>14</td>\n",
       "      <td>2</td>\n",
       "    </tr>\n",
       "    <tr>\n",
       "      <th>14579</th>\n",
       "      <td>MovCiudadanoMX</td>\n",
       "      <td>@ErikaHadaz 🙌 🍊</td>\n",
       "      <td>15</td>\n",
       "      <td>3</td>\n",
       "    </tr>\n",
       "    <tr>\n",
       "      <th>15479</th>\n",
       "      <td>MovCiudadanoMX</td>\n",
       "      <td>@gafer54gdl 🙌 ✨</td>\n",
       "      <td>15</td>\n",
       "      <td>3</td>\n",
       "    </tr>\n",
       "  </tbody>\n",
       "</table>\n",
       "</div>"
      ],
      "text/plain": [
       "                 user            tweet  tweet_char_length  tweet_word_count\n",
       "13735  MovCiudadanoMX     🖼: @larenn16                 12                 2\n",
       "15567  MovCiudadanoMX     @damarisgc 😳                 12                 2\n",
       "14620  MovCiudadanoMX   @EriqORulo 🙁 💔                 14                 3\n",
       "15495  MovCiudadanoMX   @ChavoNava 😎 🙌                 14                 3\n",
       "14785  MovCiudadanoMX   @SophieYunes 😻                 14                 2\n",
       "15669  MovCiudadanoMX   @GuroSilva 🧡 🙌                 14                 3\n",
       "15529  MovCiudadanoMX   @DaffnyRoM 👍 😀                 14                 3\n",
       "15913  MovCiudadanoMX   Cerramos hilo.                 14                 2\n",
       "14579  MovCiudadanoMX  @ErikaHadaz 🙌 🍊                 15                 3\n",
       "15479  MovCiudadanoMX  @gafer54gdl 🙌 ✨                 15                 3"
      ]
     },
     "execution_count": 30,
     "metadata": {},
     "output_type": "execute_result"
    }
   ],
   "source": [
    "# Obtained the longest tweets by character length.\n",
    "mx_political_eda.sort_values(by = 'tweet_char_length', ascending=True).head(10)"
   ]
  },
  {
   "cell_type": "markdown",
   "id": "b5ec32ed-e675-4b57-88f4-9478afda2e06",
   "metadata": {
    "jp-MarkdownHeadingCollapsed": true,
    "tags": []
   },
   "source": [
    "## N-grams"
   ]
  },
  {
   "cell_type": "markdown",
   "id": "9fd4865f-a4cd-4d9b-99d1-5e1f05d6103e",
   "metadata": {
    "jp-MarkdownHeadingCollapsed": true,
    "tags": []
   },
   "source": [
    "### 10 Most Common Unigrams"
   ]
  },
  {
   "cell_type": "code",
   "execution_count": 31,
   "id": "09ffd0e8-7454-4142-a406-41014288447c",
   "metadata": {},
   "outputs": [
    {
     "data": {
      "text/plain": [
       "méxico            502\n",
       "gobierno          399\n",
       "familias          322\n",
       "nacional          282\n",
       "país              280\n",
       "morena            250\n",
       "presidente        230\n",
       "markocortes       203\n",
       "accionnacional    196\n",
       "junio             190\n",
       "dtype: int64"
      ]
     },
     "execution_count": 31,
     "metadata": {},
     "output_type": "execute_result"
    }
   ],
   "source": [
    "# Instantiating a CountVectorizer object that splits the documents in the corpus into unigrams.  Then fit and transformed Partido Acción Nacional's tweets before obtaining the 10 most common unigrams.\n",
    "cvec_uni = CountVectorizer(ngram_range=(1, 1), stop_words=frozenset(spanish), lowercase=True)\n",
    "\n",
    "pan_uni_tweets = cvec_uni.fit_transform(pan_df['tweet'])\n",
    "\n",
    "pan_uni_tweets_df = pd.DataFrame(data=pan_uni_tweets.A, columns=cvec_uni.get_feature_names_out())\n",
    "\n",
    "pan_most_common_unigrams = pan_uni_tweets_df.sum().sort_values(ascending=False).head(10)\n",
    "pan_most_common_unigrams"
   ]
  },
  {
   "cell_type": "code",
   "execution_count": 32,
   "id": "65b93f41-658b-45c6-8e64-e1fb152f2918",
   "metadata": {},
   "outputs": [
    {
     "data": {
      "text/plain": [
       "alitomorenoc    762\n",
       "méxico          574\n",
       "pri             555\n",
       "presidente      467\n",
       "morena          340\n",
       "partido         303\n",
       "familias        294\n",
       "votapri         289\n",
       "junio           286\n",
       "mujeres         280\n",
       "dtype: int64"
      ]
     },
     "execution_count": 32,
     "metadata": {},
     "output_type": "execute_result"
    }
   ],
   "source": [
    "# Fit and transformed the CountVectorizer object above on Partido Revolucionario Institucional's tweets before obtaining the 10 most common unigrams.\n",
    "\n",
    "pri_uni_tweets = cvec_uni.fit_transform(pri_df['tweet'])\n",
    "\n",
    "pri_uni_tweets_df = pd.DataFrame(data=pri_uni_tweets.A, columns=cvec_uni.get_feature_names_out())\n",
    "\n",
    "pri_most_common_unigrams = pri_uni_tweets_df.sum().sort_values(ascending=False).head(10)\n",
    "pri_most_common_unigrams"
   ]
  },
  {
   "cell_type": "code",
   "execution_count": 33,
   "id": "f32e4460-1d8c-49e4-97ed-9651b27ff49c",
   "metadata": {},
   "outputs": [
    {
     "data": {
      "text/plain": [
       "prdmexico          848\n",
       "méxico             397\n",
       "prd                394\n",
       "jesus_zambranog    370\n",
       "laufdzoficial      220\n",
       "gobierno           211\n",
       "mujeres            183\n",
       "votaprd            156\n",
       "_avilesalvarez     143\n",
       "caroviggiano       140\n",
       "dtype: int64"
      ]
     },
     "execution_count": 33,
     "metadata": {},
     "output_type": "execute_result"
    }
   ],
   "source": [
    "# Fit and transformed the CountVectorizer object above on Partido de la Revolución Democrática's tweets before obtaining the 10 most common unigrams.\n",
    "\n",
    "prd_uni_tweets = cvec_uni.fit_transform(prd_df['tweet'])\n",
    "\n",
    "prd_uni_tweets_df = pd.DataFrame(data=prd_uni_tweets.A, columns=cvec_uni.get_feature_names_out())\n",
    "\n",
    "prd_most_common_unigrams = prd_uni_tweets_df.sum().sort_values(ascending=False).head(10)\n",
    "prd_most_common_unigrams"
   ]
  },
  {
   "cell_type": "code",
   "execution_count": 34,
   "id": "badf7bbf-27a4-4ab8-a029-b57dd8a7b622",
   "metadata": {},
   "outputs": [
    {
     "data": {
      "text/plain": [
       "país               311\n",
       "verde              268\n",
       "méxico             259\n",
       "sen                253\n",
       "dip                247\n",
       "ambiente           245\n",
       "karencastrejont    212\n",
       "salud              182\n",
       "méxicoverde        168\n",
       "partido            155\n",
       "dtype: int64"
      ]
     },
     "execution_count": 34,
     "metadata": {},
     "output_type": "execute_result"
    }
   ],
   "source": [
    "# Fit and transformed the CountVectorizer object above on Partido Verde Ecologista de México's tweets before obtaining the 10 most common unigrams.\n",
    "\n",
    "pv_uni_tweets = cvec_uni.fit_transform(pv_df['tweet'])\n",
    "\n",
    "pv_uni_tweets_df = pd.DataFrame(data=pv_uni_tweets.A, columns=cvec_uni.get_feature_names_out())\n",
    "\n",
    "pv_most_common_unigrams = pv_uni_tweets_df.sum().sort_values(ascending=False).head(10)\n",
    "pv_most_common_unigrams"
   ]
  },
  {
   "cell_type": "code",
   "execution_count": 35,
   "id": "59e3e9bf-fd22-476b-953a-3456c21e81b7",
   "metadata": {},
   "outputs": [
    {
     "data": {
      "text/plain": [
       "futuro                 307\n",
       "movimiento             294\n",
       "elfuturoesnaranja      278\n",
       "gobierno               227\n",
       "méxico                 215\n",
       "delríopresopolítico    175\n",
       "bancadanaranja         171\n",
       "pablo_vah              164\n",
       "mujeres                159\n",
       "clementech             156\n",
       "dtype: int64"
      ]
     },
     "execution_count": 35,
     "metadata": {},
     "output_type": "execute_result"
    }
   ],
   "source": [
    "# Fit and transformed the CountVectorizer object above on Movimiento Ciudadano's tweets before obtaining the 10 most common unigrams.\n",
    "\n",
    "mc_uni_tweets = cvec_uni.fit_transform(mc_df['tweet'])\n",
    "\n",
    "mc_uni_tweets_df = pd.DataFrame(data=mc_uni_tweets.A, columns=cvec_uni.get_feature_names_out())\n",
    "\n",
    "mc_most_common_unigrams = mc_uni_tweets_df.sum().sort_values(ascending=False).head(10)\n",
    "mc_most_common_unigrams"
   ]
  },
  {
   "cell_type": "code",
   "execution_count": 36,
   "id": "d94323d2-df98-4ab6-b153-b2f5b547b8f3",
   "metadata": {},
   "outputs": [
    {
     "data": {
      "text/plain": [
       "presidente               815\n",
       "pueblo                   749\n",
       "méxico                   748\n",
       "lopezobrador_            698\n",
       "conferenciapresidente    647\n",
       "4t                       411\n",
       "22                       324\n",
       "transformación           267\n",
       "democracia               240\n",
       "país                     218\n",
       "dtype: int64"
      ]
     },
     "execution_count": 36,
     "metadata": {},
     "output_type": "execute_result"
    }
   ],
   "source": [
    "# Fit and transformed the CountVectorizer object above on Morena's tweets before obtaining the 10 most common unigrams.\n",
    "\n",
    "mrn_uni_tweets = cvec_uni.fit_transform(mrn_df['tweet'])\n",
    "\n",
    "mrn_uni_tweets_df = pd.DataFrame(data=mrn_uni_tweets.A, columns=cvec_uni.get_feature_names_out())\n",
    "\n",
    "mrn_most_common_unigrams = mrn_uni_tweets_df.sum().sort_values(ascending=False).head(10)\n",
    "mrn_most_common_unigrams"
   ]
  },
  {
   "cell_type": "markdown",
   "id": "abd540ff-d592-44d0-a1ff-5fc15124449c",
   "metadata": {
    "jp-MarkdownHeadingCollapsed": true,
    "tags": []
   },
   "source": [
    "### 10 Most Common Bigrams"
   ]
  },
  {
   "cell_type": "code",
   "execution_count": 37,
   "id": "3369724d-d162-4b1e-8e9e-aa2f290df72f",
   "metadata": {},
   "outputs": [
    {
     "data": {
      "text/plain": [
       "acción nacional       162\n",
       "gobierno federal       82\n",
       "familias mexicanas     72\n",
       "energías limpias       70\n",
       "descanse paz           53\n",
       "junio votapan          48\n",
       "cambiar rumbo          43\n",
       "cámara diputados       42\n",
       "seres queridos         42\n",
       "rumbo méxico           40\n",
       "dtype: int64"
      ]
     },
     "execution_count": 37,
     "metadata": {},
     "output_type": "execute_result"
    }
   ],
   "source": [
    "# Instantiating a CountVectorizer object that splits the documents in the corpus into bigrams.  Then fit and transformed Partido Acción Nacional's tweets before obtaining the 10 most common bigrams.\n",
    "cvec_bi = CountVectorizer(ngram_range=(2, 2), stop_words=frozenset(spanish), lowercase=True)\n",
    "\n",
    "pan_bi_tweets = cvec_bi.fit_transform(pan_df['tweet'])\n",
    "\n",
    "pan_bi_tweets_df = pd.DataFrame(data=pan_bi_tweets.A, columns=cvec_bi.get_feature_names_out())\n",
    "\n",
    "pan_most_common_bigrams = pan_bi_tweets_df.sum().sort_values(ascending=False).head(10)\n",
    "pan_most_common_bigrams"
   ]
  },
  {
   "cell_type": "code",
   "execution_count": 38,
   "id": "470c9532-8bcc-421b-99d5-3b0620a3933e",
   "metadata": {},
   "outputs": [
    {
     "data": {
      "text/plain": [
       "presidente alitomorenoc    376\n",
       "cámara diputados            59\n",
       "diputados federales         55\n",
       "mujeres hombres             52\n",
       "candidatas candidatos       51\n",
       "junio votapri               51\n",
       "familias mexicanas          51\n",
       "ganar junio                 48\n",
       "diputadas diputados         39\n",
       "invitamos seguir            39\n",
       "dtype: int64"
      ]
     },
     "execution_count": 38,
     "metadata": {},
     "output_type": "execute_result"
    }
   ],
   "source": [
    "# Fit and transformed the CountVectorizer object above on Partido Revolucionario Institucional's tweets before obtaining the 10 most common bigrams.\n",
    "\n",
    "pri_bi_tweets = cvec_bi.fit_transform(pri_df['tweet'])\n",
    "\n",
    "pri_bi_tweets_df = pd.DataFrame(data=pri_bi_tweets.A, columns=cvec_bi.get_feature_names_out())\n",
    "\n",
    "pri_most_common_bigrams = pri_bi_tweets_df.sum().sort_values(ascending=False).head(10)\n",
    "pri_most_common_bigrams"
   ]
  },
  {
   "cell_type": "code",
   "execution_count": 39,
   "id": "d7925e3b-d592-4c38-b83b-93cb9f22ff8a",
   "metadata": {},
   "outputs": [
    {
     "data": {
      "text/plain": [
       "gobierno federal        75\n",
       "link boletín            60\n",
       "prdmexico prd           56\n",
       "niñas niños             53\n",
       "delfina gómez           52\n",
       "juntas juntos           42\n",
       "33 años                 37\n",
       "jesus_zambranog link    36\n",
       "palacio nacional        35\n",
       "millones estudiantes    34\n",
       "dtype: int64"
      ]
     },
     "execution_count": 39,
     "metadata": {},
     "output_type": "execute_result"
    }
   ],
   "source": [
    "# Fit and transformed the CountVectorizer object above on Partido de la Revolución Democrática's tweets before obtaining the 10 most common bigrams.\n",
    "\n",
    "prd_bi_tweets = cvec_bi.fit_transform(prd_df['tweet'])\n",
    "\n",
    "prd_bi_tweets_df = pd.DataFrame(data=prd_bi_tweets.A, columns=cvec_bi.get_feature_names_out())\n",
    "\n",
    "prd_most_common_bigrams = prd_bi_tweets_df.sum().sort_values(ascending=False).head(10)\n",
    "prd_most_common_bigrams"
   ]
  },
  {
   "cell_type": "code",
   "execution_count": 40,
   "id": "28b06beb-c719-4778-a225-fa88a5aded57",
   "metadata": {},
   "outputs": [
    {
     "data": {
      "text/plain": [
       "partido verde            112\n",
       "sen raulbccue             77\n",
       "covid 19                  75\n",
       "dip arturoesc             53\n",
       "dip betymanrique          45\n",
       "enviamos felicitación     43\n",
       "motivo cumpleaños         42\n",
       "sen veronicacamino        37\n",
       "pequeñas acciones         36\n",
       "cumpleaños sigamos        35\n",
       "dtype: int64"
      ]
     },
     "execution_count": 40,
     "metadata": {},
     "output_type": "execute_result"
    }
   ],
   "source": [
    "# Fit and transformed the CountVectorizer object above on Partido Verde Ecologista de México's tweets before obtaining the 10 most common bigrams.\n",
    "\n",
    "pv_bi_tweets = cvec_bi.fit_transform(pv_df['tweet'])\n",
    "\n",
    "pv_bi_tweets_df = pd.DataFrame(data=pv_bi_tweets.A, columns=cvec_bi.get_feature_names_out())\n",
    "\n",
    "pv_most_common_bigrams = pv_bi_tweets_df.sum().sort_values(ascending=False).head(10)\n",
    "pv_most_common_bigrams"
   ]
  },
  {
   "cell_type": "code",
   "execution_count": 41,
   "id": "aa02ee0a-d2e3-481b-ad5f-ab8ccf79ce08",
   "metadata": {},
   "outputs": [
    {
     "data": {
      "text/plain": [
       "movimiento ciudadano       86\n",
       "plataforma favorita        80\n",
       "energías limpias           78\n",
       "niñas niños                65\n",
       "escúchanos plataforma      63\n",
       "favorita spotify           55\n",
       "gobierno federal           52\n",
       "reformaeléctrica tóxica    49\n",
       "trato ambiente             46\n",
       "nuevotrato verde           40\n",
       "dtype: int64"
      ]
     },
     "execution_count": 41,
     "metadata": {},
     "output_type": "execute_result"
    }
   ],
   "source": [
    "# Fit and transformed the CountVectorizer object above on Movimiento Ciudadano's tweets before obtaining the 10 most common bigrams.\n",
    "\n",
    "mc_bi_tweets = cvec_bi.fit_transform(mc_df['tweet'])\n",
    "\n",
    "mc_bi_tweets_df = pd.DataFrame(data=mc_bi_tweets.A, columns=cvec_bi.get_feature_names_out())\n",
    "\n",
    "mc_most_common_bigrams = mc_bi_tweets_df.sum().sort_values(ascending=False).head(10)\n",
    "mc_most_common_bigrams"
   ]
  },
  {
   "cell_type": "code",
   "execution_count": 42,
   "id": "7c792f90-cd8e-4d81-8bea-3f7a36d288be",
   "metadata": {},
   "outputs": [
    {
     "data": {
      "text/plain": [
       "presidente méxico                345\n",
       "lopezobrador_ presidente         336\n",
       "22 conferenciapresidente         255\n",
       "presidente lopezobrador_         243\n",
       "pueblo democracia                117\n",
       "compartimos resumen              116\n",
       "información pueblo               116\n",
       "resumen conferenciapresidente    116\n",
       "4t información                   115\n",
       "democracia transparencia         114\n",
       "dtype: int64"
      ]
     },
     "execution_count": 42,
     "metadata": {},
     "output_type": "execute_result"
    }
   ],
   "source": [
    "# Fit and transformed the CountVectorizer object above on Morena's tweets before obtaining the 10 most common bigrams.\n",
    "\n",
    "mrn_bi_tweets = cvec_bi.fit_transform(mrn_df['tweet'])\n",
    "\n",
    "mrn_bi_tweets_df = pd.DataFrame(data=mrn_bi_tweets.A, columns=cvec_bi.get_feature_names_out())\n",
    "\n",
    "mrn_most_common_bigrams = mrn_bi_tweets_df.sum().sort_values(ascending=False).head(10)\n",
    "mrn_most_common_bigrams"
   ]
  },
  {
   "cell_type": "markdown",
   "id": "be45df6f-ab61-43f1-9af7-4aff7dc30f5c",
   "metadata": {
    "jp-MarkdownHeadingCollapsed": true,
    "tags": []
   },
   "source": [
    "### 10 Most Common Trigrams"
   ]
  },
  {
   "cell_type": "code",
   "execution_count": 43,
   "id": "0bc84852-2244-40a9-8c7c-0f22aa6e6d5e",
   "metadata": {},
   "outputs": [
    {
     "data": {
      "text/plain": [
       "familiares seres queridos                 33\n",
       "lamentamos profundamente fallecimiento    25\n",
       "queridos descanse paz                     25\n",
       "seres queridos descanse                   25\n",
       "san luis potosí                           22\n",
       "energías limpias renovables               22\n",
       "cambiar rumbo méxico                      18\n",
       "sentido pésame familiares                 17\n",
       "pésame familiares seres                   16\n",
       "cambiar rumbo país                        16\n",
       "dtype: int64"
      ]
     },
     "execution_count": 43,
     "metadata": {},
     "output_type": "execute_result"
    }
   ],
   "source": [
    "# Instantiating a CountVectorizer object that splits the documents in the corpus into trigrams.  Then fit and transformed Partido Acción Nacional's tweets before obtaining the 10 most common trigrams.\n",
    "cvec_tri = CountVectorizer(ngram_range=(3, 3), stop_words=frozenset(spanish), lowercase=True)\n",
    "\n",
    "pan_tri_tweets = cvec_tri.fit_transform(pan_df['tweet'])\n",
    "\n",
    "pan_tri_tweets_df = pd.DataFrame(data=pan_tri_tweets.A, columns=cvec_tri.get_feature_names_out())\n",
    "\n",
    "pan_most_common_trigrams = pan_tri_tweets_df.sum().sort_values(ascending=False).head(10)\n",
    "pan_most_common_trigrams"
   ]
  },
  {
   "cell_type": "code",
   "execution_count": 44,
   "id": "786d4a95-c053-4e17-a18c-c5c5f81f4055",
   "metadata": {},
   "outputs": [
    {
     "data": {
      "text/plain": [
       "presidente alitomorenoc reúne           34\n",
       "alitomorenoc tomó protesta              30\n",
       "presidente alitomorenoc tomó            29\n",
       "presidente nacional alitomorenoc        22\n",
       "presidente alitomorenoc secretaria      20\n",
       "presidente alitomorenoc sostiene        20\n",
       "alitomorenoc secretaria caroviggiano    18\n",
       "presidente alitomorenoc candidato       17\n",
       "san luis potosí                         16\n",
       "candidato presidencia municipal         15\n",
       "dtype: int64"
      ]
     },
     "execution_count": 44,
     "metadata": {},
     "output_type": "execute_result"
    }
   ],
   "source": [
    "# Fit and transformed the CountVectorizer object above on Partido Revolucionario Institucional's tweets before obtaining the 10 most common trigrams.\n",
    "\n",
    "pri_tri_tweets = cvec_tri.fit_transform(pri_df['tweet'])\n",
    "\n",
    "pri_tri_tweets_df = pd.DataFrame(data=pri_tri_tweets.A, columns=cvec_tri.get_feature_names_out())\n",
    "\n",
    "pri_most_common_trigrams = pri_tri_tweets_df.sum().sort_values(ascending=False).head(10)\n",
    "pri_most_common_trigrams"
   ]
  },
  {
   "cell_type": "code",
   "execution_count": 45,
   "id": "b5b93750-2a03-4fa3-b9fd-7f0c35041b94",
   "metadata": {},
   "outputs": [
    {
     "data": {
      "text/plain": [
       "jesus_zambranog link boletín                    36\n",
       "cara millones estudiantes                       33\n",
       "delfina gómez dé                                33\n",
       "dé cara millones                                33\n",
       "estudiantes niega educación                     33\n",
       "gómez dé cara                                   33\n",
       "millones estudiantes niega                      33\n",
       "niega educación completo                        20\n",
       "educación completo alimentación                 19\n",
       "evitar comparezca escuelasdetiempocompletosí    19\n",
       "dtype: int64"
      ]
     },
     "execution_count": 45,
     "metadata": {},
     "output_type": "execute_result"
    }
   ],
   "source": [
    "# Fit and transformed the CountVectorizer object above on Partido de la Revolución Democrática's tweets before obtaining the 10 most common trigrams.\n",
    "\n",
    "prd_tri_tweets = cvec_tri.fit_transform(prd_df['tweet'])\n",
    "\n",
    "prd_tri_tweets_df = pd.DataFrame(data=prd_tri_tweets.A, columns=cvec_tri.get_feature_names_out())\n",
    "\n",
    "prd_most_common_trigrams = prd_tri_tweets_df.sum().sort_values(ascending=False).head(10)\n",
    "prd_most_common_trigrams"
   ]
  },
  {
   "cell_type": "code",
   "execution_count": 46,
   "id": "03d584e0-8ca9-4011-873b-b57b0f5350a5",
   "metadata": {},
   "outputs": [
    {
     "data": {
      "text/plain": [
       "motivo cumpleaños sigamos             35\n",
       "san luis potosí                       33\n",
       "cumpleaños sigamos trabajando         32\n",
       "felicitación fuerte abrazo            32\n",
       "enviamos felicitación fuerte          32\n",
       "sigamos trabajando méxicoverde        29\n",
       "trabajando méxicoverde enhorabuena    27\n",
       "abrazo amigo compañero                21\n",
       "fuerte abrazo amigo                   21\n",
       "3delverde cámara diputados            18\n",
       "dtype: int64"
      ]
     },
     "execution_count": 46,
     "metadata": {},
     "output_type": "execute_result"
    }
   ],
   "source": [
    "# Fit and transformed the CountVectorizer object above on Partido Verde Ecologista de México's tweets before obtaining the 10 most common trigrams.\n",
    "\n",
    "pv_tri_tweets = cvec_tri.fit_transform(pv_df['tweet'])\n",
    "\n",
    "pv_tri_tweets_df = pd.DataFrame(data=pv_tri_tweets.A, columns=cvec_tri.get_feature_names_out())\n",
    "\n",
    "pv_most_common_trigrams = pv_tri_tweets_df.sum().sort_values(ascending=False).head(10)\n",
    "pv_most_common_trigrams"
   ]
  },
  {
   "cell_type": "code",
   "execution_count": 47,
   "id": "522f4c1a-33fb-4f1f-b04d-ef3042bf96e6",
   "metadata": {},
   "outputs": [
    {
     "data": {
      "text/plain": [
       "escúchanos plataforma favorita        63\n",
       "plataforma favorita spotify           55\n",
       "energías limpias baratas              26\n",
       "na na na                              22\n",
       "evoluciónmexicana nuevotrato verde    17\n",
       "darle trato ambiente                  17\n",
       "centro causas frente                  17\n",
       "personas centro causas                16\n",
       "foro evoluciónmexicana nuevotrato     15\n",
       "transitar energías limpias            14\n",
       "dtype: int64"
      ]
     },
     "execution_count": 47,
     "metadata": {},
     "output_type": "execute_result"
    }
   ],
   "source": [
    "# Fit and transformed the CountVectorizer object above on Movimiento Ciudadano's tweets before obtaining the 10 most common trigrams.\n",
    "\n",
    "mc_tri_tweets = cvec_tri.fit_transform(mc_df['tweet'])\n",
    "\n",
    "mc_tri_tweets_df = pd.DataFrame(data=mc_tri_tweets.A, columns=cvec_tri.get_feature_names_out())\n",
    "\n",
    "mc_most_common_trigrams = mc_tri_tweets_df.sum().sort_values(ascending=False).head(10)\n",
    "mc_most_common_trigrams"
   ]
  },
  {
   "cell_type": "code",
   "execution_count": 48,
   "id": "ddc99a9f-d256-49fe-8d98-1c071a9943de",
   "metadata": {},
   "outputs": [
    {
     "data": {
      "text/plain": [
       "lopezobrador_ presidente méxico              335\n",
       "compartimos resumen conferenciapresidente    116\n",
       "4t información pueblo                        115\n",
       "pueblo democracia transparencia              113\n",
       "información pueblo democracia                113\n",
       "conferenciapresidente 4t información         106\n",
       "resumen conferenciapresidente 4t             106\n",
       "02 22 conferenciapresidente                   85\n",
       "03 22 conferenciapresidente                   81\n",
       "01 22 conferenciapresidente                   70\n",
       "dtype: int64"
      ]
     },
     "execution_count": 48,
     "metadata": {},
     "output_type": "execute_result"
    }
   ],
   "source": [
    "# Fit and transformed the CountVectorizer object above on Morena's tweets before obtaining the 10 most common trigrams.\n",
    "\n",
    "mrn_tri_tweets = cvec_tri.fit_transform(mrn_df['tweet'])\n",
    "\n",
    "mrn_tri_tweets_df = pd.DataFrame(data=mrn_tri_tweets.A, columns=cvec_tri.get_feature_names_out())\n",
    "\n",
    "mrn_most_common_trigrams = mrn_tri_tweets_df.sum().sort_values(ascending=False).head(10)\n",
    "mrn_most_common_trigrams"
   ]
  },
  {
   "cell_type": "markdown",
   "id": "3f99d080-e1f9-4c86-8ece-fbf3f51b4b17",
   "metadata": {
    "jp-MarkdownHeadingCollapsed": true,
    "tags": []
   },
   "source": [
    "### 10 Most Common 4-grams"
   ]
  },
  {
   "cell_type": "code",
   "execution_count": 49,
   "id": "bc28839c-dbae-47dc-aebd-bb6072dbb2dc",
   "metadata": {},
   "outputs": [
    {
     "data": {
      "text/plain": [
       "seres queridos descanse paz                 25\n",
       "familiares seres queridos descanse          21\n",
       "pésame familiares seres queridos            16\n",
       "sentido pésame familiares seres             16\n",
       "condolencias familiares seres queridos      15\n",
       "sinceras condolencias familiares seres      10\n",
       "evolucionar dejar energías contaminantes     7\n",
       "narrativa propuesta acción nacional          6\n",
       "ciclo conferencias narrativa propuesta       6\n",
       "dejar energías contaminantes motivar         6\n",
       "dtype: int64"
      ]
     },
     "execution_count": 49,
     "metadata": {},
     "output_type": "execute_result"
    }
   ],
   "source": [
    "# Instantiating a CountVectorizer object that splits the documents in the corpus into 4-grams.  Then fit and transformed Partido Acción Nacional's tweets before obtaining the 10 most common 4-grams.\n",
    "cvec_quad = CountVectorizer(ngram_range=(4, 4), stop_words=frozenset(spanish), lowercase=True)\n",
    "\n",
    "pan_quad_tweets = cvec_quad.fit_transform(pan_df['tweet'])\n",
    "\n",
    "pan_quad_tweets_df = pd.DataFrame(data=pan_quad_tweets.A, columns=cvec_quad.get_feature_names_out())\n",
    "\n",
    "pan_most_common_quadgrams = pan_quad_tweets_df.sum().sort_values(ascending=False).head(10)\n",
    "pan_most_common_quadgrams"
   ]
  },
  {
   "cell_type": "code",
   "execution_count": 50,
   "id": "6179a2ee-6cce-42fc-bd03-506b54a160b8",
   "metadata": {},
   "outputs": [
    {
     "data": {
      "text/plain": [
       "presidente alitomorenoc tomó protesta              29\n",
       "presidente alitomorenoc secretaria caroviggiano    18\n",
       "acceso universal medicamentos gratuitos            12\n",
       "ley acceso universal medicamentos                  12\n",
       "diputadas diputados locales electos                10\n",
       "próxima legislatura cámara diputados               10\n",
       "únete pri vz5yl9tbrh sebuscanrevolucionarios        9\n",
       "presidente alitomorenoc candidata gubernatura       9\n",
       "presidente alitomorenoc candidato gubernatura       8\n",
       "presidente alitomorenoc sostiene reunión            8\n",
       "dtype: int64"
      ]
     },
     "execution_count": 50,
     "metadata": {},
     "output_type": "execute_result"
    }
   ],
   "source": [
    "# Fit and transformed the CountVectorizer object above on Partido Revolucionario Institucional's tweets before obtaining the 10 most common 4-grams.\n",
    "\n",
    "pri_quad_tweets = cvec_quad.fit_transform(pri_df['tweet'])\n",
    "\n",
    "pri_quad_tweets_df = pd.DataFrame(data=pri_quad_tweets.A, columns=cvec_quad.get_feature_names_out())\n",
    "\n",
    "pri_most_common_quadgrams = pri_quad_tweets_df.sum().sort_values(ascending=False).head(10)\n",
    "pri_most_common_quadgrams"
   ]
  },
  {
   "cell_type": "code",
   "execution_count": 51,
   "id": "49523358-0109-4ebb-8d95-637d7b243d7d",
   "metadata": {},
   "outputs": [
    {
     "data": {
      "text/plain": [
       "millones estudiantes niega educación                         33\n",
       "gómez dé cara millones                                       33\n",
       "cara millones estudiantes niega                              33\n",
       "dé cara millones estudiantes                                 33\n",
       "delfina gómez dé cara                                        33\n",
       "completo alimentación evitar comparezca                      19\n",
       "alimentación evitar comparezca escuelasdetiempocompletosí    19\n",
       "estudiantes niega educación completo                         19\n",
       "niega educación completo alimentación                        19\n",
       "educación completo alimentación evitar                       19\n",
       "dtype: int64"
      ]
     },
     "execution_count": 51,
     "metadata": {},
     "output_type": "execute_result"
    }
   ],
   "source": [
    "# Fit and transformed the CountVectorizer object above on Partido de la Revolución Democrática's tweets before obtaining the 10 most common 4-grams.\n",
    "\n",
    "prd_quad_tweets = cvec_quad.fit_transform(prd_df['tweet'])\n",
    "\n",
    "prd_quad_tweets_df = pd.DataFrame(data=prd_quad_tweets.A, columns=cvec_quad.get_feature_names_out())\n",
    "\n",
    "prd_most_common_quadgrams = prd_quad_tweets_df.sum().sort_values(ascending=False).head(10)\n",
    "prd_most_common_quadgrams"
   ]
  },
  {
   "cell_type": "code",
   "execution_count": 52,
   "id": "f14c7732-9ee8-4053-92d5-8f3d395e70c7",
   "metadata": {},
   "outputs": [
    {
     "data": {
      "text/plain": [
       "enviamos felicitación fuerte abrazo                    32\n",
       "motivo cumpleaños sigamos trabajando                   32\n",
       "cumpleaños sigamos trabajando méxicoverde              28\n",
       "sigamos trabajando méxicoverde enhorabuena             27\n",
       "felicitación fuerte abrazo amigo                       21\n",
       "fuerte abrazo amigo compañero                          21\n",
       "lodestacadodelasemana 3delverde cámara diputados       17\n",
       "conoce lodestacadodelasemana 3delverde cámara          17\n",
       "contagio masivo covid 19                               17\n",
       "3delverde senado lodestacadodelasemana legisladores    15\n",
       "dtype: int64"
      ]
     },
     "execution_count": 52,
     "metadata": {},
     "output_type": "execute_result"
    }
   ],
   "source": [
    "# Fit and transformed the CountVectorizer object above on Partido Verde Ecologista de México's tweets before obtaining the 10 most common 4-grams.\n",
    "\n",
    "pv_quad_tweets = cvec_quad.fit_transform(pv_df['tweet'])\n",
    "\n",
    "pv_quad_tweets_df = pd.DataFrame(data=pv_quad_tweets.A, columns=cvec_quad.get_feature_names_out())\n",
    "\n",
    "pv_most_common_quadgrams = pv_quad_tweets_df.sum().sort_values(ascending=False).head(10)\n",
    "pv_most_common_quadgrams"
   ]
  },
  {
   "cell_type": "code",
   "execution_count": 53,
   "id": "edbd96ad-33d9-41bc-b552-69252c6b9d08",
   "metadata": {},
   "outputs": [
    {
     "data": {
      "text/plain": [
       "escúchanos plataforma favorita spotify      42\n",
       "personas centro causas frente               16\n",
       "foro evoluciónmexicana nuevotrato verde     15\n",
       "josé luis rodríguez zapatero                14\n",
       "na na na na                                 14\n",
       "pablo_vah escúchanos plataforma favorita    11\n",
       "escúchanos plataforma favorita amazon       11\n",
       "escúchanos plataforma favorita google       10\n",
       "ley movilidad seguridad vial                 8\n",
       "delriovirgen1 preso político gobernador      8\n",
       "dtype: int64"
      ]
     },
     "execution_count": 53,
     "metadata": {},
     "output_type": "execute_result"
    }
   ],
   "source": [
    "# Fit and transformed the CountVectorizer object above on Movimiento Ciudadano's tweets before obtaining the 10 most common 4-grams.\n",
    "\n",
    "mc_quad_tweets = cvec_quad.fit_transform(mc_df['tweet'])\n",
    "\n",
    "mc_quad_tweets_df = pd.DataFrame(data=mc_quad_tweets.A, columns=cvec_quad.get_feature_names_out())\n",
    "\n",
    "mc_most_common_quadgrams = mc_quad_tweets_df.sum().sort_values(ascending=False).head(10)\n",
    "mc_most_common_quadgrams"
   ]
  },
  {
   "cell_type": "code",
   "execution_count": 54,
   "id": "1546396b-b767-4b9d-a968-597deb027373",
   "metadata": {},
   "outputs": [
    {
     "data": {
      "text/plain": [
       "información pueblo democracia transparencia              113\n",
       "4t información pueblo democracia                         113\n",
       "resumen conferenciapresidente 4t información             106\n",
       "compartimos resumen conferenciapresidente 4t             106\n",
       "conferenciapresidente 4t información pueblo              106\n",
       "mario_delgado presidente nacional morena                  44\n",
       "lopezobrador_ presidente méxico conferenciapresidente     36\n",
       "lopezobrador_ presidente méxico 01                        29\n",
       "presidente méxico 01 22                                   20\n",
       "méxico 01 22 conferenciapresidente                        20\n",
       "dtype: int64"
      ]
     },
     "execution_count": 54,
     "metadata": {},
     "output_type": "execute_result"
    }
   ],
   "source": [
    "# Fit and transformed the CountVectorizer object above on Morena's tweets before obtaining the 10 most common 4-grams.\n",
    "\n",
    "mrn_quad_tweets = cvec_quad.fit_transform(mrn_df['tweet'])\n",
    "\n",
    "mrn_quad_tweets_df = pd.DataFrame(data=mrn_quad_tweets.A, columns=cvec_quad.get_feature_names_out())\n",
    "\n",
    "mrn_most_common_quadgrams = mrn_quad_tweets_df.sum().sort_values(ascending=False).head(10)\n",
    "mrn_most_common_quadgrams"
   ]
  },
  {
   "cell_type": "markdown",
   "id": "afe5c225-b309-4833-ab6a-a7b58dc2b7d9",
   "metadata": {
    "jp-MarkdownHeadingCollapsed": true,
    "tags": []
   },
   "source": [
    "### 10 Most Common 5-grams"
   ]
  },
  {
   "cell_type": "code",
   "execution_count": 55,
   "id": "d4c594ee-2770-454f-9148-422590b758b0",
   "metadata": {},
   "outputs": [
    {
     "data": {
      "text/plain": [
       "familiares seres queridos descanse paz                        21\n",
       "sentido pésame familiares seres queridos                      16\n",
       "pésame familiares seres queridos descanse                     11\n",
       "condolencias familiares seres queridos descanse               10\n",
       "sinceras condolencias familiares seres queridos               10\n",
       "revistalanacion presentamos número encontrarás información     6\n",
       "evolucionar dejar energías contaminantes motivar               6\n",
       "conferencias narrativa propuesta acción nacional               6\n",
       "tiempos evolucionar dejar energías contaminantes               6\n",
       "ciclo conferencias narrativa propuesta acción                  6\n",
       "dtype: int64"
      ]
     },
     "execution_count": 55,
     "metadata": {},
     "output_type": "execute_result"
    }
   ],
   "source": [
    "# Instantiating a CountVectorizer object that splits the documents in the corpus into 5-grams.  Then fit and transformed Partido Acción Nacional's tweets before obtaining the 10 most common 5-grams.\n",
    "cvec_quint = CountVectorizer(ngram_range=(5, 5), stop_words=frozenset(spanish), lowercase=True)\n",
    "\n",
    "pan_quint_tweets = cvec_quint.fit_transform(pan_df['tweet'])\n",
    "\n",
    "pan_quint_tweets_df = pd.DataFrame(data=pan_quint_tweets.A, columns=cvec_quint.get_feature_names_out())\n",
    "\n",
    "pan_most_common_quintgrams = pan_quint_tweets_df.sum().sort_values(ascending=False).head(10)\n",
    "pan_most_common_quintgrams"
   ]
  },
  {
   "cell_type": "code",
   "execution_count": 56,
   "id": "6b5c5abd-c63f-496e-bf69-e99b4f22107c",
   "metadata": {},
   "outputs": [
    {
     "data": {
      "text/plain": [
       "ley acceso universal medicamentos gratuitos                   12\n",
       "presidente alitomorenoc secretaria caroviggiano encuentran     6\n",
       "solidaridad momentos difíciles descanse paz                    5\n",
       "registro público nacional agresores sexuales                   5\n",
       "presidente alitomorenoc sostiene importante encuentro          5\n",
       "presidente alitomorenoc candidato presidencia municipal        5\n",
       "unimos pena embarga familiares amigos                          5\n",
       "candidata gubernatura quintana roo hendricksles                4\n",
       "alitomorenoc candidato gubernatura sonora egandarac            4\n",
       "junio vota candidatas candidatos pri                           4\n",
       "dtype: int64"
      ]
     },
     "execution_count": 56,
     "metadata": {},
     "output_type": "execute_result"
    }
   ],
   "source": [
    "# Fit and transformed the CountVectorizer object above on Partido Revolucionario Institucional's tweets before obtaining the 10 most common 5-grams.\n",
    "\n",
    "pri_quint_tweets = cvec_quint.fit_transform(pri_df['tweet'])\n",
    "\n",
    "pri_quint_tweets_df = pd.DataFrame(data=pri_quint_tweets.A, columns=cvec_quint.get_feature_names_out())\n",
    "\n",
    "pri_most_common_quintgrams = pri_quint_tweets_df.sum().sort_values(ascending=False).head(10)\n",
    "pri_most_common_quintgrams"
   ]
  },
  {
   "cell_type": "code",
   "execution_count": 57,
   "id": "75ab0b27-4f12-47fc-ab3c-03d4a13aa013",
   "metadata": {},
   "outputs": [
    {
     "data": {
      "text/plain": [
       "delfina gómez dé cara millones                                        33\n",
       "gómez dé cara millones estudiantes                                    33\n",
       "cara millones estudiantes niega educación                             33\n",
       "dé cara millones estudiantes niega                                    33\n",
       "estudiantes niega educación completo alimentación                     19\n",
       "millones estudiantes niega educación completo                         19\n",
       "niega educación completo alimentación evitar                          19\n",
       "educación completo alimentación evitar comparezca                     19\n",
       "completo alimentación evitar comparezca escuelasdetiempocompletosí    19\n",
       "porqué exigimos programa escuelasdetiempocompleto desaparezca         17\n",
       "dtype: int64"
      ]
     },
     "execution_count": 57,
     "metadata": {},
     "output_type": "execute_result"
    }
   ],
   "source": [
    "# Fit and transformed the CountVectorizer object above on Partido de la Revolución Democrática's tweets before obtaining the 10 most common 5-grams.\n",
    "\n",
    "prd_quint_tweets = cvec_quint.fit_transform(prd_df['tweet'])\n",
    "\n",
    "prd_quint_tweets_df = pd.DataFrame(data=prd_quint_tweets.A, columns=cvec_quint.get_feature_names_out())\n",
    "\n",
    "prd_most_common_quintgrams = prd_quint_tweets_df.sum().sort_values(ascending=False).head(10)\n",
    "prd_most_common_quintgrams"
   ]
  },
  {
   "cell_type": "code",
   "execution_count": 58,
   "id": "7372cf30-2515-4296-8a20-a1461649835f",
   "metadata": {},
   "outputs": [
    {
     "data": {
      "text/plain": [
       "motivo cumpleaños sigamos trabajando méxicoverde           28\n",
       "cumpleaños sigamos trabajando méxicoverde enhorabuena      27\n",
       "enviamos felicitación fuerte abrazo amigo                  21\n",
       "felicitación fuerte abrazo amigo compañero                 21\n",
       "conoce lodestacadodelasemana 3delverde cámara diputados    17\n",
       "celebramos basurachallenge únete vecinos localidad         10\n",
       "limpia espacio público unidos méxicoverde                  10\n",
       "localidad limpia espacio público unidos                    10\n",
       "basurachallenge únete vecinos localidad limpia             10\n",
       "únete vecinos localidad limpia espacio                     10\n",
       "dtype: int64"
      ]
     },
     "execution_count": 58,
     "metadata": {},
     "output_type": "execute_result"
    }
   ],
   "source": [
    "# Fit and transformed the CountVectorizer object above on Partido Verde Ecologista de México's tweets before obtaining the 10 most common 5-grams.\n",
    "\n",
    "pv_quint_tweets = cvec_quint.fit_transform(pv_df['tweet'])\n",
    "\n",
    "pv_quint_tweets_df = pd.DataFrame(data=pv_quint_tweets.A, columns=cvec_quint.get_feature_names_out())\n",
    "\n",
    "pv_most_common_quintgrams = pv_quint_tweets_df.sum().sort_values(ascending=False).head(10)\n",
    "pv_most_common_quintgrams"
   ]
  },
  {
   "cell_type": "code",
   "execution_count": 59,
   "id": "609b6efc-1f6b-46f9-80f7-189a3c9e4d00",
   "metadata": {},
   "outputs": [
    {
     "data": {
      "text/plain": [
       "pablo_vah escúchanos plataforma favorita spotify          9\n",
       "na na na na na                                            7\n",
       "preso político gobernador morenista veracruz              5\n",
       "nacional militantes simpatizantes movimiento ciudadano    5\n",
       "asamblea nacional militantes simpatizantes movimiento     5\n",
       "hrapcwgcpo google vzuuijuczy amazon yvjjz9okik            5\n",
       "xpxmqqniko apple ykhsqpksr6 amazon 1au630xsfb             5\n",
       "google xpxmqqniko apple ykhsqpksr6 amazon                 5\n",
       "google vzuuijuczy amazon yvjjz9okik apple                 5\n",
       "vzuuijuczy amazon yvjjz9okik apple 3rnejpqhaq             5\n",
       "dtype: int64"
      ]
     },
     "execution_count": 59,
     "metadata": {},
     "output_type": "execute_result"
    }
   ],
   "source": [
    "# Fit and transformed the CountVectorizer object above on Movimiento Ciudadano's tweets before obtaining the 10 most common 5-grams.\n",
    "\n",
    "mc_quint_tweets = cvec_quint.fit_transform(mc_df['tweet'])\n",
    "\n",
    "mc_quint_tweets_df = pd.DataFrame(data=mc_quint_tweets.A, columns=cvec_quint.get_feature_names_out())\n",
    "\n",
    "mc_most_common_quintgrams = mc_quint_tweets_df.sum().sort_values(ascending=False).head(10)\n",
    "mc_most_common_quintgrams"
   ]
  },
  {
   "cell_type": "code",
   "execution_count": 60,
   "id": "bb051f43-2c7a-4a2c-a3ec-d83391f54926",
   "metadata": {},
   "outputs": [
    {
     "data": {
      "text/plain": [
       "4t información pueblo democracia transparencia                       113\n",
       "conferenciapresidente 4t información pueblo democracia               106\n",
       "compartimos resumen conferenciapresidente 4t información             106\n",
       "resumen conferenciapresidente 4t información pueblo                  106\n",
       "lopezobrador_ presidente méxico 01 22                                 20\n",
       "presidente méxico 01 22 conferenciapresidente                         20\n",
       "conferencia prensa matutina palacio nacional                          16\n",
       "comparte difunde voz movimiento morenanoticias                        13\n",
       "mensajealpueblo 3añosdetransformación 01 12 21                        13\n",
       "presidente lopezobrador_ mensajealpueblo 3añosdetransformación 01     12\n",
       "dtype: int64"
      ]
     },
     "execution_count": 60,
     "metadata": {},
     "output_type": "execute_result"
    }
   ],
   "source": [
    "# Fit and transformed the CountVectorizer object above on Morena's tweets before obtaining the 10 most common 5-grams.\n",
    "\n",
    "mrn_quint_tweets = cvec_quint.fit_transform(mrn_df['tweet'])\n",
    "\n",
    "mrn_quint_tweets_df = pd.DataFrame(data=mrn_quint_tweets.A, columns=cvec_quint.get_feature_names_out())\n",
    "\n",
    "mrn_most_common_quintgrams = mrn_quint_tweets_df.sum().sort_values(ascending=False).head(10)\n",
    "mrn_most_common_quintgrams"
   ]
  },
  {
   "cell_type": "markdown",
   "id": "74234df1-1ed3-42c0-b419-a3e458fd13b5",
   "metadata": {
    "jp-MarkdownHeadingCollapsed": true,
    "tags": []
   },
   "source": [
    "## N-grams Without Party and Politican Names"
   ]
  },
  {
   "cell_type": "markdown",
   "id": "96498c05-7ed9-4a10-887e-1c0d955a246a",
   "metadata": {
    "jp-MarkdownHeadingCollapsed": true,
    "tags": []
   },
   "source": [
    "### 10 Most Common Unigrams Without Party and Politician Names"
   ]
  },
  {
   "cell_type": "code",
   "execution_count": 61,
   "id": "a2d831d9-10cc-4eea-96fd-8db810a2b9e3",
   "metadata": {},
   "outputs": [
    {
     "data": {
      "text/plain": [
       "méxico          502\n",
       "gobierno        399\n",
       "familias        322\n",
       "país            280\n",
       "junio           190\n",
       "salud           160\n",
       "diputadospan    159\n",
       "resultados      156\n",
       "mexicanos       146\n",
       "rumbo           142\n",
       "dtype: int64"
      ]
     },
     "execution_count": 61,
     "metadata": {},
     "output_type": "execute_result"
    }
   ],
   "source": [
    "# Instantiating a CountVectorizer object that splits the documents in the corpus into unigrams.  Then fit and transformed Partido Acción Nacional's tweets before obtaining the 10 most common unigrams.\n",
    "cvec_uni = CountVectorizer(ngram_range=(1, 1), stop_words=frozenset(spanish_politics), lowercase=True)\n",
    "\n",
    "pan_uni_tweets = cvec_uni.fit_transform(pan_df['tweet'])\n",
    "\n",
    "pan_uni_tweets_df = pd.DataFrame(data=pan_uni_tweets.A, columns=cvec_uni.get_feature_names_out())\n",
    "\n",
    "pan_most_common_unigrams = pan_uni_tweets_df.sum().sort_values(ascending=False).head(10)\n",
    "pan_most_common_unigrams"
   ]
  },
  {
   "cell_type": "code",
   "execution_count": 62,
   "id": "5cb34c3e-d293-4ce1-a1d9-a17122f3f929",
   "metadata": {},
   "outputs": [
    {
     "data": {
      "text/plain": [
       "méxico        574\n",
       "familias      294\n",
       "junio         286\n",
       "mujeres       280\n",
       "ganar         235\n",
       "mexicanos     221\n",
       "gobierno      216\n",
       "país          213\n",
       "resultados    194\n",
       "propuestas    178\n",
       "dtype: int64"
      ]
     },
     "execution_count": 62,
     "metadata": {},
     "output_type": "execute_result"
    }
   ],
   "source": [
    "# Fit and transformed the CountVectorizer object above on Partido Revolucionario Institucional's tweets before obtaining the 10 most common unigrams.\n",
    "\n",
    "pri_uni_tweets = cvec_uni.fit_transform(pri_df['tweet'])\n",
    "\n",
    "pri_uni_tweets_df = pd.DataFrame(data=pri_uni_tweets.A, columns=cvec_uni.get_feature_names_out())\n",
    "\n",
    "pri_most_common_unigrams = pri_uni_tweets_df.sum().sort_values(ascending=False).head(10)\n",
    "pri_most_common_unigrams"
   ]
  },
  {
   "cell_type": "code",
   "execution_count": 63,
   "id": "5823ae1d-e69f-45cf-a20e-71932b612a56",
   "metadata": {},
   "outputs": [
    {
     "data": {
      "text/plain": [
       "méxico                      397\n",
       "gobierno                    211\n",
       "mujeres                     183\n",
       "evillegasv                  130\n",
       "junio                       130\n",
       "somosprd                    129\n",
       "educación                   129\n",
       "escuelasdetiempocompleto    127\n",
       "futuro                      127\n",
       "violencia                   117\n",
       "dtype: int64"
      ]
     },
     "execution_count": 63,
     "metadata": {},
     "output_type": "execute_result"
    }
   ],
   "source": [
    "# Fit and transformed the CountVectorizer object above on Partido de la Revolución Democrática's tweets before obtaining the 10 most common unigrams.\n",
    "\n",
    "prd_uni_tweets = cvec_uni.fit_transform(prd_df['tweet'])\n",
    "\n",
    "prd_uni_tweets_df = pd.DataFrame(data=prd_uni_tweets.A, columns=cvec_uni.get_feature_names_out())\n",
    "\n",
    "prd_most_common_unigrams = prd_uni_tweets_df.sum().sort_values(ascending=False).head(10)\n",
    "prd_most_common_unigrams"
   ]
  },
  {
   "cell_type": "code",
   "execution_count": 64,
   "id": "62758a7e-3708-47aa-8671-7d2de8131214",
   "metadata": {},
   "outputs": [
    {
     "data": {
      "text/plain": [
       "país              311\n",
       "méxico            259\n",
       "ambiente          245\n",
       "salud             182\n",
       "méxicoverde       168\n",
       "méxicounido       155\n",
       "covid19           140\n",
       "mexicanos         129\n",
       "vida              117\n",
       "verdesenadomex    114\n",
       "dtype: int64"
      ]
     },
     "execution_count": 64,
     "metadata": {},
     "output_type": "execute_result"
    }
   ],
   "source": [
    "# Fit and transformed the CountVectorizer object above on Partido Verde Ecologista de México's tweets before obtaining the 10 most common unigrams.\n",
    "\n",
    "pv_uni_tweets = cvec_uni.fit_transform(pv_df['tweet'])\n",
    "\n",
    "pv_uni_tweets_df = pd.DataFrame(data=pv_uni_tweets.A, columns=cvec_uni.get_feature_names_out())\n",
    "\n",
    "pv_most_common_unigrams = pv_uni_tweets_df.sum().sort_values(ascending=False).head(10)\n",
    "pv_most_common_unigrams"
   ]
  },
  {
   "cell_type": "code",
   "execution_count": 65,
   "id": "159a6855-91f1-497e-bd17-7ad6b3f19460",
   "metadata": {},
   "outputs": [
    {
     "data": {
      "text/plain": [
       "futuro                  307\n",
       "gobierno                227\n",
       "méxico                  215\n",
       "delríopresopolítico     175\n",
       "mujeres                 159\n",
       "palabrasenmovimiento    155\n",
       "país                    144\n",
       "ambiente                131\n",
       "derechos                121\n",
       "personas                118\n",
       "dtype: int64"
      ]
     },
     "execution_count": 65,
     "metadata": {},
     "output_type": "execute_result"
    }
   ],
   "source": [
    "# Fit and transformed the CountVectorizer object above on Movimiento Ciudadano's tweets before obtaining the 10 most common unigrams.\n",
    "\n",
    "mc_uni_tweets = cvec_uni.fit_transform(mc_df['tweet'])\n",
    "\n",
    "mc_uni_tweets_df = pd.DataFrame(data=mc_uni_tweets.A, columns=cvec_uni.get_feature_names_out())\n",
    "\n",
    "mc_most_common_unigrams = mc_uni_tweets_df.sum().sort_values(ascending=False).head(10)\n",
    "mc_most_common_unigrams"
   ]
  },
  {
   "cell_type": "code",
   "execution_count": 66,
   "id": "7c04d1e7-8ad0-4905-a4ef-05c14f0999b9",
   "metadata": {},
   "outputs": [
    {
     "data": {
      "text/plain": [
       "pueblo            749\n",
       "méxico            748\n",
       "4t                411\n",
       "transformación    267\n",
       "democracia        240\n",
       "país              218\n",
       "francamente       197\n",
       "gobierno          185\n",
       "esperanza         167\n",
       "compartimos       162\n",
       "dtype: int64"
      ]
     },
     "execution_count": 66,
     "metadata": {},
     "output_type": "execute_result"
    }
   ],
   "source": [
    "# Fit and transformed the CountVectorizer object above on Morena's tweets before obtaining the 10 most common unigrams.\n",
    "\n",
    "mrn_uni_tweets = cvec_uni.fit_transform(mrn_df['tweet'])\n",
    "\n",
    "mrn_uni_tweets_df = pd.DataFrame(data=mrn_uni_tweets.A, columns=cvec_uni.get_feature_names_out())\n",
    "\n",
    "mrn_most_common_unigrams = mrn_uni_tweets_df.sum().sort_values(ascending=False).head(10)\n",
    "mrn_most_common_unigrams"
   ]
  },
  {
   "cell_type": "markdown",
   "id": "9a6fb510-cba8-43fa-b63c-279c7bc8f4dd",
   "metadata": {
    "jp-MarkdownHeadingCollapsed": true,
    "tags": []
   },
   "source": [
    "### 10 Most Common Bigrams Without Party and Politician Names"
   ]
  },
  {
   "cell_type": "code",
   "execution_count": 67,
   "id": "e7894aff-6ff6-47bc-a5d5-a349c30a38aa",
   "metadata": {},
   "outputs": [
    {
     "data": {
      "text/plain": [
       "gobierno federal      82\n",
       "familias mexicanas    72\n",
       "energías limpias      70\n",
       "descanse paz          53\n",
       "cambiar rumbo         43\n",
       "seres queridos        42\n",
       "cámara diputados      42\n",
       "rumbo méxico          40\n",
       "méxico necesita       39\n",
       "rumbo país            37\n",
       "dtype: int64"
      ]
     },
     "execution_count": 67,
     "metadata": {},
     "output_type": "execute_result"
    }
   ],
   "source": [
    "# Instantiating a CountVectorizer object that splits the documents in the corpus into bigrams.  Then fit and transformed Partido Acción Nacional's tweets before obtaining the 10 most common bigrams.\n",
    "cvec_bi = CountVectorizer(ngram_range=(2, 2), stop_words=frozenset(spanish_politics), lowercase=True)\n",
    "\n",
    "pan_bi_tweets = cvec_bi.fit_transform(pan_df['tweet'])\n",
    "\n",
    "pan_bi_tweets_df = pd.DataFrame(data=pan_bi_tweets.A, columns=cvec_bi.get_feature_names_out())\n",
    "\n",
    "pan_most_common_bigrams = pan_bi_tweets_df.sum().sort_values(ascending=False).head(10)\n",
    "pan_most_common_bigrams"
   ]
  },
  {
   "cell_type": "code",
   "execution_count": 68,
   "id": "1102164a-41ce-41b8-811f-101bdab418e3",
   "metadata": {},
   "outputs": [
    {
     "data": {
      "text/plain": [
       "cámara diputados         59\n",
       "diputados federales      55\n",
       "mujeres hombres          52\n",
       "candidatas candidatos    51\n",
       "familias mexicanas       51\n",
       "ganar junio              48\n",
       "invitamos seguir         39\n",
       "diputadas diputados      39\n",
       "junio vota               37\n",
       "gobierno federal         36\n",
       "dtype: int64"
      ]
     },
     "execution_count": 68,
     "metadata": {},
     "output_type": "execute_result"
    }
   ],
   "source": [
    "# Fit and transformed the CountVectorizer object above on Partido Revolucionario Institucional's tweets before obtaining the 10 most common bigrams.\n",
    "\n",
    "pri_bi_tweets = cvec_bi.fit_transform(pri_df['tweet'])\n",
    "\n",
    "pri_bi_tweets_df = pd.DataFrame(data=pri_bi_tweets.A, columns=cvec_bi.get_feature_names_out())\n",
    "\n",
    "pri_most_common_bigrams = pri_bi_tweets_df.sum().sort_values(ascending=False).head(10)\n",
    "pri_most_common_bigrams"
   ]
  },
  {
   "cell_type": "code",
   "execution_count": 69,
   "id": "e4d2b8d8-037e-496e-974c-17c9aa8d9c2b",
   "metadata": {},
   "outputs": [
    {
     "data": {
      "text/plain": [
       "gobierno federal                     75\n",
       "link boletín                         60\n",
       "niñas niños                          53\n",
       "delfina gómez                        52\n",
       "juntas juntos                        42\n",
       "33 años                              37\n",
       "niega educación                      34\n",
       "millones estudiantes                 34\n",
       "programa escuelasdetiempocompleto    33\n",
       "gómez dé                             33\n",
       "dtype: int64"
      ]
     },
     "execution_count": 69,
     "metadata": {},
     "output_type": "execute_result"
    }
   ],
   "source": [
    "# Fit and transformed the CountVectorizer object above on Partido de la Revolución Democrática's tweets before obtaining the 10 most common bigrams.\n",
    "\n",
    "prd_bi_tweets = cvec_bi.fit_transform(prd_df['tweet'])\n",
    "\n",
    "prd_bi_tweets_df = pd.DataFrame(data=prd_bi_tweets.A, columns=cvec_bi.get_feature_names_out())\n",
    "\n",
    "prd_most_common_bigrams = prd_bi_tweets_df.sum().sort_values(ascending=False).head(10)\n",
    "prd_most_common_bigrams"
   ]
  },
  {
   "cell_type": "code",
   "execution_count": 70,
   "id": "75baff60-a2cb-4ecd-91b5-b4607f2e7230",
   "metadata": {},
   "outputs": [
    {
     "data": {
      "text/plain": [
       "covid 19                 75\n",
       "enviamos felicitación    43\n",
       "motivo cumpleaños        42\n",
       "pequeñas acciones        36\n",
       "cumpleaños sigamos       35\n",
       "san luis                 34\n",
       "contagios covid19        34\n",
       "fuerte abrazo            33\n",
       "luis potosí              33\n",
       "sigamos trabajando       33\n",
       "dtype: int64"
      ]
     },
     "execution_count": 70,
     "metadata": {},
     "output_type": "execute_result"
    }
   ],
   "source": [
    "# Fit and transformed the CountVectorizer object above on Partido Verde Ecologista de México's tweets before obtaining the 10 most common bigrams.\n",
    "\n",
    "pv_bi_tweets = cvec_bi.fit_transform(pv_df['tweet'])\n",
    "\n",
    "pv_bi_tweets_df = pd.DataFrame(data=pv_bi_tweets.A, columns=cvec_bi.get_feature_names_out())\n",
    "\n",
    "pv_most_common_bigrams = pv_bi_tweets_df.sum().sort_values(ascending=False).head(10)\n",
    "pv_most_common_bigrams"
   ]
  },
  {
   "cell_type": "code",
   "execution_count": 71,
   "id": "8eb9a263-8567-4b94-8af4-0073cdc9a597",
   "metadata": {},
   "outputs": [
    {
     "data": {
      "text/plain": [
       "plataforma favorita           80\n",
       "energías limpias              78\n",
       "niñas niños                   65\n",
       "escúchanos plataforma         63\n",
       "favorita spotify              55\n",
       "gobierno federal              52\n",
       "reformaeléctrica tóxica       49\n",
       "trato ambiente                46\n",
       "andamosbienpuestxs regular    38\n",
       "comisión permanente           32\n",
       "dtype: int64"
      ]
     },
     "execution_count": 71,
     "metadata": {},
     "output_type": "execute_result"
    }
   ],
   "source": [
    "# Fit and transformed the CountVectorizer object above on Movimiento Ciudadano's tweets before obtaining the 10 most common bigrams.\n",
    "\n",
    "mc_bi_tweets = cvec_bi.fit_transform(mc_df['tweet'])\n",
    "\n",
    "mc_bi_tweets_df = pd.DataFrame(data=mc_bi_tweets.A, columns=cvec_bi.get_feature_names_out())\n",
    "\n",
    "mc_most_common_bigrams = mc_bi_tweets_df.sum().sort_values(ascending=False).head(10)\n",
    "mc_most_common_bigrams"
   ]
  },
  {
   "cell_type": "code",
   "execution_count": 72,
   "id": "f7dea3da-130e-4798-82eb-43b65bccfb8f",
   "metadata": {},
   "outputs": [
    {
     "data": {
      "text/plain": [
       "pueblo democracia           117\n",
       "compartimos resumen         116\n",
       "información pueblo          116\n",
       "4t información              115\n",
       "democracia transparencia    114\n",
       "resumen 4t                  106\n",
       "pueblo méxico               104\n",
       "imagen circulaenredes       104\n",
       "12 21                        83\n",
       "lópez obrador                79\n",
       "dtype: int64"
      ]
     },
     "execution_count": 72,
     "metadata": {},
     "output_type": "execute_result"
    }
   ],
   "source": [
    "# Fit and transformed the CountVectorizer object above on Morena's tweets before obtaining the 10 most common bigrams.\n",
    "\n",
    "mrn_bi_tweets = cvec_bi.fit_transform(mrn_df['tweet'])\n",
    "\n",
    "mrn_bi_tweets_df = pd.DataFrame(data=mrn_bi_tweets.A, columns=cvec_bi.get_feature_names_out())\n",
    "\n",
    "mrn_most_common_bigrams = mrn_bi_tweets_df.sum().sort_values(ascending=False).head(10)\n",
    "mrn_most_common_bigrams"
   ]
  },
  {
   "cell_type": "markdown",
   "id": "318fc3f2-cd74-4770-acc9-f193e42dc09e",
   "metadata": {
    "jp-MarkdownHeadingCollapsed": true,
    "tags": []
   },
   "source": [
    "### 10 Most Common Trigrams Without Party and Politican Names"
   ]
  },
  {
   "cell_type": "code",
   "execution_count": 73,
   "id": "5541b80f-98cf-4dd3-b256-8c298568bba5",
   "metadata": {},
   "outputs": [
    {
     "data": {
      "text/plain": [
       "familiares seres queridos                 33\n",
       "seres queridos descanse                   25\n",
       "queridos descanse paz                     25\n",
       "lamentamos profundamente fallecimiento    25\n",
       "san luis potosí                           22\n",
       "energías limpias renovables               22\n",
       "cambiar rumbo méxico                      18\n",
       "sentido pésame familiares                 17\n",
       "pésame familiares seres                   16\n",
       "cambiar rumbo país                        16\n",
       "dtype: int64"
      ]
     },
     "execution_count": 73,
     "metadata": {},
     "output_type": "execute_result"
    }
   ],
   "source": [
    "# Instantiating a CountVectorizer object that splits the documents in the corpus into trigrams.  Then fit and transformed Partido Acción Nacional's tweets before obtaining the 10 most common trigrams.\n",
    "cvec_tri = CountVectorizer(ngram_range=(3, 3), stop_words=frozenset(spanish_politics), lowercase=True)\n",
    "\n",
    "pan_tri_tweets = cvec_tri.fit_transform(pan_df['tweet'])\n",
    "\n",
    "pan_tri_tweets_df = pd.DataFrame(data=pan_tri_tweets.A, columns=cvec_tri.get_feature_names_out())\n",
    "\n",
    "pan_most_common_trigrams = pan_tri_tweets_df.sum().sort_values(ascending=False).head(10)\n",
    "pan_most_common_trigrams"
   ]
  },
  {
   "cell_type": "code",
   "execution_count": 74,
   "id": "819b93fe-c260-4fe9-bf85-a7fc7d85ca9c",
   "metadata": {},
   "outputs": [
    {
     "data": {
      "text/plain": [
       "san luis potosí                     16\n",
       "recuperar rumbo país                15\n",
       "candidato presidencia municipal     15\n",
       "mujeres hombres comprometidos       13\n",
       "diputados locales electos           13\n",
       "diputadas diputados locales         13\n",
       "acceso universal medicamentos       12\n",
       "universal medicamentos gratuitos    12\n",
       "diputadas diputados federales       12\n",
       "ley acceso universal                12\n",
       "dtype: int64"
      ]
     },
     "execution_count": 74,
     "metadata": {},
     "output_type": "execute_result"
    }
   ],
   "source": [
    "# Fit and transformed the CountVectorizer object above on Partido Revolucionario Institucional's tweets before obtaining the 10 most common trigrams.\n",
    "\n",
    "pri_tri_tweets = cvec_tri.fit_transform(pri_df['tweet'])\n",
    "\n",
    "pri_tri_tweets_df = pd.DataFrame(data=pri_tri_tweets.A, columns=cvec_tri.get_feature_names_out())\n",
    "\n",
    "pri_most_common_trigrams = pri_tri_tweets_df.sum().sort_values(ascending=False).head(10)\n",
    "pri_most_common_trigrams"
   ]
  },
  {
   "cell_type": "code",
   "execution_count": 75,
   "id": "f6499818-16e8-4010-b380-ae8f138f02d9",
   "metadata": {},
   "outputs": [
    {
     "data": {
      "text/plain": [
       "dé cara millones                                33\n",
       "estudiantes niega educación                     33\n",
       "cara millones estudiantes                       33\n",
       "gómez dé cara                                   33\n",
       "millones estudiantes niega                      33\n",
       "delfina gómez dé                                33\n",
       "niega educación completo                        20\n",
       "completo alimentación evitar                    19\n",
       "alimentación evitar comparezca                  19\n",
       "evitar comparezca escuelasdetiempocompletosí    19\n",
       "dtype: int64"
      ]
     },
     "execution_count": 75,
     "metadata": {},
     "output_type": "execute_result"
    }
   ],
   "source": [
    "# Fit and transformed the CountVectorizer object above on Partido de la Revolución Democrática's tweets before obtaining the 10 most common trigrams.\n",
    "\n",
    "prd_tri_tweets = cvec_tri.fit_transform(prd_df['tweet'])\n",
    "\n",
    "prd_tri_tweets_df = pd.DataFrame(data=prd_tri_tweets.A, columns=cvec_tri.get_feature_names_out())\n",
    "\n",
    "prd_most_common_trigrams = prd_tri_tweets_df.sum().sort_values(ascending=False).head(10)\n",
    "prd_most_common_trigrams"
   ]
  },
  {
   "cell_type": "code",
   "execution_count": 76,
   "id": "956a4dd7-6f1a-4919-9ad6-e4371da8a4b7",
   "metadata": {},
   "outputs": [
    {
     "data": {
      "text/plain": [
       "motivo cumpleaños sigamos             35\n",
       "san luis potosí                       33\n",
       "cumpleaños sigamos trabajando         32\n",
       "felicitación fuerte abrazo            32\n",
       "enviamos felicitación fuerte          32\n",
       "sigamos trabajando méxicoverde        29\n",
       "trabajando méxicoverde enhorabuena    27\n",
       "abrazo amigo compañero                21\n",
       "fuerte abrazo amigo                   21\n",
       "3delverde cámara diputados            18\n",
       "dtype: int64"
      ]
     },
     "execution_count": 76,
     "metadata": {},
     "output_type": "execute_result"
    }
   ],
   "source": [
    "# Fit and transformed the CountVectorizer object above on Partido Verde Ecologista de México's tweets before obtaining the 10 most common trigrams.\n",
    "\n",
    "pv_tri_tweets = cvec_tri.fit_transform(pv_df['tweet'])\n",
    "\n",
    "pv_tri_tweets_df = pd.DataFrame(data=pv_tri_tweets.A, columns=cvec_tri.get_feature_names_out())\n",
    "\n",
    "pv_most_common_trigrams = pv_tri_tweets_df.sum().sort_values(ascending=False).head(10)\n",
    "pv_most_common_trigrams"
   ]
  },
  {
   "cell_type": "code",
   "execution_count": 77,
   "id": "30f26a69-612f-4d63-8aa0-4610ad550acd",
   "metadata": {},
   "outputs": [
    {
     "data": {
      "text/plain": [
       "escúchanos plataforma favorita       63\n",
       "plataforma favorita spotify          55\n",
       "energías limpias baratas             26\n",
       "na na na                             22\n",
       "darle trato ambiente                 17\n",
       "centro causas frente                 17\n",
       "personas centro causas               16\n",
       "foro evoluciónmexicana nuevotrato    15\n",
       "luis rodríguez zapatero              14\n",
       "transitar energías limpias           14\n",
       "dtype: int64"
      ]
     },
     "execution_count": 77,
     "metadata": {},
     "output_type": "execute_result"
    }
   ],
   "source": [
    "# Fit and transformed the CountVectorizer object above on Movimiento Ciudadano's tweets before obtaining the 10 most common trigrams.\n",
    "\n",
    "mc_tri_tweets = cvec_tri.fit_transform(mc_df['tweet'])\n",
    "\n",
    "mc_tri_tweets_df = pd.DataFrame(data=mc_tri_tweets.A, columns=cvec_tri.get_feature_names_out())\n",
    "\n",
    "mc_most_common_trigrams = mc_tri_tweets_df.sum().sort_values(ascending=False).head(10)\n",
    "mc_most_common_trigrams"
   ]
  },
  {
   "cell_type": "code",
   "execution_count": 78,
   "id": "5ce73355-396a-4b20-870f-97f36272da38",
   "metadata": {},
   "outputs": [
    {
     "data": {
      "text/plain": [
       "4t información pueblo                        115\n",
       "información pueblo democracia                113\n",
       "pueblo democracia transparencia              113\n",
       "compartimos resumen 4t                       106\n",
       "resumen 4t información                       106\n",
       "amor amor paga                                34\n",
       "conferencia prensa matutina                   24\n",
       "soberanía energética lareformaeléctricava     22\n",
       "01 12 21                                      21\n",
       "comparte difunde voz                          20\n",
       "dtype: int64"
      ]
     },
     "execution_count": 78,
     "metadata": {},
     "output_type": "execute_result"
    }
   ],
   "source": [
    "# Fit and transformed the CountVectorizer object above on Morena's tweets before obtaining the 10 most common trigrams.\n",
    "\n",
    "mrn_tri_tweets = cvec_tri.fit_transform(mrn_df['tweet'])\n",
    "\n",
    "mrn_tri_tweets_df = pd.DataFrame(data=mrn_tri_tweets.A, columns=cvec_tri.get_feature_names_out())\n",
    "\n",
    "mrn_most_common_trigrams = mrn_tri_tweets_df.sum().sort_values(ascending=False).head(10)\n",
    "mrn_most_common_trigrams"
   ]
  },
  {
   "cell_type": "markdown",
   "id": "fb54a3de-6745-4f82-8cd8-628ee4fb90eb",
   "metadata": {
    "jp-MarkdownHeadingCollapsed": true,
    "tags": []
   },
   "source": [
    "### 10 Most Common 4-grams Without Party and Politican Names"
   ]
  },
  {
   "cell_type": "code",
   "execution_count": 79,
   "id": "e31e0770-d77b-484d-956c-ca653f0d7996",
   "metadata": {},
   "outputs": [
    {
     "data": {
      "text/plain": [
       "seres queridos descanse paz                 25\n",
       "familiares seres queridos descanse          21\n",
       "sentido pésame familiares seres             16\n",
       "pésame familiares seres queridos            16\n",
       "condolencias familiares seres queridos      15\n",
       "sinceras condolencias familiares seres      10\n",
       "evolucionar dejar energías contaminantes     7\n",
       "mil muertes covid 19                         6\n",
       "ciclo conferencias narrativa propuesta       6\n",
       "motivar energías limpias renovables          6\n",
       "dtype: int64"
      ]
     },
     "execution_count": 79,
     "metadata": {},
     "output_type": "execute_result"
    }
   ],
   "source": [
    "# Instantiating a CountVectorizer object that splits the documents in the corpus into 4-grams.  Then fit and transformed Partido Acción Nacional's tweets before obtaining the 10 most common 4-grams.\n",
    "cvec_quad = CountVectorizer(ngram_range=(4, 4), stop_words=frozenset(spanish_politics), lowercase=True)\n",
    "\n",
    "pan_quad_tweets = cvec_quad.fit_transform(pan_df['tweet'])\n",
    "\n",
    "pan_quad_tweets_df = pd.DataFrame(data=pan_quad_tweets.A, columns=cvec_quad.get_feature_names_out())\n",
    "\n",
    "pan_most_common_quadgrams = pan_quad_tweets_df.sum().sort_values(ascending=False).head(10)\n",
    "pan_most_common_quadgrams"
   ]
  },
  {
   "cell_type": "code",
   "execution_count": 80,
   "id": "423dac67-51a8-4ead-8e73-1bd90004ec40",
   "metadata": {},
   "outputs": [
    {
     "data": {
      "text/plain": [
       "ley acceso universal medicamentos                  12\n",
       "acceso universal medicamentos gratuitos            12\n",
       "próxima legislatura cámara diputados               10\n",
       "diputadas diputados locales electos                10\n",
       "junio vota candidatas candidatos                    7\n",
       "debate candidatas candidatos gubernatura            7\n",
       "momentos difíciles descanse paz                     7\n",
       "18 00 conferencia magistral                         6\n",
       "lamentamos profundamente sensible fallecimiento     6\n",
       "invitamos seguir conferencia magistral              6\n",
       "dtype: int64"
      ]
     },
     "execution_count": 80,
     "metadata": {},
     "output_type": "execute_result"
    }
   ],
   "source": [
    "# Fit and transformed the CountVectorizer object above on Partido Revolucionario Institucional's tweets before obtaining the 10 most common 4-grams.\n",
    "\n",
    "pri_quad_tweets = cvec_quad.fit_transform(pri_df['tweet'])\n",
    "\n",
    "pri_quad_tweets_df = pd.DataFrame(data=pri_quad_tweets.A, columns=cvec_quad.get_feature_names_out())\n",
    "\n",
    "pri_most_common_quadgrams = pri_quad_tweets_df.sum().sort_values(ascending=False).head(10)\n",
    "pri_most_common_quadgrams"
   ]
  },
  {
   "cell_type": "code",
   "execution_count": 81,
   "id": "4c960d17-7b3c-4817-a47c-35509fe5244d",
   "metadata": {},
   "outputs": [
    {
     "data": {
      "text/plain": [
       "dé cara millones estudiantes                                 33\n",
       "millones estudiantes niega educación                         33\n",
       "gómez dé cara millones                                       33\n",
       "delfina gómez dé cara                                        33\n",
       "cara millones estudiantes niega                              33\n",
       "completo alimentación evitar comparezca                      19\n",
       "niega educación completo alimentación                        19\n",
       "estudiantes niega educación completo                         19\n",
       "alimentación evitar comparezca escuelasdetiempocompletosí    19\n",
       "educación completo alimentación evitar                       19\n",
       "dtype: int64"
      ]
     },
     "execution_count": 81,
     "metadata": {},
     "output_type": "execute_result"
    }
   ],
   "source": [
    "# Fit and transformed the CountVectorizer object above on Partido de la Revolución Democrática's tweets before obtaining the 10 most common 4-grams.\n",
    "\n",
    "prd_quad_tweets = cvec_quad.fit_transform(prd_df['tweet'])\n",
    "\n",
    "prd_quad_tweets_df = pd.DataFrame(data=prd_quad_tweets.A, columns=cvec_quad.get_feature_names_out())\n",
    "\n",
    "prd_most_common_quadgrams = prd_quad_tweets_df.sum().sort_values(ascending=False).head(10)\n",
    "prd_most_common_quadgrams"
   ]
  },
  {
   "cell_type": "code",
   "execution_count": 82,
   "id": "b6f45cd4-f1d7-42e1-9139-43aed0805409",
   "metadata": {},
   "outputs": [
    {
     "data": {
      "text/plain": [
       "motivo cumpleaños sigamos trabajando                   32\n",
       "enviamos felicitación fuerte abrazo                    32\n",
       "cumpleaños sigamos trabajando méxicoverde              28\n",
       "sigamos trabajando méxicoverde enhorabuena             27\n",
       "fuerte abrazo amigo compañero                          21\n",
       "felicitación fuerte abrazo amigo                       21\n",
       "contagio masivo covid 19                               17\n",
       "lodestacadodelasemana 3delverde cámara diputados       17\n",
       "conoce lodestacadodelasemana 3delverde cámara          17\n",
       "3delverde senado lodestacadodelasemana legisladores    15\n",
       "dtype: int64"
      ]
     },
     "execution_count": 82,
     "metadata": {},
     "output_type": "execute_result"
    }
   ],
   "source": [
    "# Fit and transformed the CountVectorizer object above on Partido Verde Ecologista de México's tweets before obtaining the 10 most common 4-grams.\n",
    "\n",
    "pv_quad_tweets = cvec_quad.fit_transform(pv_df['tweet'])\n",
    "\n",
    "pv_quad_tweets_df = pd.DataFrame(data=pv_quad_tweets.A, columns=cvec_quad.get_feature_names_out())\n",
    "\n",
    "pv_most_common_quadgrams = pv_quad_tweets_df.sum().sort_values(ascending=False).head(10)\n",
    "pv_most_common_quadgrams"
   ]
  },
  {
   "cell_type": "code",
   "execution_count": 83,
   "id": "65c84b84-3951-48b2-a667-c8a926ddcf38",
   "metadata": {},
   "outputs": [
    {
     "data": {
      "text/plain": [
       "escúchanos plataforma favorita spotify     42\n",
       "personas centro causas frente              16\n",
       "josé luis rodríguez zapatero               14\n",
       "na na na na                                14\n",
       "escúchanos plataforma favorita amazon      11\n",
       "escúchanos plataforma favorita google      10\n",
       "ley movilidad seguridad vial                8\n",
       "delriovirgen1 preso político gobernador     8\n",
       "nosqueremos vivas libres miedo              7\n",
       "josé manuel río virgen                      6\n",
       "dtype: int64"
      ]
     },
     "execution_count": 83,
     "metadata": {},
     "output_type": "execute_result"
    }
   ],
   "source": [
    "# Fit and transformed the CountVectorizer object above on Movimiento Ciudadano's tweets before obtaining the 10 most common 4-grams.\n",
    "\n",
    "mc_quad_tweets = cvec_quad.fit_transform(mc_df['tweet'])\n",
    "\n",
    "mc_quad_tweets_df = pd.DataFrame(data=mc_quad_tweets.A, columns=cvec_quad.get_feature_names_out())\n",
    "\n",
    "mc_most_common_quadgrams = mc_quad_tweets_df.sum().sort_values(ascending=False).head(10)\n",
    "mc_most_common_quadgrams"
   ]
  },
  {
   "cell_type": "code",
   "execution_count": 84,
   "id": "f613a1aa-3575-4a91-ae9e-082c48a09977",
   "metadata": {},
   "outputs": [
    {
     "data": {
      "text/plain": [
       "información pueblo democracia transparencia    113\n",
       "4t información pueblo democracia               113\n",
       "compartimos resumen 4t información             106\n",
       "resumen 4t información pueblo                  106\n",
       "conferencia prensa matutina palacio             16\n",
       "3añosdetransformación 01 12 21                  14\n",
       "mensajealpueblo 3añosdetransformación 01 12     13\n",
       "foros parlamento abierto reformaeléctrica       13\n",
       "comparte difunde voz morenanoticias             13\n",
       "derecho humano acceso energía                   12\n",
       "dtype: int64"
      ]
     },
     "execution_count": 84,
     "metadata": {},
     "output_type": "execute_result"
    }
   ],
   "source": [
    "# Fit and transformed the CountVectorizer object above on Morena's tweets before obtaining the 10 most common 4-grams.\n",
    "\n",
    "mrn_quad_tweets = cvec_quad.fit_transform(mrn_df['tweet'])\n",
    "\n",
    "mrn_quad_tweets_df = pd.DataFrame(data=mrn_quad_tweets.A, columns=cvec_quad.get_feature_names_out())\n",
    "\n",
    "mrn_most_common_quadgrams = mrn_quad_tweets_df.sum().sort_values(ascending=False).head(10)\n",
    "mrn_most_common_quadgrams"
   ]
  },
  {
   "cell_type": "markdown",
   "id": "23ddf9b9-e324-4a33-9b6b-48a7fa29cd67",
   "metadata": {
    "jp-MarkdownHeadingCollapsed": true,
    "tags": []
   },
   "source": [
    "### 10 Most Common 5-grams Without Party and Politican Names"
   ]
  },
  {
   "cell_type": "code",
   "execution_count": 85,
   "id": "dc66713d-ceb7-4956-aa54-de0f9f66bcb4",
   "metadata": {},
   "outputs": [
    {
     "data": {
      "text/plain": [
       "familiares seres queridos descanse paz                        21\n",
       "sentido pésame familiares seres queridos                      16\n",
       "pésame familiares seres queridos descanse                     11\n",
       "condolencias familiares seres queridos descanse               10\n",
       "sinceras condolencias familiares seres queridos               10\n",
       "tiempos evolucionar dejar energías contaminantes               6\n",
       "evolucionar dejar energías contaminantes motivar               6\n",
       "revistalanacion presentamos número encontrarás información     6\n",
       "energías contaminantes motivar energías limpias                5\n",
       "contaminantes motivar energías limpias renovables              5\n",
       "dtype: int64"
      ]
     },
     "execution_count": 85,
     "metadata": {},
     "output_type": "execute_result"
    }
   ],
   "source": [
    "# Instantiating a CountVectorizer object that splits the documents in the corpus into 5-grams.  Then fit and transformed Partido Acción Nacional's tweets before obtaining the 10 most common 5-grams.\n",
    "cvec_quint = CountVectorizer(ngram_range=(5, 5), stop_words=frozenset(spanish_politics), lowercase=True)\n",
    "\n",
    "pan_quint_tweets = cvec_quint.fit_transform(pan_df['tweet'])\n",
    "\n",
    "pan_quint_tweets_df = pd.DataFrame(data=pan_quint_tweets.A, columns=cvec_quint.get_feature_names_out())\n",
    "\n",
    "pan_most_common_quintgrams = pan_quint_tweets_df.sum().sort_values(ascending=False).head(10)\n",
    "pan_most_common_quintgrams"
   ]
  },
  {
   "cell_type": "code",
   "execution_count": 86,
   "id": "f183b72a-aeb9-40d4-85da-43ca9f44aaf8",
   "metadata": {},
   "outputs": [
    {
     "data": {
      "text/plain": [
       "ley acceso universal medicamentos gratuitos           12\n",
       "unimos pena embarga familiares amigos                  5\n",
       "solidaridad momentos difíciles descanse paz            5\n",
       "próxima legislatura cámara diputados conoce            4\n",
       "expresamos sentidas condolencias familiares amigos     4\n",
       "candidata gubernatura quintana roo hendricksles        4\n",
       "sesión extraordinaria comisión política permanente     4\n",
       "dr othón garcía silva trabajos                         3\n",
       "invitamos seguir conferencia magistral dr              3\n",
       "conferencia magistral dr roger bartra                  3\n",
       "dtype: int64"
      ]
     },
     "execution_count": 86,
     "metadata": {},
     "output_type": "execute_result"
    }
   ],
   "source": [
    "# Fit and transformed the CountVectorizer object above on Partido Revolucionario Institucional's tweets before obtaining the 10 most common 5-grams.\n",
    "\n",
    "pri_quint_tweets = cvec_quint.fit_transform(pri_df['tweet'])\n",
    "\n",
    "pri_quint_tweets_df = pd.DataFrame(data=pri_quint_tweets.A, columns=cvec_quint.get_feature_names_out())\n",
    "\n",
    "pri_most_common_quintgrams = pri_quint_tweets_df.sum().sort_values(ascending=False).head(10)\n",
    "pri_most_common_quintgrams"
   ]
  },
  {
   "cell_type": "code",
   "execution_count": 87,
   "id": "42eac315-56ae-4a2d-a5b9-bd252c3bd242",
   "metadata": {},
   "outputs": [
    {
     "data": {
      "text/plain": [
       "cara millones estudiantes niega educación                             33\n",
       "dé cara millones estudiantes niega                                    33\n",
       "delfina gómez dé cara millones                                        33\n",
       "gómez dé cara millones estudiantes                                    33\n",
       "educación completo alimentación evitar comparezca                     19\n",
       "estudiantes niega educación completo alimentación                     19\n",
       "millones estudiantes niega educación completo                         19\n",
       "completo alimentación evitar comparezca escuelasdetiempocompletosí    19\n",
       "niega educación completo alimentación evitar                          19\n",
       "porqué exigimos programa escuelasdetiempocompleto desaparezca         17\n",
       "dtype: int64"
      ]
     },
     "execution_count": 87,
     "metadata": {},
     "output_type": "execute_result"
    }
   ],
   "source": [
    "# Fit and transformed the CountVectorizer object above on Partido de la Revolución Democrática's tweets before obtaining the 10 most common 5-grams.\n",
    "\n",
    "prd_quint_tweets = cvec_quint.fit_transform(prd_df['tweet'])\n",
    "\n",
    "prd_quint_tweets_df = pd.DataFrame(data=prd_quint_tweets.A, columns=cvec_quint.get_feature_names_out())\n",
    "\n",
    "prd_most_common_quintgrams = prd_quint_tweets_df.sum().sort_values(ascending=False).head(10)\n",
    "prd_most_common_quintgrams"
   ]
  },
  {
   "cell_type": "code",
   "execution_count": 88,
   "id": "350e2cfc-0e56-40eb-9019-005e953efa4f",
   "metadata": {},
   "outputs": [
    {
     "data": {
      "text/plain": [
       "motivo cumpleaños sigamos trabajando méxicoverde           28\n",
       "cumpleaños sigamos trabajando méxicoverde enhorabuena      27\n",
       "felicitación fuerte abrazo amigo compañero                 21\n",
       "enviamos felicitación fuerte abrazo amigo                  21\n",
       "conoce lodestacadodelasemana 3delverde cámara diputados    17\n",
       "celebramos basurachallenge únete vecinos localidad         10\n",
       "vecinos localidad limpia espacio público                   10\n",
       "únete vecinos localidad limpia espacio                     10\n",
       "limpia espacio público unidos méxicoverde                  10\n",
       "localidad limpia espacio público unidos                    10\n",
       "dtype: int64"
      ]
     },
     "execution_count": 88,
     "metadata": {},
     "output_type": "execute_result"
    }
   ],
   "source": [
    "# Fit and transformed the CountVectorizer object above on Partido Verde Ecologista de México's tweets before obtaining the 10 most common 5-grams.\n",
    "\n",
    "pv_quint_tweets = cvec_quint.fit_transform(pv_df['tweet'])\n",
    "\n",
    "pv_quint_tweets_df = pd.DataFrame(data=pv_quint_tweets.A, columns=cvec_quint.get_feature_names_out())\n",
    "\n",
    "pv_most_common_quintgrams = pv_quint_tweets_df.sum().sort_values(ascending=False).head(10)\n",
    "pv_most_common_quintgrams"
   ]
  },
  {
   "cell_type": "code",
   "execution_count": 89,
   "id": "61ec986b-024c-4015-b437-c20939c5f472",
   "metadata": {},
   "outputs": [
    {
     "data": {
      "text/plain": [
       "na na na na na                                           7\n",
       "spotify hrapcwgcpo google vzuuijuczy amazon              5\n",
       "google xpxmqqniko apple ykhsqpksr6 amazon                5\n",
       "google vzuuijuczy amazon yvjjz9okik apple                5\n",
       "hrapcwgcpo google vzuuijuczy amazon yvjjz9okik           5\n",
       "vzuuijuczy amazon yvjjz9okik apple 3rnejpqhaq            5\n",
       "preso político gobernador morenista veracruz             5\n",
       "xpxmqqniko apple ykhsqpksr6 amazon 1au630xsfb            5\n",
       "propaganda dirigida asamblea militantes simpatizantes    4\n",
       "xpxmqqvhlo apple ykhsqp2rsw amazon 1au631ftwj            4\n",
       "dtype: int64"
      ]
     },
     "execution_count": 89,
     "metadata": {},
     "output_type": "execute_result"
    }
   ],
   "source": [
    "# Fit and transformed the CountVectorizer object above on Movimiento Ciudadano's tweets before obtaining the 10 most common 5-grams.\n",
    "\n",
    "mc_quint_tweets = cvec_quint.fit_transform(mc_df['tweet'])\n",
    "\n",
    "mc_quint_tweets_df = pd.DataFrame(data=mc_quint_tweets.A, columns=cvec_quint.get_feature_names_out())\n",
    "\n",
    "mc_most_common_quintgrams = mc_quint_tweets_df.sum().sort_values(ascending=False).head(10)\n",
    "mc_most_common_quintgrams"
   ]
  },
  {
   "cell_type": "code",
   "execution_count": 90,
   "id": "c1b0acb8-a3f0-47e9-9fda-70495d21e2f4",
   "metadata": {},
   "outputs": [
    {
     "data": {
      "text/plain": [
       "4t información pueblo democracia transparencia        113\n",
       "compartimos resumen 4t información pueblo             106\n",
       "resumen 4t información pueblo democracia              106\n",
       "mensajealpueblo 3añosdetransformación 01 12 21         13\n",
       "elevar derecho humano acceso energía                   12\n",
       "derecho humano acceso energía eléctrica                10\n",
       "envíanos mensaje guarda contacto teléfono               8\n",
       "convencid importancia organización impulso reforma      8\n",
       "casa casa amor amor paga                                8\n",
       "morenanoticias comparte difunde voz morenanoticias      8\n",
       "dtype: int64"
      ]
     },
     "execution_count": 90,
     "metadata": {},
     "output_type": "execute_result"
    }
   ],
   "source": [
    "# Fit and transformed the CountVectorizer object above on Morena's tweets before obtaining the 10 most common 5-grams.\n",
    "\n",
    "mrn_quint_tweets = cvec_quint.fit_transform(mrn_df['tweet'])\n",
    "\n",
    "mrn_quint_tweets_df = pd.DataFrame(data=mrn_quint_tweets.A, columns=cvec_quint.get_feature_names_out())\n",
    "\n",
    "mrn_most_common_quintgrams = mrn_quint_tweets_df.sum().sort_values(ascending=False).head(10)\n",
    "mrn_most_common_quintgrams"
   ]
  }
 ],
 "metadata": {
  "kernelspec": {
   "display_name": "Python 3 (ipykernel)",
   "language": "python",
   "name": "python3"
  },
  "language_info": {
   "codemirror_mode": {
    "name": "ipython",
    "version": 3
   },
   "file_extension": ".py",
   "mimetype": "text/x-python",
   "name": "python",
   "nbconvert_exporter": "python",
   "pygments_lexer": "ipython3",
   "version": "3.9.7"
  }
 },
 "nbformat": 4,
 "nbformat_minor": 5
}
