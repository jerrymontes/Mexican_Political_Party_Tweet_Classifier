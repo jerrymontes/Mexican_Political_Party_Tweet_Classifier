{
 "cells": [
  {
   "cell_type": "code",
   "execution_count": 1,
   "id": "b8c307db-7629-4a0e-b6b8-686c325d4cde",
   "metadata": {},
   "outputs": [],
   "source": [
    "# Imported all modules I would need.\n",
    "import matplotlib.pyplot as plt\n",
    "import numpy as np\n",
    "import pandas as pd\n",
    "import seaborn as sns\n",
    "import spacy\n",
    "\n",
    "from nltk import word_tokenize\n",
    "from nltk.stem import SnowballStemmer\n",
    "\n",
    "from sklearn.compose import make_column_selector, make_column_transformer\n",
    "from sklearn.dummy import DummyClassifier\n",
    "from sklearn.ensemble import RandomForestClassifier, ExtraTreesClassifier, GradientBoostingClassifier, AdaBoostClassifier, VotingClassifier\n",
    "from sklearn.feature_extraction.text import CountVectorizer, TfidfVectorizer\n",
    "from sklearn.linear_model import LogisticRegression\n",
    "from sklearn.metrics import ConfusionMatrixDisplay, confusion_matrix, classification_report, accuracy_score, f1_score, precision_score, recall_score\n",
    "from sklearn.model_selection import train_test_split, cross_val_score, GridSearchCV, RandomizedSearchCV\n",
    "from sklearn.naive_bayes import GaussianNB, MultinomialNB\n",
    "from sklearn.neighbors import KNeighborsClassifier\n",
    "from sklearn.pipeline import make_pipeline\n",
    "from sklearn.preprocessing import StandardScaler, OneHotEncoder\n",
    "from sklearn.svm import SVC\n",
    "from sklearn.tree import plot_tree, export_text, DecisionTreeClassifier"
   ]
  },
  {
   "cell_type": "code",
   "execution_count": 2,
   "id": "35f96b0f-b816-4ffb-9f1a-87b962f5c00e",
   "metadata": {},
   "outputs": [],
   "source": [
    "# Obtained spanish stop words list from: https://github.com/stopwords-iso/stopwords-es/blob/master/stopwords-es.txt\n",
    "# Obtained guidance on creating stop_words_list using .txt file from: https://stackoverflow.com/questions/36369870/sklearn-how-to-add-custom-stopword-list-from-txt-file#36371942\n",
    "with open('../data/spanish.txt') as file:\n",
    "    spanish = file.read().split()\n",
    "    \n",
    "with open('../data/spanish_politics.txt') as file:\n",
    "    spanish_politics = file.read().split()"
   ]
  },
  {
   "cell_type": "code",
   "execution_count": 3,
   "id": "89723231-5024-4657-884d-0379a996b516",
   "metadata": {},
   "outputs": [
    {
     "data": {
      "text/plain": [
       "['0',\n",
       " '1',\n",
       " '2',\n",
       " '3',\n",
       " '4',\n",
       " '5',\n",
       " '6',\n",
       " '7',\n",
       " '8',\n",
       " '9',\n",
       " '_',\n",
       " 'a',\n",
       " 'actualmente',\n",
       " 'acuerdo',\n",
       " 'adelante',\n",
       " 'ademas',\n",
       " 'además',\n",
       " 'adrede',\n",
       " 'afirmó',\n",
       " 'agregó']"
      ]
     },
     "execution_count": 3,
     "metadata": {},
     "output_type": "execute_result"
    }
   ],
   "source": [
    "spanish[:20]"
   ]
  },
  {
   "cell_type": "code",
   "execution_count": 4,
   "id": "c01486e4-ddbe-46bf-82f7-72e97d1d3fd1",
   "metadata": {},
   "outputs": [
    {
     "name": "stdout",
     "output_type": "stream",
     "text": [
      "Collecting es-core-news-sm==3.3.0\n",
      "  Downloading https://github.com/explosion/spacy-models/releases/download/es_core_news_sm-3.3.0/es_core_news_sm-3.3.0-py3-none-any.whl (12.9 MB)\n",
      "\u001b[K     |████████████████████████████████| 12.9 MB 4.0 MB/s eta 0:00:01\n",
      "\u001b[?25hRequirement already satisfied: spacy<3.4.0,>=3.3.0.dev0 in /opt/anaconda3/lib/python3.9/site-packages (from es-core-news-sm==3.3.0) (3.3.0)\n",
      "Requirement already satisfied: thinc<8.1.0,>=8.0.14 in /opt/anaconda3/lib/python3.9/site-packages (from spacy<3.4.0,>=3.3.0.dev0->es-core-news-sm==3.3.0) (8.0.16)\n",
      "Requirement already satisfied: srsly<3.0.0,>=2.4.3 in /opt/anaconda3/lib/python3.9/site-packages (from spacy<3.4.0,>=3.3.0.dev0->es-core-news-sm==3.3.0) (2.4.3)\n",
      "Requirement already satisfied: preshed<3.1.0,>=3.0.2 in /opt/anaconda3/lib/python3.9/site-packages (from spacy<3.4.0,>=3.3.0.dev0->es-core-news-sm==3.3.0) (3.0.6)\n",
      "Requirement already satisfied: tqdm<5.0.0,>=4.38.0 in /opt/anaconda3/lib/python3.9/site-packages (from spacy<3.4.0,>=3.3.0.dev0->es-core-news-sm==3.3.0) (4.62.3)\n",
      "Requirement already satisfied: requests<3.0.0,>=2.13.0 in /opt/anaconda3/lib/python3.9/site-packages (from spacy<3.4.0,>=3.3.0.dev0->es-core-news-sm==3.3.0) (2.27.1)\n",
      "Requirement already satisfied: setuptools in /opt/anaconda3/lib/python3.9/site-packages (from spacy<3.4.0,>=3.3.0.dev0->es-core-news-sm==3.3.0) (58.0.4)\n",
      "Requirement already satisfied: blis<0.8.0,>=0.4.0 in /opt/anaconda3/lib/python3.9/site-packages (from spacy<3.4.0,>=3.3.0.dev0->es-core-news-sm==3.3.0) (0.7.7)\n",
      "Requirement already satisfied: pathy>=0.3.5 in /opt/anaconda3/lib/python3.9/site-packages (from spacy<3.4.0,>=3.3.0.dev0->es-core-news-sm==3.3.0) (0.6.1)\n",
      "Requirement already satisfied: langcodes<4.0.0,>=3.2.0 in /opt/anaconda3/lib/python3.9/site-packages (from spacy<3.4.0,>=3.3.0.dev0->es-core-news-sm==3.3.0) (3.3.0)\n",
      "Requirement already satisfied: jinja2 in /opt/anaconda3/lib/python3.9/site-packages (from spacy<3.4.0,>=3.3.0.dev0->es-core-news-sm==3.3.0) (3.1.2)\n",
      "Requirement already satisfied: spacy-legacy<3.1.0,>=3.0.9 in /opt/anaconda3/lib/python3.9/site-packages (from spacy<3.4.0,>=3.3.0.dev0->es-core-news-sm==3.3.0) (3.0.9)\n",
      "Requirement already satisfied: wasabi<1.1.0,>=0.9.1 in /opt/anaconda3/lib/python3.9/site-packages (from spacy<3.4.0,>=3.3.0.dev0->es-core-news-sm==3.3.0) (0.9.1)\n",
      "Requirement already satisfied: packaging>=20.0 in /opt/anaconda3/lib/python3.9/site-packages (from spacy<3.4.0,>=3.3.0.dev0->es-core-news-sm==3.3.0) (21.0)\n",
      "Requirement already satisfied: pydantic!=1.8,!=1.8.1,<1.9.0,>=1.7.4 in /opt/anaconda3/lib/python3.9/site-packages (from spacy<3.4.0,>=3.3.0.dev0->es-core-news-sm==3.3.0) (1.8.2)\n",
      "Requirement already satisfied: cymem<2.1.0,>=2.0.2 in /opt/anaconda3/lib/python3.9/site-packages (from spacy<3.4.0,>=3.3.0.dev0->es-core-news-sm==3.3.0) (2.0.6)\n",
      "Requirement already satisfied: murmurhash<1.1.0,>=0.28.0 in /opt/anaconda3/lib/python3.9/site-packages (from spacy<3.4.0,>=3.3.0.dev0->es-core-news-sm==3.3.0) (1.0.7)\n",
      "Requirement already satisfied: catalogue<2.1.0,>=2.0.6 in /opt/anaconda3/lib/python3.9/site-packages (from spacy<3.4.0,>=3.3.0.dev0->es-core-news-sm==3.3.0) (2.0.7)\n",
      "Requirement already satisfied: spacy-loggers<2.0.0,>=1.0.0 in /opt/anaconda3/lib/python3.9/site-packages (from spacy<3.4.0,>=3.3.0.dev0->es-core-news-sm==3.3.0) (1.0.2)\n",
      "Requirement already satisfied: numpy>=1.15.0 in /opt/anaconda3/lib/python3.9/site-packages (from spacy<3.4.0,>=3.3.0.dev0->es-core-news-sm==3.3.0) (1.20.3)\n",
      "Requirement already satisfied: typer<0.5.0,>=0.3.0 in /opt/anaconda3/lib/python3.9/site-packages (from spacy<3.4.0,>=3.3.0.dev0->es-core-news-sm==3.3.0) (0.4.1)\n",
      "Requirement already satisfied: pyparsing>=2.0.2 in /opt/anaconda3/lib/python3.9/site-packages (from packaging>=20.0->spacy<3.4.0,>=3.3.0.dev0->es-core-news-sm==3.3.0) (3.0.4)\n",
      "Requirement already satisfied: smart-open<6.0.0,>=5.0.0 in /opt/anaconda3/lib/python3.9/site-packages (from pathy>=0.3.5->spacy<3.4.0,>=3.3.0.dev0->es-core-news-sm==3.3.0) (5.2.1)\n",
      "Requirement already satisfied: typing-extensions>=3.7.4.3 in /opt/anaconda3/lib/python3.9/site-packages (from pydantic!=1.8,!=1.8.1,<1.9.0,>=1.7.4->spacy<3.4.0,>=3.3.0.dev0->es-core-news-sm==3.3.0) (3.10.0.2)\n",
      "Requirement already satisfied: certifi>=2017.4.17 in /opt/anaconda3/lib/python3.9/site-packages (from requests<3.0.0,>=2.13.0->spacy<3.4.0,>=3.3.0.dev0->es-core-news-sm==3.3.0) (2022.5.18.1)\n",
      "Requirement already satisfied: idna<4,>=2.5 in /opt/anaconda3/lib/python3.9/site-packages (from requests<3.0.0,>=2.13.0->spacy<3.4.0,>=3.3.0.dev0->es-core-news-sm==3.3.0) (3.2)\n",
      "Requirement already satisfied: charset-normalizer~=2.0.0 in /opt/anaconda3/lib/python3.9/site-packages (from requests<3.0.0,>=2.13.0->spacy<3.4.0,>=3.3.0.dev0->es-core-news-sm==3.3.0) (2.0.4)\n",
      "Requirement already satisfied: urllib3<1.27,>=1.21.1 in /opt/anaconda3/lib/python3.9/site-packages (from requests<3.0.0,>=2.13.0->spacy<3.4.0,>=3.3.0.dev0->es-core-news-sm==3.3.0) (1.26.7)\n",
      "Requirement already satisfied: click<9.0.0,>=7.1.1 in /opt/anaconda3/lib/python3.9/site-packages (from typer<0.5.0,>=0.3.0->spacy<3.4.0,>=3.3.0.dev0->es-core-news-sm==3.3.0) (8.0.3)\n",
      "Requirement already satisfied: MarkupSafe>=2.0 in /opt/anaconda3/lib/python3.9/site-packages (from jinja2->spacy<3.4.0,>=3.3.0.dev0->es-core-news-sm==3.3.0) (2.1.1)\n",
      "\u001b[38;5;2m✔ Download and installation successful\u001b[0m\n",
      "You can now load the package via spacy.load('es_core_news_sm')\n"
     ]
    }
   ],
   "source": [
    "!python -m spacy download es_core_news_sm"
   ]
  },
  {
   "cell_type": "code",
   "execution_count": 5,
   "id": "fd988e3c-8cb7-4965-becb-e9ed5770603f",
   "metadata": {},
   "outputs": [],
   "source": [
    "# Obtained Spanish-langauge lemmatizer function from: https://spacy.io/models/es\n",
    "nlp = spacy.load(\"es_core_news_sm\")\n",
    "\n",
    "def lemma_tokenizer(doc):\n",
    "    return [i.lemma_ for i in (nlp(doc))]"
   ]
  },
  {
   "cell_type": "code",
   "execution_count": 6,
   "id": "ea3c3b82-331d-436a-b37b-e5412ef1192f",
   "metadata": {},
   "outputs": [],
   "source": [
    "# Obtained Spanish-langauge stemming function from: https://stackoverflow.com/questions/26292453/how-to-stem-a-list-of-words-in-spanish-with-nltk#26294198\n",
    "\n",
    "def stemming_tokenizer(doc):\n",
    "    stemming = SnowballStemmer('spanish')\n",
    "    return [stemming.stem(w) for w in word_tokenize(doc)]"
   ]
  },
  {
   "cell_type": "code",
   "execution_count": 7,
   "id": "a4303a69-a88a-4df4-85be-f77132c38150",
   "metadata": {},
   "outputs": [],
   "source": [
    "# Set notebook's random seed to 42.\n",
    "np.random.seed(42)"
   ]
  },
  {
   "cell_type": "markdown",
   "id": "c0196705-9a3f-4714-80c8-1ec4b486bafe",
   "metadata": {
    "jp-MarkdownHeadingCollapsed": true,
    "tags": []
   },
   "source": [
    "# **Preprocessing**"
   ]
  },
  {
   "cell_type": "code",
   "execution_count": 8,
   "id": "bc76cabe-c92d-437d-9104-dc9bd3839921",
   "metadata": {
    "tags": []
   },
   "outputs": [],
   "source": [
    "# Created a DataFrame from the mx_political.csv file, which contained the cleaned data.\n",
    "mx_political_df = pd.read_csv('../data/mx_political.csv')"
   ]
  },
  {
   "cell_type": "code",
   "execution_count": 9,
   "id": "a8625a17-4444-4ed4-8e8b-f5f9c3076bd1",
   "metadata": {},
   "outputs": [
    {
     "data": {
      "text/html": [
       "<div>\n",
       "<style scoped>\n",
       "    .dataframe tbody tr th:only-of-type {\n",
       "        vertical-align: middle;\n",
       "    }\n",
       "\n",
       "    .dataframe tbody tr th {\n",
       "        vertical-align: top;\n",
       "    }\n",
       "\n",
       "    .dataframe thead th {\n",
       "        text-align: right;\n",
       "    }\n",
       "</style>\n",
       "<table border=\"1\" class=\"dataframe\">\n",
       "  <thead>\n",
       "    <tr style=\"text-align: right;\">\n",
       "      <th></th>\n",
       "      <th>user</th>\n",
       "      <th>tweet</th>\n",
       "    </tr>\n",
       "  </thead>\n",
       "  <tbody>\n",
       "    <tr>\n",
       "      <th>19164</th>\n",
       "      <td>PartidoMorenaMx</td>\n",
       "      <td>RT @DiputadosMorena: Abajo el patriarcado #NiU...</td>\n",
       "    </tr>\n",
       "    <tr>\n",
       "      <th>19165</th>\n",
       "      <td>PartidoMorenaMx</td>\n",
       "      <td>RT @DiputadosMorena: Hartas de violencias mach...</td>\n",
       "    </tr>\n",
       "    <tr>\n",
       "      <th>19166</th>\n",
       "      <td>PartidoMorenaMx</td>\n",
       "      <td>RT @DiputadosMorena: Vivas, libres y en lucha ...</td>\n",
       "    </tr>\n",
       "    <tr>\n",
       "      <th>19167</th>\n",
       "      <td>PartidoMorenaMx</td>\n",
       "      <td>RT @DiputadosMorena: No nos sentimos seguras, ...</td>\n",
       "    </tr>\n",
       "    <tr>\n",
       "      <th>19168</th>\n",
       "      <td>PartidoMorenaMx</td>\n",
       "      <td>RT @DiputadosMorena: Luchamos hoy para no mori...</td>\n",
       "    </tr>\n",
       "  </tbody>\n",
       "</table>\n",
       "</div>"
      ],
      "text/plain": [
       "                  user                                              tweet\n",
       "19164  PartidoMorenaMx  RT @DiputadosMorena: Abajo el patriarcado #NiU...\n",
       "19165  PartidoMorenaMx  RT @DiputadosMorena: Hartas de violencias mach...\n",
       "19166  PartidoMorenaMx  RT @DiputadosMorena: Vivas, libres y en lucha ...\n",
       "19167  PartidoMorenaMx  RT @DiputadosMorena: No nos sentimos seguras, ...\n",
       "19168  PartidoMorenaMx  RT @DiputadosMorena: Luchamos hoy para no mori..."
      ]
     },
     "execution_count": 9,
     "metadata": {},
     "output_type": "execute_result"
    }
   ],
   "source": [
    "mx_political_df.tail()"
   ]
  },
  {
   "cell_type": "code",
   "execution_count": 10,
   "id": "fddffbe1-a721-4214-8f2b-e1aaa4250894",
   "metadata": {},
   "outputs": [],
   "source": [
    "# Defined my one feature, the target vector, and proceed to perform a train/test split with a random_state of 42 while stratifying on the label.\n",
    "X = mx_political_df['tweet']\n",
    "y = mx_political_df['user']\n",
    "\n",
    "X_train, X_test, y_train, y_test = train_test_split(X, y, random_state=42, stratify=y)"
   ]
  },
  {
   "cell_type": "code",
   "execution_count": 11,
   "id": "01484a7b-ac5f-49e3-8392-4a7f7654605a",
   "metadata": {},
   "outputs": [
    {
     "data": {
      "text/plain": [
       "partidoverdemex    0.166936\n",
       "PRI_Nacional       0.166884\n",
       "AccionNacional     0.166832\n",
       "PartidoMorenaMx    0.166780\n",
       "PRDMexico          0.166519\n",
       "MovCiudadanoMX     0.166049\n",
       "Name: user, dtype: float64"
      ]
     },
     "execution_count": 11,
     "metadata": {},
     "output_type": "execute_result"
    }
   ],
   "source": [
    "# Looked at the noramlized value_counts in the target vector.\n",
    "y.value_counts(normalize=True)"
   ]
  },
  {
   "cell_type": "markdown",
   "id": "6a2dfe5a-4075-4cc4-8fa0-b87c862a27c1",
   "metadata": {
    "tags": []
   },
   "source": [
    "# **Modeling**"
   ]
  },
  {
   "cell_type": "markdown",
   "id": "c26a47d5-bc62-47af-bc00-51471970690a",
   "metadata": {
    "jp-MarkdownHeadingCollapsed": true,
    "tags": []
   },
   "source": [
    "### Baseline Model"
   ]
  },
  {
   "cell_type": "code",
   "execution_count": 13,
   "id": "09e5ac58-551f-4e2e-b5f5-b6a03cb65916",
   "metadata": {},
   "outputs": [
    {
     "data": {
      "text/plain": [
       "(0.1669449081803005, 0.1669100771959107)"
      ]
     },
     "execution_count": 13,
     "metadata": {},
     "output_type": "execute_result"
    }
   ],
   "source": [
    "# Instantiated DummyClassifier object and proceeded to fit it on the X_train and y_train before scoring both X_train/y_train and X_test/y_test.\n",
    "dc = DummyClassifier()\n",
    "dc.fit(X_train, y_train)\n",
    "dc.score(X_train, y_train), dc.score(X_test, y_test)"
   ]
  },
  {
   "cell_type": "code",
   "execution_count": 14,
   "id": "e66ebd8c-921a-43ae-9204-5d3f6fd94e61",
   "metadata": {},
   "outputs": [],
   "source": [
    "# Utilized the fitted DummyClassifier object to predict the target and saved the results under variable named \"baseline_preds\".\n",
    "baseline_preds = dc.predict(X_test)"
   ]
  },
  {
   "cell_type": "code",
   "execution_count": 15,
   "id": "47989eaa-becc-4521-a034-a59d424a75b1",
   "metadata": {},
   "outputs": [
    {
     "data": {
      "image/png": "[encoded data removed]",
      "text/plain": [
       "<Figure size 1080x1080 with 2 Axes>"
      ]
     },
     "metadata": {
      "needs_background": "light"
     },
     "output_type": "display_data"
    }
   ],
   "source": [
    "# Generated a ConfusionMatrixDisplay utilizing this DummyClassifier estimator.\n",
    "\n",
    "# Obtained guidance with adjustig size from: https://stackoverflow.com/questions/66483409/adjust-size-of-confusionmatrixdisplay-scikitlearn\n",
    "\n",
    "fig, ax = plt.subplots(figsize=(15, 15))\n",
    "ConfusionMatrixDisplay.from_estimator(dc, X_test, y_test, ax=ax);"
   ]
  },
  {
   "cell_type": "code",
   "execution_count": 16,
   "id": "a877cd52-7f54-4807-a4e9-beaab528fd8c",
   "metadata": {},
   "outputs": [
    {
     "name": "stderr",
     "output_type": "stream",
     "text": [
      "/opt/anaconda3/lib/python3.9/site-packages/sklearn/metrics/_classification.py:1318: UndefinedMetricWarning: Precision is ill-defined and being set to 0.0 in labels with no predicted samples. Use `zero_division` parameter to control this behavior.\n",
      "  _warn_prf(average, modifier, msg_start, len(result))\n"
     ]
    },
    {
     "data": {
      "text/plain": [
       "0.027818346199318448"
      ]
     },
     "execution_count": 16,
     "metadata": {},
     "output_type": "execute_result"
    }
   ],
   "source": [
    "# Calcualted the precision score after setting 'PartidoMorenaMx' as the positive label.\n",
    "baseline_precision = precision_score(y_test, baseline_preds, labels='PartidoMorenaMx', average='macro')\n",
    "baseline_precision"
   ]
  },
  {
   "cell_type": "code",
   "execution_count": 17,
   "id": "41090f38-c574-4b15-9633-9179cc8038cb",
   "metadata": {},
   "outputs": [
    {
     "data": {
      "text/plain": [
       "0.16666666666666666"
      ]
     },
     "execution_count": 17,
     "metadata": {},
     "output_type": "execute_result"
    }
   ],
   "source": [
    "# Calcualted the recall score after setting 'PartidoMorenaMx' as the positive label.\n",
    "baseline_recall = recall_score(y_test, baseline_preds, labels='PartidoMorenaMx', average='macro')\n",
    "baseline_recall"
   ]
  },
  {
   "cell_type": "code",
   "execution_count": 18,
   "id": "5ffa309a-a55c-40f7-9a5c-f84c49a0e0cd",
   "metadata": {},
   "outputs": [
    {
     "data": {
      "text/plain": [
       "0.04767864592645569"
      ]
     },
     "execution_count": 18,
     "metadata": {},
     "output_type": "execute_result"
    }
   ],
   "source": [
    "# Calcualted the f1 score after setting 'PartidoMorenaMx' as the positive label.\n",
    "baseline_f1 = f1_score(y_test, baseline_preds, labels='PartidoMorenaMx', average='macro')\n",
    "baseline_f1"
   ]
  },
  {
   "cell_type": "markdown",
   "id": "dcdb7c53-673c-49f8-8858-5f74eb685a34",
   "metadata": {
    "tags": []
   },
   "source": [
    "## **CountVectorizer with Spanish Stop Words**"
   ]
  },
  {
   "cell_type": "markdown",
   "id": "ede94c28-4c14-4afd-a869-856ad789afa2",
   "metadata": {
    "tags": []
   },
   "source": [
    "### CountVectorizer + Logistic Regression"
   ]
  },
  {
   "cell_type": "code",
   "execution_count": 69,
   "id": "6190a014-e1c9-4733-a0a3-7ac9900e9fe4",
   "metadata": {},
   "outputs": [
    {
     "data": {
      "text/plain": [
       "{'memory': None,\n",
       " 'steps': [('countvectorizer', CountVectorizer()),\n",
       "  ('logisticregression', LogisticRegression(max_iter=10000))],\n",
       " 'verbose': False,\n",
       " 'countvectorizer': CountVectorizer(),\n",
       " 'logisticregression': LogisticRegression(max_iter=10000),\n",
       " 'countvectorizer__analyzer': 'word',\n",
       " 'countvectorizer__binary': False,\n",
       " 'countvectorizer__decode_error': 'strict',\n",
       " 'countvectorizer__dtype': numpy.int64,\n",
       " 'countvectorizer__encoding': 'utf-8',\n",
       " 'countvectorizer__input': 'content',\n",
       " 'countvectorizer__lowercase': True,\n",
       " 'countvectorizer__max_df': 1.0,\n",
       " 'countvectorizer__max_features': None,\n",
       " 'countvectorizer__min_df': 1,\n",
       " 'countvectorizer__ngram_range': (1, 1),\n",
       " 'countvectorizer__preprocessor': None,\n",
       " 'countvectorizer__stop_words': None,\n",
       " 'countvectorizer__strip_accents': None,\n",
       " 'countvectorizer__token_pattern': '(?u)\\\\b\\\\w\\\\w+\\\\b',\n",
       " 'countvectorizer__tokenizer': None,\n",
       " 'countvectorizer__vocabulary': None,\n",
       " 'logisticregression__C': 1.0,\n",
       " 'logisticregression__class_weight': None,\n",
       " 'logisticregression__dual': False,\n",
       " 'logisticregression__fit_intercept': True,\n",
       " 'logisticregression__intercept_scaling': 1,\n",
       " 'logisticregression__l1_ratio': None,\n",
       " 'logisticregression__max_iter': 10000,\n",
       " 'logisticregression__multi_class': 'auto',\n",
       " 'logisticregression__n_jobs': None,\n",
       " 'logisticregression__penalty': 'l2',\n",
       " 'logisticregression__random_state': None,\n",
       " 'logisticregression__solver': 'lbfgs',\n",
       " 'logisticregression__tol': 0.0001,\n",
       " 'logisticregression__verbose': 0,\n",
       " 'logisticregression__warm_start': False}"
      ]
     },
     "execution_count": 69,
     "metadata": {},
     "output_type": "execute_result"
    }
   ],
   "source": [
    "# Created a pipeline object with a CountVectorizer transformer and Logistic Regression classifier with a max_iter of 10_000.  Proceeded to get a list of all available hyperparameters using the .get_params() method.\n",
    "cvec_logreg_pipe = make_pipeline(CountVectorizer(), LogisticRegression(max_iter=10_000))\n",
    "cvec_logreg_pipe.get_params()"
   ]
  },
  {
   "cell_type": "code",
   "execution_count": 70,
   "id": "d1706691-145c-447f-894e-9c0a42ed8afa",
   "metadata": {},
   "outputs": [],
   "source": [
    "# Created a dictionary of hyperparameter ranges that I would then perform a RandomizedSearchCV over.\n",
    "cvec_logreg_params = {\n",
    "    'countvectorizer__ngram_range': [(1, 1), (2, 2), (3, 3)],\n",
    "    'countvectorizer__stop_words': [frozenset(spanish)],\n",
    "    'countvectorizer__tokenizer': [lemma_tokenizer, stemming_tokenizer], \n",
    "    'logisticregression__C': [1.0, .1],\n",
    "    'logisticregression__penalty': ['l1', 'l2', 'elasticnet'],\n",
    "    'logisticregression__solver': ['lbfgs', 'liblinear']\n",
    "}"
   ]
  },
  {
   "cell_type": "markdown",
   "id": "ead17868-24f7-499b-9518-625604d8a155",
   "metadata": {},
   "source": [
    "**Hyperparameter Tuning using RandomizedSearchCV**"
   ]
  },
  {
   "cell_type": "code",
   "execution_count": 71,
   "id": "5bda7dd3-8bca-4c32-86c1-930403b68c05",
   "metadata": {},
   "outputs": [],
   "source": [
    "# Created a RandomizedSerachCV object that contained the pipeline and the dictionary of hyperparameter ranges I had created and ensured that the jobs ran in parallel.\n",
    "cvec_logreg_rs = RandomizedSearchCV(cvec_logreg_pipe, param_distributions=cvec_logreg_params, n_jobs=-1)"
   ]
  },
  {
   "cell_type": "code",
   "execution_count": 72,
   "id": "d6a6c5b0-2922-4890-a0b9-c235099e9546",
   "metadata": {
    "scrolled": true,
    "tags": []
   },
   "outputs": [
    {
     "name": "stderr",
     "output_type": "stream",
     "text": [
      "/opt/anaconda3/lib/python3.9/site-packages/sklearn/feature_extraction/text.py:396: UserWarning: Your stop_words may be inconsistent with your preprocessing. Tokenizing the stop words generated tokens ['adema', 'adredir', 'afirmar', 'agregar', 'aquel él', 'asegurar', 'atra', 'añadir', 'comentar', 'considerar', 'consigu', 'contar', 'cosa', 'creer', 'cualquiera', 'deber', 'dejar', 'demá', 'despu', 'detra', 'diar', 'emplea', 'encontrar', 'erar', 'estaríai', 'estaríar', 'estuvir', 'estuviés', 'estár', 'existir', 'explicar', 'expresar', 'fuistei', 'fuérar', 'fués', 'fuésar', 'grande', 'hablar', 'habríar', 'habíai', 'hacer él', 'hayar', 'hayái', 'hora', 'hubierai', 'hubierar', 'hubir', 'hubistar', 'hubiés', 'hubiéser', 'indicar', 'informar', 'intentai', 'llegar', 'manifestar', 'mencionar', 'nosotra', 'parecer', 'podriar', 'podrio', 'quedar', 'querer', 'quizar', 'rara', 'seguir', 'sero', 'seríar', 'seái', 'señalar', 'soyo', 'tenei', 'tercero', 'todaviar', 'tratar', 'tuvir', 'tuviérir', 'tuviés', 'tuviésar', 'tuyas ', 'vosotra', 'vosotro'] not in stop_words.\n",
      "  warnings.warn(\n",
      "/opt/anaconda3/lib/python3.9/site-packages/sklearn/feature_extraction/text.py:396: UserWarning: Your stop_words may be inconsistent with your preprocessing. Tokenizing the stop words generated tokens ['adema', 'adredir', 'afirmar', 'agregar', 'aquel él', 'asegurar', 'atra', 'añadir', 'comentar', 'considerar', 'consigu', 'contar', 'cosa', 'creer', 'cualquiera', 'deber', 'dejar', 'demá', 'despu', 'detra', 'diar', 'emplea', 'encontrar', 'erar', 'estaríai', 'estaríar', 'estuvir', 'estuviés', 'estár', 'existir', 'explicar', 'expresar', 'fuistei', 'fuérar', 'fués', 'fuésar', 'grande', 'hablar', 'habríar', 'habíai', 'hacer él', 'hayar', 'hayái', 'hora', 'hubierai', 'hubierar', 'hubir', 'hubistar', 'hubiés', 'hubiéser', 'indicar', 'informar', 'intentai', 'llegar', 'manifestar', 'mencionar', 'nosotra', 'parecer', 'podriar', 'podrio', 'quedar', 'querer', 'quizar', 'rara', 'seguir', 'sero', 'seríar', 'seái', 'señalar', 'soyo', 'tenei', 'tercero', 'todaviar', 'tratar', 'tuvir', 'tuviérir', 'tuviés', 'tuviésar', 'tuyas ', 'vosotra', 'vosotro'] not in stop_words.\n",
      "  warnings.warn(\n",
      "/opt/anaconda3/lib/python3.9/site-packages/sklearn/feature_extraction/text.py:396: UserWarning: Your stop_words may be inconsistent with your preprocessing. Tokenizing the stop words generated tokens ['adema', 'adredir', 'afirmar', 'agregar', 'aquel él', 'asegurar', 'atra', 'añadir', 'comentar', 'considerar', 'consigu', 'contar', 'cosa', 'creer', 'cualquiera', 'deber', 'dejar', 'demá', 'despu', 'detra', 'diar', 'emplea', 'encontrar', 'erar', 'estaríai', 'estaríar', 'estuvir', 'estuviés', 'estár', 'existir', 'explicar', 'expresar', 'fuistei', 'fuérar', 'fués', 'fuésar', 'grande', 'hablar', 'habríar', 'habíai', 'hacer él', 'hayar', 'hayái', 'hora', 'hubierai', 'hubierar', 'hubir', 'hubistar', 'hubiés', 'hubiéser', 'indicar', 'informar', 'intentai', 'llegar', 'manifestar', 'mencionar', 'nosotra', 'parecer', 'podriar', 'podrio', 'quedar', 'querer', 'quizar', 'rara', 'seguir', 'sero', 'seríar', 'seái', 'señalar', 'soyo', 'tenei', 'tercero', 'todaviar', 'tratar', 'tuvir', 'tuviérir', 'tuviés', 'tuviésar', 'tuyas ', 'vosotra', 'vosotro'] not in stop_words.\n",
      "  warnings.warn(\n",
      "/opt/anaconda3/lib/python3.9/site-packages/sklearn/feature_extraction/text.py:396: UserWarning: Your stop_words may be inconsistent with your preprocessing. Tokenizing the stop words generated tokens ['adema', 'adredir', 'afirmar', 'agregar', 'aquel él', 'asegurar', 'atra', 'añadir', 'comentar', 'considerar', 'consigu', 'contar', 'cosa', 'creer', 'cualquiera', 'deber', 'dejar', 'demá', 'despu', 'detra', 'diar', 'emplea', 'encontrar', 'erar', 'estaríai', 'estaríar', 'estuvir', 'estuviés', 'estár', 'existir', 'explicar', 'expresar', 'fuistei', 'fuérar', 'fués', 'fuésar', 'grande', 'hablar', 'habríar', 'habíai', 'hacer él', 'hayar', 'hayái', 'hora', 'hubierai', 'hubierar', 'hubir', 'hubistar', 'hubiés', 'hubiéser', 'indicar', 'informar', 'intentai', 'llegar', 'manifestar', 'mencionar', 'nosotra', 'parecer', 'podriar', 'podrio', 'quedar', 'querer', 'quizar', 'rara', 'seguir', 'sero', 'seríar', 'seái', 'señalar', 'soyo', 'tenei', 'tercero', 'todaviar', 'tratar', 'tuvir', 'tuviérir', 'tuviés', 'tuviésar', 'tuyas ', 'vosotra', 'vosotro'] not in stop_words.\n",
      "  warnings.warn(\n",
      "/opt/anaconda3/lib/python3.9/site-packages/sklearn/feature_extraction/text.py:396: UserWarning: Your stop_words may be inconsistent with your preprocessing. Tokenizing the stop words generated tokens ['adema', 'adredir', 'afirmar', 'agregar', 'aquel él', 'asegurar', 'atra', 'añadir', 'comentar', 'considerar', 'consigu', 'contar', 'cosa', 'creer', 'cualquiera', 'deber', 'dejar', 'demá', 'despu', 'detra', 'diar', 'emplea', 'encontrar', 'erar', 'estaríai', 'estaríar', 'estuvir', 'estuviés', 'estár', 'existir', 'explicar', 'expresar', 'fuistei', 'fuérar', 'fués', 'fuésar', 'grande', 'hablar', 'habríar', 'habíai', 'hacer él', 'hayar', 'hayái', 'hora', 'hubierai', 'hubierar', 'hubir', 'hubistar', 'hubiés', 'hubiéser', 'indicar', 'informar', 'intentai', 'llegar', 'manifestar', 'mencionar', 'nosotra', 'parecer', 'podriar', 'podrio', 'quedar', 'querer', 'quizar', 'rara', 'seguir', 'sero', 'seríar', 'seái', 'señalar', 'soyo', 'tenei', 'tercero', 'todaviar', 'tratar', 'tuvir', 'tuviérir', 'tuviés', 'tuviésar', 'tuyas ', 'vosotra', 'vosotro'] not in stop_words.\n",
      "  warnings.warn(\n",
      "/opt/anaconda3/lib/python3.9/site-packages/sklearn/feature_extraction/text.py:396: UserWarning: Your stop_words may be inconsistent with your preprocessing. Tokenizing the stop words generated tokens ['adema', 'adredir', 'afirmar', 'agregar', 'aquel él', 'asegurar', 'atra', 'añadir', 'comentar', 'considerar', 'consigu', 'contar', 'cosa', 'creer', 'cualquiera', 'deber', 'dejar', 'demá', 'despu', 'detra', 'diar', 'emplea', 'encontrar', 'erar', 'estaríai', 'estaríar', 'estuvir', 'estuviés', 'estár', 'existir', 'explicar', 'expresar', 'fuistei', 'fuérar', 'fués', 'fuésar', 'grande', 'hablar', 'habríar', 'habíai', 'hacer él', 'hayar', 'hayái', 'hora', 'hubierai', 'hubierar', 'hubir', 'hubistar', 'hubiés', 'hubiéser', 'indicar', 'informar', 'intentai', 'llegar', 'manifestar', 'mencionar', 'nosotra', 'parecer', 'podriar', 'podrio', 'quedar', 'querer', 'quizar', 'rara', 'seguir', 'sero', 'seríar', 'seái', 'señalar', 'soyo', 'tenei', 'tercero', 'todaviar', 'tratar', 'tuvir', 'tuviérir', 'tuviés', 'tuviésar', 'tuyas ', 'vosotra', 'vosotro'] not in stop_words.\n",
      "  warnings.warn(\n",
      "/opt/anaconda3/lib/python3.9/site-packages/sklearn/feature_extraction/text.py:396: UserWarning: Your stop_words may be inconsistent with your preprocessing. Tokenizing the stop words generated tokens ['adema', 'adredir', 'afirmar', 'agregar', 'aquel él', 'asegurar', 'atra', 'añadir', 'comentar', 'considerar', 'consigu', 'contar', 'cosa', 'creer', 'cualquiera', 'deber', 'dejar', 'demá', 'despu', 'detra', 'diar', 'emplea', 'encontrar', 'erar', 'estaríai', 'estaríar', 'estuvir', 'estuviés', 'estár', 'existir', 'explicar', 'expresar', 'fuistei', 'fuérar', 'fués', 'fuésar', 'grande', 'hablar', 'habríar', 'habíai', 'hacer él', 'hayar', 'hayái', 'hora', 'hubierai', 'hubierar', 'hubir', 'hubistar', 'hubiés', 'hubiéser', 'indicar', 'informar', 'intentai', 'llegar', 'manifestar', 'mencionar', 'nosotra', 'parecer', 'podriar', 'podrio', 'quedar', 'querer', 'quizar', 'rara', 'seguir', 'sero', 'seríar', 'seái', 'señalar', 'soyo', 'tenei', 'tercero', 'todaviar', 'tratar', 'tuvir', 'tuviérir', 'tuviés', 'tuviésar', 'tuyas ', 'vosotra', 'vosotro'] not in stop_words.\n",
      "  warnings.warn(\n",
      "/opt/anaconda3/lib/python3.9/site-packages/sklearn/feature_extraction/text.py:396: UserWarning: Your stop_words may be inconsistent with your preprocessing. Tokenizing the stop words generated tokens ['adema', 'adredir', 'afirmar', 'agregar', 'aquel él', 'asegurar', 'atra', 'añadir', 'comentar', 'considerar', 'consigu', 'contar', 'cosa', 'creer', 'cualquiera', 'deber', 'dejar', 'demá', 'despu', 'detra', 'diar', 'emplea', 'encontrar', 'erar', 'estaríai', 'estaríar', 'estuvir', 'estuviés', 'estár', 'existir', 'explicar', 'expresar', 'fuistei', 'fuérar', 'fués', 'fuésar', 'grande', 'hablar', 'habríar', 'habíai', 'hacer él', 'hayar', 'hayái', 'hora', 'hubierai', 'hubierar', 'hubir', 'hubistar', 'hubiés', 'hubiéser', 'indicar', 'informar', 'intentai', 'llegar', 'manifestar', 'mencionar', 'nosotra', 'parecer', 'podriar', 'podrio', 'quedar', 'querer', 'quizar', 'rara', 'seguir', 'sero', 'seríar', 'seái', 'señalar', 'soyo', 'tenei', 'tercero', 'todaviar', 'tratar', 'tuvir', 'tuviérir', 'tuviés', 'tuviésar', 'tuyas ', 'vosotra', 'vosotro'] not in stop_words.\n",
      "  warnings.warn(\n",
      "/opt/anaconda3/lib/python3.9/site-packages/sklearn/feature_extraction/text.py:396: UserWarning: Your stop_words may be inconsistent with your preprocessing. Tokenizing the stop words generated tokens ['adema', 'adredir', 'afirmar', 'agregar', 'aquel él', 'asegurar', 'atra', 'añadir', 'comentar', 'considerar', 'consigu', 'contar', 'cosa', 'creer', 'cualquiera', 'deber', 'dejar', 'demá', 'despu', 'detra', 'diar', 'emplea', 'encontrar', 'erar', 'estaríai', 'estaríar', 'estuvir', 'estuviés', 'estár', 'existir', 'explicar', 'expresar', 'fuistei', 'fuérar', 'fués', 'fuésar', 'grande', 'hablar', 'habríar', 'habíai', 'hacer él', 'hayar', 'hayái', 'hora', 'hubierai', 'hubierar', 'hubir', 'hubistar', 'hubiés', 'hubiéser', 'indicar', 'informar', 'intentai', 'llegar', 'manifestar', 'mencionar', 'nosotra', 'parecer', 'podriar', 'podrio', 'quedar', 'querer', 'quizar', 'rara', 'seguir', 'sero', 'seríar', 'seái', 'señalar', 'soyo', 'tenei', 'tercero', 'todaviar', 'tratar', 'tuvir', 'tuviérir', 'tuviés', 'tuviésar', 'tuyas ', 'vosotra', 'vosotro'] not in stop_words.\n",
      "  warnings.warn(\n",
      "/opt/anaconda3/lib/python3.9/site-packages/sklearn/feature_extraction/text.py:396: UserWarning: Your stop_words may be inconsistent with your preprocessing. Tokenizing the stop words generated tokens ['adema', 'adredir', 'afirmar', 'agregar', 'aquel él', 'asegurar', 'atra', 'añadir', 'comentar', 'considerar', 'consigu', 'contar', 'cosa', 'creer', 'cualquiera', 'deber', 'dejar', 'demá', 'despu', 'detra', 'diar', 'emplea', 'encontrar', 'erar', 'estaríai', 'estaríar', 'estuvir', 'estuviés', 'estár', 'existir', 'explicar', 'expresar', 'fuistei', 'fuérar', 'fués', 'fuésar', 'grande', 'hablar', 'habríar', 'habíai', 'hacer él', 'hayar', 'hayái', 'hora', 'hubierai', 'hubierar', 'hubir', 'hubistar', 'hubiés', 'hubiéser', 'indicar', 'informar', 'intentai', 'llegar', 'manifestar', 'mencionar', 'nosotra', 'parecer', 'podriar', 'podrio', 'quedar', 'querer', 'quizar', 'rara', 'seguir', 'sero', 'seríar', 'seái', 'señalar', 'soyo', 'tenei', 'tercero', 'todaviar', 'tratar', 'tuvir', 'tuviérir', 'tuviés', 'tuviésar', 'tuyas ', 'vosotra', 'vosotro'] not in stop_words.\n",
      "  warnings.warn(\n",
      "/opt/anaconda3/lib/python3.9/site-packages/sklearn/feature_extraction/text.py:396: UserWarning: Your stop_words may be inconsistent with your preprocessing. Tokenizing the stop words generated tokens ['adema', 'adredir', 'afirmar', 'agregar', 'aquel él', 'asegurar', 'atra', 'añadir', 'comentar', 'considerar', 'consigu', 'contar', 'cosa', 'creer', 'cualquiera', 'deber', 'dejar', 'demá', 'despu', 'detra', 'diar', 'emplea', 'encontrar', 'erar', 'estaríai', 'estaríar', 'estuvir', 'estuviés', 'estár', 'existir', 'explicar', 'expresar', 'fuistei', 'fuérar', 'fués', 'fuésar', 'grande', 'hablar', 'habríar', 'habíai', 'hacer él', 'hayar', 'hayái', 'hora', 'hubierai', 'hubierar', 'hubir', 'hubistar', 'hubiés', 'hubiéser', 'indicar', 'informar', 'intentai', 'llegar', 'manifestar', 'mencionar', 'nosotra', 'parecer', 'podriar', 'podrio', 'quedar', 'querer', 'quizar', 'rara', 'seguir', 'sero', 'seríar', 'seái', 'señalar', 'soyo', 'tenei', 'tercero', 'todaviar', 'tratar', 'tuvir', 'tuviérir', 'tuviés', 'tuviésar', 'tuyas ', 'vosotra', 'vosotro'] not in stop_words.\n",
      "  warnings.warn(\n",
      "/opt/anaconda3/lib/python3.9/site-packages/sklearn/feature_extraction/text.py:396: UserWarning: Your stop_words may be inconsistent with your preprocessing. Tokenizing the stop words generated tokens ['adema', 'adredir', 'afirmar', 'agregar', 'aquel él', 'asegurar', 'atra', 'añadir', 'comentar', 'considerar', 'consigu', 'contar', 'cosa', 'creer', 'cualquiera', 'deber', 'dejar', 'demá', 'despu', 'detra', 'diar', 'emplea', 'encontrar', 'erar', 'estaríai', 'estaríar', 'estuvir', 'estuviés', 'estár', 'existir', 'explicar', 'expresar', 'fuistei', 'fuérar', 'fués', 'fuésar', 'grande', 'hablar', 'habríar', 'habíai', 'hacer él', 'hayar', 'hayái', 'hora', 'hubierai', 'hubierar', 'hubir', 'hubistar', 'hubiés', 'hubiéser', 'indicar', 'informar', 'intentai', 'llegar', 'manifestar', 'mencionar', 'nosotra', 'parecer', 'podriar', 'podrio', 'quedar', 'querer', 'quizar', 'rara', 'seguir', 'sero', 'seríar', 'seái', 'señalar', 'soyo', 'tenei', 'tercero', 'todaviar', 'tratar', 'tuvir', 'tuviérir', 'tuviés', 'tuviésar', 'tuyas ', 'vosotra', 'vosotro'] not in stop_words.\n",
      "  warnings.warn(\n",
      "/opt/anaconda3/lib/python3.9/site-packages/sklearn/feature_extraction/text.py:396: UserWarning: Your stop_words may be inconsistent with your preprocessing. Tokenizing the stop words generated tokens ['adema', 'adredir', 'afirmar', 'agregar', 'aquel él', 'asegurar', 'atra', 'añadir', 'comentar', 'considerar', 'consigu', 'contar', 'cosa', 'creer', 'cualquiera', 'deber', 'dejar', 'demá', 'despu', 'detra', 'diar', 'emplea', 'encontrar', 'erar', 'estaríai', 'estaríar', 'estuvir', 'estuviés', 'estár', 'existir', 'explicar', 'expresar', 'fuistei', 'fuérar', 'fués', 'fuésar', 'grande', 'hablar', 'habríar', 'habíai', 'hacer él', 'hayar', 'hayái', 'hora', 'hubierai', 'hubierar', 'hubir', 'hubistar', 'hubiés', 'hubiéser', 'indicar', 'informar', 'intentai', 'llegar', 'manifestar', 'mencionar', 'nosotra', 'parecer', 'podriar', 'podrio', 'quedar', 'querer', 'quizar', 'rara', 'seguir', 'sero', 'seríar', 'seái', 'señalar', 'soyo', 'tenei', 'tercero', 'todaviar', 'tratar', 'tuvir', 'tuviérir', 'tuviés', 'tuviésar', 'tuyas ', 'vosotra', 'vosotro'] not in stop_words.\n",
      "  warnings.warn(\n",
      "/opt/anaconda3/lib/python3.9/site-packages/sklearn/feature_extraction/text.py:396: UserWarning: Your stop_words may be inconsistent with your preprocessing. Tokenizing the stop words generated tokens ['adema', 'adredir', 'afirmar', 'agregar', 'aquel él', 'asegurar', 'atra', 'añadir', 'comentar', 'considerar', 'consigu', 'contar', 'cosa', 'creer', 'cualquiera', 'deber', 'dejar', 'demá', 'despu', 'detra', 'diar', 'emplea', 'encontrar', 'erar', 'estaríai', 'estaríar', 'estuvir', 'estuviés', 'estár', 'existir', 'explicar', 'expresar', 'fuistei', 'fuérar', 'fués', 'fuésar', 'grande', 'hablar', 'habríar', 'habíai', 'hacer él', 'hayar', 'hayái', 'hora', 'hubierai', 'hubierar', 'hubir', 'hubistar', 'hubiés', 'hubiéser', 'indicar', 'informar', 'intentai', 'llegar', 'manifestar', 'mencionar', 'nosotra', 'parecer', 'podriar', 'podrio', 'quedar', 'querer', 'quizar', 'rara', 'seguir', 'sero', 'seríar', 'seái', 'señalar', 'soyo', 'tenei', 'tercero', 'todaviar', 'tratar', 'tuvir', 'tuviérir', 'tuviés', 'tuviésar', 'tuyas ', 'vosotra', 'vosotro'] not in stop_words.\n",
      "  warnings.warn(\n",
      "/opt/anaconda3/lib/python3.9/site-packages/sklearn/feature_extraction/text.py:396: UserWarning: Your stop_words may be inconsistent with your preprocessing. Tokenizing the stop words generated tokens ['adema', 'adredir', 'afirmar', 'agregar', 'aquel él', 'asegurar', 'atra', 'añadir', 'comentar', 'considerar', 'consigu', 'contar', 'cosa', 'creer', 'cualquiera', 'deber', 'dejar', 'demá', 'despu', 'detra', 'diar', 'emplea', 'encontrar', 'erar', 'estaríai', 'estaríar', 'estuvir', 'estuviés', 'estár', 'existir', 'explicar', 'expresar', 'fuistei', 'fuérar', 'fués', 'fuésar', 'grande', 'hablar', 'habríar', 'habíai', 'hacer él', 'hayar', 'hayái', 'hora', 'hubierai', 'hubierar', 'hubir', 'hubistar', 'hubiés', 'hubiéser', 'indicar', 'informar', 'intentai', 'llegar', 'manifestar', 'mencionar', 'nosotra', 'parecer', 'podriar', 'podrio', 'quedar', 'querer', 'quizar', 'rara', 'seguir', 'sero', 'seríar', 'seái', 'señalar', 'soyo', 'tenei', 'tercero', 'todaviar', 'tratar', 'tuvir', 'tuviérir', 'tuviés', 'tuviésar', 'tuyas ', 'vosotra', 'vosotro'] not in stop_words.\n",
      "  warnings.warn(\n",
      "/opt/anaconda3/lib/python3.9/site-packages/sklearn/feature_extraction/text.py:396: UserWarning: Your stop_words may be inconsistent with your preprocessing. Tokenizing the stop words generated tokens ['adema', 'adredir', 'afirmar', 'agregar', 'aquel él', 'asegurar', 'atra', 'añadir', 'comentar', 'considerar', 'consigu', 'contar', 'cosa', 'creer', 'cualquiera', 'deber', 'dejar', 'demá', 'despu', 'detra', 'diar', 'emplea', 'encontrar', 'erar', 'estaríai', 'estaríar', 'estuvir', 'estuviés', 'estár', 'existir', 'explicar', 'expresar', 'fuistei', 'fuérar', 'fués', 'fuésar', 'grande', 'hablar', 'habríar', 'habíai', 'hacer él', 'hayar', 'hayái', 'hora', 'hubierai', 'hubierar', 'hubir', 'hubistar', 'hubiés', 'hubiéser', 'indicar', 'informar', 'intentai', 'llegar', 'manifestar', 'mencionar', 'nosotra', 'parecer', 'podriar', 'podrio', 'quedar', 'querer', 'quizar', 'rara', 'seguir', 'sero', 'seríar', 'seái', 'señalar', 'soyo', 'tenei', 'tercero', 'todaviar', 'tratar', 'tuvir', 'tuviérir', 'tuviés', 'tuviésar', 'tuyas ', 'vosotra', 'vosotro'] not in stop_words.\n",
      "  warnings.warn(\n",
      "/opt/anaconda3/lib/python3.9/site-packages/sklearn/feature_extraction/text.py:396: UserWarning: Your stop_words may be inconsistent with your preprocessing. Tokenizing the stop words generated tokens ['adema', 'adredir', 'afirmar', 'agregar', 'aquel él', 'asegurar', 'atra', 'añadir', 'comentar', 'considerar', 'consigu', 'contar', 'cosa', 'creer', 'cualquiera', 'deber', 'dejar', 'demá', 'despu', 'detra', 'diar', 'emplea', 'encontrar', 'erar', 'estaríai', 'estaríar', 'estuvir', 'estuviés', 'estár', 'existir', 'explicar', 'expresar', 'fuistei', 'fuérar', 'fués', 'fuésar', 'grande', 'hablar', 'habríar', 'habíai', 'hacer él', 'hayar', 'hayái', 'hora', 'hubierai', 'hubierar', 'hubir', 'hubistar', 'hubiés', 'hubiéser', 'indicar', 'informar', 'intentai', 'llegar', 'manifestar', 'mencionar', 'nosotra', 'parecer', 'podriar', 'podrio', 'quedar', 'querer', 'quizar', 'rara', 'seguir', 'sero', 'seríar', 'seái', 'señalar', 'soyo', 'tenei', 'tercero', 'todaviar', 'tratar', 'tuvir', 'tuviérir', 'tuviés', 'tuviésar', 'tuyas ', 'vosotra', 'vosotro'] not in stop_words.\n",
      "  warnings.warn(\n",
      "/opt/anaconda3/lib/python3.9/site-packages/sklearn/feature_extraction/text.py:396: UserWarning: Your stop_words may be inconsistent with your preprocessing. Tokenizing the stop words generated tokens ['adema', 'adredir', 'afirmar', 'agregar', 'aquel él', 'asegurar', 'atra', 'añadir', 'comentar', 'considerar', 'consigu', 'contar', 'cosa', 'creer', 'cualquiera', 'deber', 'dejar', 'demá', 'despu', 'detra', 'diar', 'emplea', 'encontrar', 'erar', 'estaríai', 'estaríar', 'estuvir', 'estuviés', 'estár', 'existir', 'explicar', 'expresar', 'fuistei', 'fuérar', 'fués', 'fuésar', 'grande', 'hablar', 'habríar', 'habíai', 'hacer él', 'hayar', 'hayái', 'hora', 'hubierai', 'hubierar', 'hubir', 'hubistar', 'hubiés', 'hubiéser', 'indicar', 'informar', 'intentai', 'llegar', 'manifestar', 'mencionar', 'nosotra', 'parecer', 'podriar', 'podrio', 'quedar', 'querer', 'quizar', 'rara', 'seguir', 'sero', 'seríar', 'seái', 'señalar', 'soyo', 'tenei', 'tercero', 'todaviar', 'tratar', 'tuvir', 'tuviérir', 'tuviés', 'tuviésar', 'tuyas ', 'vosotra', 'vosotro'] not in stop_words.\n",
      "  warnings.warn(\n",
      "/opt/anaconda3/lib/python3.9/site-packages/sklearn/feature_extraction/text.py:396: UserWarning: Your stop_words may be inconsistent with your preprocessing. Tokenizing the stop words generated tokens ['adema', 'adredir', 'afirmar', 'agregar', 'aquel él', 'asegurar', 'atra', 'añadir', 'comentar', 'considerar', 'consigu', 'contar', 'cosa', 'creer', 'cualquiera', 'deber', 'dejar', 'demá', 'despu', 'detra', 'diar', 'emplea', 'encontrar', 'erar', 'estaríai', 'estaríar', 'estuvir', 'estuviés', 'estár', 'existir', 'explicar', 'expresar', 'fuistei', 'fuérar', 'fués', 'fuésar', 'grande', 'hablar', 'habríar', 'habíai', 'hacer él', 'hayar', 'hayái', 'hora', 'hubierai', 'hubierar', 'hubir', 'hubistar', 'hubiés', 'hubiéser', 'indicar', 'informar', 'intentai', 'llegar', 'manifestar', 'mencionar', 'nosotra', 'parecer', 'podriar', 'podrio', 'quedar', 'querer', 'quizar', 'rara', 'seguir', 'sero', 'seríar', 'seái', 'señalar', 'soyo', 'tenei', 'tercero', 'todaviar', 'tratar', 'tuvir', 'tuviérir', 'tuviés', 'tuviésar', 'tuyas ', 'vosotra', 'vosotro'] not in stop_words.\n",
      "  warnings.warn(\n",
      "/opt/anaconda3/lib/python3.9/site-packages/sklearn/feature_extraction/text.py:396: UserWarning: Your stop_words may be inconsistent with your preprocessing. Tokenizing the stop words generated tokens ['adema', 'adredir', 'afirmar', 'agregar', 'aquel él', 'asegurar', 'atra', 'añadir', 'comentar', 'considerar', 'consigu', 'contar', 'cosa', 'creer', 'cualquiera', 'deber', 'dejar', 'demá', 'despu', 'detra', 'diar', 'emplea', 'encontrar', 'erar', 'estaríai', 'estaríar', 'estuvir', 'estuviés', 'estár', 'existir', 'explicar', 'expresar', 'fuistei', 'fuérar', 'fués', 'fuésar', 'grande', 'hablar', 'habríar', 'habíai', 'hacer él', 'hayar', 'hayái', 'hora', 'hubierai', 'hubierar', 'hubir', 'hubistar', 'hubiés', 'hubiéser', 'indicar', 'informar', 'intentai', 'llegar', 'manifestar', 'mencionar', 'nosotra', 'parecer', 'podriar', 'podrio', 'quedar', 'querer', 'quizar', 'rara', 'seguir', 'sero', 'seríar', 'seái', 'señalar', 'soyo', 'tenei', 'tercero', 'todaviar', 'tratar', 'tuvir', 'tuviérir', 'tuviés', 'tuviésar', 'tuyas ', 'vosotra', 'vosotro'] not in stop_words.\n",
      "  warnings.warn(\n",
      "/opt/anaconda3/lib/python3.9/site-packages/sklearn/feature_extraction/text.py:396: UserWarning: Your stop_words may be inconsistent with your preprocessing. Tokenizing the stop words generated tokens ['adema', 'adredir', 'afirmar', 'agregar', 'aquel él', 'asegurar', 'atra', 'añadir', 'comentar', 'considerar', 'consigu', 'contar', 'cosa', 'creer', 'cualquiera', 'deber', 'dejar', 'demá', 'despu', 'detra', 'diar', 'emplea', 'encontrar', 'erar', 'estaríai', 'estaríar', 'estuvir', 'estuviés', 'estár', 'existir', 'explicar', 'expresar', 'fuistei', 'fuérar', 'fués', 'fuésar', 'grande', 'hablar', 'habríar', 'habíai', 'hacer él', 'hayar', 'hayái', 'hora', 'hubierai', 'hubierar', 'hubir', 'hubistar', 'hubiés', 'hubiéser', 'indicar', 'informar', 'intentai', 'llegar', 'manifestar', 'mencionar', 'nosotra', 'parecer', 'podriar', 'podrio', 'quedar', 'querer', 'quizar', 'rara', 'seguir', 'sero', 'seríar', 'seái', 'señalar', 'soyo', 'tenei', 'tercero', 'todaviar', 'tratar', 'tuvir', 'tuviérir', 'tuviés', 'tuviésar', 'tuyas ', 'vosotra', 'vosotro'] not in stop_words.\n",
      "  warnings.warn(\n",
      "/opt/anaconda3/lib/python3.9/site-packages/sklearn/feature_extraction/text.py:396: UserWarning: Your stop_words may be inconsistent with your preprocessing. Tokenizing the stop words generated tokens ['adema', 'adredir', 'afirmar', 'agregar', 'aquel él', 'asegurar', 'atra', 'añadir', 'comentar', 'considerar', 'consigu', 'contar', 'cosa', 'creer', 'cualquiera', 'deber', 'dejar', 'demá', 'despu', 'detra', 'diar', 'emplea', 'encontrar', 'erar', 'estaríai', 'estaríar', 'estuvir', 'estuviés', 'estár', 'existir', 'explicar', 'expresar', 'fuistei', 'fuérar', 'fués', 'fuésar', 'grande', 'hablar', 'habríar', 'habíai', 'hacer él', 'hayar', 'hayái', 'hora', 'hubierai', 'hubierar', 'hubir', 'hubistar', 'hubiés', 'hubiéser', 'indicar', 'informar', 'intentai', 'llegar', 'manifestar', 'mencionar', 'nosotra', 'parecer', 'podriar', 'podrio', 'quedar', 'querer', 'quizar', 'rara', 'seguir', 'sero', 'seríar', 'seái', 'señalar', 'soyo', 'tenei', 'tercero', 'todaviar', 'tratar', 'tuvir', 'tuviérir', 'tuviés', 'tuviésar', 'tuyas ', 'vosotra', 'vosotro'] not in stop_words.\n",
      "  warnings.warn(\n",
      "/opt/anaconda3/lib/python3.9/site-packages/sklearn/feature_extraction/text.py:396: UserWarning: Your stop_words may be inconsistent with your preprocessing. Tokenizing the stop words generated tokens ['adema', 'adredir', 'afirmar', 'agregar', 'aquel él', 'asegurar', 'atra', 'añadir', 'comentar', 'considerar', 'consigu', 'contar', 'cosa', 'creer', 'cualquiera', 'deber', 'dejar', 'demá', 'despu', 'detra', 'diar', 'emplea', 'encontrar', 'erar', 'estaríai', 'estaríar', 'estuvir', 'estuviés', 'estár', 'existir', 'explicar', 'expresar', 'fuistei', 'fuérar', 'fués', 'fuésar', 'grande', 'hablar', 'habríar', 'habíai', 'hacer él', 'hayar', 'hayái', 'hora', 'hubierai', 'hubierar', 'hubir', 'hubistar', 'hubiés', 'hubiéser', 'indicar', 'informar', 'intentai', 'llegar', 'manifestar', 'mencionar', 'nosotra', 'parecer', 'podriar', 'podrio', 'quedar', 'querer', 'quizar', 'rara', 'seguir', 'sero', 'seríar', 'seái', 'señalar', 'soyo', 'tenei', 'tercero', 'todaviar', 'tratar', 'tuvir', 'tuviérir', 'tuviés', 'tuviésar', 'tuyas ', 'vosotra', 'vosotro'] not in stop_words.\n",
      "  warnings.warn(\n",
      "/opt/anaconda3/lib/python3.9/site-packages/sklearn/feature_extraction/text.py:396: UserWarning: Your stop_words may be inconsistent with your preprocessing. Tokenizing the stop words generated tokens ['adema', 'adredir', 'afirmar', 'agregar', 'aquel él', 'asegurar', 'atra', 'añadir', 'comentar', 'considerar', 'consigu', 'contar', 'cosa', 'creer', 'cualquiera', 'deber', 'dejar', 'demá', 'despu', 'detra', 'diar', 'emplea', 'encontrar', 'erar', 'estaríai', 'estaríar', 'estuvir', 'estuviés', 'estár', 'existir', 'explicar', 'expresar', 'fuistei', 'fuérar', 'fués', 'fuésar', 'grande', 'hablar', 'habríar', 'habíai', 'hacer él', 'hayar', 'hayái', 'hora', 'hubierai', 'hubierar', 'hubir', 'hubistar', 'hubiés', 'hubiéser', 'indicar', 'informar', 'intentai', 'llegar', 'manifestar', 'mencionar', 'nosotra', 'parecer', 'podriar', 'podrio', 'quedar', 'querer', 'quizar', 'rara', 'seguir', 'sero', 'seríar', 'seái', 'señalar', 'soyo', 'tenei', 'tercero', 'todaviar', 'tratar', 'tuvir', 'tuviérir', 'tuviés', 'tuviésar', 'tuyas ', 'vosotra', 'vosotro'] not in stop_words.\n",
      "  warnings.warn(\n",
      "/opt/anaconda3/lib/python3.9/site-packages/sklearn/feature_extraction/text.py:396: UserWarning: Your stop_words may be inconsistent with your preprocessing. Tokenizing the stop words generated tokens ['adema', 'adredir', 'afirmar', 'agregar', 'aquel él', 'asegurar', 'atra', 'añadir', 'comentar', 'considerar', 'consigu', 'contar', 'cosa', 'creer', 'cualquiera', 'deber', 'dejar', 'demá', 'despu', 'detra', 'diar', 'emplea', 'encontrar', 'erar', 'estaríai', 'estaríar', 'estuvir', 'estuviés', 'estár', 'existir', 'explicar', 'expresar', 'fuistei', 'fuérar', 'fués', 'fuésar', 'grande', 'hablar', 'habríar', 'habíai', 'hacer él', 'hayar', 'hayái', 'hora', 'hubierai', 'hubierar', 'hubir', 'hubistar', 'hubiés', 'hubiéser', 'indicar', 'informar', 'intentai', 'llegar', 'manifestar', 'mencionar', 'nosotra', 'parecer', 'podriar', 'podrio', 'quedar', 'querer', 'quizar', 'rara', 'seguir', 'sero', 'seríar', 'seái', 'señalar', 'soyo', 'tenei', 'tercero', 'todaviar', 'tratar', 'tuvir', 'tuviérir', 'tuviés', 'tuviésar', 'tuyas ', 'vosotra', 'vosotro'] not in stop_words.\n",
      "  warnings.warn(\n",
      "/opt/anaconda3/lib/python3.9/site-packages/sklearn/feature_extraction/text.py:396: UserWarning: Your stop_words may be inconsistent with your preprocessing. Tokenizing the stop words generated tokens ['adema', 'adredir', 'afirmar', 'agregar', 'aquel él', 'asegurar', 'atra', 'añadir', 'comentar', 'considerar', 'consigu', 'contar', 'cosa', 'creer', 'cualquiera', 'deber', 'dejar', 'demá', 'despu', 'detra', 'diar', 'emplea', 'encontrar', 'erar', 'estaríai', 'estaríar', 'estuvir', 'estuviés', 'estár', 'existir', 'explicar', 'expresar', 'fuistei', 'fuérar', 'fués', 'fuésar', 'grande', 'hablar', 'habríar', 'habíai', 'hacer él', 'hayar', 'hayái', 'hora', 'hubierai', 'hubierar', 'hubir', 'hubistar', 'hubiés', 'hubiéser', 'indicar', 'informar', 'intentai', 'llegar', 'manifestar', 'mencionar', 'nosotra', 'parecer', 'podriar', 'podrio', 'quedar', 'querer', 'quizar', 'rara', 'seguir', 'sero', 'seríar', 'seái', 'señalar', 'soyo', 'tenei', 'tercero', 'todaviar', 'tratar', 'tuvir', 'tuviérir', 'tuviés', 'tuviésar', 'tuyas ', 'vosotra', 'vosotro'] not in stop_words.\n",
      "  warnings.warn(\n",
      "/opt/anaconda3/lib/python3.9/site-packages/sklearn/feature_extraction/text.py:396: UserWarning: Your stop_words may be inconsistent with your preprocessing. Tokenizing the stop words generated tokens ['adema', 'adredir', 'afirmar', 'agregar', 'aquel él', 'asegurar', 'atra', 'añadir', 'comentar', 'considerar', 'consigu', 'contar', 'cosa', 'creer', 'cualquiera', 'deber', 'dejar', 'demá', 'despu', 'detra', 'diar', 'emplea', 'encontrar', 'erar', 'estaríai', 'estaríar', 'estuvir', 'estuviés', 'estár', 'existir', 'explicar', 'expresar', 'fuistei', 'fuérar', 'fués', 'fuésar', 'grande', 'hablar', 'habríar', 'habíai', 'hacer él', 'hayar', 'hayái', 'hora', 'hubierai', 'hubierar', 'hubir', 'hubistar', 'hubiés', 'hubiéser', 'indicar', 'informar', 'intentai', 'llegar', 'manifestar', 'mencionar', 'nosotra', 'parecer', 'podriar', 'podrio', 'quedar', 'querer', 'quizar', 'rara', 'seguir', 'sero', 'seríar', 'seái', 'señalar', 'soyo', 'tenei', 'tercero', 'todaviar', 'tratar', 'tuvir', 'tuviérir', 'tuviés', 'tuviésar', 'tuyas ', 'vosotra', 'vosotro'] not in stop_words.\n",
      "  warnings.warn(\n",
      "/opt/anaconda3/lib/python3.9/site-packages/sklearn/feature_extraction/text.py:396: UserWarning: Your stop_words may be inconsistent with your preprocessing. Tokenizing the stop words generated tokens ['adema', 'adredir', 'afirmar', 'agregar', 'aquel él', 'asegurar', 'atra', 'añadir', 'comentar', 'considerar', 'consigu', 'contar', 'cosa', 'creer', 'cualquiera', 'deber', 'dejar', 'demá', 'despu', 'detra', 'diar', 'emplea', 'encontrar', 'erar', 'estaríai', 'estaríar', 'estuvir', 'estuviés', 'estár', 'existir', 'explicar', 'expresar', 'fuistei', 'fuérar', 'fués', 'fuésar', 'grande', 'hablar', 'habríar', 'habíai', 'hacer él', 'hayar', 'hayái', 'hora', 'hubierai', 'hubierar', 'hubir', 'hubistar', 'hubiés', 'hubiéser', 'indicar', 'informar', 'intentai', 'llegar', 'manifestar', 'mencionar', 'nosotra', 'parecer', 'podriar', 'podrio', 'quedar', 'querer', 'quizar', 'rara', 'seguir', 'sero', 'seríar', 'seái', 'señalar', 'soyo', 'tenei', 'tercero', 'todaviar', 'tratar', 'tuvir', 'tuviérir', 'tuviés', 'tuviésar', 'tuyas ', 'vosotra', 'vosotro'] not in stop_words.\n",
      "  warnings.warn(\n",
      "/opt/anaconda3/lib/python3.9/site-packages/sklearn/feature_extraction/text.py:396: UserWarning: Your stop_words may be inconsistent with your preprocessing. Tokenizing the stop words generated tokens ['adema', 'adredir', 'afirmar', 'agregar', 'aquel él', 'asegurar', 'atra', 'añadir', 'comentar', 'considerar', 'consigu', 'contar', 'cosa', 'creer', 'cualquiera', 'deber', 'dejar', 'demá', 'despu', 'detra', 'diar', 'emplea', 'encontrar', 'erar', 'estaríai', 'estaríar', 'estuvir', 'estuviés', 'estár', 'existir', 'explicar', 'expresar', 'fuistei', 'fuérar', 'fués', 'fuésar', 'grande', 'hablar', 'habríar', 'habíai', 'hacer él', 'hayar', 'hayái', 'hora', 'hubierai', 'hubierar', 'hubir', 'hubistar', 'hubiés', 'hubiéser', 'indicar', 'informar', 'intentai', 'llegar', 'manifestar', 'mencionar', 'nosotra', 'parecer', 'podriar', 'podrio', 'quedar', 'querer', 'quizar', 'rara', 'seguir', 'sero', 'seríar', 'seái', 'señalar', 'soyo', 'tenei', 'tercero', 'todaviar', 'tratar', 'tuvir', 'tuviérir', 'tuviés', 'tuviésar', 'tuyas ', 'vosotra', 'vosotro'] not in stop_words.\n",
      "  warnings.warn(\n",
      "/opt/anaconda3/lib/python3.9/site-packages/sklearn/feature_extraction/text.py:396: UserWarning: Your stop_words may be inconsistent with your preprocessing. Tokenizing the stop words generated tokens ['adema', 'adredir', 'afirmar', 'agregar', 'aquel él', 'asegurar', 'atra', 'añadir', 'comentar', 'considerar', 'consigu', 'contar', 'cosa', 'creer', 'cualquiera', 'deber', 'dejar', 'demá', 'despu', 'detra', 'diar', 'emplea', 'encontrar', 'erar', 'estaríai', 'estaríar', 'estuvir', 'estuviés', 'estár', 'existir', 'explicar', 'expresar', 'fuistei', 'fuérar', 'fués', 'fuésar', 'grande', 'hablar', 'habríar', 'habíai', 'hacer él', 'hayar', 'hayái', 'hora', 'hubierai', 'hubierar', 'hubir', 'hubistar', 'hubiés', 'hubiéser', 'indicar', 'informar', 'intentai', 'llegar', 'manifestar', 'mencionar', 'nosotra', 'parecer', 'podriar', 'podrio', 'quedar', 'querer', 'quizar', 'rara', 'seguir', 'sero', 'seríar', 'seái', 'señalar', 'soyo', 'tenei', 'tercero', 'todaviar', 'tratar', 'tuvir', 'tuviérir', 'tuviés', 'tuviésar', 'tuyas ', 'vosotra', 'vosotro'] not in stop_words.\n",
      "  warnings.warn(\n",
      "/opt/anaconda3/lib/python3.9/site-packages/sklearn/feature_extraction/text.py:396: UserWarning: Your stop_words may be inconsistent with your preprocessing. Tokenizing the stop words generated tokens ['adema', 'adredir', 'afirmar', 'agregar', 'aquel él', 'asegurar', 'atra', 'añadir', 'comentar', 'considerar', 'consigu', 'contar', 'cosa', 'creer', 'cualquiera', 'deber', 'dejar', 'demá', 'despu', 'detra', 'diar', 'emplea', 'encontrar', 'erar', 'estaríai', 'estaríar', 'estuvir', 'estuviés', 'estár', 'existir', 'explicar', 'expresar', 'fuistei', 'fuérar', 'fués', 'fuésar', 'grande', 'hablar', 'habríar', 'habíai', 'hacer él', 'hayar', 'hayái', 'hora', 'hubierai', 'hubierar', 'hubir', 'hubistar', 'hubiés', 'hubiéser', 'indicar', 'informar', 'intentai', 'llegar', 'manifestar', 'mencionar', 'nosotra', 'parecer', 'podriar', 'podrio', 'quedar', 'querer', 'quizar', 'rara', 'seguir', 'sero', 'seríar', 'seái', 'señalar', 'soyo', 'tenei', 'tercero', 'todaviar', 'tratar', 'tuvir', 'tuviérir', 'tuviés', 'tuviésar', 'tuyas ', 'vosotra', 'vosotro'] not in stop_words.\n",
      "  warnings.warn(\n",
      "/opt/anaconda3/lib/python3.9/site-packages/sklearn/feature_extraction/text.py:396: UserWarning: Your stop_words may be inconsistent with your preprocessing. Tokenizing the stop words generated tokens ['adema', 'adredir', 'afirmar', 'agregar', 'aquel él', 'asegurar', 'atra', 'añadir', 'comentar', 'considerar', 'consigu', 'contar', 'cosa', 'creer', 'cualquiera', 'deber', 'dejar', 'demá', 'despu', 'detra', 'diar', 'emplea', 'encontrar', 'erar', 'estaríai', 'estaríar', 'estuvir', 'estuviés', 'estár', 'existir', 'explicar', 'expresar', 'fuistei', 'fuérar', 'fués', 'fuésar', 'grande', 'hablar', 'habríar', 'habíai', 'hacer él', 'hayar', 'hayái', 'hora', 'hubierai', 'hubierar', 'hubir', 'hubistar', 'hubiés', 'hubiéser', 'indicar', 'informar', 'intentai', 'llegar', 'manifestar', 'mencionar', 'nosotra', 'parecer', 'podriar', 'podrio', 'quedar', 'querer', 'quizar', 'rara', 'seguir', 'sero', 'seríar', 'seái', 'señalar', 'soyo', 'tenei', 'tercero', 'todaviar', 'tratar', 'tuvir', 'tuviérir', 'tuviés', 'tuviésar', 'tuyas ', 'vosotra', 'vosotro'] not in stop_words.\n",
      "  warnings.warn(\n",
      "/opt/anaconda3/lib/python3.9/site-packages/sklearn/feature_extraction/text.py:396: UserWarning: Your stop_words may be inconsistent with your preprocessing. Tokenizing the stop words generated tokens ['adema', 'adredir', 'afirmar', 'agregar', 'aquel él', 'asegurar', 'atra', 'añadir', 'comentar', 'considerar', 'consigu', 'contar', 'cosa', 'creer', 'cualquiera', 'deber', 'dejar', 'demá', 'despu', 'detra', 'diar', 'emplea', 'encontrar', 'erar', 'estaríai', 'estaríar', 'estuvir', 'estuviés', 'estár', 'existir', 'explicar', 'expresar', 'fuistei', 'fuérar', 'fués', 'fuésar', 'grande', 'hablar', 'habríar', 'habíai', 'hacer él', 'hayar', 'hayái', 'hora', 'hubierai', 'hubierar', 'hubir', 'hubistar', 'hubiés', 'hubiéser', 'indicar', 'informar', 'intentai', 'llegar', 'manifestar', 'mencionar', 'nosotra', 'parecer', 'podriar', 'podrio', 'quedar', 'querer', 'quizar', 'rara', 'seguir', 'sero', 'seríar', 'seái', 'señalar', 'soyo', 'tenei', 'tercero', 'todaviar', 'tratar', 'tuvir', 'tuviérir', 'tuviés', 'tuviésar', 'tuyas ', 'vosotra', 'vosotro'] not in stop_words.\n",
      "  warnings.warn(\n",
      "/opt/anaconda3/lib/python3.9/site-packages/sklearn/feature_extraction/text.py:396: UserWarning: Your stop_words may be inconsistent with your preprocessing. Tokenizing the stop words generated tokens ['adema', 'adredir', 'afirmar', 'agregar', 'aquel él', 'asegurar', 'atra', 'añadir', 'comentar', 'considerar', 'consigu', 'contar', 'cosa', 'creer', 'cualquiera', 'deber', 'dejar', 'demá', 'despu', 'detra', 'diar', 'emplea', 'encontrar', 'erar', 'estaríai', 'estaríar', 'estuvir', 'estuviés', 'estár', 'existir', 'explicar', 'expresar', 'fuistei', 'fuérar', 'fués', 'fuésar', 'grande', 'hablar', 'habríar', 'habíai', 'hacer él', 'hayar', 'hayái', 'hora', 'hubierai', 'hubierar', 'hubir', 'hubistar', 'hubiés', 'hubiéser', 'indicar', 'informar', 'intentai', 'llegar', 'manifestar', 'mencionar', 'nosotra', 'parecer', 'podriar', 'podrio', 'quedar', 'querer', 'quizar', 'rara', 'seguir', 'sero', 'seríar', 'seái', 'señalar', 'soyo', 'tenei', 'tercero', 'todaviar', 'tratar', 'tuvir', 'tuviérir', 'tuviés', 'tuviésar', 'tuyas ', 'vosotra', 'vosotro'] not in stop_words.\n",
      "  warnings.warn(\n",
      "/opt/anaconda3/lib/python3.9/site-packages/sklearn/feature_extraction/text.py:396: UserWarning: Your stop_words may be inconsistent with your preprocessing. Tokenizing the stop words generated tokens ['adema', 'adredir', 'afirmar', 'agregar', 'aquel él', 'asegurar', 'atra', 'añadir', 'comentar', 'considerar', 'consigu', 'contar', 'cosa', 'creer', 'cualquiera', 'deber', 'dejar', 'demá', 'despu', 'detra', 'diar', 'emplea', 'encontrar', 'erar', 'estaríai', 'estaríar', 'estuvir', 'estuviés', 'estár', 'existir', 'explicar', 'expresar', 'fuistei', 'fuérar', 'fués', 'fuésar', 'grande', 'hablar', 'habríar', 'habíai', 'hacer él', 'hayar', 'hayái', 'hora', 'hubierai', 'hubierar', 'hubir', 'hubistar', 'hubiés', 'hubiéser', 'indicar', 'informar', 'intentai', 'llegar', 'manifestar', 'mencionar', 'nosotra', 'parecer', 'podriar', 'podrio', 'quedar', 'querer', 'quizar', 'rara', 'seguir', 'sero', 'seríar', 'seái', 'señalar', 'soyo', 'tenei', 'tercero', 'todaviar', 'tratar', 'tuvir', 'tuviérir', 'tuviés', 'tuviésar', 'tuyas ', 'vosotra', 'vosotro'] not in stop_words.\n",
      "  warnings.warn(\n",
      "/opt/anaconda3/lib/python3.9/site-packages/sklearn/feature_extraction/text.py:396: UserWarning: Your stop_words may be inconsistent with your preprocessing. Tokenizing the stop words generated tokens ['adema', 'adredir', 'afirmar', 'agregar', 'aquel él', 'asegurar', 'atra', 'añadir', 'comentar', 'considerar', 'consigu', 'contar', 'cosa', 'creer', 'cualquiera', 'deber', 'dejar', 'demá', 'despu', 'detra', 'diar', 'emplea', 'encontrar', 'erar', 'estaríai', 'estaríar', 'estuvir', 'estuviés', 'estár', 'existir', 'explicar', 'expresar', 'fuistei', 'fuérar', 'fués', 'fuésar', 'grande', 'hablar', 'habríar', 'habíai', 'hacer él', 'hayar', 'hayái', 'hora', 'hubierai', 'hubierar', 'hubir', 'hubistar', 'hubiés', 'hubiéser', 'indicar', 'informar', 'intentai', 'llegar', 'manifestar', 'mencionar', 'nosotra', 'parecer', 'podriar', 'podrio', 'quedar', 'querer', 'quizar', 'rara', 'seguir', 'sero', 'seríar', 'seái', 'señalar', 'soyo', 'tenei', 'tercero', 'todaviar', 'tratar', 'tuvir', 'tuviérir', 'tuviés', 'tuviésar', 'tuyas ', 'vosotra', 'vosotro'] not in stop_words.\n",
      "  warnings.warn(\n",
      "/opt/anaconda3/lib/python3.9/site-packages/sklearn/feature_extraction/text.py:396: UserWarning: Your stop_words may be inconsistent with your preprocessing. Tokenizing the stop words generated tokens ['adema', 'adredir', 'afirmar', 'agregar', 'aquel él', 'asegurar', 'atra', 'añadir', 'comentar', 'considerar', 'consigu', 'contar', 'cosa', 'creer', 'cualquiera', 'deber', 'dejar', 'demá', 'despu', 'detra', 'diar', 'emplea', 'encontrar', 'erar', 'estaríai', 'estaríar', 'estuvir', 'estuviés', 'estár', 'existir', 'explicar', 'expresar', 'fuistei', 'fuérar', 'fués', 'fuésar', 'grande', 'hablar', 'habríar', 'habíai', 'hacer él', 'hayar', 'hayái', 'hora', 'hubierai', 'hubierar', 'hubir', 'hubistar', 'hubiés', 'hubiéser', 'indicar', 'informar', 'intentai', 'llegar', 'manifestar', 'mencionar', 'nosotra', 'parecer', 'podriar', 'podrio', 'quedar', 'querer', 'quizar', 'rara', 'seguir', 'sero', 'seríar', 'seái', 'señalar', 'soyo', 'tenei', 'tercero', 'todaviar', 'tratar', 'tuvir', 'tuviérir', 'tuviés', 'tuviésar', 'tuyas ', 'vosotra', 'vosotro'] not in stop_words.\n",
      "  warnings.warn(\n",
      "/opt/anaconda3/lib/python3.9/site-packages/sklearn/feature_extraction/text.py:396: UserWarning: Your stop_words may be inconsistent with your preprocessing. Tokenizing the stop words generated tokens ['adema', 'adredir', 'afirmar', 'agregar', 'aquel él', 'asegurar', 'atra', 'añadir', 'comentar', 'considerar', 'consigu', 'contar', 'cosa', 'creer', 'cualquiera', 'deber', 'dejar', 'demá', 'despu', 'detra', 'diar', 'emplea', 'encontrar', 'erar', 'estaríai', 'estaríar', 'estuvir', 'estuviés', 'estár', 'existir', 'explicar', 'expresar', 'fuistei', 'fuérar', 'fués', 'fuésar', 'grande', 'hablar', 'habríar', 'habíai', 'hacer él', 'hayar', 'hayái', 'hora', 'hubierai', 'hubierar', 'hubir', 'hubistar', 'hubiés', 'hubiéser', 'indicar', 'informar', 'intentai', 'llegar', 'manifestar', 'mencionar', 'nosotra', 'parecer', 'podriar', 'podrio', 'quedar', 'querer', 'quizar', 'rara', 'seguir', 'sero', 'seríar', 'seái', 'señalar', 'soyo', 'tenei', 'tercero', 'todaviar', 'tratar', 'tuvir', 'tuviérir', 'tuviés', 'tuviésar', 'tuyas ', 'vosotra', 'vosotro'] not in stop_words.\n",
      "  warnings.warn(\n",
      "/opt/anaconda3/lib/python3.9/site-packages/sklearn/feature_extraction/text.py:396: UserWarning: Your stop_words may be inconsistent with your preprocessing. Tokenizing the stop words generated tokens ['adema', 'adredir', 'afirmar', 'agregar', 'aquel él', 'asegurar', 'atra', 'añadir', 'comentar', 'considerar', 'consigu', 'contar', 'cosa', 'creer', 'cualquiera', 'deber', 'dejar', 'demá', 'despu', 'detra', 'diar', 'emplea', 'encontrar', 'erar', 'estaríai', 'estaríar', 'estuvir', 'estuviés', 'estár', 'existir', 'explicar', 'expresar', 'fuistei', 'fuérar', 'fués', 'fuésar', 'grande', 'hablar', 'habríar', 'habíai', 'hacer él', 'hayar', 'hayái', 'hora', 'hubierai', 'hubierar', 'hubir', 'hubistar', 'hubiés', 'hubiéser', 'indicar', 'informar', 'intentai', 'llegar', 'manifestar', 'mencionar', 'nosotra', 'parecer', 'podriar', 'podrio', 'quedar', 'querer', 'quizar', 'rara', 'seguir', 'sero', 'seríar', 'seái', 'señalar', 'soyo', 'tenei', 'tercero', 'todaviar', 'tratar', 'tuvir', 'tuviérir', 'tuviés', 'tuviésar', 'tuyas ', 'vosotra', 'vosotro'] not in stop_words.\n",
      "  warnings.warn(\n",
      "/opt/anaconda3/lib/python3.9/site-packages/sklearn/feature_extraction/text.py:396: UserWarning: Your stop_words may be inconsistent with your preprocessing. Tokenizing the stop words generated tokens ['adema', 'adredir', 'afirmar', 'agregar', 'aquel él', 'asegurar', 'atra', 'añadir', 'comentar', 'considerar', 'consigu', 'contar', 'cosa', 'creer', 'cualquiera', 'deber', 'dejar', 'demá', 'despu', 'detra', 'diar', 'emplea', 'encontrar', 'erar', 'estaríai', 'estaríar', 'estuvir', 'estuviés', 'estár', 'existir', 'explicar', 'expresar', 'fuistei', 'fuérar', 'fués', 'fuésar', 'grande', 'hablar', 'habríar', 'habíai', 'hacer él', 'hayar', 'hayái', 'hora', 'hubierai', 'hubierar', 'hubir', 'hubistar', 'hubiés', 'hubiéser', 'indicar', 'informar', 'intentai', 'llegar', 'manifestar', 'mencionar', 'nosotra', 'parecer', 'podriar', 'podrio', 'quedar', 'querer', 'quizar', 'rara', 'seguir', 'sero', 'seríar', 'seái', 'señalar', 'soyo', 'tenei', 'tercero', 'todaviar', 'tratar', 'tuvir', 'tuviérir', 'tuviés', 'tuviésar', 'tuyas ', 'vosotra', 'vosotro'] not in stop_words.\n",
      "  warnings.warn(\n",
      "/opt/anaconda3/lib/python3.9/site-packages/sklearn/feature_extraction/text.py:396: UserWarning: Your stop_words may be inconsistent with your preprocessing. Tokenizing the stop words generated tokens ['adema', 'adredir', 'afirmar', 'agregar', 'aquel él', 'asegurar', 'atra', 'añadir', 'comentar', 'considerar', 'consigu', 'contar', 'cosa', 'creer', 'cualquiera', 'deber', 'dejar', 'demá', 'despu', 'detra', 'diar', 'emplea', 'encontrar', 'erar', 'estaríai', 'estaríar', 'estuvir', 'estuviés', 'estár', 'existir', 'explicar', 'expresar', 'fuistei', 'fuérar', 'fués', 'fuésar', 'grande', 'hablar', 'habríar', 'habíai', 'hacer él', 'hayar', 'hayái', 'hora', 'hubierai', 'hubierar', 'hubir', 'hubistar', 'hubiés', 'hubiéser', 'indicar', 'informar', 'intentai', 'llegar', 'manifestar', 'mencionar', 'nosotra', 'parecer', 'podriar', 'podrio', 'quedar', 'querer', 'quizar', 'rara', 'seguir', 'sero', 'seríar', 'seái', 'señalar', 'soyo', 'tenei', 'tercero', 'todaviar', 'tratar', 'tuvir', 'tuviérir', 'tuviés', 'tuviésar', 'tuyas ', 'vosotra', 'vosotro'] not in stop_words.\n",
      "  warnings.warn(\n",
      "/opt/anaconda3/lib/python3.9/site-packages/sklearn/svm/_base.py:1206: ConvergenceWarning: Liblinear failed to converge, increase the number of iterations.\n",
      "  warnings.warn(\n",
      "/opt/anaconda3/lib/python3.9/site-packages/sklearn/feature_extraction/text.py:396: UserWarning: Your stop_words may be inconsistent with your preprocessing. Tokenizing the stop words generated tokens ['adema', 'adredir', 'afirmar', 'agregar', 'aquel él', 'asegurar', 'atra', 'añadir', 'comentar', 'considerar', 'consigu', 'contar', 'cosa', 'creer', 'cualquiera', 'deber', 'dejar', 'demá', 'despu', 'detra', 'diar', 'emplea', 'encontrar', 'erar', 'estaríai', 'estaríar', 'estuvir', 'estuviés', 'estár', 'existir', 'explicar', 'expresar', 'fuistei', 'fuérar', 'fués', 'fuésar', 'grande', 'hablar', 'habríar', 'habíai', 'hacer él', 'hayar', 'hayái', 'hora', 'hubierai', 'hubierar', 'hubir', 'hubistar', 'hubiés', 'hubiéser', 'indicar', 'informar', 'intentai', 'llegar', 'manifestar', 'mencionar', 'nosotra', 'parecer', 'podriar', 'podrio', 'quedar', 'querer', 'quizar', 'rara', 'seguir', 'sero', 'seríar', 'seái', 'señalar', 'soyo', 'tenei', 'tercero', 'todaviar', 'tratar', 'tuvir', 'tuviérir', 'tuviés', 'tuviésar', 'tuyas ', 'vosotra', 'vosotro'] not in stop_words.\n",
      "  warnings.warn(\n",
      "/opt/anaconda3/lib/python3.9/site-packages/sklearn/feature_extraction/text.py:396: UserWarning: Your stop_words may be inconsistent with your preprocessing. Tokenizing the stop words generated tokens ['adema', 'adredir', 'afirmar', 'agregar', 'aquel él', 'asegurar', 'atra', 'añadir', 'comentar', 'considerar', 'consigu', 'contar', 'cosa', 'creer', 'cualquiera', 'deber', 'dejar', 'demá', 'despu', 'detra', 'diar', 'emplea', 'encontrar', 'erar', 'estaríai', 'estaríar', 'estuvir', 'estuviés', 'estár', 'existir', 'explicar', 'expresar', 'fuistei', 'fuérar', 'fués', 'fuésar', 'grande', 'hablar', 'habríar', 'habíai', 'hacer él', 'hayar', 'hayái', 'hora', 'hubierai', 'hubierar', 'hubir', 'hubistar', 'hubiés', 'hubiéser', 'indicar', 'informar', 'intentai', 'llegar', 'manifestar', 'mencionar', 'nosotra', 'parecer', 'podriar', 'podrio', 'quedar', 'querer', 'quizar', 'rara', 'seguir', 'sero', 'seríar', 'seái', 'señalar', 'soyo', 'tenei', 'tercero', 'todaviar', 'tratar', 'tuvir', 'tuviérir', 'tuviés', 'tuviésar', 'tuyas ', 'vosotra', 'vosotro'] not in stop_words.\n",
      "  warnings.warn(\n",
      "/opt/anaconda3/lib/python3.9/site-packages/sklearn/feature_extraction/text.py:396: UserWarning: Your stop_words may be inconsistent with your preprocessing. Tokenizing the stop words generated tokens ['adema', 'adredir', 'afirmar', 'agregar', 'aquel él', 'asegurar', 'atra', 'añadir', 'comentar', 'considerar', 'consigu', 'contar', 'cosa', 'creer', 'cualquiera', 'deber', 'dejar', 'demá', 'despu', 'detra', 'diar', 'emplea', 'encontrar', 'erar', 'estaríai', 'estaríar', 'estuvir', 'estuviés', 'estár', 'existir', 'explicar', 'expresar', 'fuistei', 'fuérar', 'fués', 'fuésar', 'grande', 'hablar', 'habríar', 'habíai', 'hacer él', 'hayar', 'hayái', 'hora', 'hubierai', 'hubierar', 'hubir', 'hubistar', 'hubiés', 'hubiéser', 'indicar', 'informar', 'intentai', 'llegar', 'manifestar', 'mencionar', 'nosotra', 'parecer', 'podriar', 'podrio', 'quedar', 'querer', 'quizar', 'rara', 'seguir', 'sero', 'seríar', 'seái', 'señalar', 'soyo', 'tenei', 'tercero', 'todaviar', 'tratar', 'tuvir', 'tuviérir', 'tuviés', 'tuviésar', 'tuyas ', 'vosotra', 'vosotro'] not in stop_words.\n",
      "  warnings.warn(\n",
      "/opt/anaconda3/lib/python3.9/site-packages/sklearn/feature_extraction/text.py:396: UserWarning: Your stop_words may be inconsistent with your preprocessing. Tokenizing the stop words generated tokens ['adema', 'adredir', 'afirmar', 'agregar', 'aquel él', 'asegurar', 'atra', 'añadir', 'comentar', 'considerar', 'consigu', 'contar', 'cosa', 'creer', 'cualquiera', 'deber', 'dejar', 'demá', 'despu', 'detra', 'diar', 'emplea', 'encontrar', 'erar', 'estaríai', 'estaríar', 'estuvir', 'estuviés', 'estár', 'existir', 'explicar', 'expresar', 'fuistei', 'fuérar', 'fués', 'fuésar', 'grande', 'hablar', 'habríar', 'habíai', 'hacer él', 'hayar', 'hayái', 'hora', 'hubierai', 'hubierar', 'hubir', 'hubistar', 'hubiés', 'hubiéser', 'indicar', 'informar', 'intentai', 'llegar', 'manifestar', 'mencionar', 'nosotra', 'parecer', 'podriar', 'podrio', 'quedar', 'querer', 'quizar', 'rara', 'seguir', 'sero', 'seríar', 'seái', 'señalar', 'soyo', 'tenei', 'tercero', 'todaviar', 'tratar', 'tuvir', 'tuviérir', 'tuviés', 'tuviésar', 'tuyas ', 'vosotra', 'vosotro'] not in stop_words.\n",
      "  warnings.warn(\n",
      "/opt/anaconda3/lib/python3.9/site-packages/sklearn/feature_extraction/text.py:396: UserWarning: Your stop_words may be inconsistent with your preprocessing. Tokenizing the stop words generated tokens ['adema', 'adredir', 'afirmar', 'agregar', 'aquel él', 'asegurar', 'atra', 'añadir', 'comentar', 'considerar', 'consigu', 'contar', 'cosa', 'creer', 'cualquiera', 'deber', 'dejar', 'demá', 'despu', 'detra', 'diar', 'emplea', 'encontrar', 'erar', 'estaríai', 'estaríar', 'estuvir', 'estuviés', 'estár', 'existir', 'explicar', 'expresar', 'fuistei', 'fuérar', 'fués', 'fuésar', 'grande', 'hablar', 'habríar', 'habíai', 'hacer él', 'hayar', 'hayái', 'hora', 'hubierai', 'hubierar', 'hubir', 'hubistar', 'hubiés', 'hubiéser', 'indicar', 'informar', 'intentai', 'llegar', 'manifestar', 'mencionar', 'nosotra', 'parecer', 'podriar', 'podrio', 'quedar', 'querer', 'quizar', 'rara', 'seguir', 'sero', 'seríar', 'seái', 'señalar', 'soyo', 'tenei', 'tercero', 'todaviar', 'tratar', 'tuvir', 'tuviérir', 'tuviés', 'tuviésar', 'tuyas ', 'vosotra', 'vosotro'] not in stop_words.\n",
      "  warnings.warn(\n",
      "/opt/anaconda3/lib/python3.9/site-packages/sklearn/feature_extraction/text.py:396: UserWarning: Your stop_words may be inconsistent with your preprocessing. Tokenizing the stop words generated tokens ['adema', 'adredir', 'afirmar', 'agregar', 'aquel él', 'asegurar', 'atra', 'añadir', 'comentar', 'considerar', 'consigu', 'contar', 'cosa', 'creer', 'cualquiera', 'deber', 'dejar', 'demá', 'despu', 'detra', 'diar', 'emplea', 'encontrar', 'erar', 'estaríai', 'estaríar', 'estuvir', 'estuviés', 'estár', 'existir', 'explicar', 'expresar', 'fuistei', 'fuérar', 'fués', 'fuésar', 'grande', 'hablar', 'habríar', 'habíai', 'hacer él', 'hayar', 'hayái', 'hora', 'hubierai', 'hubierar', 'hubir', 'hubistar', 'hubiés', 'hubiéser', 'indicar', 'informar', 'intentai', 'llegar', 'manifestar', 'mencionar', 'nosotra', 'parecer', 'podriar', 'podrio', 'quedar', 'querer', 'quizar', 'rara', 'seguir', 'sero', 'seríar', 'seái', 'señalar', 'soyo', 'tenei', 'tercero', 'todaviar', 'tratar', 'tuvir', 'tuviérir', 'tuviés', 'tuviésar', 'tuyas ', 'vosotra', 'vosotro'] not in stop_words.\n",
      "  warnings.warn(\n",
      "/opt/anaconda3/lib/python3.9/site-packages/sklearn/feature_extraction/text.py:396: UserWarning: Your stop_words may be inconsistent with your preprocessing. Tokenizing the stop words generated tokens ['adema', 'adredir', 'afirmar', 'agregar', 'aquel él', 'asegurar', 'atra', 'añadir', 'comentar', 'considerar', 'consigu', 'contar', 'cosa', 'creer', 'cualquiera', 'deber', 'dejar', 'demá', 'despu', 'detra', 'diar', 'emplea', 'encontrar', 'erar', 'estaríai', 'estaríar', 'estuvir', 'estuviés', 'estár', 'existir', 'explicar', 'expresar', 'fuistei', 'fuérar', 'fués', 'fuésar', 'grande', 'hablar', 'habríar', 'habíai', 'hacer él', 'hayar', 'hayái', 'hora', 'hubierai', 'hubierar', 'hubir', 'hubistar', 'hubiés', 'hubiéser', 'indicar', 'informar', 'intentai', 'llegar', 'manifestar', 'mencionar', 'nosotra', 'parecer', 'podriar', 'podrio', 'quedar', 'querer', 'quizar', 'rara', 'seguir', 'sero', 'seríar', 'seái', 'señalar', 'soyo', 'tenei', 'tercero', 'todaviar', 'tratar', 'tuvir', 'tuviérir', 'tuviés', 'tuviésar', 'tuyas ', 'vosotra', 'vosotro'] not in stop_words.\n",
      "  warnings.warn(\n",
      "/opt/anaconda3/lib/python3.9/site-packages/sklearn/feature_extraction/text.py:396: UserWarning: Your stop_words may be inconsistent with your preprocessing. Tokenizing the stop words generated tokens ['adema', 'adredir', 'afirmar', 'agregar', 'aquel él', 'asegurar', 'atra', 'añadir', 'comentar', 'considerar', 'consigu', 'contar', 'cosa', 'creer', 'cualquiera', 'deber', 'dejar', 'demá', 'despu', 'detra', 'diar', 'emplea', 'encontrar', 'erar', 'estaríai', 'estaríar', 'estuvir', 'estuviés', 'estár', 'existir', 'explicar', 'expresar', 'fuistei', 'fuérar', 'fués', 'fuésar', 'grande', 'hablar', 'habríar', 'habíai', 'hacer él', 'hayar', 'hayái', 'hora', 'hubierai', 'hubierar', 'hubir', 'hubistar', 'hubiés', 'hubiéser', 'indicar', 'informar', 'intentai', 'llegar', 'manifestar', 'mencionar', 'nosotra', 'parecer', 'podriar', 'podrio', 'quedar', 'querer', 'quizar', 'rara', 'seguir', 'sero', 'seríar', 'seái', 'señalar', 'soyo', 'tenei', 'tercero', 'todaviar', 'tratar', 'tuvir', 'tuviérir', 'tuviés', 'tuviésar', 'tuyas ', 'vosotra', 'vosotro'] not in stop_words.\n",
      "  warnings.warn(\n",
      "/opt/anaconda3/lib/python3.9/site-packages/sklearn/feature_extraction/text.py:396: UserWarning: Your stop_words may be inconsistent with your preprocessing. Tokenizing the stop words generated tokens ['adema', 'adredir', 'afirmar', 'agregar', 'aquel él', 'asegurar', 'atra', 'añadir', 'comentar', 'considerar', 'consigu', 'contar', 'cosa', 'creer', 'cualquiera', 'deber', 'dejar', 'demá', 'despu', 'detra', 'diar', 'emplea', 'encontrar', 'erar', 'estaríai', 'estaríar', 'estuvir', 'estuviés', 'estár', 'existir', 'explicar', 'expresar', 'fuistei', 'fuérar', 'fués', 'fuésar', 'grande', 'hablar', 'habríar', 'habíai', 'hacer él', 'hayar', 'hayái', 'hora', 'hubierai', 'hubierar', 'hubir', 'hubistar', 'hubiés', 'hubiéser', 'indicar', 'informar', 'intentai', 'llegar', 'manifestar', 'mencionar', 'nosotra', 'parecer', 'podriar', 'podrio', 'quedar', 'querer', 'quizar', 'rara', 'seguir', 'sero', 'seríar', 'seái', 'señalar', 'soyo', 'tenei', 'tercero', 'todaviar', 'tratar', 'tuvir', 'tuviérir', 'tuviés', 'tuviésar', 'tuyas ', 'vosotra', 'vosotro'] not in stop_words.\n",
      "  warnings.warn(\n",
      "/opt/anaconda3/lib/python3.9/site-packages/sklearn/svm/_base.py:1206: ConvergenceWarning: Liblinear failed to converge, increase the number of iterations.\n",
      "  warnings.warn(\n",
      "/opt/anaconda3/lib/python3.9/site-packages/sklearn/model_selection/_validation.py:372: FitFailedWarning: \n",
      "20 fits failed out of a total of 50.\n",
      "The score on these train-test partitions for these parameters will be set to nan.\n",
      "If these failures are not expected, you can try to debug them by setting error_score='raise'.\n",
      "\n",
      "Below are more details about the failures:\n",
      "--------------------------------------------------------------------------------\n",
      "10 fits failed with the following error:\n",
      "Traceback (most recent call last):\n",
      "  File \"/opt/anaconda3/lib/python3.9/site-packages/sklearn/model_selection/_validation.py\", line 680, in _fit_and_score\n",
      "    estimator.fit(X_train, y_train, **fit_params)\n",
      "  File \"/opt/anaconda3/lib/python3.9/site-packages/sklearn/pipeline.py\", line 394, in fit\n",
      "    self._final_estimator.fit(Xt, y, **fit_params_last_step)\n",
      "  File \"/opt/anaconda3/lib/python3.9/site-packages/sklearn/linear_model/_logistic.py\", line 1461, in fit\n",
      "    solver = _check_solver(self.solver, self.penalty, self.dual)\n",
      "  File \"/opt/anaconda3/lib/python3.9/site-packages/sklearn/linear_model/_logistic.py\", line 457, in _check_solver\n",
      "    raise ValueError(\n",
      "ValueError: Only 'saga' solver supports elasticnet penalty, got solver=liblinear.\n",
      "\n",
      "--------------------------------------------------------------------------------\n",
      "5 fits failed with the following error:\n",
      "Traceback (most recent call last):\n",
      "  File \"/opt/anaconda3/lib/python3.9/site-packages/sklearn/model_selection/_validation.py\", line 680, in _fit_and_score\n",
      "    estimator.fit(X_train, y_train, **fit_params)\n",
      "  File \"/opt/anaconda3/lib/python3.9/site-packages/sklearn/pipeline.py\", line 394, in fit\n",
      "    self._final_estimator.fit(Xt, y, **fit_params_last_step)\n",
      "  File \"/opt/anaconda3/lib/python3.9/site-packages/sklearn/linear_model/_logistic.py\", line 1461, in fit\n",
      "    solver = _check_solver(self.solver, self.penalty, self.dual)\n",
      "  File \"/opt/anaconda3/lib/python3.9/site-packages/sklearn/linear_model/_logistic.py\", line 447, in _check_solver\n",
      "    raise ValueError(\n",
      "ValueError: Solver lbfgs supports only 'l2' or 'none' penalties, got elasticnet penalty.\n",
      "\n",
      "--------------------------------------------------------------------------------\n",
      "5 fits failed with the following error:\n",
      "Traceback (most recent call last):\n",
      "  File \"/opt/anaconda3/lib/python3.9/site-packages/sklearn/model_selection/_validation.py\", line 680, in _fit_and_score\n",
      "    estimator.fit(X_train, y_train, **fit_params)\n",
      "  File \"/opt/anaconda3/lib/python3.9/site-packages/sklearn/pipeline.py\", line 394, in fit\n",
      "    self._final_estimator.fit(Xt, y, **fit_params_last_step)\n",
      "  File \"/opt/anaconda3/lib/python3.9/site-packages/sklearn/linear_model/_logistic.py\", line 1461, in fit\n",
      "    solver = _check_solver(self.solver, self.penalty, self.dual)\n",
      "  File \"/opt/anaconda3/lib/python3.9/site-packages/sklearn/linear_model/_logistic.py\", line 447, in _check_solver\n",
      "    raise ValueError(\n",
      "ValueError: Solver lbfgs supports only 'l2' or 'none' penalties, got l1 penalty.\n",
      "\n",
      "  warnings.warn(some_fits_failed_message, FitFailedWarning)\n",
      "/opt/anaconda3/lib/python3.9/site-packages/sklearn/model_selection/_search.py:969: UserWarning: One or more of the test scores are non-finite: [0.60162818        nan        nan 0.89405866        nan 0.84550654\n",
      " 0.84849782 0.87708702        nan 0.6757096 ]\n",
      "  warnings.warn(\n",
      "/opt/anaconda3/lib/python3.9/site-packages/sklearn/feature_extraction/text.py:396: UserWarning: Your stop_words may be inconsistent with your preprocessing. Tokenizing the stop words generated tokens ['adema', 'adredir', 'afirmar', 'agregar', 'aquel él', 'asegurar', 'atra', 'añadir', 'comentar', 'considerar', 'consigu', 'contar', 'cosa', 'creer', 'cualquiera', 'deber', 'dejar', 'demá', 'despu', 'detra', 'diar', 'emplea', 'encontrar', 'erar', 'estaríai', 'estaríar', 'estuvir', 'estuviés', 'estár', 'existir', 'explicar', 'expresar', 'fuistei', 'fuérar', 'fués', 'fuésar', 'grande', 'hablar', 'habríar', 'habíai', 'hacer él', 'hayar', 'hayái', 'hora', 'hubierai', 'hubierar', 'hubir', 'hubistar', 'hubiés', 'hubiéser', 'indicar', 'informar', 'intentai', 'llegar', 'manifestar', 'mencionar', 'nosotra', 'parecer', 'podriar', 'podrio', 'quedar', 'querer', 'quizar', 'rara', 'seguir', 'sero', 'seríar', 'seái', 'señalar', 'soyo', 'tenei', 'tercero', 'todaviar', 'tratar', 'tuvir', 'tuviérir', 'tuviés', 'tuviésar', 'tuyas ', 'vosotra', 'vosotro'] not in stop_words.\n",
      "  warnings.warn(\n"
     ]
    },
    {
     "data": {
      "text/plain": [
       "(0.9923483583750695, 0.8902566242436887)"
      ]
     },
     "execution_count": 72,
     "metadata": {},
     "output_type": "execute_result"
    }
   ],
   "source": [
    "# Fit this RandomizedSearchCV object on X_train and y_train before scoring both X_train, y_train and X_test, y_test.\n",
    "cvec_logreg_rs.fit(X_train, y_train)\n",
    "cvec_logreg_rs.score(X_train, y_train), cvec_logreg_rs.score(X_test, y_test)"
   ]
  },
  {
   "cell_type": "code",
   "execution_count": 39,
   "id": "05b8a8a2-9565-4e75-b1ed-2fef3dd3543f",
   "metadata": {
    "collapsed": true,
    "jupyter": {
     "outputs_hidden": true
    },
    "tags": []
   },
   "outputs": [
    {
     "data": {
      "text/plain": [
       "{'logisticregression__solver': 'lbfgs',\n",
       " 'logisticregression__penalty': 'l2',\n",
       " 'logisticregression__C': 1.0,\n",
       " 'countvectorizer__tokenizer': None,\n",
       " 'countvectorizer__stop_words': frozenset({'0',\n",
       "            '1',\n",
       "            '2',\n",
       "            '3',\n",
       "            '4',\n",
       "            '5',\n",
       "            '6',\n",
       "            '7',\n",
       "            '8',\n",
       "            '9',\n",
       "            '_',\n",
       "            'a',\n",
       "            'actualmente',\n",
       "            'acuerdo',\n",
       "            'adelante',\n",
       "            'ademas',\n",
       "            'además',\n",
       "            'adrede',\n",
       "            'afirmó',\n",
       "            'agregó',\n",
       "            'ahi',\n",
       "            'ahora',\n",
       "            'ahí',\n",
       "            'al',\n",
       "            'algo',\n",
       "            'alguna',\n",
       "            'algunas',\n",
       "            'alguno',\n",
       "            'algunos',\n",
       "            'algún',\n",
       "            'alli',\n",
       "            'allí',\n",
       "            'alrededor',\n",
       "            'ambos',\n",
       "            'ampleamos',\n",
       "            'antano',\n",
       "            'antaño',\n",
       "            'ante',\n",
       "            'anterior',\n",
       "            'antes',\n",
       "            'apenas',\n",
       "            'aproximadamente',\n",
       "            'aquel',\n",
       "            'aquella',\n",
       "            'aquellas',\n",
       "            'aquello',\n",
       "            'aquellos',\n",
       "            'aqui',\n",
       "            'aquél',\n",
       "            'aquélla',\n",
       "            'aquéllas',\n",
       "            'aquéllos',\n",
       "            'aquí',\n",
       "            'arriba',\n",
       "            'arribaabajo',\n",
       "            'aseguró',\n",
       "            'asi',\n",
       "            'así',\n",
       "            'atras',\n",
       "            'aun',\n",
       "            'aunque',\n",
       "            'ayer',\n",
       "            'añadió',\n",
       "            'aún',\n",
       "            'b',\n",
       "            'bajo',\n",
       "            'bastante',\n",
       "            'bien',\n",
       "            'breve',\n",
       "            'buen',\n",
       "            'buena',\n",
       "            'buenas',\n",
       "            'bueno',\n",
       "            'buenos',\n",
       "            'c',\n",
       "            'cada',\n",
       "            'casi',\n",
       "            'cerca',\n",
       "            'cierta',\n",
       "            'ciertas',\n",
       "            'cierto',\n",
       "            'ciertos',\n",
       "            'cinco',\n",
       "            'claro',\n",
       "            'co',\n",
       "            'com',\n",
       "            'comentó',\n",
       "            'como',\n",
       "            'con',\n",
       "            'conmigo',\n",
       "            'conocer',\n",
       "            'conseguimos',\n",
       "            'conseguir',\n",
       "            'considera',\n",
       "            'consideró',\n",
       "            'consigo',\n",
       "            'consigue',\n",
       "            'consiguen',\n",
       "            'consigues',\n",
       "            'contigo',\n",
       "            'contra',\n",
       "            'cosas',\n",
       "            'creo',\n",
       "            'cual',\n",
       "            'cuales',\n",
       "            'cualquier',\n",
       "            'cuando',\n",
       "            'cuanta',\n",
       "            'cuantas',\n",
       "            'cuanto',\n",
       "            'cuantos',\n",
       "            'cuatro',\n",
       "            'cuenta',\n",
       "            'cuál',\n",
       "            'cuáles',\n",
       "            'cuándo',\n",
       "            'cuánta',\n",
       "            'cuántas',\n",
       "            'cuánto',\n",
       "            'cuántos',\n",
       "            'cómo',\n",
       "            'd',\n",
       "            'da',\n",
       "            'dado',\n",
       "            'dan',\n",
       "            'dar',\n",
       "            'de',\n",
       "            'debajo',\n",
       "            'debe',\n",
       "            'deben',\n",
       "            'debido',\n",
       "            'decir',\n",
       "            'dejó',\n",
       "            'del',\n",
       "            'delante',\n",
       "            'demasiado',\n",
       "            'demás',\n",
       "            'dentro',\n",
       "            'deprisa',\n",
       "            'desde',\n",
       "            'despacio',\n",
       "            'despues',\n",
       "            'después',\n",
       "            'detras',\n",
       "            'detrás',\n",
       "            'dia',\n",
       "            'dias',\n",
       "            'dice',\n",
       "            'dicen',\n",
       "            'dicho',\n",
       "            'dieron',\n",
       "            'diferente',\n",
       "            'diferentes',\n",
       "            'dijeron',\n",
       "            'dijo',\n",
       "            'dio',\n",
       "            'donde',\n",
       "            'dos',\n",
       "            'durante',\n",
       "            'día',\n",
       "            'días',\n",
       "            'dónde',\n",
       "            'e',\n",
       "            'ejemplo',\n",
       "            'el',\n",
       "            'ella',\n",
       "            'ellas',\n",
       "            'ello',\n",
       "            'ellos',\n",
       "            'embargo',\n",
       "            'empleais',\n",
       "            'emplean',\n",
       "            'emplear',\n",
       "            'empleas',\n",
       "            'empleo',\n",
       "            'en',\n",
       "            'encima',\n",
       "            'encuentra',\n",
       "            'enfrente',\n",
       "            'enseguida',\n",
       "            'entonces',\n",
       "            'entre',\n",
       "            'era',\n",
       "            'erais',\n",
       "            'eramos',\n",
       "            'eran',\n",
       "            'eras',\n",
       "            'eres',\n",
       "            'es',\n",
       "            'esa',\n",
       "            'esas',\n",
       "            'ese',\n",
       "            'eso',\n",
       "            'esos',\n",
       "            'esta',\n",
       "            'estaba',\n",
       "            'estabais',\n",
       "            'estaban',\n",
       "            'estabas',\n",
       "            'estad',\n",
       "            'estada',\n",
       "            'estadas',\n",
       "            'estado',\n",
       "            'estados',\n",
       "            'estais',\n",
       "            'estamos',\n",
       "            'estan',\n",
       "            'estando',\n",
       "            'estar',\n",
       "            'estaremos',\n",
       "            'estará',\n",
       "            'estarán',\n",
       "            'estarás',\n",
       "            'estaré',\n",
       "            'estaréis',\n",
       "            'estaría',\n",
       "            'estaríais',\n",
       "            'estaríamos',\n",
       "            'estarían',\n",
       "            'estarías',\n",
       "            'estas',\n",
       "            'este',\n",
       "            'estemos',\n",
       "            'esto',\n",
       "            'estos',\n",
       "            'estoy',\n",
       "            'estuve',\n",
       "            'estuviera',\n",
       "            'estuvierais',\n",
       "            'estuvieran',\n",
       "            'estuvieras',\n",
       "            'estuvieron',\n",
       "            'estuviese',\n",
       "            'estuvieseis',\n",
       "            'estuviesen',\n",
       "            'estuvieses',\n",
       "            'estuvimos',\n",
       "            'estuviste',\n",
       "            'estuvisteis',\n",
       "            'estuviéramos',\n",
       "            'estuviésemos',\n",
       "            'estuvo',\n",
       "            'está',\n",
       "            'estábamos',\n",
       "            'estáis',\n",
       "            'están',\n",
       "            'estás',\n",
       "            'esté',\n",
       "            'estéis',\n",
       "            'estén',\n",
       "            'estés',\n",
       "            'ex',\n",
       "            'excepto',\n",
       "            'existe',\n",
       "            'existen',\n",
       "            'explicó',\n",
       "            'expresó',\n",
       "            'f',\n",
       "            'fin',\n",
       "            'final',\n",
       "            'fue',\n",
       "            'fuera',\n",
       "            'fuerais',\n",
       "            'fueran',\n",
       "            'fueras',\n",
       "            'fueron',\n",
       "            'fuese',\n",
       "            'fueseis',\n",
       "            'fuesen',\n",
       "            'fueses',\n",
       "            'fui',\n",
       "            'fuimos',\n",
       "            'fuiste',\n",
       "            'fuisteis',\n",
       "            'fuéramos',\n",
       "            'fuésemos',\n",
       "            'g',\n",
       "            'general',\n",
       "            'gran',\n",
       "            'grandes',\n",
       "            'gueno',\n",
       "            'h',\n",
       "            'ha',\n",
       "            'haber',\n",
       "            'habia',\n",
       "            'habida',\n",
       "            'habidas',\n",
       "            'habido',\n",
       "            'habidos',\n",
       "            'habiendo',\n",
       "            'habla',\n",
       "            'hablan',\n",
       "            'habremos',\n",
       "            'habrá',\n",
       "            'habrán',\n",
       "            'habrás',\n",
       "            'habré',\n",
       "            'habréis',\n",
       "            'habría',\n",
       "            'habríais',\n",
       "            'habríamos',\n",
       "            'habrían',\n",
       "            'habrías',\n",
       "            'habéis',\n",
       "            'había',\n",
       "            'habíais',\n",
       "            'habíamos',\n",
       "            'habían',\n",
       "            'habías',\n",
       "            'hace',\n",
       "            'haceis',\n",
       "            'hacemos',\n",
       "            'hacen',\n",
       "            'hacer',\n",
       "            'hacerlo',\n",
       "            'haces',\n",
       "            'hacia',\n",
       "            'haciendo',\n",
       "            'hago',\n",
       "            'han',\n",
       "            'has',\n",
       "            'hasta',\n",
       "            'hay',\n",
       "            'haya',\n",
       "            'hayamos',\n",
       "            'hayan',\n",
       "            'hayas',\n",
       "            'hayáis',\n",
       "            'he',\n",
       "            'hecho',\n",
       "            'hemos',\n",
       "            'hicieron',\n",
       "            'hizo',\n",
       "            'horas',\n",
       "            'hoy',\n",
       "            'https',\n",
       "            'hube',\n",
       "            'hubiera',\n",
       "            'hubierais',\n",
       "            'hubieran',\n",
       "            'hubieras',\n",
       "            'hubieron',\n",
       "            'hubiese',\n",
       "            'hubieseis',\n",
       "            'hubiesen',\n",
       "            'hubieses',\n",
       "            'hubimos',\n",
       "            'hubiste',\n",
       "            'hubisteis',\n",
       "            'hubiéramos',\n",
       "            'hubiésemos',\n",
       "            'hubo',\n",
       "            'i',\n",
       "            'igual',\n",
       "            'incluso',\n",
       "            'indicó',\n",
       "            'informo',\n",
       "            'informó',\n",
       "            'intenta',\n",
       "            'intentais',\n",
       "            'intentamos',\n",
       "            'intentan',\n",
       "            'intentar',\n",
       "            'intentas',\n",
       "            'intento',\n",
       "            'ir',\n",
       "            'j',\n",
       "            'junto',\n",
       "            'k',\n",
       "            'l',\n",
       "            'la',\n",
       "            'lado',\n",
       "            'largo',\n",
       "            'las',\n",
       "            'le',\n",
       "            'lejos',\n",
       "            'les',\n",
       "            'llegó',\n",
       "            'lleva',\n",
       "            'llevar',\n",
       "            'lo',\n",
       "            'los',\n",
       "            'luego',\n",
       "            'lugar',\n",
       "            'm',\n",
       "            'mal',\n",
       "            'manera',\n",
       "            'manifestó',\n",
       "            'mas',\n",
       "            'mayor',\n",
       "            'me',\n",
       "            'mediante',\n",
       "            'medio',\n",
       "            'mejor',\n",
       "            'mencionó',\n",
       "            'menos',\n",
       "            'menudo',\n",
       "            'mi',\n",
       "            'mia',\n",
       "            'mias',\n",
       "            'mientras',\n",
       "            'mio',\n",
       "            'mios',\n",
       "            'mis',\n",
       "            'misma',\n",
       "            'mismas',\n",
       "            'mismo',\n",
       "            'mismos',\n",
       "            'modo',\n",
       "            'momento',\n",
       "            'mucha',\n",
       "            'muchas',\n",
       "            'mucho',\n",
       "            'muchos',\n",
       "            'muy',\n",
       "            'más',\n",
       "            'mí',\n",
       "            'mía',\n",
       "            'mías',\n",
       "            'mío',\n",
       "            'míos',\n",
       "            'n',\n",
       "            'nada',\n",
       "            'nadie',\n",
       "            'ni',\n",
       "            'ninguna',\n",
       "            'ningunas',\n",
       "            'ninguno',\n",
       "            'ningunos',\n",
       "            'ningún',\n",
       "            'no',\n",
       "            'nos',\n",
       "            'nosotras',\n",
       "            'nosotros',\n",
       "            'nuestra',\n",
       "            'nuestras',\n",
       "            'nuestro',\n",
       "            'nuestros',\n",
       "            'nueva',\n",
       "            'nuevas',\n",
       "            'nuevo',\n",
       "            'nuevos',\n",
       "            'nunca',\n",
       "            'o',\n",
       "            'ocho',\n",
       "            'os',\n",
       "            'otra',\n",
       "            'otras',\n",
       "            'otro',\n",
       "            'otros',\n",
       "            'p',\n",
       "            'pais',\n",
       "            'para',\n",
       "            'parece',\n",
       "            'parte',\n",
       "            'partir',\n",
       "            'pasada',\n",
       "            'pasado',\n",
       "            'paìs',\n",
       "            'peor',\n",
       "            'pero',\n",
       "            'pesar',\n",
       "            'poca',\n",
       "            'pocas',\n",
       "            'poco',\n",
       "            'pocos',\n",
       "            'podeis',\n",
       "            'podemos',\n",
       "            'poder',\n",
       "            'podria',\n",
       "            'podriais',\n",
       "            'podriamos',\n",
       "            'podrian',\n",
       "            'podrias',\n",
       "            'podrá',\n",
       "            'podrán',\n",
       "            'podría',\n",
       "            'podrían',\n",
       "            'poner',\n",
       "            'por',\n",
       "            'porque',\n",
       "            'posible',\n",
       "            'primer',\n",
       "            'primera',\n",
       "            'primero',\n",
       "            'primeros',\n",
       "            'principalmente',\n",
       "            'pronto',\n",
       "            'propia',\n",
       "            'propias',\n",
       "            'propio',\n",
       "            'propios',\n",
       "            'proximo',\n",
       "            'próximo',\n",
       "            'próximos',\n",
       "            'pudo',\n",
       "            'pueda',\n",
       "            'puede',\n",
       "            'pueden',\n",
       "            'puedo',\n",
       "            'pues',\n",
       "            'q',\n",
       "            'qeu',\n",
       "            'que',\n",
       "            'quedó',\n",
       "            'queremos',\n",
       "            'quien',\n",
       "            'quienes',\n",
       "            'quiere',\n",
       "            'quiza',\n",
       "            'quizas',\n",
       "            'quizá',\n",
       "            'quizás',\n",
       "            'quién',\n",
       "            'quiénes',\n",
       "            'qué',\n",
       "            'r',\n",
       "            'raras',\n",
       "            'realizado',\n",
       "            'realizar',\n",
       "            'realizó',\n",
       "            'repente',\n",
       "            'respecto',\n",
       "            'rt',\n",
       "            's',\n",
       "            'sabe',\n",
       "            'sabeis',\n",
       "            'sabemos',\n",
       "            'saben',\n",
       "            'saber',\n",
       "            'sabes',\n",
       "            'sal',\n",
       "            'salvo',\n",
       "            'se',\n",
       "            'sea',\n",
       "            'seamos',\n",
       "            'sean',\n",
       "            'seas',\n",
       "            'segun',\n",
       "            'segunda',\n",
       "            'segundo',\n",
       "            'según',\n",
       "            'seis',\n",
       "            'ser',\n",
       "            'sera',\n",
       "            'seremos',\n",
       "            'será',\n",
       "            'serán',\n",
       "            'serás',\n",
       "            'seré',\n",
       "            'seréis',\n",
       "            'sería',\n",
       "            'seríais',\n",
       "            'seríamos',\n",
       "            'serían',\n",
       "            'serías',\n",
       "            'seáis',\n",
       "            'señaló',\n",
       "            'si',\n",
       "            'sido',\n",
       "            'siempre',\n",
       "            'siendo',\n",
       "            'siete',\n",
       "            'sigue',\n",
       "            'siguiente',\n",
       "            'sin',\n",
       "            'sino',\n",
       "            'sobre',\n",
       "            'sois',\n",
       "            'sola',\n",
       "            'solamente',\n",
       "            'solas',\n",
       "            'solo',\n",
       "            'solos',\n",
       "            'somos',\n",
       "            'son',\n",
       "            'soy',\n",
       "            'soyos',\n",
       "            'su',\n",
       "            'supuesto',\n",
       "            'sus',\n",
       "            'suya',\n",
       "            'suyas',\n",
       "            'suyo',\n",
       "            'suyos',\n",
       "            'sé',\n",
       "            'sí',\n",
       "            'sólo',\n",
       "            't',\n",
       "            'tal',\n",
       "            'tambien',\n",
       "            'también',\n",
       "            'tampoco',\n",
       "            'tan',\n",
       "            'tanto',\n",
       "            'tarde',\n",
       "            'te',\n",
       "            'temprano',\n",
       "            'tendremos',\n",
       "            'tendrá',\n",
       "            'tendrán',\n",
       "            'tendrás',\n",
       "            'tendré',\n",
       "            'tendréis',\n",
       "            'tendría',\n",
       "            'tendríais',\n",
       "            'tendríamos',\n",
       "            'tendrían',\n",
       "            'tendrías',\n",
       "            'tened',\n",
       "            'teneis',\n",
       "            'tenemos',\n",
       "            'tener',\n",
       "            'tenga',\n",
       "            'tengamos',\n",
       "            'tengan',\n",
       "            'tengas',\n",
       "            'tengo',\n",
       "            'tengáis',\n",
       "            'tenida',\n",
       "            'tenidas',\n",
       "            'tenido',\n",
       "            'tenidos',\n",
       "            'teniendo',\n",
       "            'tenéis',\n",
       "            'tenía',\n",
       "            'teníais',\n",
       "            'teníamos',\n",
       "            'tenían',\n",
       "            'tenías',\n",
       "            'tercera',\n",
       "            'ti',\n",
       "            'tiempo',\n",
       "            'tiene',\n",
       "            'tienen',\n",
       "            'tienes',\n",
       "            'toda',\n",
       "            'todas',\n",
       "            'todavia',\n",
       "            'todavía',\n",
       "            'todo',\n",
       "            'todos',\n",
       "            'total',\n",
       "            'trabaja',\n",
       "            'trabajais',\n",
       "            'trabajamos',\n",
       "            'trabajan',\n",
       "            'trabajar',\n",
       "            'trabajas',\n",
       "            'trabajo',\n",
       "            'tras',\n",
       "            'trata',\n",
       "            'través',\n",
       "            'tres',\n",
       "            'tu',\n",
       "            'tus',\n",
       "            'tuve',\n",
       "            'tuviera',\n",
       "            'tuvierais',\n",
       "            'tuvieran',\n",
       "            'tuvieras',\n",
       "            'tuvieron',\n",
       "            'tuviese',\n",
       "            'tuvieseis',\n",
       "            'tuviesen',\n",
       "            'tuvieses',\n",
       "            'tuvimos',\n",
       "            'tuviste',\n",
       "            'tuvisteis',\n",
       "            'tuviéramos',\n",
       "            'tuviésemos',\n",
       "            'tuvo',\n",
       "            'tuya',\n",
       "            'tuyas',\n",
       "            'tuyo',\n",
       "            'tuyos',\n",
       "            'tú',\n",
       "            'u',\n",
       "            'ultimo',\n",
       "            'un',\n",
       "            'una',\n",
       "            'unas',\n",
       "            'uno',\n",
       "            'unos',\n",
       "            'usa',\n",
       "            'usais',\n",
       "            'usamos',\n",
       "            'usan',\n",
       "            'usar',\n",
       "            'usas',\n",
       "            'uso',\n",
       "            'usted',\n",
       "            'ustedes',\n",
       "            'v',\n",
       "            'va',\n",
       "            'vais',\n",
       "            'valor',\n",
       "            'vamos',\n",
       "            'van',\n",
       "            'varias',\n",
       "            'varios',\n",
       "            'vaya',\n",
       "            'veces',\n",
       "            'ver',\n",
       "            'verdad',\n",
       "            'verdadera',\n",
       "            'verdadero',\n",
       "            'vez',\n",
       "            'vosotras',\n",
       "            'vosotros',\n",
       "            'voy',\n",
       "            'vuestra',\n",
       "            'vuestras',\n",
       "            'vuestro',\n",
       "            'vuestros',\n",
       "            'w',\n",
       "            'www',\n",
       "            'x',\n",
       "            'y',\n",
       "            'ya',\n",
       "            'yo',\n",
       "            'z',\n",
       "            'él',\n",
       "            'éramos',\n",
       "            'ésa',\n",
       "            'ésas',\n",
       "            'ése',\n",
       "            'ésos',\n",
       "            'ésta',\n",
       "            'éstas',\n",
       "            'éste',\n",
       "            'éstos',\n",
       "            'última',\n",
       "            'últimas',\n",
       "            'último',\n",
       "            'últimos'}),\n",
       " 'countvectorizer__ngram_range': (1, 1)}"
      ]
     },
     "execution_count": 39,
     "metadata": {},
     "output_type": "execute_result"
    }
   ],
   "source": [
    "# Looked at the hyperparameters identified as best by the RandomizedSearchCV.\n",
    "cvec_logreg_rs.best_params_"
   ]
  },
  {
   "cell_type": "code",
   "execution_count": 40,
   "id": "ac247f2c-a491-47ba-b847-6792cf87c97c",
   "metadata": {},
   "outputs": [],
   "source": [
    "# Proceeded to create a new parameter grid that continaed a narrow range around the results obtained from the RandomizedSearchCV.\n",
    "cvec_logreg_new_params = {\n",
    "    'countvectorizer__ngram_range': [(3, 3)],\n",
    "    'countvectorizer__stop_words': [None, frozenset(spanish), ],\n",
    "    'countvectorizer__tokenizer': [None], \n",
    "    'logisticregression__C': [1.0],\n",
    "    'logisticregression__penalty': ['l2'],\n",
    "    'logisticregression__solver': ['lbfgs']\n",
    "}"
   ]
  },
  {
   "cell_type": "markdown",
   "id": "73c6eafe-0fe5-4598-a72f-73384953d56a",
   "metadata": {},
   "source": [
    "**Hyperparameter Tuning using GridSearch CV**"
   ]
  },
  {
   "cell_type": "code",
   "execution_count": 41,
   "id": "ec8db8fb-1cf9-4039-8ed4-b76455bf61fc",
   "metadata": {},
   "outputs": [],
   "source": [
    "# Created a GridSerachCV object that contained the pipeline along with the revised dictionary of hyperparameter ranges that surrounded the hyperparameters identified as optimal by the RandomizedSearchCV and ensured that the jobs ran in parallel.\n",
    "cvec_logreg_gs = GridSearchCV(cvec_logreg_pipe, param_grid=cvec_logreg_new_params, n_jobs=-1)"
   ]
  },
  {
   "cell_type": "code",
   "execution_count": 43,
   "id": "68ec2251-c2dd-4115-a4c2-6dd0793638c6",
   "metadata": {},
   "outputs": [
    {
     "data": {
      "text/plain": [
       "(0.9957568169170841, 0.7494262466096391)"
      ]
     },
     "execution_count": 43,
     "metadata": {},
     "output_type": "execute_result"
    }
   ],
   "source": [
    "# Fit this GridSearchCV object on X_train and y_train before scoring both X_train, y_train and X_test, y_test.\n",
    "cvec_logreg_gs.fit(X_train, y_train)\n",
    "cvec_logreg_gs.score(X_train, y_train), cvec_logreg_gs.score(X_test, y_test)"
   ]
  },
  {
   "cell_type": "code",
   "execution_count": 44,
   "id": "018b458a-430e-41d9-b8e1-cb665ffa8841",
   "metadata": {},
   "outputs": [],
   "source": [
    "# Utilized the fitted GridSearchCV object to predict the target and saved the results under variable named \"cvec_logreg_gs_preds\".\n",
    "cvec_logreg_gs_preds = cvec_logreg_gs.predict(X_test)"
   ]
  },
  {
   "cell_type": "code",
   "execution_count": 45,
   "id": "ab72b934-ff1d-4f5a-bc04-df9d9e4b47aa",
   "metadata": {},
   "outputs": [
    {
     "data": {
      "image/png": "[encoded data removed]",
      "text/plain": [
       "<Figure size 1080x1080 with 2 Axes>"
      ]
     },
     "metadata": {
      "needs_background": "light"
     },
     "output_type": "display_data"
    }
   ],
   "source": [
    "# Generated a ConfusionMatrixDisplay utilizing this Logistic Regression estimator.\n",
    "\n",
    "# Obtained guidance with size from: https://stackoverflow.com/questions/66483409/adjust-size-of-confusionmatrixdisplay-scikitlearn\n",
    "\n",
    "fig, ax = plt.subplots(figsize=(15, 15))\n",
    "ConfusionMatrixDisplay.from_estimator(cvec_logreg_gs, X_test, y_test, ax=ax);"
   ]
  },
  {
   "cell_type": "code",
   "execution_count": 46,
   "id": "197e8a92-b5bb-4bf0-aee0-ffbb58731795",
   "metadata": {},
   "outputs": [
    {
     "data": {
      "text/plain": [
       "0.7689635686348124"
      ]
     },
     "execution_count": 46,
     "metadata": {},
     "output_type": "execute_result"
    }
   ],
   "source": [
    "# Calcualted the precision score after setting 'PartidoMorenaMx' as the positive label.\n",
    "cvec_logreg_gs_precision = precision_score(y_test, cvec_logreg_gs_preds, labels='PartidoMorenaMx', average='macro')\n",
    "cvec_logreg_gs_precision"
   ]
  },
  {
   "cell_type": "code",
   "execution_count": 47,
   "id": "b722e231-b831-4208-9f86-fa640e1dcdcc",
   "metadata": {},
   "outputs": [
    {
     "data": {
      "text/plain": [
       "0.7495185994105363"
      ]
     },
     "execution_count": 47,
     "metadata": {},
     "output_type": "execute_result"
    }
   ],
   "source": [
    "# Calcualted the recall score after setting 'PartidoMorenaMx' as the positive label.\n",
    "cvec_logreg_gs_recall = recall_score(y_test, cvec_logreg_gs_preds, labels='PartidoMorenaMx', average='macro')\n",
    "cvec_logreg_gs_recall"
   ]
  },
  {
   "cell_type": "code",
   "execution_count": 48,
   "id": "06e9d164-dd4d-4a7a-acf1-69e30ee962a9",
   "metadata": {},
   "outputs": [
    {
     "data": {
      "text/plain": [
       "0.7524695674847358"
      ]
     },
     "execution_count": 48,
     "metadata": {},
     "output_type": "execute_result"
    }
   ],
   "source": [
    "# Calcualted the f1 score after setting 'PartidoMorenaMx' as the positive label.\n",
    "cvec_logreg_gs_f1 = f1_score(y_test, cvec_logreg_gs_preds, labels='PartidoMorenaMx', average='macro')\n",
    "cvec_logreg_gs_f1"
   ]
  },
  {
   "cell_type": "code",
   "execution_count": 49,
   "id": "12119e10-f684-4eaa-92d4-0f92988bc40a",
   "metadata": {},
   "outputs": [
    {
     "data": {
      "text/plain": [
       "{'countvectorizer__ngram_range': (3, 3),\n",
       " 'countvectorizer__stop_words': None,\n",
       " 'countvectorizer__tokenizer': None,\n",
       " 'logisticregression__C': 1.0,\n",
       " 'logisticregression__penalty': 'l2',\n",
       " 'logisticregression__solver': 'lbfgs'}"
      ]
     },
     "execution_count": 49,
     "metadata": {},
     "output_type": "execute_result"
    }
   ],
   "source": [
    "# Looked at the hyperparameters identified as best by the GridSearchCV.\n",
    "cvec_logreg_gs.best_params_"
   ]
  },
  {
   "cell_type": "markdown",
   "id": "eefeac29-f48b-4514-a204-a6cd06b236cd",
   "metadata": {
    "jp-MarkdownHeadingCollapsed": true,
    "tags": []
   },
   "source": [
    "### CountVectorizer + KNeighborsClassifier"
   ]
  },
  {
   "cell_type": "code",
   "execution_count": 46,
   "id": "a6eff3b0-b81e-403f-b74f-5cf8bd925234",
   "metadata": {},
   "outputs": [
    {
     "data": {
      "text/plain": [
       "{'memory': None,\n",
       " 'steps': [('countvectorizer', CountVectorizer()),\n",
       "  ('kneighborsclassifier', KNeighborsClassifier())],\n",
       " 'verbose': False,\n",
       " 'countvectorizer': CountVectorizer(),\n",
       " 'kneighborsclassifier': KNeighborsClassifier(),\n",
       " 'countvectorizer__analyzer': 'word',\n",
       " 'countvectorizer__binary': False,\n",
       " 'countvectorizer__decode_error': 'strict',\n",
       " 'countvectorizer__dtype': numpy.int64,\n",
       " 'countvectorizer__encoding': 'utf-8',\n",
       " 'countvectorizer__input': 'content',\n",
       " 'countvectorizer__lowercase': True,\n",
       " 'countvectorizer__max_df': 1.0,\n",
       " 'countvectorizer__max_features': None,\n",
       " 'countvectorizer__min_df': 1,\n",
       " 'countvectorizer__ngram_range': (1, 1),\n",
       " 'countvectorizer__preprocessor': None,\n",
       " 'countvectorizer__stop_words': None,\n",
       " 'countvectorizer__strip_accents': None,\n",
       " 'countvectorizer__token_pattern': '(?u)\\\\b\\\\w\\\\w+\\\\b',\n",
       " 'countvectorizer__tokenizer': None,\n",
       " 'countvectorizer__vocabulary': None,\n",
       " 'kneighborsclassifier__algorithm': 'auto',\n",
       " 'kneighborsclassifier__leaf_size': 30,\n",
       " 'kneighborsclassifier__metric': 'minkowski',\n",
       " 'kneighborsclassifier__metric_params': None,\n",
       " 'kneighborsclassifier__n_jobs': None,\n",
       " 'kneighborsclassifier__n_neighbors': 5,\n",
       " 'kneighborsclassifier__p': 2,\n",
       " 'kneighborsclassifier__weights': 'uniform'}"
      ]
     },
     "execution_count": 46,
     "metadata": {},
     "output_type": "execute_result"
    }
   ],
   "source": [
    "# Created a pipeline object with a CountVectorizer transformer and KNeighbors classifier.  Proceeded to get a list of all available hyperparameters using the .get_params() method.\n",
    "cvec_knn_pipe = make_pipeline(CountVectorizer(), KNeighborsClassifier())\n",
    "cvec_knn_pipe.get_params()"
   ]
  },
  {
   "cell_type": "code",
   "execution_count": 47,
   "id": "9b7bc51f-7d7b-45b1-9419-04efe182a6ea",
   "metadata": {},
   "outputs": [],
   "source": [
    "# Created a dictionary of hyperparameter ranges that I would then perform a RandomizedSearchCV over.\n",
    "cvec_knn_params = {\n",
    "    'countvectorizer__ngram_range': [(1, 1), (2, 2), (3, 3)],\n",
    "    'countvectorizer__stop_words': [None],\n",
    "    'countvectorizer__tokenizer': [None, stemming],\n",
    "    'kneighborsclassifier__n_neighbors': [2, 5, 10]\n",
    "}"
   ]
  },
  {
   "cell_type": "markdown",
   "id": "b5a7140d-551e-4f4f-83db-d868bab0f0e6",
   "metadata": {},
   "source": [
    "**Hyperparameter Tuning using RandomizedSearchCV**"
   ]
  },
  {
   "cell_type": "code",
   "execution_count": 48,
   "id": "e4e1d869-06d4-4bda-8e99-3e8401ea2087",
   "metadata": {},
   "outputs": [],
   "source": [
    "# Created a RandomizedSerachCV object that contained the pipeline and the dictionary of hyperparameter ranges I had created and ensured that the jobs ran in parallel.\n",
    "cvec_knn_rs = RandomizedSearchCV(cvec_knn_pipe, param_distributions=cvec_knn_params, n_jobs=-1)"
   ]
  },
  {
   "cell_type": "code",
   "execution_count": 49,
   "id": "693467f5-68b1-4cd9-930a-0f9d4b54fd6d",
   "metadata": {
    "scrolled": true,
    "tags": []
   },
   "outputs": [
    {
     "name": "stderr",
     "output_type": "stream",
     "text": [
      "/opt/anaconda3/lib/python3.9/site-packages/sklearn/model_selection/_validation.py:372: FitFailedWarning: \n",
      "30 fits failed out of a total of 50.\n",
      "The score on these train-test partitions for these parameters will be set to nan.\n",
      "If these failures are not expected, you can try to debug them by setting error_score='raise'.\n",
      "\n",
      "Below are more details about the failures:\n",
      "--------------------------------------------------------------------------------\n",
      "30 fits failed with the following error:\n",
      "Traceback (most recent call last):\n",
      "  File \"/opt/anaconda3/lib/python3.9/site-packages/sklearn/model_selection/_validation.py\", line 680, in _fit_and_score\n",
      "    estimator.fit(X_train, y_train, **fit_params)\n",
      "  File \"/opt/anaconda3/lib/python3.9/site-packages/sklearn/pipeline.py\", line 390, in fit\n",
      "    Xt = self._fit(X, y, **fit_params_steps)\n",
      "  File \"/opt/anaconda3/lib/python3.9/site-packages/sklearn/pipeline.py\", line 348, in _fit\n",
      "    X, fitted_transformer = fit_transform_one_cached(\n",
      "  File \"/opt/anaconda3/lib/python3.9/site-packages/joblib/memory.py\", line 349, in __call__\n",
      "    return self.func(*args, **kwargs)\n",
      "  File \"/opt/anaconda3/lib/python3.9/site-packages/sklearn/pipeline.py\", line 893, in _fit_transform_one\n",
      "    res = transformer.fit_transform(X, y, **fit_params)\n",
      "  File \"/opt/anaconda3/lib/python3.9/site-packages/sklearn/feature_extraction/text.py\", line 1330, in fit_transform\n",
      "    vocabulary, X = self._count_vocab(raw_documents, self.fixed_vocabulary_)\n",
      "  File \"/opt/anaconda3/lib/python3.9/site-packages/sklearn/feature_extraction/text.py\", line 1201, in _count_vocab\n",
      "    for feature in analyze(doc):\n",
      "  File \"/opt/anaconda3/lib/python3.9/site-packages/sklearn/feature_extraction/text.py\", line 115, in _analyze\n",
      "    doc = tokenizer(doc)\n",
      "TypeError: 'SnowballStemmer' object is not callable\n",
      "\n",
      "  warnings.warn(some_fits_failed_message, FitFailedWarning)\n",
      "/opt/anaconda3/lib/python3.9/site-packages/sklearn/model_selection/_search.py:969: UserWarning: One or more of the test scores are non-finite: [       nan 0.20784679 0.41012854        nan        nan        nan\n",
      " 0.2429051         nan 0.4497086         nan]\n",
      "  warnings.warn(\n"
     ]
    },
    {
     "data": {
      "text/plain": [
       "(0.767459654980523, 0.4790319215522637)"
      ]
     },
     "execution_count": 49,
     "metadata": {},
     "output_type": "execute_result"
    }
   ],
   "source": [
    "# Fit this RandomizedSearchCV object on X_train and y_train before scoring both X_train, y_train and X_test, y_test.\n",
    "cvec_knn_rs.fit(X_train, y_train)\n",
    "cvec_knn_rs.score(X_train, y_train), cvec_knn_rs.score(X_test, y_test)"
   ]
  },
  {
   "cell_type": "code",
   "execution_count": 50,
   "id": "ab1c9977-9e26-4e6a-8f21-e6a5c55a0b6d",
   "metadata": {},
   "outputs": [
    {
     "data": {
      "text/plain": [
       "{'kneighborsclassifier__n_neighbors': 2,\n",
       " 'countvectorizer__tokenizer': None,\n",
       " 'countvectorizer__stop_words': None,\n",
       " 'countvectorizer__ngram_range': (1, 1)}"
      ]
     },
     "execution_count": 50,
     "metadata": {},
     "output_type": "execute_result"
    }
   ],
   "source": [
    "# Looked at the hyperparameters identified as best by the RandomizedSearchCV.\n",
    "cvec_knn_rs.best_params_"
   ]
  },
  {
   "cell_type": "code",
   "execution_count": 51,
   "id": "70506597-ee5c-4301-a230-c4efc343c372",
   "metadata": {},
   "outputs": [],
   "source": [
    "# Proceeded to create a new parameter grid that continaed a narrow range around the results obtained from the RandomizedSearchCV.\n",
    "cvec_knn_new_params = {\n",
    "    'countvectorizer__ngram_range': [(1, 1)],\n",
    "    'countvectorizer__stop_words': [None],\n",
    "    'countvectorizer__tokenizer': [None],\n",
    "    'kneighborsclassifier__n_neighbors': [2, 3, 4]\n",
    "}"
   ]
  },
  {
   "cell_type": "markdown",
   "id": "f3634d90-cf13-4b95-895d-ad834c0a1c13",
   "metadata": {},
   "source": [
    "**Hyperparameter Tuning using GridSearchCV**"
   ]
  },
  {
   "cell_type": "code",
   "execution_count": 52,
   "id": "e25084e7-a75c-4a98-8a97-ebbdebaec110",
   "metadata": {},
   "outputs": [],
   "source": [
    "# Created a GridSerachCV object that contained the pipeline along with the revised dictionary of hyperparameter ranges that surrounded the hyperparameters identified as optimal by the RandomizedSearchCV and ensured that the jobs ran in parallel.\n",
    "cvec_knn_gs = GridSearchCV(cvec_knn_pipe, param_grid=cvec_knn_new_params, n_jobs=-1)"
   ]
  },
  {
   "cell_type": "code",
   "execution_count": 53,
   "id": "202cb7ff-7f5a-43b6-85f6-376d2675c25c",
   "metadata": {},
   "outputs": [
    {
     "data": {
      "text/plain": [
       "(0.6960907067334446, 0.4773628207803046)"
      ]
     },
     "execution_count": 53,
     "metadata": {},
     "output_type": "execute_result"
    }
   ],
   "source": [
    "# Fit this GridSearchCV object on X_train and y_train before scoring both X_train, y_train and X_test, y_test.\n",
    "cvec_knn_gs.fit(X_train, y_train)\n",
    "cvec_knn_gs.score(X_train, y_train), cvec_knn_gs.score(X_test, y_test)"
   ]
  },
  {
   "cell_type": "code",
   "execution_count": 54,
   "id": "a8a0dce2-6f64-49fa-ab4a-bba10e4b0d83",
   "metadata": {},
   "outputs": [],
   "source": [
    "# Utilized the fitted pipeline object to predict the target and saved the results under variable named \"cvec_knn_gs_preds\".\n",
    "cvec_knn_gs_preds = cvec_knn_gs.predict(X_test)"
   ]
  },
  {
   "cell_type": "code",
   "execution_count": 142,
   "id": "bbcf1668-202a-42de-8d06-63b513e03425",
   "metadata": {},
   "outputs": [
    {
     "data": {
      "image/png": "[encoded data removed]",
      "text/plain": [
       "<Figure size 1080x1080 with 2 Axes>"
      ]
     },
     "metadata": {
      "needs_background": "light"
     },
     "output_type": "display_data"
    }
   ],
   "source": [
    "# Generated a ConfusionMatrixDisplay utilizing this KNeighbors Classifier estimator.\n",
    "\n",
    "# Obtained guidance with size from: https://stackoverflow.com/questions/66483409/adjust-size-of-confusionmatrixdisplay-scikitlearn\n",
    "\n",
    "fig, ax = plt.subplots(figsize=(15, 15))\n",
    "ConfusionMatrixDisplay.from_estimator(cvec_knn_gs, X_test, y_test, ax=ax);"
   ]
  },
  {
   "cell_type": "code",
   "execution_count": 56,
   "id": "ec7ef4f5-12f5-4f4f-97b0-a6ecac7e0df3",
   "metadata": {},
   "outputs": [
    {
     "data": {
      "text/plain": [
       "0.5752183362178221"
      ]
     },
     "execution_count": 56,
     "metadata": {},
     "output_type": "execute_result"
    }
   ],
   "source": [
    "# Calcualted the precision score after setting 'PartidoMorenaMx' as the positive label.\n",
    "cvec_knn_gs_precision = precision_score(y_test, cvec_knn_gs_preds, labels='PartidoMorenaMx', average='macro')\n",
    "cvec_knn_gs_precision"
   ]
  },
  {
   "cell_type": "code",
   "execution_count": 57,
   "id": "baa1f1a6-3b23-4b52-9856-4a0d21dcdb27",
   "metadata": {},
   "outputs": [
    {
     "data": {
      "text/plain": [
       "0.477531659357927"
      ]
     },
     "execution_count": 57,
     "metadata": {},
     "output_type": "execute_result"
    }
   ],
   "source": [
    "# Calcualted the recall score after setting 'PartidoMorenaMx' as the positive label.\n",
    "cvec_knn_gs_recall = recall_score(y_test, cvec_knn_gs_preds, labels='PartidoMorenaMx', average='macro')\n",
    "cvec_knn_gs_recall"
   ]
  },
  {
   "cell_type": "code",
   "execution_count": 58,
   "id": "cad31e38-22da-49fd-9fca-1a28e4ce1e25",
   "metadata": {},
   "outputs": [
    {
     "data": {
      "text/plain": [
       "0.47570644369154796"
      ]
     },
     "execution_count": 58,
     "metadata": {},
     "output_type": "execute_result"
    }
   ],
   "source": [
    "# Calcualted the f1 score after setting 'PartidoMorenaMx' as the positive label.\n",
    "cvec_knn_gs_f1 = f1_score(y_test, cvec_knn_gs_preds, labels='PartidoMorenaMx', average='macro')\n",
    "cvec_knn_gs_f1"
   ]
  },
  {
   "cell_type": "code",
   "execution_count": 59,
   "id": "74cfece7-f6a4-4f1e-a89e-cf86c7a7a50a",
   "metadata": {},
   "outputs": [
    {
     "data": {
      "text/plain": [
       "{'countvectorizer__ngram_range': (1, 1),\n",
       " 'countvectorizer__stop_words': None,\n",
       " 'countvectorizer__tokenizer': None,\n",
       " 'kneighborsclassifier__n_neighbors': 3}"
      ]
     },
     "execution_count": 59,
     "metadata": {},
     "output_type": "execute_result"
    }
   ],
   "source": [
    "# Looked at the hyperparameters identified as best by the GridSearchCV.\n",
    "cvec_knn_gs.best_params_"
   ]
  },
  {
   "cell_type": "markdown",
   "id": "af1b35a1-96fc-4c30-9a9c-88f5085d9760",
   "metadata": {
    "jp-MarkdownHeadingCollapsed": true,
    "tags": []
   },
   "source": [
    "### CountVectorizer + SVC"
   ]
  },
  {
   "cell_type": "code",
   "execution_count": 60,
   "id": "a62bb287-c49c-4bc8-b1ed-3fbef5f21ec5",
   "metadata": {},
   "outputs": [
    {
     "data": {
      "text/plain": [
       "{'memory': None,\n",
       " 'steps': [('countvectorizer', CountVectorizer()), ('svc', SVC())],\n",
       " 'verbose': False,\n",
       " 'countvectorizer': CountVectorizer(),\n",
       " 'svc': SVC(),\n",
       " 'countvectorizer__analyzer': 'word',\n",
       " 'countvectorizer__binary': False,\n",
       " 'countvectorizer__decode_error': 'strict',\n",
       " 'countvectorizer__dtype': numpy.int64,\n",
       " 'countvectorizer__encoding': 'utf-8',\n",
       " 'countvectorizer__input': 'content',\n",
       " 'countvectorizer__lowercase': True,\n",
       " 'countvectorizer__max_df': 1.0,\n",
       " 'countvectorizer__max_features': None,\n",
       " 'countvectorizer__min_df': 1,\n",
       " 'countvectorizer__ngram_range': (1, 1),\n",
       " 'countvectorizer__preprocessor': None,\n",
       " 'countvectorizer__stop_words': None,\n",
       " 'countvectorizer__strip_accents': None,\n",
       " 'countvectorizer__token_pattern': '(?u)\\\\b\\\\w\\\\w+\\\\b',\n",
       " 'countvectorizer__tokenizer': None,\n",
       " 'countvectorizer__vocabulary': None,\n",
       " 'svc__C': 1.0,\n",
       " 'svc__break_ties': False,\n",
       " 'svc__cache_size': 200,\n",
       " 'svc__class_weight': None,\n",
       " 'svc__coef0': 0.0,\n",
       " 'svc__decision_function_shape': 'ovr',\n",
       " 'svc__degree': 3,\n",
       " 'svc__gamma': 'scale',\n",
       " 'svc__kernel': 'rbf',\n",
       " 'svc__max_iter': -1,\n",
       " 'svc__probability': False,\n",
       " 'svc__random_state': None,\n",
       " 'svc__shrinking': True,\n",
       " 'svc__tol': 0.001,\n",
       " 'svc__verbose': False}"
      ]
     },
     "execution_count": 60,
     "metadata": {},
     "output_type": "execute_result"
    }
   ],
   "source": [
    "# Created a pipeline object with a CountVectorizer transformer and Support Vector Classifier.  Proceeded to get a list of all available hyperparameters using the .get_params() method.\n",
    "cvec_svc_pipe = make_pipeline(CountVectorizer(), SVC())\n",
    "cvec_svc_pipe.get_params()"
   ]
  },
  {
   "cell_type": "code",
   "execution_count": 62,
   "id": "0087f3e2-ab32-4166-b92d-de6b86e9c1f3",
   "metadata": {},
   "outputs": [],
   "source": [
    "# Created a dictionary of hyperparameter ranges that I would then perform a RandomizedSearchCV over.\n",
    "cvec_svc_params = {\n",
    "    'countvectorizer__ngram_range': [(1, 1), (2, 2), (3, 3)],\n",
    "    'countvectorizer__stop_words': [None],\n",
    "    'countvectorizer__tokenizer': [None, stemming],\n",
    "    'svc__C': [1.0, .1]\n",
    "}"
   ]
  },
  {
   "cell_type": "markdown",
   "id": "80eca69b-7ba6-49d4-9220-59533ed03b82",
   "metadata": {},
   "source": [
    "**Hyperparameter Tuning using RandomizedSearchCV**"
   ]
  },
  {
   "cell_type": "code",
   "execution_count": 63,
   "id": "74afea76-0641-4bcf-8f38-60ccf55cb553",
   "metadata": {},
   "outputs": [],
   "source": [
    "# Created a RandomizedSerachCV object that contained the pipeline and the dictionary of hyperparameter ranges I had created and ensured that the jobs ran in parallel.\n",
    "cvec_svc_rs = RandomizedSearchCV(cvec_svc_pipe, param_distributions=cvec_svc_params, n_jobs=-1)"
   ]
  },
  {
   "cell_type": "code",
   "execution_count": 64,
   "id": "213ea711-308a-408e-92fa-7ae18a5f08c4",
   "metadata": {
    "scrolled": true,
    "tags": []
   },
   "outputs": [
    {
     "name": "stderr",
     "output_type": "stream",
     "text": [
      "/opt/anaconda3/lib/python3.9/site-packages/sklearn/model_selection/_validation.py:372: FitFailedWarning: \n",
      "25 fits failed out of a total of 50.\n",
      "The score on these train-test partitions for these parameters will be set to nan.\n",
      "If these failures are not expected, you can try to debug them by setting error_score='raise'.\n",
      "\n",
      "Below are more details about the failures:\n",
      "--------------------------------------------------------------------------------\n",
      "25 fits failed with the following error:\n",
      "Traceback (most recent call last):\n",
      "  File \"/opt/anaconda3/lib/python3.9/site-packages/sklearn/model_selection/_validation.py\", line 680, in _fit_and_score\n",
      "    estimator.fit(X_train, y_train, **fit_params)\n",
      "  File \"/opt/anaconda3/lib/python3.9/site-packages/sklearn/pipeline.py\", line 390, in fit\n",
      "    Xt = self._fit(X, y, **fit_params_steps)\n",
      "  File \"/opt/anaconda3/lib/python3.9/site-packages/sklearn/pipeline.py\", line 348, in _fit\n",
      "    X, fitted_transformer = fit_transform_one_cached(\n",
      "  File \"/opt/anaconda3/lib/python3.9/site-packages/joblib/memory.py\", line 349, in __call__\n",
      "    return self.func(*args, **kwargs)\n",
      "  File \"/opt/anaconda3/lib/python3.9/site-packages/sklearn/pipeline.py\", line 893, in _fit_transform_one\n",
      "    res = transformer.fit_transform(X, y, **fit_params)\n",
      "  File \"/opt/anaconda3/lib/python3.9/site-packages/sklearn/feature_extraction/text.py\", line 1330, in fit_transform\n",
      "    vocabulary, X = self._count_vocab(raw_documents, self.fixed_vocabulary_)\n",
      "  File \"/opt/anaconda3/lib/python3.9/site-packages/sklearn/feature_extraction/text.py\", line 1201, in _count_vocab\n",
      "    for feature in analyze(doc):\n",
      "  File \"/opt/anaconda3/lib/python3.9/site-packages/sklearn/feature_extraction/text.py\", line 115, in _analyze\n",
      "    doc = tokenizer(doc)\n",
      "TypeError: 'SnowballStemmer' object is not callable\n",
      "\n",
      "  warnings.warn(some_fits_failed_message, FitFailedWarning)\n",
      "/opt/anaconda3/lib/python3.9/site-packages/sklearn/model_selection/_search.py:969: UserWarning: One or more of the test scores are non-finite: [       nan        nan 0.46821213 0.57533366 0.78422376 0.22141092\n",
      "        nan 0.52608492        nan        nan]\n",
      "  warnings.warn(\n"
     ]
    },
    {
     "data": {
      "text/plain": [
       "(0.9846967167501391, 0.8032547465053202)"
      ]
     },
     "execution_count": 64,
     "metadata": {},
     "output_type": "execute_result"
    }
   ],
   "source": [
    "# Fit this RandomizedSearchCV object on X_train and y_train before scoring both X_train, y_train and X_test, y_test.\n",
    "cvec_svc_rs.fit(X_train, y_train)\n",
    "cvec_svc_rs.score(X_train, y_train), cvec_svc_rs.score(X_test, y_test)"
   ]
  },
  {
   "cell_type": "code",
   "execution_count": 65,
   "id": "e08056c4-99d6-4733-a867-f40d2f9ab4ac",
   "metadata": {
    "tags": []
   },
   "outputs": [
    {
     "data": {
      "text/plain": [
       "{'svc__C': 1.0,\n",
       " 'countvectorizer__tokenizer': None,\n",
       " 'countvectorizer__stop_words': None,\n",
       " 'countvectorizer__ngram_range': (2, 2)}"
      ]
     },
     "execution_count": 65,
     "metadata": {},
     "output_type": "execute_result"
    }
   ],
   "source": [
    "# Looked at the hyperparameters identified as best by the RandomizedSearchCV.\n",
    "cvec_svc_rs.best_params_"
   ]
  },
  {
   "cell_type": "code",
   "execution_count": 67,
   "id": "1a762f78-1f5e-4473-97d7-c120fdbba3ed",
   "metadata": {
    "scrolled": true
   },
   "outputs": [],
   "source": [
    "# Proceeded to create a new parameter grid that continaed a narrow range around the results obtained from the RandomizedSearchCV.\n",
    "cvec_svc_new_params = {\n",
    "    'countvectorizer__ngram_range': [(2, 2)],\n",
    "    'countvectorizer__stop_words': [None],\n",
    "    'countvectorizer__tokenizer': [None],\n",
    "    'svc__C': [1.0, .9, .8]\n",
    "}"
   ]
  },
  {
   "cell_type": "markdown",
   "id": "b3505065-38a9-4bbc-ae36-f92e9d885335",
   "metadata": {},
   "source": [
    "**Hyperparameter Tuning using GridSearchCV**"
   ]
  },
  {
   "cell_type": "code",
   "execution_count": 68,
   "id": "28cc233d-e0ce-4e87-805f-c81a2d3a512e",
   "metadata": {
    "scrolled": true
   },
   "outputs": [],
   "source": [
    "# Created a GridSerachCV object that contained the pipeline along with the revised dictionary of hyperparameter ranges that surrounded the hyperparameters identified as optimal by the RandomizedSearchCV and ensured that the jobs ran in parallel.\n",
    "cvec_svc_gs = GridSearchCV(cvec_svc_pipe, param_grid=cvec_svc_new_params, n_jobs=-1)"
   ]
  },
  {
   "cell_type": "code",
   "execution_count": 69,
   "id": "cc2edb7f-7de6-4ca1-9fb5-2848e59975da",
   "metadata": {
    "tags": []
   },
   "outputs": [
    {
     "data": {
      "text/plain": [
       "(0.9846967167501391, 0.8032547465053202)"
      ]
     },
     "execution_count": 69,
     "metadata": {},
     "output_type": "execute_result"
    }
   ],
   "source": [
    "# Fit this GridSearchCV object on X_train and y_train before scoring both X_train, y_train and X_test, y_test.\n",
    "cvec_svc_gs.fit(X_train, y_train)\n",
    "cvec_svc_gs.score(X_train, y_train), cvec_svc_gs.score(X_test, y_test)"
   ]
  },
  {
   "cell_type": "code",
   "execution_count": 70,
   "id": "20dc1e89-1725-4815-8ece-3530879b9300",
   "metadata": {
    "scrolled": true
   },
   "outputs": [],
   "source": [
    "# Utilized the fitted pipeline object to predict the target and saved the results under variable named \"cvec_svc_gs_preds\".\n",
    "cvec_svc_gs_preds = cvec_svc_gs.predict(X_test)"
   ]
  },
  {
   "cell_type": "code",
   "execution_count": 143,
   "id": "b1561692-6dc3-4197-9058-5f785d594ddc",
   "metadata": {
    "tags": []
   },
   "outputs": [
    {
     "data": {
      "image/png": "[encoded data removed]",
      "text/plain": [
       "<Figure size 1080x1080 with 2 Axes>"
      ]
     },
     "metadata": {
      "needs_background": "light"
     },
     "output_type": "display_data"
    }
   ],
   "source": [
    "# Generated a ConfusionMatrixDisplay utilizing this SVC estimator.\n",
    "\n",
    "# Obtained guidance with size from: https://stackoverflow.com/questions/66483409/adjust-size-of-confusionmatrixdisplay-scikitlearn\n",
    "\n",
    "fig, ax = plt.subplots(figsize=(15, 15))\n",
    "ConfusionMatrixDisplay.from_estimator(cvec_svc_gs, X_test, y_test, ax=ax);"
   ]
  },
  {
   "cell_type": "code",
   "execution_count": 72,
   "id": "23b3577e-c34c-45a8-8ccf-290f491ef072",
   "metadata": {
    "tags": []
   },
   "outputs": [
    {
     "data": {
      "text/plain": [
       "0.8106191682055336"
      ]
     },
     "execution_count": 72,
     "metadata": {},
     "output_type": "execute_result"
    }
   ],
   "source": [
    "# Calcualted the precision score after setting 'PartidoMorenaMx' as the positive label.\n",
    "cvec_svc_gs_precision = precision_score(y_test, cvec_svc_gs_preds, labels='PartidoMorenaMx', average='macro')\n",
    "cvec_svc_gs_precision"
   ]
  },
  {
   "cell_type": "code",
   "execution_count": 73,
   "id": "af2276fc-076c-4946-823b-98115d038fd4",
   "metadata": {
    "tags": []
   },
   "outputs": [
    {
     "data": {
      "text/plain": [
       "0.8033045981470764"
      ]
     },
     "execution_count": 73,
     "metadata": {},
     "output_type": "execute_result"
    }
   ],
   "source": [
    "# Calcualted the recall score after setting 'PartidoMorenaMx' as the positive label.\n",
    "cvec_svc_gs_recall = recall_score(y_test, cvec_svc_gs_preds, labels='PartidoMorenaMx', average='macro')\n",
    "cvec_svc_gs_recall"
   ]
  },
  {
   "cell_type": "code",
   "execution_count": 74,
   "id": "9e695f6c-b204-420b-aaf7-ca7368447e4d",
   "metadata": {
    "tags": []
   },
   "outputs": [
    {
     "data": {
      "text/plain": [
       "0.8032432731717108"
      ]
     },
     "execution_count": 74,
     "metadata": {},
     "output_type": "execute_result"
    }
   ],
   "source": [
    "# Calcualted the f1 score after setting 'PartidoMorenaMx' as the positive label.\n",
    "cvec_svc_gs_f1 = f1_score(y_test, cvec_svc_gs_preds, labels='PartidoMorenaMx', average='macro')\n",
    "cvec_svc_gs_f1"
   ]
  },
  {
   "cell_type": "code",
   "execution_count": 75,
   "id": "e5c57cd5-78af-4e18-ab8a-27f8cb78070d",
   "metadata": {
    "tags": []
   },
   "outputs": [
    {
     "data": {
      "text/plain": [
       "{'countvectorizer__ngram_range': (2, 2),\n",
       " 'countvectorizer__stop_words': None,\n",
       " 'countvectorizer__tokenizer': None,\n",
       " 'svc__C': 1.0}"
      ]
     },
     "execution_count": 75,
     "metadata": {},
     "output_type": "execute_result"
    }
   ],
   "source": [
    "# Looked at the hyperparameters identified as best by the GridSearchCV.\n",
    "cvec_svc_gs.best_params_"
   ]
  },
  {
   "cell_type": "markdown",
   "id": "a4cc5257-0c37-4877-a3c6-288938020e32",
   "metadata": {
    "jp-MarkdownHeadingCollapsed": true,
    "tags": []
   },
   "source": [
    "### CountVectorizer + MultinomialNB"
   ]
  },
  {
   "cell_type": "code",
   "execution_count": 76,
   "id": "c37c5db8-8c02-4ff6-bd49-69975d4c1e25",
   "metadata": {},
   "outputs": [
    {
     "data": {
      "text/plain": [
       "{'memory': None,\n",
       " 'steps': [('countvectorizer', CountVectorizer()),\n",
       "  ('multinomialnb', MultinomialNB())],\n",
       " 'verbose': False,\n",
       " 'countvectorizer': CountVectorizer(),\n",
       " 'multinomialnb': MultinomialNB(),\n",
       " 'countvectorizer__analyzer': 'word',\n",
       " 'countvectorizer__binary': False,\n",
       " 'countvectorizer__decode_error': 'strict',\n",
       " 'countvectorizer__dtype': numpy.int64,\n",
       " 'countvectorizer__encoding': 'utf-8',\n",
       " 'countvectorizer__input': 'content',\n",
       " 'countvectorizer__lowercase': True,\n",
       " 'countvectorizer__max_df': 1.0,\n",
       " 'countvectorizer__max_features': None,\n",
       " 'countvectorizer__min_df': 1,\n",
       " 'countvectorizer__ngram_range': (1, 1),\n",
       " 'countvectorizer__preprocessor': None,\n",
       " 'countvectorizer__stop_words': None,\n",
       " 'countvectorizer__strip_accents': None,\n",
       " 'countvectorizer__token_pattern': '(?u)\\\\b\\\\w\\\\w+\\\\b',\n",
       " 'countvectorizer__tokenizer': None,\n",
       " 'countvectorizer__vocabulary': None,\n",
       " 'multinomialnb__alpha': 1.0,\n",
       " 'multinomialnb__class_prior': None,\n",
       " 'multinomialnb__fit_prior': True}"
      ]
     },
     "execution_count": 76,
     "metadata": {},
     "output_type": "execute_result"
    }
   ],
   "source": [
    "# Created a pipeline object with a CountVectorizer transformer and Multinomial Naives Bayes Classifier.  Proceeded to get a list of all available hyperparameters using the .get_params() method.\n",
    "cvec_mnb_pipe = make_pipeline(CountVectorizer(), MultinomialNB())\n",
    "cvec_mnb_pipe.get_params()"
   ]
  },
  {
   "cell_type": "code",
   "execution_count": 78,
   "id": "65fbdb48-fc5b-4e16-abb9-11387826291d",
   "metadata": {},
   "outputs": [],
   "source": [
    "# Created a dictionary of hyperparameter ranges that I would then perform a RandomizedSearchCV over.\n",
    "cvec_mnb_params = {\n",
    "    'countvectorizer__ngram_range': [(1, 1), (2, 2), (3, 3)],\n",
    "    'countvectorizer__stop_words': [None],\n",
    "    'countvectorizer__tokenizer': [None, stemming],\n",
    "    'multinomialnb__alpha': [1.0, .5, .1]\n",
    "}"
   ]
  },
  {
   "cell_type": "markdown",
   "id": "810caaed-3795-4dbc-be44-25cd9679e4e2",
   "metadata": {},
   "source": [
    "**Hyperparameter Tuning using RandomizedSearchCV**"
   ]
  },
  {
   "cell_type": "code",
   "execution_count": 79,
   "id": "204dec33-d9b4-45b0-bf63-9996da5eb06f",
   "metadata": {},
   "outputs": [],
   "source": [
    "# Created a RandomizedSerachCV object that contained the pipeline and the dictionary of hyperparameter ranges I had created and ensured that the jobs ran in parallel.\n",
    "cvec_mnb_rs = RandomizedSearchCV(cvec_mnb_pipe, param_distributions=cvec_mnb_params, n_jobs=-1)"
   ]
  },
  {
   "cell_type": "code",
   "execution_count": 80,
   "id": "85f3cc9c-e535-4d08-bcb0-ebfe6bcf05c6",
   "metadata": {
    "scrolled": true,
    "tags": []
   },
   "outputs": [
    {
     "name": "stderr",
     "output_type": "stream",
     "text": [
      "/opt/anaconda3/lib/python3.9/site-packages/sklearn/model_selection/_validation.py:372: FitFailedWarning: \n",
      "35 fits failed out of a total of 50.\n",
      "The score on these train-test partitions for these parameters will be set to nan.\n",
      "If these failures are not expected, you can try to debug them by setting error_score='raise'.\n",
      "\n",
      "Below are more details about the failures:\n",
      "--------------------------------------------------------------------------------\n",
      "35 fits failed with the following error:\n",
      "Traceback (most recent call last):\n",
      "  File \"/opt/anaconda3/lib/python3.9/site-packages/sklearn/model_selection/_validation.py\", line 680, in _fit_and_score\n",
      "    estimator.fit(X_train, y_train, **fit_params)\n",
      "  File \"/opt/anaconda3/lib/python3.9/site-packages/sklearn/pipeline.py\", line 390, in fit\n",
      "    Xt = self._fit(X, y, **fit_params_steps)\n",
      "  File \"/opt/anaconda3/lib/python3.9/site-packages/sklearn/pipeline.py\", line 348, in _fit\n",
      "    X, fitted_transformer = fit_transform_one_cached(\n",
      "  File \"/opt/anaconda3/lib/python3.9/site-packages/joblib/memory.py\", line 349, in __call__\n",
      "    return self.func(*args, **kwargs)\n",
      "  File \"/opt/anaconda3/lib/python3.9/site-packages/sklearn/pipeline.py\", line 893, in _fit_transform_one\n",
      "    res = transformer.fit_transform(X, y, **fit_params)\n",
      "  File \"/opt/anaconda3/lib/python3.9/site-packages/sklearn/feature_extraction/text.py\", line 1330, in fit_transform\n",
      "    vocabulary, X = self._count_vocab(raw_documents, self.fixed_vocabulary_)\n",
      "  File \"/opt/anaconda3/lib/python3.9/site-packages/sklearn/feature_extraction/text.py\", line 1201, in _count_vocab\n",
      "    for feature in analyze(doc):\n",
      "  File \"/opt/anaconda3/lib/python3.9/site-packages/sklearn/feature_extraction/text.py\", line 115, in _analyze\n",
      "    doc = tokenizer(doc)\n",
      "TypeError: 'SnowballStemmer' object is not callable\n",
      "\n",
      "  warnings.warn(some_fits_failed_message, FitFailedWarning)\n",
      "/opt/anaconda3/lib/python3.9/site-packages/sklearn/model_selection/_search.py:969: UserWarning: One or more of the test scores are non-finite: [0.76474708        nan 0.76112993        nan        nan        nan\n",
      "        nan 0.86804431        nan        nan]\n",
      "  warnings.warn(\n"
     ]
    },
    {
     "data": {
      "text/plain": [
       "(0.9833055091819699, 0.874817442103067)"
      ]
     },
     "execution_count": 80,
     "metadata": {},
     "output_type": "execute_result"
    }
   ],
   "source": [
    "# Fit this RandomizedSearchCV object on X_train and y_train before scoring both X_train, y_train and X_test, y_test.\n",
    "cvec_mnb_rs.fit(X_train, y_train)\n",
    "cvec_mnb_rs.score(X_train, y_train), cvec_mnb_rs.score(X_test, y_test)"
   ]
  },
  {
   "cell_type": "code",
   "execution_count": 81,
   "id": "ef47e202-79f0-423a-8a77-c79600d2266b",
   "metadata": {},
   "outputs": [
    {
     "data": {
      "text/plain": [
       "{'multinomialnb__alpha': 0.1,\n",
       " 'countvectorizer__tokenizer': None,\n",
       " 'countvectorizer__stop_words': None,\n",
       " 'countvectorizer__ngram_range': (1, 1)}"
      ]
     },
     "execution_count": 81,
     "metadata": {},
     "output_type": "execute_result"
    }
   ],
   "source": [
    "# Looked at the hyperparameters identified as best by the RandomizedSearchCV.\n",
    "cvec_mnb_rs.best_params_"
   ]
  },
  {
   "cell_type": "code",
   "execution_count": 82,
   "id": "9706ec5a-46f9-42c1-a06d-20603e941a6c",
   "metadata": {},
   "outputs": [],
   "source": [
    "# Proceeded to create a new parameter grid that continaed a narrow range around the results obtained from the RandomizedSearchCV.\n",
    "cvec_mnb_new_params = {\n",
    "    'countvectorizer__ngram_range': [(1, 1)],\n",
    "    'countvectorizer__stop_words': [None],\n",
    "    'countvectorizer__tokenizer': [None],\n",
    "    'multinomialnb__alpha': [0.1, 0.05, 0.01]\n",
    "}"
   ]
  },
  {
   "cell_type": "markdown",
   "id": "0ef5c342-01b1-48ff-864b-e3d8d009a075",
   "metadata": {},
   "source": [
    "**Hyperparameter Tuning using GridSearchCV**"
   ]
  },
  {
   "cell_type": "code",
   "execution_count": 83,
   "id": "2522c380-6266-406c-b160-fc4bd2f99d5b",
   "metadata": {},
   "outputs": [],
   "source": [
    "# Created a GridSerachCV object that contained the pipeline along with the revised dictionary of hyperparameter ranges that surrounded the hyperparameters identified as optimal by the RandomizedSearchCV and ensured that the jobs ran in parallel.\n",
    "cvec_mnb_gs = GridSearchCV(cvec_mnb_pipe, param_grid=cvec_mnb_new_params, n_jobs=-1)"
   ]
  },
  {
   "cell_type": "code",
   "execution_count": 84,
   "id": "020178f7-9e48-4c05-931b-423990246704",
   "metadata": {},
   "outputs": [
    {
     "data": {
      "text/plain": [
       "(0.9833055091819699, 0.874817442103067)"
      ]
     },
     "execution_count": 84,
     "metadata": {},
     "output_type": "execute_result"
    }
   ],
   "source": [
    "# Fit this GridSearchCV object on X_train and y_train before scoring both X_train, y_train and X_test, y_test.\n",
    "cvec_mnb_gs.fit(X_train, y_train)\n",
    "cvec_mnb_gs.score(X_train, y_train), cvec_mnb_gs.score(X_test, y_test)"
   ]
  },
  {
   "cell_type": "code",
   "execution_count": 85,
   "id": "0ca6aa21-2de4-4493-960f-d038e3d05fe1",
   "metadata": {},
   "outputs": [],
   "source": [
    "# Utilized the fitted pipeline object to predict the target and saved the results under variable named \"cvec_mnb_gs_preds\".\n",
    "cvec_mnb_gs_preds = cvec_mnb_gs.predict(X_test)"
   ]
  },
  {
   "cell_type": "code",
   "execution_count": 144,
   "id": "d168b7df-a634-4d8b-a47d-0eae6b95416a",
   "metadata": {},
   "outputs": [
    {
     "data": {
      "image/png": "[encoded data removed]",
      "text/plain": [
       "<Figure size 1080x1080 with 2 Axes>"
      ]
     },
     "metadata": {
      "needs_background": "light"
     },
     "output_type": "display_data"
    }
   ],
   "source": [
    "# Generated a ConfusionMatrixDisplay utilizing this MNB Classifier estimator.\n",
    "\n",
    "# Obtained guidance with size from: https://stackoverflow.com/questions/66483409/adjust-size-of-confusionmatrixdisplay-scikitlearn\n",
    "\n",
    "fig, ax = plt.subplots(figsize=(15, 15))\n",
    "ConfusionMatrixDisplay.from_estimator(cvec_mnb_gs, X_test, y_test, ax=ax);"
   ]
  },
  {
   "cell_type": "code",
   "execution_count": 87,
   "id": "65945795-e57f-45a7-bd7f-07f1b942516f",
   "metadata": {},
   "outputs": [
    {
     "data": {
      "text/plain": [
       "0.8759328317926705"
      ]
     },
     "execution_count": 87,
     "metadata": {},
     "output_type": "execute_result"
    }
   ],
   "source": [
    "# Calcualted the precision score after setting 'PartidoMorenaMx' as the positive label.\n",
    "cvec_mnb_gs_precision = precision_score(y_test, cvec_mnb_gs_preds, labels='PartidoMorenaMx', average='macro')\n",
    "cvec_mnb_gs_precision"
   ]
  },
  {
   "cell_type": "code",
   "execution_count": 88,
   "id": "60f004f9-e095-469e-8cd1-51120ad7f455",
   "metadata": {},
   "outputs": [
    {
     "data": {
      "text/plain": [
       "0.8748468118980165"
      ]
     },
     "execution_count": 88,
     "metadata": {},
     "output_type": "execute_result"
    }
   ],
   "source": [
    "# Calcualted the recall score after setting 'PartidoMorenaMx' as the positive label.\n",
    "cvec_mnb_gs_recall = recall_score(y_test, cvec_mnb_gs_preds, labels='PartidoMorenaMx', average='macro')\n",
    "cvec_mnb_gs_recall"
   ]
  },
  {
   "cell_type": "code",
   "execution_count": 89,
   "id": "9606357a-99a4-4a7b-b024-63c081a5eb24",
   "metadata": {},
   "outputs": [
    {
     "data": {
      "text/plain": [
       "0.8751500317346688"
      ]
     },
     "execution_count": 89,
     "metadata": {},
     "output_type": "execute_result"
    }
   ],
   "source": [
    "# Calcualted the f1 score after setting 'PartidoMorenaMx' as the positive label.\n",
    "cvec_mnb_gs_f1 = f1_score(y_test, cvec_mnb_gs_preds, labels='PartidoMorenaMx', average='macro')\n",
    "cvec_mnb_gs_f1"
   ]
  },
  {
   "cell_type": "code",
   "execution_count": 90,
   "id": "7bd8444a-eec2-434c-a757-a410aa952397",
   "metadata": {},
   "outputs": [
    {
     "data": {
      "text/plain": [
       "{'countvectorizer__ngram_range': (1, 1),\n",
       " 'countvectorizer__stop_words': None,\n",
       " 'countvectorizer__tokenizer': None,\n",
       " 'multinomialnb__alpha': 0.1}"
      ]
     },
     "execution_count": 90,
     "metadata": {},
     "output_type": "execute_result"
    }
   ],
   "source": [
    "# Looked at the hyperparameters identified as best by the GridSearchCV.\n",
    "cvec_mnb_gs.best_params_"
   ]
  },
  {
   "cell_type": "markdown",
   "id": "10974238-7fe6-43d3-a02e-6886aef0abea",
   "metadata": {
    "jp-MarkdownHeadingCollapsed": true,
    "tags": []
   },
   "source": [
    "### CountVectorizer + DecisionTreeClassifier"
   ]
  },
  {
   "cell_type": "code",
   "execution_count": 92,
   "id": "924d5cc2-45c0-4522-bdce-070a750a49a5",
   "metadata": {},
   "outputs": [
    {
     "data": {
      "text/plain": [
       "{'memory': None,\n",
       " 'steps': [('countvectorizer', CountVectorizer()),\n",
       "  ('decisiontreeclassifier', DecisionTreeClassifier())],\n",
       " 'verbose': False,\n",
       " 'countvectorizer': CountVectorizer(),\n",
       " 'decisiontreeclassifier': DecisionTreeClassifier(),\n",
       " 'countvectorizer__analyzer': 'word',\n",
       " 'countvectorizer__binary': False,\n",
       " 'countvectorizer__decode_error': 'strict',\n",
       " 'countvectorizer__dtype': numpy.int64,\n",
       " 'countvectorizer__encoding': 'utf-8',\n",
       " 'countvectorizer__input': 'content',\n",
       " 'countvectorizer__lowercase': True,\n",
       " 'countvectorizer__max_df': 1.0,\n",
       " 'countvectorizer__max_features': None,\n",
       " 'countvectorizer__min_df': 1,\n",
       " 'countvectorizer__ngram_range': (1, 1),\n",
       " 'countvectorizer__preprocessor': None,\n",
       " 'countvectorizer__stop_words': None,\n",
       " 'countvectorizer__strip_accents': None,\n",
       " 'countvectorizer__token_pattern': '(?u)\\\\b\\\\w\\\\w+\\\\b',\n",
       " 'countvectorizer__tokenizer': None,\n",
       " 'countvectorizer__vocabulary': None,\n",
       " 'decisiontreeclassifier__ccp_alpha': 0.0,\n",
       " 'decisiontreeclassifier__class_weight': None,\n",
       " 'decisiontreeclassifier__criterion': 'gini',\n",
       " 'decisiontreeclassifier__max_depth': None,\n",
       " 'decisiontreeclassifier__max_features': None,\n",
       " 'decisiontreeclassifier__max_leaf_nodes': None,\n",
       " 'decisiontreeclassifier__min_impurity_decrease': 0.0,\n",
       " 'decisiontreeclassifier__min_samples_leaf': 1,\n",
       " 'decisiontreeclassifier__min_samples_split': 2,\n",
       " 'decisiontreeclassifier__min_weight_fraction_leaf': 0.0,\n",
       " 'decisiontreeclassifier__random_state': None,\n",
       " 'decisiontreeclassifier__splitter': 'best'}"
      ]
     },
     "execution_count": 92,
     "metadata": {},
     "output_type": "execute_result"
    }
   ],
   "source": [
    "# Created a pipeline object with a CountVectorizer transformer and Decision Tree Classifier.  Proceeded to get a list of all available hyperparameters using the .get_params() method.\n",
    "cvec_dtc_pipe = make_pipeline(CountVectorizer(), DecisionTreeClassifier())\n",
    "cvec_dtc_pipe.get_params()"
   ]
  },
  {
   "cell_type": "code",
   "execution_count": 93,
   "id": "8a560dff-7f16-4c14-b23d-d8b8b784bdff",
   "metadata": {},
   "outputs": [],
   "source": [
    "# Created a dictionary of hyperparameter ranges that I would then perform a RandomizedSearchCV over.\n",
    "cvec_dtc_params = {\n",
    "    'countvectorizer__ngram_range': [(1, 1), (2, 2), (3, 3)],\n",
    "    'countvectorizer__stop_words': [None],\n",
    "    'countvectorizer__tokenizer': [None, stemming],\n",
    "    'decisiontreeclassifier__max_depth': [None, 5, 10, 15, 20],\n",
    "    'decisiontreeclassifier__max_features': [None, 1_000, 2_000],\n",
    "    'decisiontreeclassifier__min_samples_split': [None, 2, 5]\n",
    "}"
   ]
  },
  {
   "cell_type": "markdown",
   "id": "9308ed9b-e875-4a10-aad0-de9efc01e3e8",
   "metadata": {},
   "source": [
    "**Hyperparameter Tuning using RandomizedSearchCV**"
   ]
  },
  {
   "cell_type": "code",
   "execution_count": 94,
   "id": "d52c9061-f4c0-41c6-b861-61398d8e711d",
   "metadata": {},
   "outputs": [],
   "source": [
    "# Created a RandomizedSerachCV object that contained the pipeline and the dictionary of hyperparameter ranges I had created and ensured that the jobs ran in parallel.\n",
    "cvec_dtc_rs = RandomizedSearchCV(cvec_dtc_pipe, param_distributions=cvec_dtc_params, n_jobs=-1)"
   ]
  },
  {
   "cell_type": "code",
   "execution_count": 95,
   "id": "05852d6f-684e-4d46-91f1-d51322a7902a",
   "metadata": {
    "scrolled": true,
    "tags": []
   },
   "outputs": [
    {
     "name": "stderr",
     "output_type": "stream",
     "text": [
      "/opt/anaconda3/lib/python3.9/site-packages/sklearn/model_selection/_validation.py:372: FitFailedWarning: \n",
      "45 fits failed out of a total of 50.\n",
      "The score on these train-test partitions for these parameters will be set to nan.\n",
      "If these failures are not expected, you can try to debug them by setting error_score='raise'.\n",
      "\n",
      "Below are more details about the failures:\n",
      "--------------------------------------------------------------------------------\n",
      "30 fits failed with the following error:\n",
      "Traceback (most recent call last):\n",
      "  File \"/opt/anaconda3/lib/python3.9/site-packages/sklearn/model_selection/_validation.py\", line 680, in _fit_and_score\n",
      "    estimator.fit(X_train, y_train, **fit_params)\n",
      "  File \"/opt/anaconda3/lib/python3.9/site-packages/sklearn/pipeline.py\", line 390, in fit\n",
      "    Xt = self._fit(X, y, **fit_params_steps)\n",
      "  File \"/opt/anaconda3/lib/python3.9/site-packages/sklearn/pipeline.py\", line 348, in _fit\n",
      "    X, fitted_transformer = fit_transform_one_cached(\n",
      "  File \"/opt/anaconda3/lib/python3.9/site-packages/joblib/memory.py\", line 349, in __call__\n",
      "    return self.func(*args, **kwargs)\n",
      "  File \"/opt/anaconda3/lib/python3.9/site-packages/sklearn/pipeline.py\", line 893, in _fit_transform_one\n",
      "    res = transformer.fit_transform(X, y, **fit_params)\n",
      "  File \"/opt/anaconda3/lib/python3.9/site-packages/sklearn/feature_extraction/text.py\", line 1330, in fit_transform\n",
      "    vocabulary, X = self._count_vocab(raw_documents, self.fixed_vocabulary_)\n",
      "  File \"/opt/anaconda3/lib/python3.9/site-packages/sklearn/feature_extraction/text.py\", line 1201, in _count_vocab\n",
      "    for feature in analyze(doc):\n",
      "  File \"/opt/anaconda3/lib/python3.9/site-packages/sklearn/feature_extraction/text.py\", line 115, in _analyze\n",
      "    doc = tokenizer(doc)\n",
      "TypeError: 'SnowballStemmer' object is not callable\n",
      "\n",
      "--------------------------------------------------------------------------------\n",
      "15 fits failed with the following error:\n",
      "Traceback (most recent call last):\n",
      "  File \"/opt/anaconda3/lib/python3.9/site-packages/sklearn/model_selection/_validation.py\", line 680, in _fit_and_score\n",
      "    estimator.fit(X_train, y_train, **fit_params)\n",
      "  File \"/opt/anaconda3/lib/python3.9/site-packages/sklearn/pipeline.py\", line 394, in fit\n",
      "    self._final_estimator.fit(Xt, y, **fit_params_last_step)\n",
      "  File \"/opt/anaconda3/lib/python3.9/site-packages/sklearn/tree/_classes.py\", line 937, in fit\n",
      "    super().fit(\n",
      "  File \"/opt/anaconda3/lib/python3.9/site-packages/sklearn/tree/_classes.py\", line 258, in fit\n",
      "    if not 0.0 < self.min_samples_split <= 1.0:\n",
      "TypeError: '<' not supported between instances of 'float' and 'NoneType'\n",
      "\n",
      "  warnings.warn(some_fits_failed_message, FitFailedWarning)\n",
      "/opt/anaconda3/lib/python3.9/site-packages/sklearn/model_selection/_search.py:969: UserWarning: One or more of the test scores are non-finite: [       nan        nan        nan        nan        nan        nan\n",
      "        nan        nan        nan 0.69963807]\n",
      "  warnings.warn(\n"
     ]
    },
    {
     "data": {
      "text/plain": [
       "(0.9961741791875348, 0.7181306071354058)"
      ]
     },
     "execution_count": 95,
     "metadata": {},
     "output_type": "execute_result"
    }
   ],
   "source": [
    "# Fit this RandomizedSearchCV object on X_train and y_train before scoring both X_train, y_train and X_test, y_test.\n",
    "cvec_dtc_rs.fit(X_train, y_train)\n",
    "cvec_dtc_rs.score(X_train, y_train), cvec_dtc_rs.score(X_test, y_test)"
   ]
  },
  {
   "cell_type": "code",
   "execution_count": 96,
   "id": "940f0ad6-5b98-4046-beb3-9e064acf13cf",
   "metadata": {},
   "outputs": [
    {
     "data": {
      "text/plain": [
       "{'decisiontreeclassifier__min_samples_split': 2,\n",
       " 'decisiontreeclassifier__max_features': 1000,\n",
       " 'decisiontreeclassifier__max_depth': None,\n",
       " 'countvectorizer__tokenizer': None,\n",
       " 'countvectorizer__stop_words': None,\n",
       " 'countvectorizer__ngram_range': (2, 2)}"
      ]
     },
     "execution_count": 96,
     "metadata": {},
     "output_type": "execute_result"
    }
   ],
   "source": [
    "# Looked at the hyperparameters identified as best by the RandomizedSearchCV.\n",
    "cvec_dtc_rs.best_params_"
   ]
  },
  {
   "cell_type": "code",
   "execution_count": 97,
   "id": "1095e79f-6d88-485a-aa47-536b4e1b94f6",
   "metadata": {},
   "outputs": [],
   "source": [
    "# Proceeded to create a new parameter grid that continaed a narrow range around the results obtained from the RandomizedSearchCV.\n",
    "cvec_dtc_new_params = {\n",
    "    'countvectorizer__ngram_range': [(2,2)],\n",
    "    'countvectorizer__stop_words': [None],\n",
    "    'countvectorizer__tokenizer': [None],\n",
    "    'decisiontreeclassifier__max_depth': [None],\n",
    "    'decisiontreeclassifier__max_features': [1000],\n",
    "    'decisiontreeclassifier__min_samples_split': [2]\n",
    "}"
   ]
  },
  {
   "cell_type": "markdown",
   "id": "ad93db81-6ae0-4bca-95ac-b369a001c945",
   "metadata": {},
   "source": [
    "**Hyperparameter Tuning using GridSearchCV**"
   ]
  },
  {
   "cell_type": "code",
   "execution_count": 98,
   "id": "a71fe439-cfca-4830-9d05-97f4845e4361",
   "metadata": {},
   "outputs": [],
   "source": [
    "# Created a GridSerachCV object that contained the pipeline along with the revised dictionary of hyperparameter ranges that surrounded the hyperparameters identified as optimal by the RandomizedSearchCV and ensured that the jobs ran in parallel.\n",
    "cvec_dtc_gs = GridSearchCV(cvec_dtc_pipe, param_grid=cvec_dtc_new_params, n_jobs=-1)"
   ]
  },
  {
   "cell_type": "code",
   "execution_count": 99,
   "id": "848b3b18-a6da-4e26-8c14-1e52c9efad15",
   "metadata": {},
   "outputs": [
    {
     "data": {
      "text/plain": [
       "(0.9961741791875348, 0.6983100354683914)"
      ]
     },
     "execution_count": 99,
     "metadata": {},
     "output_type": "execute_result"
    }
   ],
   "source": [
    "# Fit this GridSearchCV object on X_train and y_train before scoring both X_train, y_train and X_test, y_test.\n",
    "cvec_dtc_gs.fit(X_train, y_train)\n",
    "cvec_dtc_gs.score(X_train, y_train), cvec_dtc_gs.score(X_test, y_test)"
   ]
  },
  {
   "cell_type": "code",
   "execution_count": 100,
   "id": "d4051fd0-c558-443e-bb97-62e7a476cd3d",
   "metadata": {},
   "outputs": [],
   "source": [
    "# Utilized the fitted pipeline object to predict the target and saved the results under variable named \"cvec_dtc_gs_preds\".\n",
    "cvec_dtc_gs_preds = cvec_dtc_gs.predict(X_test)"
   ]
  },
  {
   "cell_type": "code",
   "execution_count": 145,
   "id": "bb4ec3ce-ba8d-4118-aee5-fed2a37263f6",
   "metadata": {},
   "outputs": [
    {
     "data": {
      "image/png": "[encoded data removed]",
      "text/plain": [
       "<Figure size 1080x1080 with 2 Axes>"
      ]
     },
     "metadata": {
      "needs_background": "light"
     },
     "output_type": "display_data"
    }
   ],
   "source": [
    "# Generated a ConfusionMatrixDisplay utilizing this DecisionTree Classifier estimator.\n",
    "\n",
    "# Obtained guidance with size from: https://stackoverflow.com/questions/66483409/adjust-size-of-confusionmatrixdisplay-scikitlearn\n",
    "\n",
    "fig, ax = plt.subplots(figsize=(15, 15))\n",
    "ConfusionMatrixDisplay.from_estimator(cvec_dtc_gs, X_test, y_test, ax=ax);"
   ]
  },
  {
   "cell_type": "code",
   "execution_count": 102,
   "id": "2e191ece-6fc2-4581-97e1-fa1e2d74e1d9",
   "metadata": {},
   "outputs": [
    {
     "data": {
      "text/plain": [
       "0.7082052198790713"
      ]
     },
     "execution_count": 102,
     "metadata": {},
     "output_type": "execute_result"
    }
   ],
   "source": [
    "# Calcualted the precision score after setting 'PartidoMorenaMx' as the positive label.\n",
    "cvec_dtc_gs_precision = precision_score(y_test, cvec_dtc_gs_preds, labels='PartidoMorenaMx', average='macro')\n",
    "cvec_dtc_gs_precision"
   ]
  },
  {
   "cell_type": "code",
   "execution_count": 103,
   "id": "095940f2-98e8-4aab-b1f2-f95871b92acc",
   "metadata": {},
   "outputs": [
    {
     "data": {
      "text/plain": [
       "0.6983472448526867"
      ]
     },
     "execution_count": 103,
     "metadata": {},
     "output_type": "execute_result"
    }
   ],
   "source": [
    "# Calcualted the recall score after setting 'PartidoMorenaMx' as the positive label.\n",
    "cvec_dtc_gs_recall = recall_score(y_test, cvec_dtc_gs_preds, labels='PartidoMorenaMx', average='macro')\n",
    "cvec_dtc_gs_recall"
   ]
  },
  {
   "cell_type": "code",
   "execution_count": 104,
   "id": "e5add630-926d-4a38-ab18-78a45967c163",
   "metadata": {},
   "outputs": [
    {
     "data": {
      "text/plain": [
       "0.6992510443296132"
      ]
     },
     "execution_count": 104,
     "metadata": {},
     "output_type": "execute_result"
    }
   ],
   "source": [
    "# Calcualted the f1 score after setting 'PartidoMorenaMx' as the positive label.\n",
    "cvec_dtc_gs_f1 = f1_score(y_test, cvec_dtc_gs_preds, labels='PartidoMorenaMx', average='macro')\n",
    "cvec_dtc_gs_f1"
   ]
  },
  {
   "cell_type": "code",
   "execution_count": 105,
   "id": "e5fed29f-8003-465e-94a6-dfc699e266c5",
   "metadata": {},
   "outputs": [
    {
     "data": {
      "text/plain": [
       "{'countvectorizer__ngram_range': (2, 2),\n",
       " 'countvectorizer__stop_words': None,\n",
       " 'countvectorizer__tokenizer': None,\n",
       " 'decisiontreeclassifier__max_depth': None,\n",
       " 'decisiontreeclassifier__max_features': 1000,\n",
       " 'decisiontreeclassifier__min_samples_split': 2}"
      ]
     },
     "execution_count": 105,
     "metadata": {},
     "output_type": "execute_result"
    }
   ],
   "source": [
    "# Looked at the hyperparameters identified as best by the GridSearchCV.\n",
    "cvec_dtc_gs.best_params_"
   ]
  },
  {
   "cell_type": "markdown",
   "id": "2e15badc-fa8d-40a4-a123-248dfceec26d",
   "metadata": {
    "jp-MarkdownHeadingCollapsed": true,
    "tags": []
   },
   "source": [
    "### CountVectorizer + ExtraTreesClassifier"
   ]
  },
  {
   "cell_type": "code",
   "execution_count": 106,
   "id": "1b30b026-ebaa-4e4e-918c-b05dc97e7894",
   "metadata": {},
   "outputs": [
    {
     "data": {
      "text/plain": [
       "{'memory': None,\n",
       " 'steps': [('countvectorizer', CountVectorizer()),\n",
       "  ('extratreesclassifier', ExtraTreesClassifier())],\n",
       " 'verbose': False,\n",
       " 'countvectorizer': CountVectorizer(),\n",
       " 'extratreesclassifier': ExtraTreesClassifier(),\n",
       " 'countvectorizer__analyzer': 'word',\n",
       " 'countvectorizer__binary': False,\n",
       " 'countvectorizer__decode_error': 'strict',\n",
       " 'countvectorizer__dtype': numpy.int64,\n",
       " 'countvectorizer__encoding': 'utf-8',\n",
       " 'countvectorizer__input': 'content',\n",
       " 'countvectorizer__lowercase': True,\n",
       " 'countvectorizer__max_df': 1.0,\n",
       " 'countvectorizer__max_features': None,\n",
       " 'countvectorizer__min_df': 1,\n",
       " 'countvectorizer__ngram_range': (1, 1),\n",
       " 'countvectorizer__preprocessor': None,\n",
       " 'countvectorizer__stop_words': None,\n",
       " 'countvectorizer__strip_accents': None,\n",
       " 'countvectorizer__token_pattern': '(?u)\\\\b\\\\w\\\\w+\\\\b',\n",
       " 'countvectorizer__tokenizer': None,\n",
       " 'countvectorizer__vocabulary': None,\n",
       " 'extratreesclassifier__bootstrap': False,\n",
       " 'extratreesclassifier__ccp_alpha': 0.0,\n",
       " 'extratreesclassifier__class_weight': None,\n",
       " 'extratreesclassifier__criterion': 'gini',\n",
       " 'extratreesclassifier__max_depth': None,\n",
       " 'extratreesclassifier__max_features': 'auto',\n",
       " 'extratreesclassifier__max_leaf_nodes': None,\n",
       " 'extratreesclassifier__max_samples': None,\n",
       " 'extratreesclassifier__min_impurity_decrease': 0.0,\n",
       " 'extratreesclassifier__min_samples_leaf': 1,\n",
       " 'extratreesclassifier__min_samples_split': 2,\n",
       " 'extratreesclassifier__min_weight_fraction_leaf': 0.0,\n",
       " 'extratreesclassifier__n_estimators': 100,\n",
       " 'extratreesclassifier__n_jobs': None,\n",
       " 'extratreesclassifier__oob_score': False,\n",
       " 'extratreesclassifier__random_state': None,\n",
       " 'extratreesclassifier__verbose': 0,\n",
       " 'extratreesclassifier__warm_start': False}"
      ]
     },
     "execution_count": 106,
     "metadata": {},
     "output_type": "execute_result"
    }
   ],
   "source": [
    "# Created a pipeline object with a CountVectorizer transformer and Extra Trees Classifier.  Proceeded to get a list of all available hyperparameters using the .get_params() method.\n",
    "cvec_etc_pipe = make_pipeline(CountVectorizer(), ExtraTreesClassifier())\n",
    "cvec_etc_pipe.get_params()"
   ]
  },
  {
   "cell_type": "code",
   "execution_count": 107,
   "id": "6381684f-a537-4ebf-8a46-4fd19fc1a36b",
   "metadata": {},
   "outputs": [],
   "source": [
    "# Created a dictionary of hyperparameter ranges that I would then perform a RandomizedSearchCV over.\n",
    "cvec_etc_params = {\n",
    "    'countvectorizer__ngram_range': [(1, 1), (2, 2), (3, 3)],\n",
    "    'countvectorizer__stop_words': [None],\n",
    "    'countvectorizer__tokenizer': [None, stemming],\n",
    "    'extratreesclassifier__max_depth': [None, 5, 10, 15, 20],\n",
    "    'extratreesclassifier__max_features': [None, 1_000, 2_000],\n",
    "    'extratreesclassifier__min_samples_split': [2, 3, 4],\n",
    "    'extratreesclassifier__n_estimators': [100, 150, 200]\n",
    "}"
   ]
  },
  {
   "cell_type": "markdown",
   "id": "a1f17dec-22d7-4586-8640-588aba9231fb",
   "metadata": {},
   "source": [
    "**Hyperparameter Tuning using RandomizedSearchCV**"
   ]
  },
  {
   "cell_type": "code",
   "execution_count": 108,
   "id": "4a10384b-4b6d-4ad1-85fd-215a95db6fb0",
   "metadata": {},
   "outputs": [],
   "source": [
    "# Created a RandomizedSerachCV object that contained the pipeline and the dictionary of hyperparameter ranges I had created and ensured that the jobs ran in parallel.\n",
    "cvec_etc_rs = RandomizedSearchCV(cvec_etc_pipe, param_distributions=cvec_etc_params, n_jobs=-1)"
   ]
  },
  {
   "cell_type": "code",
   "execution_count": 109,
   "id": "ad65641f-fc1e-4ac3-8035-3e85c629d8a5",
   "metadata": {
    "scrolled": true,
    "tags": []
   },
   "outputs": [
    {
     "name": "stderr",
     "output_type": "stream",
     "text": [
      "/opt/anaconda3/lib/python3.9/site-packages/sklearn/model_selection/_validation.py:372: FitFailedWarning: \n",
      "25 fits failed out of a total of 50.\n",
      "The score on these train-test partitions for these parameters will be set to nan.\n",
      "If these failures are not expected, you can try to debug them by setting error_score='raise'.\n",
      "\n",
      "Below are more details about the failures:\n",
      "--------------------------------------------------------------------------------\n",
      "25 fits failed with the following error:\n",
      "Traceback (most recent call last):\n",
      "  File \"/opt/anaconda3/lib/python3.9/site-packages/sklearn/model_selection/_validation.py\", line 680, in _fit_and_score\n",
      "    estimator.fit(X_train, y_train, **fit_params)\n",
      "  File \"/opt/anaconda3/lib/python3.9/site-packages/sklearn/pipeline.py\", line 390, in fit\n",
      "    Xt = self._fit(X, y, **fit_params_steps)\n",
      "  File \"/opt/anaconda3/lib/python3.9/site-packages/sklearn/pipeline.py\", line 348, in _fit\n",
      "    X, fitted_transformer = fit_transform_one_cached(\n",
      "  File \"/opt/anaconda3/lib/python3.9/site-packages/joblib/memory.py\", line 349, in __call__\n",
      "    return self.func(*args, **kwargs)\n",
      "  File \"/opt/anaconda3/lib/python3.9/site-packages/sklearn/pipeline.py\", line 893, in _fit_transform_one\n",
      "    res = transformer.fit_transform(X, y, **fit_params)\n",
      "  File \"/opt/anaconda3/lib/python3.9/site-packages/sklearn/feature_extraction/text.py\", line 1330, in fit_transform\n",
      "    vocabulary, X = self._count_vocab(raw_documents, self.fixed_vocabulary_)\n",
      "  File \"/opt/anaconda3/lib/python3.9/site-packages/sklearn/feature_extraction/text.py\", line 1201, in _count_vocab\n",
      "    for feature in analyze(doc):\n",
      "  File \"/opt/anaconda3/lib/python3.9/site-packages/sklearn/feature_extraction/text.py\", line 115, in _analyze\n",
      "    doc = tokenizer(doc)\n",
      "TypeError: 'SnowballStemmer' object is not callable\n",
      "\n",
      "  warnings.warn(some_fits_failed_message, FitFailedWarning)\n",
      "/opt/anaconda3/lib/python3.9/site-packages/sklearn/model_selection/_search.py:969: UserWarning: One or more of the test scores are non-finite: [0.71640155        nan        nan        nan 0.65658023 0.66332779\n",
      "        nan 0.50257348        nan 0.49937384]\n",
      "  warnings.warn(\n"
     ]
    },
    {
     "data": {
      "text/plain": [
       "(0.7797718419588202, 0.7241810974337576)"
      ]
     },
     "execution_count": 109,
     "metadata": {},
     "output_type": "execute_result"
    }
   ],
   "source": [
    "# Fit this RandomizedSearchCV object on X_train and y_train before scoring both X_train, y_train and X_test, y_test.\n",
    "cvec_etc_rs.fit(X_train, y_train)\n",
    "cvec_etc_rs.score(X_train, y_train), cvec_etc_rs.score(X_test, y_test)"
   ]
  },
  {
   "cell_type": "code",
   "execution_count": 110,
   "id": "bf7e49e9-97cf-4cf6-8475-1f6feb3fb0a2",
   "metadata": {},
   "outputs": [
    {
     "data": {
      "text/plain": [
       "{'extratreesclassifier__n_estimators': 150,\n",
       " 'extratreesclassifier__min_samples_split': 3,\n",
       " 'extratreesclassifier__max_features': 1000,\n",
       " 'extratreesclassifier__max_depth': 20,\n",
       " 'countvectorizer__tokenizer': None,\n",
       " 'countvectorizer__stop_words': None,\n",
       " 'countvectorizer__ngram_range': (2, 2)}"
      ]
     },
     "execution_count": 110,
     "metadata": {},
     "output_type": "execute_result"
    }
   ],
   "source": [
    "# Looked at the hyperparameters identified as best by the RandomizedSearchCV.\n",
    "cvec_etc_rs.best_params_"
   ]
  },
  {
   "cell_type": "code",
   "execution_count": 112,
   "id": "5356343b-10a0-4291-8c43-99b5b96db8eb",
   "metadata": {},
   "outputs": [],
   "source": [
    "# Proceeded to create a new parameter grid that continaed a narrow range around the results obtained from the RandomizedSearchCV.\n",
    "cvec_etc_new_params = {\n",
    "    'countvectorizer__ngram_range': [(2,2)],\n",
    "    'countvectorizer__stop_words': [None],\n",
    "    'countvectorizer__tokenizer': [None],\n",
    "    'extratreesclassifier__max_depth': [20],\n",
    "    'extratreesclassifier__max_features': [1000],\n",
    "    'extratreesclassifier__min_samples_split': [3],\n",
    "    'extratreesclassifier__n_estimators': [150]\n",
    "}"
   ]
  },
  {
   "cell_type": "markdown",
   "id": "4656d6c4-767e-4b9e-9f4f-45e0abdd1214",
   "metadata": {},
   "source": [
    "**Hyperparameter Tuning using GridSearchCV**"
   ]
  },
  {
   "cell_type": "code",
   "execution_count": 113,
   "id": "f128108a-a320-41d8-b1c3-c182495684ae",
   "metadata": {},
   "outputs": [],
   "source": [
    "# Created a GridSerachCV object that contained the pipeline along with the revised dictionary of hyperparameter ranges that surrounded the hyperparameters identified as optimal by the RandomizedSearchCV and ensured that the jobs ran in parallel.\n",
    "cvec_etc_gs = GridSearchCV(cvec_etc_pipe, param_grid=cvec_etc_new_params, n_jobs=-1)"
   ]
  },
  {
   "cell_type": "code",
   "execution_count": 114,
   "id": "62544e23-626f-46c8-880f-5fb2b80acce3",
   "metadata": {},
   "outputs": [
    {
     "data": {
      "text/plain": [
       "(0.7867278797996661, 0.7306488629250991)"
      ]
     },
     "execution_count": 114,
     "metadata": {},
     "output_type": "execute_result"
    }
   ],
   "source": [
    "# Fit this GridSearchCV object on X_train and y_train before scoring both X_train, y_train and X_test, y_test.\n",
    "cvec_etc_gs.fit(X_train, y_train)\n",
    "cvec_etc_gs.score(X_train, y_train), cvec_etc_gs.score(X_test, y_test)"
   ]
  },
  {
   "cell_type": "code",
   "execution_count": 115,
   "id": "8f99316b-3212-41bf-affb-0278205c3f2d",
   "metadata": {},
   "outputs": [],
   "source": [
    "# Utilized the fitted pipeline object to predict the target and saved the results under variable named \"cvec_etc_gs_preds\".\n",
    "cvec_etc_gs_preds = cvec_etc_gs.predict(X_test)"
   ]
  },
  {
   "cell_type": "code",
   "execution_count": 146,
   "id": "9a0b8d92-8557-469a-bf9a-92eae3b66afd",
   "metadata": {},
   "outputs": [
    {
     "data": {
      "image/png": "[encoded data removed]",
      "text/plain": [
       "<Figure size 1080x1080 with 2 Axes>"
      ]
     },
     "metadata": {
      "needs_background": "light"
     },
     "output_type": "display_data"
    }
   ],
   "source": [
    "# Generated a ConfusionMatrixDisplay utilizing this ExtraTreesClassifier estimator.\n",
    "\n",
    "# Obtained guidance with size from: https://stackoverflow.com/questions/66483409/adjust-size-of-confusionmatrixdisplay-scikitlearn\n",
    "\n",
    "fig, ax = plt.subplots(figsize=(15, 15))\n",
    "ConfusionMatrixDisplay.from_estimator(cvec_etc_gs, X_test, y_test, ax=ax);"
   ]
  },
  {
   "cell_type": "code",
   "execution_count": 117,
   "id": "1cf1ac57-55bb-417d-b137-41210f877927",
   "metadata": {},
   "outputs": [
    {
     "data": {
      "text/plain": [
       "0.7852773527560891"
      ]
     },
     "execution_count": 117,
     "metadata": {},
     "output_type": "execute_result"
    }
   ],
   "source": [
    "# Calcualted the precision score after setting 'PartidoMorenaMx' as the positive label.\n",
    "cvec_etc_gs_precision = precision_score(y_test, cvec_etc_gs_preds, labels='PartidoMorenaMx', average='macro')\n",
    "cvec_etc_gs_precision"
   ]
  },
  {
   "cell_type": "code",
   "execution_count": 118,
   "id": "c7120e4e-4056-4ccc-802a-e29f10f3234d",
   "metadata": {},
   "outputs": [
    {
     "data": {
      "text/plain": [
       "0.7305106018817198"
      ]
     },
     "execution_count": 118,
     "metadata": {},
     "output_type": "execute_result"
    }
   ],
   "source": [
    "# Calcualted the recall score after setting 'PartidoMorenaMx' as the positive label.\n",
    "cvec_etc_gs_recall = recall_score(y_test, cvec_etc_gs_preds, labels='PartidoMorenaMx', average='macro')\n",
    "cvec_etc_gs_recall"
   ]
  },
  {
   "cell_type": "code",
   "execution_count": 119,
   "id": "e0aea997-8481-4ced-bf96-2977acdfff9d",
   "metadata": {},
   "outputs": [
    {
     "data": {
      "text/plain": [
       "0.7369050750181217"
      ]
     },
     "execution_count": 119,
     "metadata": {},
     "output_type": "execute_result"
    }
   ],
   "source": [
    "# Calcualted the f1 score after setting 'PartidoMorenaMx' as the positive label.\n",
    "cvec_etc_gs_f1 = f1_score(y_test, cvec_etc_gs_preds, labels='PartidoMorenaMx', average='macro')\n",
    "cvec_etc_gs_f1"
   ]
  },
  {
   "cell_type": "code",
   "execution_count": 120,
   "id": "34b2b62a-d7e8-403a-a556-676a33e794a2",
   "metadata": {},
   "outputs": [
    {
     "data": {
      "text/plain": [
       "{'countvectorizer__ngram_range': (2, 2),\n",
       " 'countvectorizer__stop_words': None,\n",
       " 'countvectorizer__tokenizer': None,\n",
       " 'extratreesclassifier__max_depth': 20,\n",
       " 'extratreesclassifier__max_features': 1000,\n",
       " 'extratreesclassifier__min_samples_split': 3,\n",
       " 'extratreesclassifier__n_estimators': 150}"
      ]
     },
     "execution_count": 120,
     "metadata": {},
     "output_type": "execute_result"
    }
   ],
   "source": [
    "# Looked at the hyperparameters identified as best by the GridSearchCV.\n",
    "cvec_etc_gs.best_params_"
   ]
  },
  {
   "cell_type": "markdown",
   "id": "94183b37-07dc-4ee2-8619-ba5781da9554",
   "metadata": {
    "jp-MarkdownHeadingCollapsed": true,
    "tags": []
   },
   "source": [
    "### CountVectorizer + RandomForestClassifier"
   ]
  },
  {
   "cell_type": "code",
   "execution_count": 121,
   "id": "c1ba477e-c8b0-425c-ab91-40561f50dd90",
   "metadata": {},
   "outputs": [
    {
     "data": {
      "text/plain": [
       "{'memory': None,\n",
       " 'steps': [('countvectorizer', CountVectorizer()),\n",
       "  ('randomforestclassifier', RandomForestClassifier())],\n",
       " 'verbose': False,\n",
       " 'countvectorizer': CountVectorizer(),\n",
       " 'randomforestclassifier': RandomForestClassifier(),\n",
       " 'countvectorizer__analyzer': 'word',\n",
       " 'countvectorizer__binary': False,\n",
       " 'countvectorizer__decode_error': 'strict',\n",
       " 'countvectorizer__dtype': numpy.int64,\n",
       " 'countvectorizer__encoding': 'utf-8',\n",
       " 'countvectorizer__input': 'content',\n",
       " 'countvectorizer__lowercase': True,\n",
       " 'countvectorizer__max_df': 1.0,\n",
       " 'countvectorizer__max_features': None,\n",
       " 'countvectorizer__min_df': 1,\n",
       " 'countvectorizer__ngram_range': (1, 1),\n",
       " 'countvectorizer__preprocessor': None,\n",
       " 'countvectorizer__stop_words': None,\n",
       " 'countvectorizer__strip_accents': None,\n",
       " 'countvectorizer__token_pattern': '(?u)\\\\b\\\\w\\\\w+\\\\b',\n",
       " 'countvectorizer__tokenizer': None,\n",
       " 'countvectorizer__vocabulary': None,\n",
       " 'randomforestclassifier__bootstrap': True,\n",
       " 'randomforestclassifier__ccp_alpha': 0.0,\n",
       " 'randomforestclassifier__class_weight': None,\n",
       " 'randomforestclassifier__criterion': 'gini',\n",
       " 'randomforestclassifier__max_depth': None,\n",
       " 'randomforestclassifier__max_features': 'auto',\n",
       " 'randomforestclassifier__max_leaf_nodes': None,\n",
       " 'randomforestclassifier__max_samples': None,\n",
       " 'randomforestclassifier__min_impurity_decrease': 0.0,\n",
       " 'randomforestclassifier__min_samples_leaf': 1,\n",
       " 'randomforestclassifier__min_samples_split': 2,\n",
       " 'randomforestclassifier__min_weight_fraction_leaf': 0.0,\n",
       " 'randomforestclassifier__n_estimators': 100,\n",
       " 'randomforestclassifier__n_jobs': None,\n",
       " 'randomforestclassifier__oob_score': False,\n",
       " 'randomforestclassifier__random_state': None,\n",
       " 'randomforestclassifier__verbose': 0,\n",
       " 'randomforestclassifier__warm_start': False}"
      ]
     },
     "execution_count": 121,
     "metadata": {},
     "output_type": "execute_result"
    }
   ],
   "source": [
    "# Created a pipeline object with a CountVectorizer transformer and Random Forest Classifier.  Proceeded to get a list of all available hyperparameters using the .get_params() method.\n",
    "cvec_rfc_pipe = make_pipeline(CountVectorizer(), RandomForestClassifier())\n",
    "cvec_rfc_pipe.get_params()"
   ]
  },
  {
   "cell_type": "code",
   "execution_count": 122,
   "id": "3a7b6571-d328-488b-9d69-7f5acf4c4b50",
   "metadata": {},
   "outputs": [],
   "source": [
    "# Created a dictionary of hyperparameter ranges that I would then perform a RandomizedSearchCV over.\n",
    "cvec_rfc_params = {\n",
    "    'countvectorizer__ngram_range': [(1, 1), (2, 2), (3, 3)],\n",
    "    'countvectorizer__stop_words': [None],\n",
    "    'countvectorizer__tokenizer': [None, stemming],\n",
    "    'randomforestclassifier__max_depth': [None, 5, 10, 15, 20],\n",
    "    'randomforestclassifier__max_features': [None, 1_000, 2_000],\n",
    "    'randomforestclassifier__min_samples_split': [2, 3, 4],\n",
    "    'randomforestclassifier__n_estimators': [100, 150, 200]\n",
    "}"
   ]
  },
  {
   "cell_type": "markdown",
   "id": "a7d3799e-668b-4ff0-b93c-bc72da6e24f5",
   "metadata": {},
   "source": [
    "**Hyperparameter Tuning using RandomizedSearchCV**"
   ]
  },
  {
   "cell_type": "code",
   "execution_count": 123,
   "id": "0683796d-d77d-4c63-a757-ebfd0bc3f4b6",
   "metadata": {},
   "outputs": [],
   "source": [
    "# Created a RandomizedSerachCV object that contained the pipeline and the dictionary of hyperparameter ranges I had created and ensured that the jobs ran in parallel.\n",
    "cvec_rfc_rs = RandomizedSearchCV(cvec_rfc_pipe, param_distributions=cvec_rfc_params, n_jobs=-1)"
   ]
  },
  {
   "cell_type": "code",
   "execution_count": 124,
   "id": "30960e8b-e7bd-42b9-9867-ffe8fe1bbe31",
   "metadata": {
    "scrolled": true,
    "tags": []
   },
   "outputs": [
    {
     "name": "stderr",
     "output_type": "stream",
     "text": [
      "/opt/anaconda3/lib/python3.9/site-packages/sklearn/model_selection/_validation.py:372: FitFailedWarning: \n",
      "30 fits failed out of a total of 50.\n",
      "The score on these train-test partitions for these parameters will be set to nan.\n",
      "If these failures are not expected, you can try to debug them by setting error_score='raise'.\n",
      "\n",
      "Below are more details about the failures:\n",
      "--------------------------------------------------------------------------------\n",
      "30 fits failed with the following error:\n",
      "Traceback (most recent call last):\n",
      "  File \"/opt/anaconda3/lib/python3.9/site-packages/sklearn/model_selection/_validation.py\", line 680, in _fit_and_score\n",
      "    estimator.fit(X_train, y_train, **fit_params)\n",
      "  File \"/opt/anaconda3/lib/python3.9/site-packages/sklearn/pipeline.py\", line 390, in fit\n",
      "    Xt = self._fit(X, y, **fit_params_steps)\n",
      "  File \"/opt/anaconda3/lib/python3.9/site-packages/sklearn/pipeline.py\", line 348, in _fit\n",
      "    X, fitted_transformer = fit_transform_one_cached(\n",
      "  File \"/opt/anaconda3/lib/python3.9/site-packages/joblib/memory.py\", line 349, in __call__\n",
      "    return self.func(*args, **kwargs)\n",
      "  File \"/opt/anaconda3/lib/python3.9/site-packages/sklearn/pipeline.py\", line 893, in _fit_transform_one\n",
      "    res = transformer.fit_transform(X, y, **fit_params)\n",
      "  File \"/opt/anaconda3/lib/python3.9/site-packages/sklearn/feature_extraction/text.py\", line 1330, in fit_transform\n",
      "    vocabulary, X = self._count_vocab(raw_documents, self.fixed_vocabulary_)\n",
      "  File \"/opt/anaconda3/lib/python3.9/site-packages/sklearn/feature_extraction/text.py\", line 1201, in _count_vocab\n",
      "    for feature in analyze(doc):\n",
      "  File \"/opt/anaconda3/lib/python3.9/site-packages/sklearn/feature_extraction/text.py\", line 115, in _analyze\n",
      "    doc = tokenizer(doc)\n",
      "TypeError: 'SnowballStemmer' object is not callable\n",
      "\n",
      "  warnings.warn(some_fits_failed_message, FitFailedWarning)\n",
      "/opt/anaconda3/lib/python3.9/site-packages/sklearn/model_selection/_search.py:969: UserWarning: One or more of the test scores are non-finite: [0.46320295 0.7018638         nan        nan        nan        nan\n",
      " 0.67800392 0.6798139         nan        nan]\n",
      "  warnings.warn(\n"
     ]
    },
    {
     "data": {
      "text/plain": [
       "(0.741652754590985, 0.7120801168370541)"
      ]
     },
     "execution_count": 124,
     "metadata": {},
     "output_type": "execute_result"
    }
   ],
   "source": [
    "# Fit this RandomizedSearchCV object on X_train and y_train before scoring both X_train, y_train and X_test, y_test.\n",
    "cvec_rfc_rs.fit(X_train, y_train)\n",
    "cvec_rfc_rs.score(X_train, y_train), cvec_rfc_rs.score(X_test, y_test)"
   ]
  },
  {
   "cell_type": "code",
   "execution_count": 125,
   "id": "287fa850-9981-47a2-8959-c82b533458e3",
   "metadata": {},
   "outputs": [
    {
     "data": {
      "text/plain": [
       "{'randomforestclassifier__n_estimators': 100,\n",
       " 'randomforestclassifier__min_samples_split': 4,\n",
       " 'randomforestclassifier__max_features': 1000,\n",
       " 'randomforestclassifier__max_depth': 15,\n",
       " 'countvectorizer__tokenizer': None,\n",
       " 'countvectorizer__stop_words': None,\n",
       " 'countvectorizer__ngram_range': (1, 1)}"
      ]
     },
     "execution_count": 125,
     "metadata": {},
     "output_type": "execute_result"
    }
   ],
   "source": [
    "# Looked at the hyperparameters identified as best by the RandomizedSearchCV.\n",
    "cvec_rfc_rs.best_params_"
   ]
  },
  {
   "cell_type": "code",
   "execution_count": 126,
   "id": "0f0641c3-f21d-44e2-8d7f-b11f3d5246e3",
   "metadata": {},
   "outputs": [],
   "source": [
    "# Proceeded to create a new parameter grid that continaed a narrow range around the results obtained from the RandomizedSearchCV.\n",
    "cvec_rfc_new_params = {\n",
    "    'countvectorizer__ngram_range': [(1, 1)],\n",
    "    'countvectorizer__stop_words': [None],\n",
    "    'countvectorizer__tokenizer': [None],\n",
    "    'randomforestclassifier__max_depth': [15],\n",
    "    'randomforestclassifier__max_features': [1000],\n",
    "    'randomforestclassifier__min_samples_split': [4],\n",
    "    'randomforestclassifier__n_estimators': [100]\n",
    "}"
   ]
  },
  {
   "cell_type": "markdown",
   "id": "e15b6473-b152-4347-8ec2-b006c204c8ea",
   "metadata": {},
   "source": [
    "**Hyperparameter Tuning using GridSearchCV**"
   ]
  },
  {
   "cell_type": "code",
   "execution_count": 128,
   "id": "2a953400-e0c6-4ab6-af3d-27fbb6865694",
   "metadata": {},
   "outputs": [],
   "source": [
    "# Created a GridSerachCV object that contained the pipeline along with the revised dictionary of hyperparameter ranges that surrounded the hyperparameters identified as optimal by the RandomizedSearchCV and ensured that the jobs ran in parallel.\n",
    "cvec_rfc_gs = GridSearchCV(cvec_rfc_pipe, param_grid=cvec_rfc_new_params, n_jobs=-1)"
   ]
  },
  {
   "cell_type": "code",
   "execution_count": 147,
   "id": "3baa3320-f197-49b6-829f-1f210022dd1d",
   "metadata": {},
   "outputs": [
    {
     "data": {
      "text/plain": [
       "(0.7308708959376738, 0.7026914249947841)"
      ]
     },
     "execution_count": 147,
     "metadata": {},
     "output_type": "execute_result"
    }
   ],
   "source": [
    "# Fit this GridSearchCV object on X_train and y_train before scoring both X_train, y_train and X_test, y_test.\n",
    "cvec_rfc_gs.fit(X_train, y_train)\n",
    "cvec_rfc_gs.score(X_train, y_train), cvec_rfc_gs.score(X_test, y_test)"
   ]
  },
  {
   "cell_type": "code",
   "execution_count": 148,
   "id": "d48025f2-bb4b-43cb-ae6e-27f838657f3a",
   "metadata": {},
   "outputs": [],
   "source": [
    "# Utilized the fitted pipeline object to predict the target and saved the results under variable named \"cvec_rfc_gs_preds\".\n",
    "cvec_rfc_gs_preds = cvec_rfc_gs.predict(X_test)"
   ]
  },
  {
   "cell_type": "code",
   "execution_count": 149,
   "id": "5e8882b2-eac8-4678-9f53-ac89be1ab87a",
   "metadata": {},
   "outputs": [
    {
     "data": {
      "image/png": "[encoded data removed]",
      "text/plain": [
       "<Figure size 1080x1080 with 2 Axes>"
      ]
     },
     "metadata": {
      "needs_background": "light"
     },
     "output_type": "display_data"
    }
   ],
   "source": [
    "# Generated a ConfusionMatrixDisplay utilizing this RandomForestClassifier estimator.\n",
    "# Obtained guidance with size from: https://stackoverflow.com/questions/66483409/adjust-size-of-confusionmatrixdisplay-scikitlearn\n",
    "\n",
    "fig, ax = plt.subplots(figsize=(15, 15))\n",
    "ConfusionMatrixDisplay.from_estimator(cvec_rfc_gs, X_test, y_test, ax=ax);"
   ]
  },
  {
   "cell_type": "code",
   "execution_count": 151,
   "id": "0a2e67d8-58d0-4bc2-aa40-3a33f26f1c89",
   "metadata": {},
   "outputs": [
    {
     "data": {
      "text/plain": [
       "0.7673288131426269"
      ]
     },
     "execution_count": 151,
     "metadata": {},
     "output_type": "execute_result"
    }
   ],
   "source": [
    "# Calcualted the precision score after setting 'PartidoMorenaMx' as the positive label.\n",
    "cvec_rfc_gs_precision = precision_score(y_test, cvec_rfc_gs_preds, labels='PartidoMorenaMx', average='macro')\n",
    "cvec_rfc_gs_precision"
   ]
  },
  {
   "cell_type": "code",
   "execution_count": 152,
   "id": "94c810fa-dd06-48b5-aec4-44efefc10656",
   "metadata": {},
   "outputs": [
    {
     "data": {
      "text/plain": [
       "0.7026427105226406"
      ]
     },
     "execution_count": 152,
     "metadata": {},
     "output_type": "execute_result"
    }
   ],
   "source": [
    "# Calcualted the recall score after setting 'PartidoMorenaMx' as the positive label.\n",
    "cvec_rfc_gs_recall = recall_score(y_test, cvec_rfc_gs_preds, labels='PartidoMorenaMx', average='macro')\n",
    "cvec_rfc_gs_recall"
   ]
  },
  {
   "cell_type": "code",
   "execution_count": 153,
   "id": "c2826b43-3637-4b60-9c37-3f969207858a",
   "metadata": {},
   "outputs": [
    {
     "data": {
      "text/plain": [
       "0.7115773317434598"
      ]
     },
     "execution_count": 153,
     "metadata": {},
     "output_type": "execute_result"
    }
   ],
   "source": [
    "# Calcualted the f1 score after setting 'PartidoMorenaMx' as the positive label.\n",
    "cvec_rfc_gs_f1 = f1_score(y_test, cvec_rfc_gs_preds, labels='PartidoMorenaMx', average='macro')\n",
    "cvec_rfc_gs_f1"
   ]
  },
  {
   "cell_type": "code",
   "execution_count": 154,
   "id": "773a141f-c72a-4f49-9507-9dd292c566a5",
   "metadata": {},
   "outputs": [
    {
     "data": {
      "text/plain": [
       "{'countvectorizer__ngram_range': (1, 1),\n",
       " 'countvectorizer__stop_words': None,\n",
       " 'countvectorizer__tokenizer': None,\n",
       " 'randomforestclassifier__max_depth': 15,\n",
       " 'randomforestclassifier__max_features': 1000,\n",
       " 'randomforestclassifier__min_samples_split': 4,\n",
       " 'randomforestclassifier__n_estimators': 100}"
      ]
     },
     "execution_count": 154,
     "metadata": {},
     "output_type": "execute_result"
    }
   ],
   "source": [
    "# Looked at the hyperparameters identified as best by the GridSearchCV.\n",
    "cvec_rfc_gs.best_params_"
   ]
  },
  {
   "cell_type": "markdown",
   "id": "a86d97c6-a27a-4cac-82f4-ae54a57dc258",
   "metadata": {
    "jp-MarkdownHeadingCollapsed": true,
    "tags": []
   },
   "source": [
    "### CountVectorizer + GradientBoostingClassifier"
   ]
  },
  {
   "cell_type": "code",
   "execution_count": 155,
   "id": "5a7e2dfd-b438-4fe5-87ff-891f299511e0",
   "metadata": {},
   "outputs": [
    {
     "data": {
      "text/plain": [
       "{'memory': None,\n",
       " 'steps': [('countvectorizer', CountVectorizer()),\n",
       "  ('gradientboostingclassifier', GradientBoostingClassifier())],\n",
       " 'verbose': False,\n",
       " 'countvectorizer': CountVectorizer(),\n",
       " 'gradientboostingclassifier': GradientBoostingClassifier(),\n",
       " 'countvectorizer__analyzer': 'word',\n",
       " 'countvectorizer__binary': False,\n",
       " 'countvectorizer__decode_error': 'strict',\n",
       " 'countvectorizer__dtype': numpy.int64,\n",
       " 'countvectorizer__encoding': 'utf-8',\n",
       " 'countvectorizer__input': 'content',\n",
       " 'countvectorizer__lowercase': True,\n",
       " 'countvectorizer__max_df': 1.0,\n",
       " 'countvectorizer__max_features': None,\n",
       " 'countvectorizer__min_df': 1,\n",
       " 'countvectorizer__ngram_range': (1, 1),\n",
       " 'countvectorizer__preprocessor': None,\n",
       " 'countvectorizer__stop_words': None,\n",
       " 'countvectorizer__strip_accents': None,\n",
       " 'countvectorizer__token_pattern': '(?u)\\\\b\\\\w\\\\w+\\\\b',\n",
       " 'countvectorizer__tokenizer': None,\n",
       " 'countvectorizer__vocabulary': None,\n",
       " 'gradientboostingclassifier__ccp_alpha': 0.0,\n",
       " 'gradientboostingclassifier__criterion': 'friedman_mse',\n",
       " 'gradientboostingclassifier__init': None,\n",
       " 'gradientboostingclassifier__learning_rate': 0.1,\n",
       " 'gradientboostingclassifier__loss': 'deviance',\n",
       " 'gradientboostingclassifier__max_depth': 3,\n",
       " 'gradientboostingclassifier__max_features': None,\n",
       " 'gradientboostingclassifier__max_leaf_nodes': None,\n",
       " 'gradientboostingclassifier__min_impurity_decrease': 0.0,\n",
       " 'gradientboostingclassifier__min_samples_leaf': 1,\n",
       " 'gradientboostingclassifier__min_samples_split': 2,\n",
       " 'gradientboostingclassifier__min_weight_fraction_leaf': 0.0,\n",
       " 'gradientboostingclassifier__n_estimators': 100,\n",
       " 'gradientboostingclassifier__n_iter_no_change': None,\n",
       " 'gradientboostingclassifier__random_state': None,\n",
       " 'gradientboostingclassifier__subsample': 1.0,\n",
       " 'gradientboostingclassifier__tol': 0.0001,\n",
       " 'gradientboostingclassifier__validation_fraction': 0.1,\n",
       " 'gradientboostingclassifier__verbose': 0,\n",
       " 'gradientboostingclassifier__warm_start': False}"
      ]
     },
     "execution_count": 155,
     "metadata": {},
     "output_type": "execute_result"
    }
   ],
   "source": [
    "# Created a pipeline object with a CountVectorizer transformer and Gradient Boosting Classifier.  Proceeded to get a list of all available hyperparameters using the .get_params() method.\n",
    "cvec_gbc_pipe = make_pipeline(CountVectorizer(), GradientBoostingClassifier())\n",
    "cvec_gbc_pipe.get_params()"
   ]
  },
  {
   "cell_type": "code",
   "execution_count": 204,
   "id": "525be67c-b449-4ce1-8c21-15889c2f66a7",
   "metadata": {},
   "outputs": [],
   "source": [
    "# Created a dictionary of hyperparameter ranges that I would then perform a RandomizedSearchCV over.\n",
    "cvec_gbc_params = {\n",
    "    'countvectorizer__ngram_range': [(1, 1), (2, 2), (3, 3)],\n",
    "    'countvectorizer__stop_words': [None, frozenset(spanish)],\n",
    "    'countvectorizer__tokenizer': [None, stemming_tokenizer],\n",
    "    'gradientboostingclassifier__max_depth': [None, 5, 10, 15, 20],\n",
    "    'gradientboostingclassifier__max_features': [None, 1_000, 2_000],\n",
    "    'gradientboostingclassifier__min_samples_split': [2, 3, 4],\n",
    "    'gradientboostingclassifier__n_estimators': [100, 150, 200]\n",
    "}"
   ]
  },
  {
   "cell_type": "markdown",
   "id": "01b9c4f1-50d6-4f68-8b24-101f1eeab8a2",
   "metadata": {},
   "source": [
    "**Hyperparameter Tuning using RandomizedSearchCV**"
   ]
  },
  {
   "cell_type": "code",
   "execution_count": 205,
   "id": "a687afb7-5d5f-4c47-85ba-80780fd98241",
   "metadata": {},
   "outputs": [],
   "source": [
    "# Created a RandomizedSerachCV object that contained the pipeline and the dictionary of hyperparameter ranges I had created and ensured that the jobs ran in parallel.\n",
    "cvec_gbc_rs = RandomizedSearchCV(cvec_gbc_pipe, param_distributions=cvec_gbc_params, n_jobs=-1)"
   ]
  },
  {
   "cell_type": "code",
   "execution_count": null,
   "id": "810f9937-b4b5-4a53-bc0f-19b51910f9fc",
   "metadata": {},
   "outputs": [],
   "source": [
    "# Fit this RandomizedSearchCV object on X_train and y_train before scoring both X_train, y_train and X_test, y_test.\n",
    "cvec_gbc_rs.fit(X_train, y_train)\n",
    "cvec_gbc_rs.score(X_train, y_train), cvec_gbc_rs.score(X_test, y_test)"
   ]
  },
  {
   "cell_type": "code",
   "execution_count": null,
   "id": "4a91e1da-0620-4608-85e7-fa022eb8f4ef",
   "metadata": {},
   "outputs": [],
   "source": [
    "# Looked at the hyperparameters identified as best by the RandomizedSearchCV.\n",
    "cvec_gbc_rs.best_params_"
   ]
  },
  {
   "cell_type": "code",
   "execution_count": null,
   "id": "d725af37-9e6f-4139-8483-17f80bce2a02",
   "metadata": {},
   "outputs": [],
   "source": [
    "# Proceeded to create a new parameter grid that continaed a narrow range around the results obtained from the RandomizedSearchCV.\n",
    "cvec_gbc_new_params = {\n",
    "    'countvectorizer__ngram_range': [(1, 1), (1, 2), (1, 3)],\n",
    "    'countvectorizer__stop_words': [None],\n",
    "    'countvectorizer__tokenizer': [lemma_tokenizer],\n",
    "    'gradientboostingclassifier__max_depth': [10],\n",
    "    'gradientboostingclassifier__max_features': [1_000],\n",
    "    'gradientboostingclassifier__min_samples_split': [3],\n",
    "    'gradientboostingclassifier__n_estimators': [100]\n",
    "}"
   ]
  },
  {
   "cell_type": "markdown",
   "id": "5a5e6140-df34-4065-b079-c6eb2c3e9aa6",
   "metadata": {},
   "source": [
    "**Hyperparameter Tuning using GridSearchCV**"
   ]
  },
  {
   "cell_type": "code",
   "execution_count": null,
   "id": "79d8294f-6100-439d-a832-af85bba4c1ac",
   "metadata": {},
   "outputs": [],
   "source": [
    "# Created a GridSerachCV object that contained the pipeline along with the revised dictionary of hyperparameter ranges that surrounded the hyperparameters identified as optimal by the RandomizedSearchCV and ensured that the jobs ran in parallel.\n",
    "cvec_gbc_gs = GridSearchCV(cvec_gbc_pipe, param_grid=cvec_gbc_new_params, n_jobs=-1)"
   ]
  },
  {
   "cell_type": "code",
   "execution_count": null,
   "id": "a9929626-4cb2-4cb6-981d-98fe0c165cfc",
   "metadata": {},
   "outputs": [],
   "source": [
    "# Fit this GridSearchCV object on X_train and y_train before scoring both X_train, y_train and X_test, y_test.\n",
    "cvec_gbc_gs.fit(X_train, y_train)\n",
    "cvec_gbc_gs.score(X_train, y_train), cvec_gbc_gs.score(X_test, y_test)"
   ]
  },
  {
   "cell_type": "code",
   "execution_count": null,
   "id": "dfc43d82-08a0-4c7e-9532-c6c51e3130e0",
   "metadata": {},
   "outputs": [],
   "source": [
    "# Utilized the fitted pipeline object to predict the target and saved the results under variable named \"cvec_gbc_gs_preds\".\n",
    "cvec_gbc_gs_preds = cvec_gbc_gs.predict(X_test)"
   ]
  },
  {
   "cell_type": "code",
   "execution_count": null,
   "id": "98b28490-a725-477f-a9ef-71833fd42cc7",
   "metadata": {},
   "outputs": [],
   "source": [
    "# Generated a ConfusionMatrixDisplay utilizing this GradientBoostingClassifier estimator.\n",
    "# Obtained guidance with size from: https://stackoverflow.com/questions/66483409/adjust-size-of-confusionmatrixdisplay-scikitlearn\n",
    "\n",
    "fig, ax = plt.subplots(figsize=(15, 15))\n",
    "ConfusionMatrixDisplay.from_estimator(cvec_gbc_gs, X_test, y_test, ax=ax);"
   ]
  },
  {
   "cell_type": "code",
   "execution_count": null,
   "id": "a51c8afd-2654-4a77-8fd5-faa2fec90d30",
   "metadata": {},
   "outputs": [],
   "source": [
    "# Calcualted the precision score after setting 'PartidoMorenaMx' as the positive label.\n",
    "cvec_gbc_gs_precision = precision_score(y_test, cvec_gbc_gs_preds, labels='PartidoMorenaMx', average='macro')\n",
    "cvec_gbc_gs_precision"
   ]
  },
  {
   "cell_type": "code",
   "execution_count": null,
   "id": "4c7f8ae4-a2cd-434c-a776-34a88d6c1c5a",
   "metadata": {},
   "outputs": [],
   "source": [
    "# Calcualted the recall score after setting 'PartidoMorenaMx' as the positive label.\n",
    "cvec_gbc_gs_recall = recall_score(y_test, cvec_gbc_gs_preds, labels='PartidoMorenaMx', average='macro')\n",
    "cvec_gbc_gs_recall"
   ]
  },
  {
   "cell_type": "code",
   "execution_count": null,
   "id": "52da7230-e7fa-46a2-8ae8-36fa0b159362",
   "metadata": {},
   "outputs": [],
   "source": [
    "# Calcualted the f1 score after setting 'PartidoMorenaMx' as the positive label.\n",
    "cvec_gbc_gs_f1 = f1_score(y_test, cvec_gbc_gs_preds, labels='PartidoMorenaMx', average='macro')\n",
    "cvec_gbc_gs_f1"
   ]
  },
  {
   "cell_type": "code",
   "execution_count": null,
   "id": "d4a6d8eb-b719-49ef-b4d9-28b624caba1a",
   "metadata": {},
   "outputs": [],
   "source": [
    "# Looked at the hyperparameters identified as best by the GridSearchCV.\n",
    "cvec_gbc_gs.best_params_"
   ]
  },
  {
   "cell_type": "markdown",
   "id": "7186303e-dd36-4141-947a-01efe9867564",
   "metadata": {},
   "source": [
    "## **CountVectorizer with Spanish + Party and Politican Stop Words**"
   ]
  },
  {
   "cell_type": "markdown",
   "id": "8464474e-b721-4fa6-af56-b3bccaf539b2",
   "metadata": {},
   "source": [
    "### CountVectorizer + Logistic Regression"
   ]
  },
  {
   "cell_type": "code",
   "execution_count": 19,
   "id": "bd0e55c1-f5b3-44c6-8c83-2db91ea0137d",
   "metadata": {},
   "outputs": [
    {
     "data": {
      "text/plain": [
       "{'memory': None,\n",
       " 'steps': [('countvectorizer', CountVectorizer()),\n",
       "  ('logisticregression', LogisticRegression(max_iter=10000))],\n",
       " 'verbose': False,\n",
       " 'countvectorizer': CountVectorizer(),\n",
       " 'logisticregression': LogisticRegression(max_iter=10000),\n",
       " 'countvectorizer__analyzer': 'word',\n",
       " 'countvectorizer__binary': False,\n",
       " 'countvectorizer__decode_error': 'strict',\n",
       " 'countvectorizer__dtype': numpy.int64,\n",
       " 'countvectorizer__encoding': 'utf-8',\n",
       " 'countvectorizer__input': 'content',\n",
       " 'countvectorizer__lowercase': True,\n",
       " 'countvectorizer__max_df': 1.0,\n",
       " 'countvectorizer__max_features': None,\n",
       " 'countvectorizer__min_df': 1,\n",
       " 'countvectorizer__ngram_range': (1, 1),\n",
       " 'countvectorizer__preprocessor': None,\n",
       " 'countvectorizer__stop_words': None,\n",
       " 'countvectorizer__strip_accents': None,\n",
       " 'countvectorizer__token_pattern': '(?u)\\\\b\\\\w\\\\w+\\\\b',\n",
       " 'countvectorizer__tokenizer': None,\n",
       " 'countvectorizer__vocabulary': None,\n",
       " 'logisticregression__C': 1.0,\n",
       " 'logisticregression__class_weight': None,\n",
       " 'logisticregression__dual': False,\n",
       " 'logisticregression__fit_intercept': True,\n",
       " 'logisticregression__intercept_scaling': 1,\n",
       " 'logisticregression__l1_ratio': None,\n",
       " 'logisticregression__max_iter': 10000,\n",
       " 'logisticregression__multi_class': 'auto',\n",
       " 'logisticregression__n_jobs': None,\n",
       " 'logisticregression__penalty': 'l2',\n",
       " 'logisticregression__random_state': None,\n",
       " 'logisticregression__solver': 'lbfgs',\n",
       " 'logisticregression__tol': 0.0001,\n",
       " 'logisticregression__verbose': 0,\n",
       " 'logisticregression__warm_start': False}"
      ]
     },
     "execution_count": 19,
     "metadata": {},
     "output_type": "execute_result"
    }
   ],
   "source": [
    "# Created a pipeline object with a CountVectorizer transformer and Logistic Regression classifier with a max_iter of 10_000.  Proceeded to get a list of all available hyperparameters using the .get_params() method.\n",
    "cvec_logreg_pipe = make_pipeline(CountVectorizer(), LogisticRegression(max_iter=10_000))\n",
    "cvec_logreg_pipe.get_params()"
   ]
  },
  {
   "cell_type": "code",
   "execution_count": null,
   "id": "089533fa-4089-4b8a-8503-a8d011f56aa8",
   "metadata": {},
   "outputs": [],
   "source": [
    "# Created a dictionary of hyperparameter ranges that I would then perform a RandomizedSearchCV over.\n",
    "cvec_logreg_params = {\n",
    "    'countvectorizer__ngram_range': [(1, 1), (2, 2), (3, 3)],\n",
    "    'countvectorizer__stop_words': [frozenset(spanish_politics)],\n",
    "    'countvectorizer__tokenizer': [lemma_tokenizer, stemming_tokenizer], \n",
    "    'logisticregression__C': [1.0, .1],\n",
    "    'logisticregression__penalty': ['l1', 'l2', 'elasticnet'],\n",
    "    'logisticregression__solver': ['lbfgs', 'liblinear']\n",
    "}"
   ]
  },
  {
   "cell_type": "code",
   "execution_count": null,
   "id": "7ff40766-1ba7-43a1-841d-44aeb48cac26",
   "metadata": {},
   "outputs": [],
   "source": []
  },
  {
   "cell_type": "code",
   "execution_count": null,
   "id": "27d53a10-8015-4bf5-a8d8-e6d90bbfae69",
   "metadata": {},
   "outputs": [],
   "source": []
  },
  {
   "cell_type": "code",
   "execution_count": null,
   "id": "e423abdd-0df9-48c4-90d4-96c00b2b0684",
   "metadata": {},
   "outputs": [],
   "source": []
  },
  {
   "cell_type": "code",
   "execution_count": null,
   "id": "5141b54c-61ae-4426-9ea5-5c521b45aa2c",
   "metadata": {},
   "outputs": [],
   "source": []
  },
  {
   "cell_type": "code",
   "execution_count": null,
   "id": "cf8c0b65-1ab4-42f5-b6a8-b786670a4bd6",
   "metadata": {},
   "outputs": [],
   "source": []
  },
  {
   "cell_type": "code",
   "execution_count": null,
   "id": "91a2c260-2308-4877-8df4-ce2292af7f62",
   "metadata": {},
   "outputs": [],
   "source": []
  },
  {
   "cell_type": "code",
   "execution_count": null,
   "id": "8cc66c9a-65c0-42e3-9a01-97ddaff84536",
   "metadata": {},
   "outputs": [],
   "source": []
  },
  {
   "cell_type": "code",
   "execution_count": null,
   "id": "a7f2fbdb-12e9-4f6b-8e29-118f41347f16",
   "metadata": {},
   "outputs": [],
   "source": []
  },
  {
   "cell_type": "code",
   "execution_count": null,
   "id": "8ef280df-b53c-431a-a6f5-fd52f02b26a7",
   "metadata": {},
   "outputs": [],
   "source": []
  },
  {
   "cell_type": "code",
   "execution_count": null,
   "id": "e851a54d-50a0-4312-91db-18b5fa4a7168",
   "metadata": {},
   "outputs": [],
   "source": []
  },
  {
   "cell_type": "code",
   "execution_count": null,
   "id": "30d1962e-42f9-4424-aa5c-8095fceb67bc",
   "metadata": {},
   "outputs": [],
   "source": []
  },
  {
   "cell_type": "markdown",
   "id": "5e04c728-7077-4b6d-b55b-c65f66a87e23",
   "metadata": {
    "tags": []
   },
   "source": [
    "## **TfidfVectorizer**"
   ]
  },
  {
   "cell_type": "markdown",
   "id": "7d53e8eb-9803-4c00-b93f-d15793cca899",
   "metadata": {
    "tags": []
   },
   "source": [
    "### TfidfVectorizer + Logistic Regression"
   ]
  },
  {
   "cell_type": "code",
   "execution_count": null,
   "id": "3b8cac1c-271b-48db-a2c2-af3647542865",
   "metadata": {},
   "outputs": [],
   "source": [
    "# Created a pipeline object with a TfidfVectorizer transformer and Logistic Regression classifier with a max_iter of 10_000.  Proceeded to get a list of all available hyperparameters using the .get_params() method.\n",
    "tfidf_logreg_pipe = make_pipeline(TfidfVectorizer(), LogisticRegression(max_iter=10_000))\n",
    "tfidf_logreg_pipe.get_params()"
   ]
  },
  {
   "cell_type": "code",
   "execution_count": null,
   "id": "db408e8c-4c3e-492c-9868-15fe349c495f",
   "metadata": {},
   "outputs": [],
   "source": [
    "# Created a dictionary of hyperparameter ranges that I would then perform a RandomizedSearchCV over.\n",
    "tfidf_logreg_params = {\n",
    "    'tfidfvectorizer__max_df': [.9, .8],\n",
    "    'tfidfvectorizer__min_df': [.1, .2], \n",
    "    'tfidfvectorizer__ngram_range': [(1, 1), (2, 2), (3, 3)],\n",
    "    'tfidfvectorizer__stop_words': [None, frozenset(spanish)],\n",
    "    'tfidfvectorizer__tokenizer': [None, lemma_tokenizer, stemming_tokenizer],\n",
    "    'logisticregression__C': [1.0, .1],\n",
    "    'logisticregression__penalty': ['l1', 'l2', 'elasticnet'],\n",
    "    'logisticregression__solver': ['lbfgs', 'liblinear']\n",
    "}"
   ]
  },
  {
   "cell_type": "markdown",
   "id": "8ecff223-2906-4bac-8627-868301d82d6c",
   "metadata": {},
   "source": [
    "**Hyperparameter Tuning using RandomizedSearchCV**"
   ]
  },
  {
   "cell_type": "code",
   "execution_count": null,
   "id": "c3fd9898-bce8-4258-9a39-01e4d6bea7aa",
   "metadata": {},
   "outputs": [],
   "source": [
    "# Created a RandomizedSerachCV object that contained the pipeline and the dictionary of hyperparameter ranges I had created and ensured that the jobs ran in parallel.\n",
    "tfidf_logreg_rs = RandomizedSearchCV(tfidf_logreg_pipe, param_distributions=tfidf_logreg_params, n_jobs=-1)"
   ]
  },
  {
   "cell_type": "code",
   "execution_count": null,
   "id": "4754f4cf-a19e-400b-b087-9a561e1310e3",
   "metadata": {},
   "outputs": [],
   "source": [
    "# Fit this RandomizedSearchCV object on X_train and y_train before scoring both X_train, y_train and X_test, y_test.\n",
    "tfidf_logreg_rs.fit(X_train, y_train)\n",
    "tfidf_logreg_rs.score(X_train, y_train), tfidf_logreg_rs.score(X_test, y_test)"
   ]
  },
  {
   "cell_type": "code",
   "execution_count": null,
   "id": "0b0ea559-6a4f-4c87-8d2b-f8c832817391",
   "metadata": {},
   "outputs": [],
   "source": [
    "# Looked at the hyperparameters identified as best by the RandomizedSearchCV.\n",
    "tfidf_logreg_rs.best_params_"
   ]
  },
  {
   "cell_type": "code",
   "execution_count": null,
   "id": "ca347a07-7adb-4adf-af90-86c43000cd7a",
   "metadata": {},
   "outputs": [],
   "source": [
    "# Proceeded to create a new parameter grid that continaed a narrow range around the results obtained from the RandomizedSearchCV.\n",
    "tfidf_logreg_new_params = {\n",
    "    'tfidfvectorizer__max_df': [.9],\n",
    "    'tfidfvectorizer__min_df': [.2], \n",
    "    'tfidfvectorizer__ngram_range': [(1, 1), (1, 2), (1, 3)],\n",
    "    'tfidfvectorizer__stop_words': [None],\n",
    "    'tfidfvectorizer__tokenizer': [None],\n",
    "    'logisticregression__C': [.1, .2, .3],\n",
    "    'logisticregression__penalty': ['l2'],\n",
    "    'logisticregression__solver': ['lbfgs']\n",
    "}"
   ]
  },
  {
   "cell_type": "markdown",
   "id": "47eb3132-a357-43ea-a866-41ca63d60d38",
   "metadata": {},
   "source": [
    "**Hyperparameter Tuning using GridSearchCV**"
   ]
  },
  {
   "cell_type": "code",
   "execution_count": null,
   "id": "5449bfe1-6c15-4692-99ca-e1cbe7b699b3",
   "metadata": {},
   "outputs": [],
   "source": [
    "# Created a GridSerachCV object that contained the pipeline along with the revised dictionary of hyperparameter ranges that surrounded the hyperparameters identified as optimal by the RandomizedSearchCV and ensured that the jobs ran in parallel.\n",
    "tfidf_logreg_gs = GridSearchCV(tfidf_logreg_pipe, param_grid=tfidf_logreg_new_params, n_jobs=-1)"
   ]
  },
  {
   "cell_type": "code",
   "execution_count": null,
   "id": "37012497-5773-499d-958b-84c0c6ddf17c",
   "metadata": {},
   "outputs": [],
   "source": [
    "# Fit this GridSearchCV object on X_train and y_train before scoring both X_train, y_train and X_test, y_test.\n",
    "tfidf_logreg_gs.fit(X_train, y_train)\n",
    "tfidf_logreg_gs.score(X_train, y_train), tfidf_logreg_gs.score(X_test, y_test)"
   ]
  },
  {
   "cell_type": "code",
   "execution_count": null,
   "id": "af8fba04-813a-4c72-aaa4-0c4bc7a5b5de",
   "metadata": {},
   "outputs": [],
   "source": [
    "# Utilized the fitted pipeline object to predict the target and saved the results under variable named \"tfidf_logreg_gs_preds\".\n",
    "tfidf_logreg_gs_preds = tfidf_logreg_gs.predict(X_test)"
   ]
  },
  {
   "cell_type": "code",
   "execution_count": null,
   "id": "1bf0dfaf-206d-49a7-aad9-e93a92b609ab",
   "metadata": {},
   "outputs": [],
   "source": [
    "# Generated a ConfusionMatrixDisplay utilizing this Logistic Regression estimator.\n",
    "# Obtained guidance with size from: https://stackoverflow.com/questions/66483409/adjust-size-of-confusionmatrixdisplay-scikitlearn\n",
    "\n",
    "fig, ax = plt.subplots(figsize=(15, 15))\n",
    "ConfusionMatrixDisplay.from_estimator(tfidf_logreg_gs, X_test, y_test, ax=ax);"
   ]
  },
  {
   "cell_type": "code",
   "execution_count": null,
   "id": "67587255-1228-40bd-a86f-80680ece88e3",
   "metadata": {},
   "outputs": [],
   "source": [
    "# Calcualted the precision score after setting 'PartidoMorenaMx' as the positive label.\n",
    "tfidf_logreg_gs_precision = precision_score(y_test, tfidf_logreg_gs_preds, labels='PartidoMorenaMx', average='macro')\n",
    "tfidf_logreg_gs_precision"
   ]
  },
  {
   "cell_type": "code",
   "execution_count": null,
   "id": "9490c3ee-aee6-4973-8fa5-34b0648ee363",
   "metadata": {},
   "outputs": [],
   "source": [
    "# Calcualted the recall score after setting 'PartidoMorenaMx' as the positive label.\n",
    "tfidf_logreg_gs_recall = recall_score(y_test, tfidf_logreg_gs_preds, labels='PartidoMorenaMx', average='macro')\n",
    "tfidf_logreg_gs_recall"
   ]
  },
  {
   "cell_type": "code",
   "execution_count": null,
   "id": "f5f38a2d-04cd-4364-b489-176d3a82e424",
   "metadata": {},
   "outputs": [],
   "source": [
    "# Calcualted the f1 score after setting 'PartidoMorenaMx' as the positive label.\n",
    "tfidf_logreg_gs_f1 = f1_score(y_test, tfidf_logreg_gs_preds, labels='PartidoMorenaMx', average='macro')\n",
    "tfidf_logreg_gs_f1"
   ]
  },
  {
   "cell_type": "code",
   "execution_count": null,
   "id": "005ae48f-1bca-4ec8-8a9c-fb9f2ef31b5b",
   "metadata": {},
   "outputs": [],
   "source": [
    "# Looked at the hyperparameters identified as best by the GridSearchCV.\n",
    "tfidf_logreg_gs.best_params_"
   ]
  },
  {
   "cell_type": "markdown",
   "id": "1b84e431-1eaa-48ef-a64f-e0b5374630b4",
   "metadata": {
    "jp-MarkdownHeadingCollapsed": true,
    "tags": []
   },
   "source": [
    "### TfidfVectorizer + KNeighborsClassifier"
   ]
  },
  {
   "cell_type": "code",
   "execution_count": null,
   "id": "af657f19-d338-4b30-a73d-e23c6ef8c80c",
   "metadata": {},
   "outputs": [],
   "source": [
    "# Created a pipeline object with a TfidfVectorizer transformer and KNeighbors Classifier.  Proceeded to get a list of all available hyperparameters using the .get_params() method.\n",
    "tfidf_knn_pipe = make_pipeline(TfidfVectorizer(), KNeighborsClassifier())\n",
    "tfidf_knn_pipe.get_params()"
   ]
  },
  {
   "cell_type": "code",
   "execution_count": null,
   "id": "37993349-db37-44c5-bb8b-77cce1b01d9f",
   "metadata": {},
   "outputs": [],
   "source": [
    "# Created a dictionary of hyperparameter ranges that I would then perform a RandomizedSearchCV over.\n",
    "tfidf_knn_params = {\n",
    "    'tfidfvectorizer__max_df': [.9, .8, .7],\n",
    "    'tfidfvectorizer__min_df': [.1, .3, .5], \n",
    "    'tfidfvectorizer__ngram_range': [(1,1), (2, 2), (3, 3)],\n",
    "    'tfidfvectorizer__stop_words': [None, 'english'],\n",
    "    'tfidfvectorizer__tokenizer': [None, lemma_tokenizer, stemming_tokenizer],\n",
    "    'kneighborsclassifier__n_neighbors': [2, 5, 10]\n",
    "}"
   ]
  },
  {
   "cell_type": "markdown",
   "id": "120358aa-bd16-4b2d-b475-35d0458c8681",
   "metadata": {},
   "source": [
    "**Hyperparameter Tuning using RandomizedSearchCV**"
   ]
  },
  {
   "cell_type": "code",
   "execution_count": null,
   "id": "96fa2c71-3b0c-4c2f-9f53-68139603fa46",
   "metadata": {},
   "outputs": [],
   "source": [
    "# Created a RandomizedSerachCV object that contained the pipeline and the dictionary of hyperparameter ranges I had created and ensured that the jobs ran in parallel.\n",
    "tfidf_knn_rs = RandomizedSearchCV(tfidf_knn_pipe, param_distributions=tfidf_knn_params, n_jobs=-1)"
   ]
  },
  {
   "cell_type": "code",
   "execution_count": null,
   "id": "5c35c9a4-2869-431c-a6df-53e5a15523d5",
   "metadata": {},
   "outputs": [],
   "source": [
    "# Fit this RandomizedSearchCV object on X_train and y_train before scoring both X_train, y_train and X_test, y_test.\n",
    "tfidf_knn_rs.fit(X_train, y_train)\n",
    "tfidf_knn_rs.score(X_train, y_train), tfidf_knn_rs.score(X_test, y_test)"
   ]
  },
  {
   "cell_type": "code",
   "execution_count": null,
   "id": "62012340-971f-4fc5-957f-9fdd504a0b49",
   "metadata": {},
   "outputs": [],
   "source": [
    "# Looked at the hyperparameters identified as best by the RandomizedSearchCV.\n",
    "tfidf_knn_rs.best_params_"
   ]
  },
  {
   "cell_type": "code",
   "execution_count": null,
   "id": "ac2e5038-ccf2-4ffb-9e8a-de78dbc65bed",
   "metadata": {},
   "outputs": [],
   "source": [
    "# Proceeded to create a new parameter grid that continaed a narrow range around the results obtained from the RandomizedSearchCV.\n",
    "tfidf_knn_new_params = {\n",
    "    'tfidfvectorizer__max_df': [.7],\n",
    "    'tfidfvectorizer__min_df': [.1], \n",
    "    'tfidfvectorizer__ngram_range': [(1, 1), (1, 2), (1, 3)],\n",
    "    'tfidfvectorizer__stop_words': ['english'],\n",
    "    'tfidfvectorizer__tokenizer': [stemming_tokenizer],\n",
    "    'kneighborsclassifier__n_neighbors': [2, 3, 4]\n",
    "}"
   ]
  },
  {
   "cell_type": "markdown",
   "id": "f590176c-e79a-45e9-8081-6a7cf0f15fc9",
   "metadata": {},
   "source": [
    "**Hyperparameter Tuning using GridSearchCV**"
   ]
  },
  {
   "cell_type": "code",
   "execution_count": null,
   "id": "ddc747e5-e86c-4223-b99d-d1cb66b44342",
   "metadata": {},
   "outputs": [],
   "source": [
    "# Created a GridSerachCV object that contained the pipeline along with the revised dictionary of hyperparameter ranges that surrounded the hyperparameters identified as optimal by the RandomizedSearchCV and ensured that the jobs ran in parallel.\n",
    "tfidf_knn_gs = GridSearchCV(tfidf_knn_pipe, param_grid=tfidf_knn_new_params, n_jobs=-1)"
   ]
  },
  {
   "cell_type": "code",
   "execution_count": null,
   "id": "49be93dc-e745-4631-8019-0a9a69bb43f1",
   "metadata": {},
   "outputs": [],
   "source": [
    "# Fit this GridSearchCV object on X_train and y_train before scoring both X_train, y_train and X_test, y_test.\n",
    "tfidf_knn_gs.fit(X_train, y_train)\n",
    "tfidf_knn_gs.score(X_train, y_train), tfidf_knn_gs.score(X_test, y_test)"
   ]
  },
  {
   "cell_type": "code",
   "execution_count": null,
   "id": "a5024703-4cb1-4795-bad0-accc749dd197",
   "metadata": {},
   "outputs": [],
   "source": [
    "# Utilized the fitted pipeline object to predict the target and saved the results under variable named \"tfidf_knn_gs_preds\".\n",
    "tfidf_knn_gs_preds = tfidf_knn_gs.predict(X_test)"
   ]
  },
  {
   "cell_type": "code",
   "execution_count": null,
   "id": "83cd8ebb-eb16-4198-a3c2-63dcb17ef72d",
   "metadata": {},
   "outputs": [],
   "source": [
    "# Generated a ConfusionMatrixDisplay utilizing this KNeighborsClassifier estimator.\n",
    "# Obtained guidance with size from: https://stackoverflow.com/questions/66483409/adjust-size-of-confusionmatrixdisplay-scikitlearn\n",
    "\n",
    "fig, ax = plt.subplots(figsize=(15, 15))\n",
    "ConfusionMatrixDisplay.from_estimator(tfidf_knn_gs, X_test, y_test, ax=ax);"
   ]
  },
  {
   "cell_type": "code",
   "execution_count": null,
   "id": "e75997a3-4c9b-459f-85d2-eb684ad38f56",
   "metadata": {},
   "outputs": [],
   "source": [
    "# Calcualted the precision score after setting 'PartidoMorenaMx' as the positive label.\n",
    "tfidf_knn_gs_precision = precision_score(y_test, tfidf_knn_gs_preds, labels='PartidoMorenaMx', average='macro')\n",
    "tfidf_knn_gs_precision"
   ]
  },
  {
   "cell_type": "code",
   "execution_count": null,
   "id": "5a8d3e83-cfde-4b3f-baa7-fc5130f4e1e7",
   "metadata": {},
   "outputs": [],
   "source": [
    "# Calcualted the recall score after setting 'PartidoMorenaMx' as the positive label.\n",
    "tfidf_knn_gs_recall = recall_score(y_test, tfidf_knn_gs_preds, labels='PartidoMorenaMx', average='macro')\n",
    "tfidf_knn_gs_recall"
   ]
  },
  {
   "cell_type": "code",
   "execution_count": null,
   "id": "c16ab6db-4210-40d0-a544-314598408216",
   "metadata": {},
   "outputs": [],
   "source": [
    "# Calcualted the f1 score after setting 'PartidoMorenaMx' as the positive label.\n",
    "tfidf_knn_gs_f1 = f1_score(y_test, tfidf_knn_gs_preds, labels='PartidoMorenaMx', average='macro')\n",
    "tfidf_knn_gs_f1"
   ]
  },
  {
   "cell_type": "code",
   "execution_count": null,
   "id": "2965ec01-83b0-4b76-8858-dd1cb825912f",
   "metadata": {},
   "outputs": [],
   "source": [
    "# Looked at the hyperparameters identified as best by the GridSearchCV.\n",
    "tfidf_knn_gs.best_params_"
   ]
  },
  {
   "cell_type": "markdown",
   "id": "a26aee77-4381-415d-8f6a-2fd43aa5cf9c",
   "metadata": {
    "jp-MarkdownHeadingCollapsed": true,
    "tags": []
   },
   "source": [
    "### TfidfVectorizer + SVC"
   ]
  },
  {
   "cell_type": "code",
   "execution_count": null,
   "id": "7ae3fc07-bb30-4884-bd32-e773ea19e855",
   "metadata": {},
   "outputs": [],
   "source": [
    "# Created a pipeline object with a TfidfVectorizer transformer and Support Vector Classifier.  Proceeded to get a list of all available hyperparameters using the .get_params() method.\n",
    "tfidf_svc_pipe = make_pipeline(TfidfVectorizer(), SVC())\n",
    "tfidf_svc_pipe.get_params()"
   ]
  },
  {
   "cell_type": "code",
   "execution_count": null,
   "id": "034694fc-3d6d-4439-bea0-07127f8e7290",
   "metadata": {},
   "outputs": [],
   "source": [
    "# Created a dictionary of hyperparameter ranges that I would then perform a RandomizedSearchCV over.\n",
    "tfidf_svc_params = {\n",
    "    'tfidfvectorizer__max_df': [.9, .8, .7],\n",
    "    'tfidfvectorizer__min_df': [.1, .3, .5], \n",
    "    'tfidfvectorizer__ngram_range': [(1, 1), (2, 2), (3, 3)],\n",
    "    'tfidfvectorizer__stop_words': [None, 'english'],\n",
    "    'tfidfvectorizer__tokenizer': [None, lemma_tokenizer, stemming_tokenizer],\n",
    "    'svc__C': [1.0, .1]\n",
    "}"
   ]
  },
  {
   "cell_type": "markdown",
   "id": "934007b3-ea3a-4637-a3b0-4634f863bafe",
   "metadata": {},
   "source": [
    "**Hyperparameter Tuning using RandomizedSearchCV**"
   ]
  },
  {
   "cell_type": "code",
   "execution_count": null,
   "id": "affc67b4-3218-4cc4-bc43-f3e8ab2f0c7e",
   "metadata": {},
   "outputs": [],
   "source": [
    "# Created a RandomizedSerachCV object that contained the pipeline and the dictionary of hyperparameter ranges I had created and ensured that the jobs ran in parallel.\n",
    "tfidf_svc_rs = RandomizedSearchCV(tfidf_svc_pipe, param_distributions=tfidf_svc_params, n_jobs=-1)"
   ]
  },
  {
   "cell_type": "code",
   "execution_count": null,
   "id": "fcee73c2-c65d-4a33-8397-dce3e0f135fd",
   "metadata": {},
   "outputs": [],
   "source": [
    "# Fit this RandomizedSearchCV object on X_train and y_train before scoring both X_train, y_train and X_test, y_test.\n",
    "tfidf_svc_rs.fit(X_train, y_train)\n",
    "tfidf_svc_rs.score(X_train, y_train), tfidf_svc_rs.score(X_test, y_test)"
   ]
  },
  {
   "cell_type": "code",
   "execution_count": null,
   "id": "1537e2f3-ccbc-430e-a618-42a49514615b",
   "metadata": {},
   "outputs": [],
   "source": [
    "# Looked at the hyperparameters identified as best by the RandomizedSearchCV.\n",
    "tfidf_svc_rs.best_params_"
   ]
  },
  {
   "cell_type": "code",
   "execution_count": null,
   "id": "bb94151a-a726-4f5e-9a6b-c48beef53ca2",
   "metadata": {},
   "outputs": [],
   "source": [
    "# Proceeded to create a new parameter grid that continaed a narrow range around the results obtained from the RandomizedSearchCV.\n",
    "tfidf_svc_new_params = {\n",
    "    'tfidfvectorizer__max_df': [.7, .8, .9],\n",
    "    'tfidfvectorizer__min_df': [.1, .2, .3], \n",
    "    'tfidfvectorizer__ngram_range': [(1, 1), (1, 2), (1, 3)],\n",
    "    'tfidfvectorizer__stop_words': ['english'],\n",
    "    'tfidfvectorizer__tokenizer': [None],\n",
    "    'svc__C': [.1, .2, .3]\n",
    "}"
   ]
  },
  {
   "cell_type": "markdown",
   "id": "81113195-ce6f-4e1d-bd81-d1458ff66da7",
   "metadata": {},
   "source": [
    "**Hyperparameter Tuning using GridSearchCV**"
   ]
  },
  {
   "cell_type": "code",
   "execution_count": null,
   "id": "e723093f-665a-44e6-a35a-e49275766e64",
   "metadata": {},
   "outputs": [],
   "source": [
    "# Created a GridSerachCV object that contained the pipeline along with the revised dictionary of hyperparameter ranges that surrounded the hyperparameters identified as optimal by the RandomizedSearchCV and ensured that the jobs ran in parallel.\n",
    "tfidf_svc_gs = GridSearchCV(tfidf_svc_pipe, param_grid=tfidf_svc_new_params, n_jobs=-1)"
   ]
  },
  {
   "cell_type": "code",
   "execution_count": null,
   "id": "bb81c651-7fd5-4e76-9e12-edb4b5ab68a1",
   "metadata": {},
   "outputs": [],
   "source": [
    "# Fit this GridSearchCV object on X_train and y_train before scoring both X_train, y_train and X_test, y_test.\n",
    "tfidf_svc_gs.fit(X_train, y_train)\n",
    "tfidf_svc_gs.score(X_train, y_train), tfidf_svc_gs.score(X_test, y_test)"
   ]
  },
  {
   "cell_type": "code",
   "execution_count": null,
   "id": "ed47671d-9b75-4590-8349-dd1fd97a713d",
   "metadata": {},
   "outputs": [],
   "source": [
    "# Utilized the fitted pipeline object to predict the target and saved the results under variable named \"tfidf_svc_gs_preds\".\n",
    "tfidf_svc_gs_preds = tfidf_svc_gs.predict(X_test)"
   ]
  },
  {
   "cell_type": "code",
   "execution_count": null,
   "id": "0a5cecaa-d51b-414e-9bf3-634fab5dcdff",
   "metadata": {},
   "outputs": [],
   "source": [
    "# Generated a ConfusionMatrixDisplay utilizing this SVC estimator.\n",
    "# Obtained guidance with size from: https://stackoverflow.com/questions/66483409/adjust-size-of-confusionmatrixdisplay-scikitlearn\n",
    "\n",
    "fig, ax = plt.subplots(figsize=(15, 15))\n",
    "ConfusionMatrixDisplay.from_estimator(tfidf_svc_gs, X_test, y_test, ax=ax);"
   ]
  },
  {
   "cell_type": "code",
   "execution_count": null,
   "id": "407e7dc2-f42d-4487-931a-789a81b49d47",
   "metadata": {},
   "outputs": [],
   "source": [
    "# Calcualted the precision score after setting 'PartidoMorenaMx' as the positive label.\n",
    "tfidf_svc_gs_precision = precision_score(y_test, tfidf_svc_gs_preds, labels='PartidoMorenaMx', average='macro')\n",
    "tfidf_svc_gs_precision"
   ]
  },
  {
   "cell_type": "code",
   "execution_count": null,
   "id": "d07de6b5-00e6-4198-abce-68080e7d02ef",
   "metadata": {},
   "outputs": [],
   "source": [
    "# Calcualted the recall score after setting 'PartidoMorenaMx' as the positive label.\n",
    "tfidf_svc_gs_recall = recall_score(y_test, tfidf_svc_gs_preds, labels='PartidoMorenaMx', average='macro')\n",
    "tfidf_svc_gs_recall"
   ]
  },
  {
   "cell_type": "code",
   "execution_count": null,
   "id": "c975878b-abfa-4cbf-a302-16e645b79ad6",
   "metadata": {},
   "outputs": [],
   "source": [
    "# Calcualted the f1 score after setting 'PartidoMorenaMx' as the positive label.\n",
    "tfidf_svc_gs_f1 = f1_score(y_test, tfidf_svc_gs_preds, labels='PartidoMorenaMx', average='macro')\n",
    "tfidf_svc_gs_f1"
   ]
  },
  {
   "cell_type": "code",
   "execution_count": null,
   "id": "99eaeb90-f215-45b7-b8b7-b905a832ab79",
   "metadata": {},
   "outputs": [],
   "source": [
    "# Looked at the hyperparameters identified as best by the GridSearchCV.\n",
    "tfidf_svc_gs.best_params_"
   ]
  },
  {
   "cell_type": "markdown",
   "id": "2b76069c-71f0-411b-8e5e-9ede6641148c",
   "metadata": {
    "jp-MarkdownHeadingCollapsed": true,
    "tags": []
   },
   "source": [
    "### TfidfVectorizer + GaussianNB"
   ]
  },
  {
   "cell_type": "code",
   "execution_count": null,
   "id": "e594e0df-1130-4b11-b5be-ed462c5a5b4f",
   "metadata": {},
   "outputs": [],
   "source": [
    "# Instantiated an object of the GaussianNB class.\n",
    "tfidf_gnb = GaussianNB()"
   ]
  },
  {
   "cell_type": "code",
   "execution_count": null,
   "id": "88f0b477-5e95-4949-bd0e-26030ddc7fae",
   "metadata": {},
   "outputs": [],
   "source": [
    "# Fit the GaussianNB object on the array version of the TFIDF-vectorized titles (X_train) and y_train before scoring on both the X_train array/y_train and X_test array/y_test. \n",
    "tfidf_gnb.fit(X_train_tfidf_vec.A, y_train)\n",
    "tfidf_gnb.score(X_train_tfidf_vec.A, y_train), tfidf_gnb.score(X_test_tfidf_vec.A, y_test)"
   ]
  },
  {
   "cell_type": "code",
   "execution_count": null,
   "id": "d90ab406-9438-48a6-9cf1-22f988df0306",
   "metadata": {},
   "outputs": [],
   "source": [
    "# Utilized the fitted GaussianNB object to predict the target and saved the results under variable named \"tfidf_gnb_preds\".\n",
    "tfidf_gnb_preds = tfidf_gnb.predict(X_test_tfidf_vec.A)"
   ]
  },
  {
   "cell_type": "code",
   "execution_count": null,
   "id": "a3eef895-6d12-4f85-bc0c-a66f3e9ed20a",
   "metadata": {},
   "outputs": [],
   "source": [
    "# Generated a ConfusionMatrixDisplay utilizing this GaussianNB estimator.\n",
    "# Obtained guidance with size from: https://stackoverflow.com/questions/66483409/adjust-size-of-confusionmatrixdisplay-scikitlearn\n",
    "\n",
    "fig, ax = plt.subplots(figsize=(15, 15))\n",
    "ConfusionMatrixDisplay.from_estimator(tfidf_gnb, X_test_tfidf_vec.A, y_test, ax=ax);"
   ]
  },
  {
   "cell_type": "code",
   "execution_count": null,
   "id": "ffba1d6a-ef0a-4111-9510-2a1648c5461c",
   "metadata": {},
   "outputs": [],
   "source": [
    "# Calcualted the precision score after setting 'PartidoMorenaMx' as the positive label.\n",
    "tfidf_gnb_precision = precision_score(y_test, tfidf_gnb_preds, labels='PartidoMorenaMx', average='macro')\n",
    "tfidf_gnb_precision"
   ]
  },
  {
   "cell_type": "code",
   "execution_count": null,
   "id": "eb337959-a256-4846-94cf-902dc739e72c",
   "metadata": {},
   "outputs": [],
   "source": [
    "# Calcualted the recall score after setting 'PartidoMorenaMx' as the positive label.\n",
    "tfidf_gnb_recall = recall_score(y_test, tfidf_gnb_preds, labels='PartidoMorenaMx', average='macro')\n",
    "tfidf_gnb_recall"
   ]
  },
  {
   "cell_type": "code",
   "execution_count": null,
   "id": "8a793446-ca0c-4c1c-b5e8-7c4a7e2e965b",
   "metadata": {},
   "outputs": [],
   "source": [
    "# Calcualted the f1 score after setting 'PartidoMorenaMx' as the positive label.\n",
    "tfidf_gnb_f1 = f1_score(y_test, tfidf_gnb_preds, labels='PartidoMorenaMx', average='macro')\n",
    "tfidf_gnb_f1"
   ]
  },
  {
   "cell_type": "markdown",
   "id": "c5ce10eb-af38-45a2-a720-9acb81c9f88f",
   "metadata": {
    "jp-MarkdownHeadingCollapsed": true,
    "tags": []
   },
   "source": [
    "### TfidfVectorizer + DecisionTreeClassifier"
   ]
  },
  {
   "cell_type": "code",
   "execution_count": null,
   "id": "382f3fed-b9e5-4dfd-81fb-619da83e309d",
   "metadata": {},
   "outputs": [],
   "source": [
    "# Created a pipeline object with a TfidfVectorizer transformer and Decision Tree Classifier.  Proceeded to get a list of all available hyperparameters using the .get_params() method.\n",
    "tfidf_dtc_pipe = make_pipeline(TfidfVectorizer(), DecisionTreeClassifier())\n",
    "tfidf_dtc_pipe.get_params()"
   ]
  },
  {
   "cell_type": "code",
   "execution_count": null,
   "id": "b1a70f0e-f2f2-49e9-8baa-7acbc47e760d",
   "metadata": {},
   "outputs": [],
   "source": [
    "# Created a dictionary of hyperparameter ranges that I would then perform a RandomizedSearchCV over.\n",
    "tfidf_dtc_params = {\n",
    "    'tfidfvectorizer__max_df': [.9, .8],\n",
    "    'tfidfvectorizer__min_df': [.1, .2], \n",
    "    'tfidfvectorizer__ngram_range': [(1, 1), (2, 2), (3, 3)],\n",
    "    'tfidfvectorizer__stop_words': [None, 'english'],\n",
    "    'tfidfvectorizer__tokenizer': [None, lemma_tokenizer, stemming_tokenizer],\n",
    "    'decisiontreeclassifier__max_depth': [None, 5, 10, 15, 20],\n",
    "    'decisiontreeclassifier__max_features': [None, 1_000, 2_000],\n",
    "    'decisiontreeclassifier__min_samples_split': [None, 2, 5]\n",
    "}"
   ]
  },
  {
   "cell_type": "markdown",
   "id": "e056e36b-d148-4885-b0f2-ceb4fb14b22a",
   "metadata": {},
   "source": [
    "**Hyperparameter Tuning using RandomizedSearchCV**"
   ]
  },
  {
   "cell_type": "code",
   "execution_count": null,
   "id": "bedc9f2e-2771-4157-b748-a622db186af8",
   "metadata": {},
   "outputs": [],
   "source": [
    "# Created a RandomizedSerachCV object that contained the pipeline and the dictionary of hyperparameter ranges I had created and ensured that the jobs ran in parallel.\n",
    "tfidf_dtc_rs = RandomizedSearchCV(tfidf_dtc_pipe, param_distributions=tfidf_dtc_params, n_jobs=-1)"
   ]
  },
  {
   "cell_type": "code",
   "execution_count": null,
   "id": "518e7442-7574-43d0-9361-dbec1a265c83",
   "metadata": {},
   "outputs": [],
   "source": [
    "# Fit this RandomizedSearchCV object on X_train and y_train before scoring both X_train, y_train and X_test, y_test.\n",
    "tfidf_dtc_rs.fit(X_train, y_train)\n",
    "tfidf_dtc_rs.score(X_train, y_train), tfidf_dtc_rs.score(X_test, y_test)"
   ]
  },
  {
   "cell_type": "code",
   "execution_count": null,
   "id": "fbece954-47e4-46e0-95d4-577387c60ed0",
   "metadata": {},
   "outputs": [],
   "source": [
    "# Looked at the hyperparameters identified as best by the RandomizedSearchCV.\n",
    "tfidf_dtc_rs.best_params_"
   ]
  },
  {
   "cell_type": "code",
   "execution_count": null,
   "id": "196bad1b-dfff-4ed0-92f5-8c1d6db4682c",
   "metadata": {},
   "outputs": [],
   "source": [
    "# Proceeded to create a new parameter grid that continaed a narrow range around the results obtained from the RandomizedSearchCV.\n",
    "tfidf_dtc_new_params = {\n",
    "    'tfidfvectorizer__max_df': [.9],\n",
    "    'tfidfvectorizer__min_df': [.1], \n",
    "    'tfidfvectorizer__ngram_range': [(1, 1), (1, 2), (1, 3)],\n",
    "    'tfidfvectorizer__stop_words': ['english'],\n",
    "    'tfidfvectorizer__tokenizer': [None],\n",
    "    'decisiontreeclassifier__max_depth': [5],\n",
    "    'decisiontreeclassifier__max_features': [None],\n",
    "    'decisiontreeclassifier__min_samples_split': [2, 3, 4]\n",
    "}"
   ]
  },
  {
   "cell_type": "markdown",
   "id": "c5a8d453-1a25-4fe5-935a-6921a4587f27",
   "metadata": {},
   "source": [
    "**Hyperparameter Tuning using GridSearchCV**"
   ]
  },
  {
   "cell_type": "code",
   "execution_count": null,
   "id": "e0f0ec5c-6a6f-4657-be1a-f85359d2186a",
   "metadata": {},
   "outputs": [],
   "source": [
    "# Created a GridSerachCV object that contained the pipeline along with the revised dictionary of hyperparameter ranges that surrounded the hyperparameters identified as optimal by the RandomizedSearchCV and ensured that the jobs ran in parallel.\n",
    "tfidf_dtc_gs = GridSearchCV(tfidf_dtc_pipe, param_grid=tfidf_dtc_new_params, n_jobs=-1)"
   ]
  },
  {
   "cell_type": "code",
   "execution_count": null,
   "id": "86e37b27-8de0-4636-8c6b-1c077a498e2e",
   "metadata": {},
   "outputs": [],
   "source": [
    "# Fit this GridSearchCV object on X_train and y_train before scoring both X_train, y_train and X_test, y_test.\n",
    "tfidf_dtc_gs.fit(X_train, y_train)\n",
    "tfidf_dtc_gs.score(X_train, y_train), tfidf_dtc_gs.score(X_test, y_test)"
   ]
  },
  {
   "cell_type": "code",
   "execution_count": null,
   "id": "2b486bf1-8b1d-4148-9f79-a61b64a7fd0a",
   "metadata": {},
   "outputs": [],
   "source": [
    "# Utilized the fitted DecisionTreeClassifier object to predict the target and saved the results under variable named \"baseline_preds\".\n",
    "tfidf_dtc_gs_preds = tfidf_dtc_gs.predict(X_test)"
   ]
  },
  {
   "cell_type": "code",
   "execution_count": null,
   "id": "841f5010-3558-411b-b8be-1c3950dfa7e8",
   "metadata": {},
   "outputs": [],
   "source": [
    "# Generated a ConfusionMatrixDisplay utilizing this DecisionTreeClassifier estimator.\n",
    "# Obtained guidance with size from: https://stackoverflow.com/questions/66483409/adjust-size-of-confusionmatrixdisplay-scikitlearn\n",
    "\n",
    "fig, ax = plt.subplots(figsize=(15, 15))\n",
    "ConfusionMatrixDisplay.from_estimator(tfidf_dtc_gs, X_test, y_test, ax=ax);"
   ]
  },
  {
   "cell_type": "code",
   "execution_count": null,
   "id": "6270ba7e-6e08-4269-a764-f1cd431e86a9",
   "metadata": {},
   "outputs": [],
   "source": [
    "# Calcualted the precision score after setting 'PartidoMorenaMx' as the positive label.\n",
    "tfidf_dtc_gs_precision = precision_score(y_test, tfidf_dtc_gs_preds, labels='PartidoMorenaMx', average='macro')\n",
    "tfidf_dtc_gs_precision"
   ]
  },
  {
   "cell_type": "code",
   "execution_count": null,
   "id": "31f365eb-317a-4700-b38a-b07e992d9980",
   "metadata": {},
   "outputs": [],
   "source": [
    "# Calcualted the recall score after setting 'PartidoMorenaMx' as the positive label.\n",
    "tfidf_dtc_gs_recall = recall_score(y_test, tfidf_dtc_gs_preds, labels='PartidoMorenaMx', average='macro')\n",
    "tfidf_dtc_gs_recall"
   ]
  },
  {
   "cell_type": "code",
   "execution_count": null,
   "id": "d3f7d9a8-66a5-42f2-855f-9f6ca147d43c",
   "metadata": {},
   "outputs": [],
   "source": [
    "# Calcualted the f1 score after setting 'PartidoMorenaMx' as the positive label.\n",
    "tfidf_dtc_gs_f1 = f1_score(y_test, tfidf_dtc_gs_preds, labels='PartidoMorenaMx', average='macro')\n",
    "tfidf_dtc_gs_f1"
   ]
  },
  {
   "cell_type": "code",
   "execution_count": null,
   "id": "63af4b1a-eab9-4e7c-9fbe-fe685360f8b9",
   "metadata": {},
   "outputs": [],
   "source": [
    "# Looked at the hyperparameters identified as best by the GridSearchCV.\n",
    "tfidf_dtc_gs.best_params_"
   ]
  },
  {
   "cell_type": "markdown",
   "id": "40381034-9334-4803-854f-57a25699b8fa",
   "metadata": {
    "jp-MarkdownHeadingCollapsed": true,
    "tags": []
   },
   "source": [
    "### TfidfVectorizer + ExtraTreesClassifier"
   ]
  },
  {
   "cell_type": "code",
   "execution_count": null,
   "id": "9e4231aa-13bc-4048-853f-277f37908af3",
   "metadata": {},
   "outputs": [],
   "source": [
    "# Created a pipeline object with a TfidfVectorizer transformer and Extra Trees Classifier.  Proceeded to get a list of all available hyperparameters using the .get_params() method.\n",
    "tfidf_etc_pipe = make_pipeline(TfidfVectorizer(), ExtraTreesClassifier())\n",
    "tfidf_etc_pipe.get_params()"
   ]
  },
  {
   "cell_type": "code",
   "execution_count": null,
   "id": "1b690350-42e0-445e-8d57-74051e229a08",
   "metadata": {},
   "outputs": [],
   "source": [
    "# Created a dictionary of hyperparameter ranges that I would then perform a RandomizedSearchCV over.\n",
    "tfidf_etc_params = {\n",
    "    'tfidfvectorizer__max_df': [.9, .8],\n",
    "    'tfidfvectorizer__min_df': [.1, .2], \n",
    "    'tfidfvectorizer__ngram_range': [(1, 1), (2, 2), (3, 3)],\n",
    "    'tfidfvectorizer__stop_words': [None, 'english'],\n",
    "    'tfidfvectorizer__tokenizer': [None, lemma_tokenizer, stemming_tokenizer],\n",
    "    'extratreesclassifier__max_depth': [None, 5, 10, 15, 20],\n",
    "    'extratreesclassifier__max_features': [None, 1_000, 2_000],\n",
    "    'extratreesclassifier__min_samples_split': [None, 2, 5]\n",
    "}"
   ]
  },
  {
   "cell_type": "markdown",
   "id": "fc6a1ccf-ab61-4467-bead-3a0b2958a3d3",
   "metadata": {},
   "source": [
    "**Hyperparameter Tuning using RandomizedSearchCV**"
   ]
  },
  {
   "cell_type": "code",
   "execution_count": null,
   "id": "4cccd7a2-8565-4138-8af0-e227684a1421",
   "metadata": {},
   "outputs": [],
   "source": [
    "# Created a RandomizedSerachCV object that contained the pipeline and the dictionary of hyperparameter ranges I had created and ensured that the jobs ran in parallel.\n",
    "tfidf_etc_rs = RandomizedSearchCV(tfidf_etc_pipe, param_distributions=tfidf_etc_params, n_jobs=-1)"
   ]
  },
  {
   "cell_type": "code",
   "execution_count": null,
   "id": "0a1abb1e-075c-41e7-846f-f22e6880374e",
   "metadata": {},
   "outputs": [],
   "source": [
    "# Fit this RandomizedSearchCV object on X_train and y_train before scoring both X_train, y_train and X_test, y_test.\n",
    "tfidf_etc_rs.fit(X_train, y_train)\n",
    "tfidf_etc_rs.score(X_train, y_train), tfidf_etc_rs.score(X_test, y_test)"
   ]
  },
  {
   "cell_type": "code",
   "execution_count": null,
   "id": "a4f8be6f-bf64-415e-9337-2aeeaacdf0ed",
   "metadata": {},
   "outputs": [],
   "source": [
    "# Looked at the hyperparameters identified as best by the RandomizedSearchCV.\n",
    "tfidf_etc_rs.best_params_"
   ]
  },
  {
   "cell_type": "code",
   "execution_count": null,
   "id": "f138d776-6d33-4c92-941a-0e05cfe6acee",
   "metadata": {},
   "outputs": [],
   "source": [
    "# Proceeded to create a new parameter grid that continaed a narrow range around the results obtained from the RandomizedSearchCV.\n",
    "tfidf_etc_new_params = {\n",
    "    'tfidfvectorizer__max_df': [.8],\n",
    "    'tfidfvectorizer__min_df': [.1], \n",
    "    'tfidfvectorizer__ngram_range': [(1, 1), (1, 2), (1, 3)],\n",
    "    'tfidfvectorizer__stop_words': [None],\n",
    "    'tfidfvectorizer__tokenizer': [stemming_tokenizer],\n",
    "    'extratreesclassifier__max_depth': [20],\n",
    "    'extratreesclassifier__max_features': [None],\n",
    "    'extratreesclassifier__min_samples_split': [2, 3, 4]\n",
    "}"
   ]
  },
  {
   "cell_type": "markdown",
   "id": "99ed7794-88fd-481b-bb91-94e6125ef1ad",
   "metadata": {},
   "source": [
    "**Hyperparameter Tuning using GridSearchCV**"
   ]
  },
  {
   "cell_type": "code",
   "execution_count": null,
   "id": "54dbf2b5-70c0-418d-98db-930c8a3a634d",
   "metadata": {},
   "outputs": [],
   "source": [
    "# Created a GridSerachCV object that contained the pipeline along with the revised dictionary of hyperparameter ranges that surrounded the hyperparameters identified as optimal by the RandomizedSearchCV and ensured that the jobs ran in parallel.\n",
    "tfidf_etc_gs = GridSearchCV(tfidf_etc_pipe, param_grid=tfidf_etc_new_params, n_jobs=-1)"
   ]
  },
  {
   "cell_type": "code",
   "execution_count": null,
   "id": "ee9c97ad-48ce-4e3c-a02b-3f0f19f8cb56",
   "metadata": {},
   "outputs": [],
   "source": [
    "# Fit this GridSearchCV object on X_train and y_train before scoring both X_train, y_train and X_test, y_test.\n",
    "tfidf_etc_gs.fit(X_train, y_train)\n",
    "tfidf_etc_gs.score(X_train, y_train), tfidf_etc_gs.score(X_test, y_test)"
   ]
  },
  {
   "cell_type": "code",
   "execution_count": null,
   "id": "aea44cd4-b7be-43c3-a612-e5514cbb519f",
   "metadata": {},
   "outputs": [],
   "source": [
    "# Utilized the fitted pipeline object to predict the target and saved the results under variable named \"tfidf_etc_gs_preds\".\n",
    "tfidf_etc_gs_preds = tfidf_etc_gs.predict(X_test)"
   ]
  },
  {
   "cell_type": "code",
   "execution_count": null,
   "id": "95a591c8-0f3e-415c-9402-c4c8c40849db",
   "metadata": {},
   "outputs": [],
   "source": [
    "# Generated a ConfusionMatrixDisplay utilizing this ExtraTreesClassifier estimator.\n",
    "# Obtained guidance with size from: https://stackoverflow.com/questions/66483409/adjust-size-of-confusionmatrixdisplay-scikitlearn\n",
    "\n",
    "fig, ax = plt.subplots(figsize=(15, 15))\n",
    "ConfusionMatrixDisplay.from_estimator(tfidf_etc_gs, X_test, y_test, ax=ax);"
   ]
  },
  {
   "cell_type": "code",
   "execution_count": null,
   "id": "cdbf07d2-e1b3-41da-b5a1-471513f46d2d",
   "metadata": {},
   "outputs": [],
   "source": [
    "# Calcualted the precision score after setting 'PartidoMorenaMx' as the positive label.\n",
    "tfidf_etc_gs_precision = precision_score(y_test, tfidf_etc_gs_preds, labels='PartidoMorenaMx', average='macro')\n",
    "tfidf_etc_gs_precision"
   ]
  },
  {
   "cell_type": "code",
   "execution_count": null,
   "id": "2256da9a-ce80-4730-91d3-6aaeff7808eb",
   "metadata": {},
   "outputs": [],
   "source": [
    "# Calcualted the recall score after setting 'PartidoMorenaMx' as the positive label.\n",
    "tfidf_etc_gs_recall = recall_score(y_test, tfidf_etc_gs_preds, labels='PartidoMorenaMx', average='macro')\n",
    "tfidf_etc_gs_recall"
   ]
  },
  {
   "cell_type": "code",
   "execution_count": null,
   "id": "b63e04b4-ffc8-41df-9fe6-e749d047e984",
   "metadata": {},
   "outputs": [],
   "source": [
    "# Calcualted the f1 score after setting 'PartidoMorenaMx' as the positive label.\n",
    "tfidf_etc_gs_f1 = f1_score(y_test, tfidf_etc_gs_preds, labels='PartidoMorenaMx', average='macro')\n",
    "tfidf_etc_gs_f1"
   ]
  },
  {
   "cell_type": "code",
   "execution_count": null,
   "id": "cf781326-b20e-4bf2-9d8b-fa278678c96d",
   "metadata": {},
   "outputs": [],
   "source": [
    "# Looked at the hyperparameters identified as best by the GridSearchCV.\n",
    "tfidf_etc_gs.best_params_"
   ]
  },
  {
   "cell_type": "markdown",
   "id": "510593ac-f2ed-4e1a-9515-f00dcb294159",
   "metadata": {
    "jp-MarkdownHeadingCollapsed": true,
    "tags": []
   },
   "source": [
    "### TfidfVectorizer + RandomForestClassifier"
   ]
  },
  {
   "cell_type": "code",
   "execution_count": null,
   "id": "bae2b956-ef08-4f6e-91ac-359408c15e25",
   "metadata": {},
   "outputs": [],
   "source": [
    "# Created a pipeline object with a TfidfVectorizer transformer and Random Forest Classifier.  Proceeded to get a list of all available hyperparameters using the .get_params() method.\n",
    "tfidf_rfc_pipe = make_pipeline(TfidfVectorizer(), RandomForestClassifier())\n",
    "tfidf_rfc_pipe.get_params()"
   ]
  },
  {
   "cell_type": "code",
   "execution_count": null,
   "id": "b0b1a8f9-b67c-466a-a820-fa16c1aeae79",
   "metadata": {},
   "outputs": [],
   "source": [
    "# Created a dictionary of hyperparameter ranges that I would then perform a RandomizedSearchCV over.\n",
    "tfidf_rfc_params = {\n",
    "    'tfidfvectorizer__max_df': [.9, .8],\n",
    "    'tfidfvectorizer__min_df': [.1, .2], \n",
    "    'tfidfvectorizer__ngram_range': [(1, 1), (2, 2), (3, 3)],\n",
    "    'tfidfvectorizer__stop_words': [None, 'english'],\n",
    "    'tfidfvectorizer__tokenizer': [None, lemma_tokenizer, stemming_tokenizer],\n",
    "    'randomforestclassifier__max_depth': [None, 5, 10, 15, 20],\n",
    "    'randomforestclassifier__max_features': [None, 1_000, 2_000],\n",
    "    'randomforestclassifier__min_samples_split': [None, 2, 5]\n",
    "}"
   ]
  },
  {
   "cell_type": "markdown",
   "id": "7c55f237-8db9-49ea-94ae-0e6dd1e378db",
   "metadata": {},
   "source": [
    "**Hyperparameter Tuning using RandomizedSearchCV**"
   ]
  },
  {
   "cell_type": "code",
   "execution_count": null,
   "id": "28ded583-d79e-4dab-bff2-ef1c63ba68bd",
   "metadata": {},
   "outputs": [],
   "source": [
    "# Created a RandomizedSerachCV object that contained the pipeline and the dictionary of hyperparameter ranges I had created and ensured that the jobs ran in parallel.\n",
    "tfidf_rfc_rs = RandomizedSearchCV(tfidf_rfc_pipe, param_distributions=tfidf_rfc_params, n_jobs=-1)"
   ]
  },
  {
   "cell_type": "code",
   "execution_count": null,
   "id": "5392a22f-0afa-470b-9ace-8235342dac4a",
   "metadata": {},
   "outputs": [],
   "source": [
    "# Fit this RandomizedSearchCV object on X_train and y_train before scoring both X_train, y_train and X_test, y_test.\n",
    "tfidf_rfc_rs.fit(X_train, y_train)\n",
    "tfidf_rfc_rs.score(X_train, y_train), tfidf_rfc_rs.score(X_test, y_test)"
   ]
  },
  {
   "cell_type": "code",
   "execution_count": null,
   "id": "a4048ca0-1753-432f-9f1d-b7b0ff8b74d9",
   "metadata": {},
   "outputs": [],
   "source": [
    "# Looked at the hyperparameters identified as best by the RandomizedSearchCV.\n",
    "tfidf_rfc_rs.best_params_"
   ]
  },
  {
   "cell_type": "code",
   "execution_count": null,
   "id": "8e2267cf-f9dd-4e33-8233-5337938e7174",
   "metadata": {},
   "outputs": [],
   "source": [
    "# Proceeded to create a new parameter grid that continaed a narrow range around the results obtained from the RandomizedSearchCV.\n",
    "tfidf_rfc_new_params = {\n",
    "    'tfidfvectorizer__max_df': [.9],\n",
    "    'tfidfvectorizer__min_df': [.1], \n",
    "    'tfidfvectorizer__ngram_range': [(1, 1), (1, 2), (1, 3)],\n",
    "    'tfidfvectorizer__stop_words': ['english'],\n",
    "    'tfidfvectorizer__tokenizer': [stemming_tokenizer],\n",
    "    'randomforestclassifier__max_depth': [15],\n",
    "    'randomforestclassifier__max_features': [None],\n",
    "    'randomforestclassifier__min_samples_split': [2, 3, 4]\n",
    "}"
   ]
  },
  {
   "cell_type": "markdown",
   "id": "daba8880-5b51-4c59-9eb7-4d739e3a4cd3",
   "metadata": {},
   "source": [
    "**Hyperparameter Tuning using GridSearchCV**"
   ]
  },
  {
   "cell_type": "code",
   "execution_count": null,
   "id": "d8a50f67-4fe6-4705-b31c-634bb6cfa500",
   "metadata": {},
   "outputs": [],
   "source": [
    "# Created a GridSerachCV object that contained the pipeline along with the revised dictionary of hyperparameter ranges that surrounded the hyperparameters identified as optimal by the RandomizedSearchCV and ensured that the jobs ran in parallel.\n",
    "tfidf_rfc_gs = GridSearchCV(tfidf_rfc_pipe, param_grid=tfidf_rfc_new_params, n_jobs=-1)"
   ]
  },
  {
   "cell_type": "code",
   "execution_count": null,
   "id": "f1e78729-81f9-4976-b2c5-72aab3fbaf51",
   "metadata": {},
   "outputs": [],
   "source": [
    "# Fit this GridSearchCV object on X_train and y_train before scoring both X_train, y_train and X_test, y_test.\n",
    "tfidf_rfc_gs.fit(X_train, y_train)\n",
    "tfidf_rfc_gs.score(X_train, y_train), tfidf_rfc_gs.score(X_test, y_test)"
   ]
  },
  {
   "cell_type": "code",
   "execution_count": null,
   "id": "e9cb60b0-ac9f-4a80-a25b-b18cca5a56a9",
   "metadata": {},
   "outputs": [],
   "source": [
    "# Utilized the fitted pipeline object to predict the target and saved the results under variable named \"tfidf_rfc_gs_preds\".\n",
    "tfidf_rfc_gs_preds = tfidf_rfc_gs.predict(X_test)"
   ]
  },
  {
   "cell_type": "code",
   "execution_count": null,
   "id": "0e83eca3-2e42-44e7-b7f5-ce6e6479bd4f",
   "metadata": {},
   "outputs": [],
   "source": [
    "# Generated a ConfusionMatrixDisplay utilizing this RandomForestClassifier estimator.\n",
    "# Obtained guidance with size from: https://stackoverflow.com/questions/66483409/adjust-size-of-confusionmatrixdisplay-scikitlearn\n",
    "\n",
    "fig, ax = plt.subplots(figsize=(15, 15))\n",
    "ConfusionMatrixDisplay.from_estimator(tfidf_rfc_gs, X_test, y_test, ax=ax);"
   ]
  },
  {
   "cell_type": "code",
   "execution_count": null,
   "id": "9b3aca27-d406-4cab-8b78-e7b6341cd9bc",
   "metadata": {},
   "outputs": [],
   "source": [
    "# Calcualted the precision score after setting 'PartidoMorenaMx' as the positive label.\n",
    "tfidf_rfc_gs_precision = precision_score(y_test, tfidf_rfc_gs_preds, labels='PartidoMorenaMx', average='macro')\n",
    "tfidf_rfc_gs_precision"
   ]
  },
  {
   "cell_type": "code",
   "execution_count": null,
   "id": "7858ef0b-8584-4ef0-a5b8-9a1eb1d55499",
   "metadata": {},
   "outputs": [],
   "source": [
    "# Calcualted the recall score after setting 'PartidoMorenaMx' as the positive label.\n",
    "tfidf_rfc_gs_recall = recall_score(y_test, tfidf_rfc_gs_preds, labels='PartidoMorenaMx', average='macro')\n",
    "tfidf_rfc_gs_recall"
   ]
  },
  {
   "cell_type": "code",
   "execution_count": null,
   "id": "7d85d39f-faac-40ed-a0c8-ddb668771e08",
   "metadata": {},
   "outputs": [],
   "source": [
    "# Calcualted the f1 score after setting 'PartidoMorenaMx' as the positive label.\n",
    "tfidf_rfc_gs_f1 = f1_score(y_test, tfidf_rfc_gs_preds, labels='PartidoMorenaMx', average='macro')\n",
    "tfidf_rfc_gs_f1"
   ]
  },
  {
   "cell_type": "code",
   "execution_count": null,
   "id": "45fa7492-be2e-4169-8f01-696f3b313a90",
   "metadata": {},
   "outputs": [],
   "source": [
    "# Looked at the hyperparameters identified as best by the GridSearchCV.\n",
    "tfidf_rfc_gs.best_params_"
   ]
  },
  {
   "cell_type": "markdown",
   "id": "e63ec9fd-815d-4dac-bd7f-fefb4bcd73e5",
   "metadata": {
    "tags": []
   },
   "source": [
    "### TfidfVectorizer + GradientBoostingClassifier"
   ]
  },
  {
   "cell_type": "code",
   "execution_count": null,
   "id": "8e9ed565-7e5a-4bbf-b96c-79f48a3e15de",
   "metadata": {},
   "outputs": [],
   "source": [
    "# Created a pipeline object with a TfidfVectorizer transformer and Gradient Boosting Classifier.  Proceeded to get a list of all available hyperparameters using the .get_params() method.\n",
    "tfidf_gbc_pipe = make_pipeline(TfidfVectorizer(), GradientBoostingClassifier())\n",
    "tfidf_gbc_pipe.get_params()"
   ]
  },
  {
   "cell_type": "code",
   "execution_count": null,
   "id": "6639ede2-3c34-4340-85ed-8bae4c81cb86",
   "metadata": {},
   "outputs": [],
   "source": [
    "# Created a dictionary of hyperparameter ranges that I would then perform a RandomizedSearchCV over.\n",
    "tfidf_gbc_params = {\n",
    "    'tfidfvectorizer__max_df': [.9, .8],\n",
    "    'tfidfvectorizer__min_df': [.1, .2], \n",
    "    'tfidfvectorizer__ngram_range': [(1, 1), (2, 2), (3, 3)],\n",
    "    'tfidfvectorizer__stop_words': [None, 'english'],\n",
    "    'tfidfvectorizer__tokenizer': [None, lemma_tokenizer, stemming_tokenizer],\n",
    "    'gradientboostingclassifier__max_depth': [None, 5, 10, 15, 20],\n",
    "    'gradientboostingclassifier__max_features': [None, 1_000, 2_000],\n",
    "    'gradientboostingclassifier__min_samples_split': [2, 3, 4],\n",
    "    'gradientboostingclassifier__n_estimators': [100, 150, 200]\n",
    "}"
   ]
  },
  {
   "cell_type": "markdown",
   "id": "464d6408-1670-4d66-94a5-69d4577186f9",
   "metadata": {},
   "source": [
    "**Hyperparameter Tuning using RandomizedSearchCV**"
   ]
  },
  {
   "cell_type": "code",
   "execution_count": null,
   "id": "6e23d451-c174-4dcd-ac82-1de19cbd98f3",
   "metadata": {},
   "outputs": [],
   "source": [
    "# Created a RandomizedSerachCV object that contained the pipeline and the dictionary of hyperparameter ranges I had created and ensured that the jobs ran in parallel.\n",
    "tfidf_gbc_rs = RandomizedSearchCV(tfidf_gbc_pipe, param_distributions=tfidf_gbc_params, n_jobs=-1)"
   ]
  },
  {
   "cell_type": "code",
   "execution_count": null,
   "id": "12320356-5a02-450e-8a3b-1532334f55e3",
   "metadata": {},
   "outputs": [],
   "source": [
    "# Fit this RandomizedSearchCV object on X_train and y_train before scoring both X_train, y_train and X_test, y_test.\n",
    "tfidf_gbc_rs.fit(X_train, y_train)\n",
    "tfidf_gbc_rs.score(X_train, y_train), tfidf_gbc_rs.score(X_test, y_test)"
   ]
  },
  {
   "cell_type": "code",
   "execution_count": null,
   "id": "6b385ff7-1fb5-49a0-9de6-465b79ec5ddd",
   "metadata": {},
   "outputs": [],
   "source": [
    "# Looked at the hyperparameters identified as best by the RandomizedSearchCV.\n",
    "tfidf_gbc_rs.best_params_"
   ]
  },
  {
   "cell_type": "code",
   "execution_count": null,
   "id": "70245619-f2ef-4c32-8208-30f946e91096",
   "metadata": {},
   "outputs": [],
   "source": [
    "# Proceeded to create a new parameter grid that continaed a narrow range around the results obtained from the RandomizedSearchCV.\n",
    "tfidf_gbc_new_params = {\n",
    "    'tfidfvectorizer__max_df': [.9],\n",
    "    'tfidfvectorizer__min_df': [.2], \n",
    "    'tfidfvectorizer__ngram_range': [(1, 1), (1, 2), (1, 3)],\n",
    "    'tfidfvectorizer__stop_words': [None],\n",
    "    'tfidfvectorizer__tokenizer': [lemma_tokenizer],\n",
    "    'gradientboostingclassifier__max_depth': [None],\n",
    "    'gradientboostingclassifier__max_features': [None],\n",
    "    'gradientboostingclassifier__min_samples_split': [2],\n",
    "    'gradientboostingclassifier__n_estimators': [100]\n",
    "}"
   ]
  },
  {
   "cell_type": "markdown",
   "id": "c2148361-d333-42f5-aba8-a34a34b6dcbe",
   "metadata": {},
   "source": [
    "**Hyperparameter Tuning using GridSearchCV**"
   ]
  },
  {
   "cell_type": "code",
   "execution_count": null,
   "id": "5aabee0c-0f34-4862-a7af-7b4386fa46c9",
   "metadata": {},
   "outputs": [],
   "source": [
    "# Created a GridSerachCV object that contained the pipeline along with the revised dictionary of hyperparameter ranges that surrounded the hyperparameters identified as optimal by the RandomizedSearchCV and ensured that the jobs ran in parallel.\n",
    "tfidf_gbc_gs = GridSearchCV(tfidf_gbc_pipe, param_grid=tfidf_gbc_new_params, n_jobs=-1)"
   ]
  },
  {
   "cell_type": "code",
   "execution_count": null,
   "id": "d8263fae-041f-4031-84fb-71a27aa4e7ea",
   "metadata": {},
   "outputs": [],
   "source": [
    "# Fit this GridSearchCV object on X_train and y_train before scoring both X_train, y_train and X_test, y_test.\n",
    "tfidf_gbc_gs.fit(X_train, y_train)\n",
    "tfidf_gbc_gs.score(X_train, y_train), tfidf_gbc_gs.score(X_test, y_test)"
   ]
  },
  {
   "cell_type": "code",
   "execution_count": null,
   "id": "b6936246-8807-442a-8248-79ebf8e30673",
   "metadata": {},
   "outputs": [],
   "source": [
    "# Utilized the fitted pipeline object to predict the target and saved the results under variable named \"tfidf_gbc_gs_preds\".\n",
    "tfidf_gbc_gs_preds = tfidf_gbc_gs.predict(X_test)"
   ]
  },
  {
   "cell_type": "code",
   "execution_count": null,
   "id": "64dc9ef6-b4a1-4eb5-b7f2-2adb5c1eb9ff",
   "metadata": {},
   "outputs": [],
   "source": [
    "# Generated a ConfusionMatrixDisplay utilizing this GradientBoostingClassifier estimator.\n",
    "# Obtained guidance with size from: https://stackoverflow.com/questions/66483409/adjust-size-of-confusionmatrixdisplay-scikitlearn\n",
    "\n",
    "fig, ax = plt.subplots(figsize=(15, 15))\n",
    "ConfusionMatrixDisplay.from_estimator(tfidf_gbc_gs, X_test, y_test, ax=ax);"
   ]
  },
  {
   "cell_type": "code",
   "execution_count": null,
   "id": "8bc9d0ac-e435-4a8f-b4e0-131decd354b1",
   "metadata": {},
   "outputs": [],
   "source": [
    "# Calcualted the precision score after setting 'PartidoMorenaMx' as the positive label.\n",
    "tfidf_gbc_gs_precision = precision_score(y_test, tfidf_gbc_gs_preds, labels='PartidoMorenaMx', average='macro')\n",
    "tfidf_gbc_gs_precision"
   ]
  },
  {
   "cell_type": "code",
   "execution_count": null,
   "id": "e87a3387-4c4c-4528-989e-fc94cd4af986",
   "metadata": {},
   "outputs": [],
   "source": [
    "# Calcualted the recall score after setting 'PartidoMorenaMx' as the positive label.\n",
    "tfidf_gbc_gs_recall = recall_score(y_test, tfidf_gbc_gs_preds, labels='PartidoMorenaMx', average='macro')\n",
    "tfidf_gbc_gs_recall"
   ]
  },
  {
   "cell_type": "code",
   "execution_count": null,
   "id": "7ba6266b-a701-49a4-a6e0-95726d278a4e",
   "metadata": {},
   "outputs": [],
   "source": [
    "# Calcualted the f1 score after setting 'PartidoMorenaMx' as the positive label.\n",
    "tfidf_gbc_gs_f1 = f1_score(y_test, tfidf_gbc_gs_preds, labels='PartidoMorenaMx', average='macro')\n",
    "tfidf_gbc_gs_f1"
   ]
  },
  {
   "cell_type": "code",
   "execution_count": null,
   "id": "d6736590-7d2f-41cf-9340-b291fddf0344",
   "metadata": {},
   "outputs": [],
   "source": [
    "# Looked at the hyperparameters identified as best by the GridSearchCV.\n",
    "tfidf_gbc_gs.best_params_"
   ]
  },
  {
   "cell_type": "markdown",
   "id": "e2883354-8eba-4ce4-8313-d77c6324bea2",
   "metadata": {},
   "source": [
    "## **TfidfVectorizer with Party and Politican Names Stop Words**"
   ]
  },
  {
   "cell_type": "code",
   "execution_count": null,
   "id": "7682853b-2b29-4bed-8d91-10a9c9c94bcb",
   "metadata": {},
   "outputs": [],
   "source": []
  },
  {
   "cell_type": "markdown",
   "id": "75820023-258b-42f7-8b34-c87b9fd20706",
   "metadata": {
    "jp-MarkdownHeadingCollapsed": true,
    "tags": []
   },
   "source": [
    "## **spaCy**"
   ]
  },
  {
   "cell_type": "code",
   "execution_count": null,
   "id": "ca529697-1eae-4eb3-8dbe-80a73a1baaa5",
   "metadata": {},
   "outputs": [],
   "source": []
  },
  {
   "cell_type": "code",
   "execution_count": null,
   "id": "7e4f7140-c162-47bf-859a-47be1426fa04",
   "metadata": {},
   "outputs": [],
   "source": []
  },
  {
   "cell_type": "code",
   "execution_count": null,
   "id": "448a0f3d-9dca-4257-b47a-d5a2b00e1b20",
   "metadata": {},
   "outputs": [],
   "source": []
  },
  {
   "cell_type": "code",
   "execution_count": null,
   "id": "2e15e401-b0db-4bf4-a8c0-39be8ea263d6",
   "metadata": {},
   "outputs": [],
   "source": []
  },
  {
   "cell_type": "markdown",
   "id": "9c8c8076-4719-448d-aa5d-ca5f2d9d1e48",
   "metadata": {
    "jp-MarkdownHeadingCollapsed": true,
    "tags": []
   },
   "source": [
    "# **Evaluation of Best Model:**"
   ]
  },
  {
   "cell_type": "code",
   "execution_count": null,
   "id": "add8d6a9-1093-4ba9-84aa-9a1c73f8144a",
   "metadata": {},
   "outputs": [],
   "source": []
  },
  {
   "cell_type": "code",
   "execution_count": null,
   "id": "db19c630-a53a-44c1-a798-b5f51c28803d",
   "metadata": {},
   "outputs": [],
   "source": []
  },
  {
   "cell_type": "code",
   "execution_count": null,
   "id": "b2040ced-36fa-408b-958d-6d19496d8d46",
   "metadata": {},
   "outputs": [],
   "source": []
  },
  {
   "cell_type": "code",
   "execution_count": null,
   "id": "700e5b83-55be-4624-b431-c39fa89532fc",
   "metadata": {},
   "outputs": [],
   "source": []
  }
 ],
 "metadata": {
  "kernelspec": {
   "display_name": "Python 3 (ipykernel)",
   "language": "python",
   "name": "python3"
  },
  "language_info": {
   "codemirror_mode": {
    "name": "ipython",
    "version": 3
   },
   "file_extension": ".py",
   "mimetype": "text/x-python",
   "name": "python",
   "nbconvert_exporter": "python",
   "pygments_lexer": "ipython3",
   "version": "3.9.7"
  }
 },
 "nbformat": 4,
 "nbformat_minor": 5
}
