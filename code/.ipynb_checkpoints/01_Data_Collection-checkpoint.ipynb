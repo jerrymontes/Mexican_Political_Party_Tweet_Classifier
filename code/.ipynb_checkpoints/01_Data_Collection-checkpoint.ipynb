{
 "cells": [
  {
   "cell_type": "code",
   "execution_count": 1,
   "id": "d9f51ce7-473f-4bb8-a4c7-ca98929e059b",
   "metadata": {},
   "outputs": [],
   "source": [
    "import tweepy\n",
    "import configparser\n",
    "import pandas as pd"
   ]
  },
  {
   "cell_type": "code",
   "execution_count": 2,
   "id": "5109b267-c1db-4a3e-bddc-00571653b1dd",
   "metadata": {},
   "outputs": [
    {
     "data": {
      "text/plain": [
       "['config.ini']"
      ]
     },
     "execution_count": 2,
     "metadata": {},
     "output_type": "execute_result"
    }
   ],
   "source": [
    "# Obtained guidance from: https://github.com/mehranshakarami/AI_Spectrum/blob/main/2022/Twitter_API/twitter_data_search.py\n",
    "# read configs\n",
    "config = configparser.ConfigParser()\n",
    "config.read('config.ini')"
   ]
  },
  {
   "cell_type": "code",
   "execution_count": 3,
   "id": "8bc57bb6-e77c-4e3a-afeb-8047bb8e3ce3",
   "metadata": {},
   "outputs": [],
   "source": [
    "consumer_key='n2dGLTZZhegFGkTAig4H3m4OI'\n",
    "consumer_secret='rcqO5SSLOU8smb86sCCXx64IeBTWhQiKZPz676kSG0VNpDpmel'\n",
    "access_token='1533583880120258560-ktuRGtVafQ702BDCHcFDqSBy9hcDI1'\n",
    "access_token_secret='rawlSSbdhjzNA9DmvQTEDt6w2WnazvSl9pWb3NT2xEafY'"
   ]
  },
  {
   "cell_type": "code",
   "execution_count": 4,
   "id": "0a1f4370-ef8c-4425-814b-df077061e374",
   "metadata": {},
   "outputs": [],
   "source": [
    "auth = tweepy.OAuthHandler(consumer_key, consumer_secret)\n",
    "auth.set_access_token(access_token, access_token_secret)\n",
    "api = tweepy.API(auth)"
   ]
  },
  {
   "cell_type": "code",
   "execution_count": 104,
   "id": "dccac3fe-a408-418b-baed-cac7457b49d7",
   "metadata": {},
   "outputs": [],
   "source": [
    "# Obtained guidance from: https://www.geeksforgeeks.org/python-tweepy-getting-the-number-of-tweets-a-user-has-tweeted/\n",
    "# Created a function for obtaining the total number of posts each political party's official Twitter account has posted since it was created\n",
    "\n",
    "def lifetime_post_counter(twitter_handle):\n",
    "    \n",
    "    user = api.get_user(screen_name=twitter_handle)\n",
    "  \n",
    "    statuses_count = user.statuses_count \n",
    "  \n",
    "    print(f\"Twitter user @{twitter_handle} has tweeted {str(statuses_count)} times since opening their account.\")"
   ]
  },
  {
   "cell_type": "code",
   "execution_count": 105,
   "id": "760bd6ac-1ba0-472c-b9c2-5003230cd16f",
   "metadata": {},
   "outputs": [
    {
     "name": "stdout",
     "output_type": "stream",
     "text": [
      "Twitter user @AccionNacional has tweeted 50232 times since opening their account.\n"
     ]
    }
   ],
   "source": [
    "lifetime_post_counter('AccionNacional')"
   ]
  },
  {
   "cell_type": "code",
   "execution_count": 106,
   "id": "e35eaa0c-9fea-44cf-99f0-484a34062947",
   "metadata": {},
   "outputs": [
    {
     "name": "stdout",
     "output_type": "stream",
     "text": [
      "Twitter user @PRI_Nacional has tweeted 47916 times since opening their account.\n"
     ]
    }
   ],
   "source": [
    "lifetime_post_counter('PRI_Nacional')"
   ]
  },
  {
   "cell_type": "code",
   "execution_count": 107,
   "id": "d4533497-17a6-45c7-bbf6-e617e9bc4a67",
   "metadata": {},
   "outputs": [
    {
     "name": "stdout",
     "output_type": "stream",
     "text": [
      "Twitter user @PRDMexico has tweeted 99138 times since opening their account.\n"
     ]
    }
   ],
   "source": [
    "lifetime_post_counter('PRDMexico')"
   ]
  },
  {
   "cell_type": "code",
   "execution_count": 108,
   "id": "d02080c0-6d71-41a2-801f-a9dbf5573c0c",
   "metadata": {},
   "outputs": [
    {
     "name": "stdout",
     "output_type": "stream",
     "text": [
      "Twitter user @partidoverdemex has tweeted 18169 times since opening their account.\n"
     ]
    }
   ],
   "source": [
    "lifetime_post_counter('partidoverdemex')"
   ]
  },
  {
   "cell_type": "code",
   "execution_count": 109,
   "id": "ac365f63-ce1b-4d4d-8920-7a506975627f",
   "metadata": {},
   "outputs": [
    {
     "name": "stdout",
     "output_type": "stream",
     "text": [
      "Twitter user @MovCiudadanoMX has tweeted 59230 times since opening their account.\n"
     ]
    }
   ],
   "source": [
    "lifetime_post_counter('MovCiudadanoMX')"
   ]
  },
  {
   "cell_type": "code",
   "execution_count": 110,
   "id": "f2b9e9f4-ebe0-49e0-82c7-fe15ee58ee77",
   "metadata": {},
   "outputs": [
    {
     "name": "stdout",
     "output_type": "stream",
     "text": [
      "Twitter user @PartidoMorenaMx has tweeted 14225 times since opening their account.\n"
     ]
    }
   ],
   "source": [
    "lifetime_post_counter('PartidoMorenaMx')"
   ]
  },
  {
   "cell_type": "code",
   "execution_count": null,
   "id": "da07d89d-b794-474a-85db-c13704c7de3c",
   "metadata": {},
   "outputs": [],
   "source": []
  },
  {
   "cell_type": "code",
   "execution_count": 111,
   "id": "a89bf953-0b0c-4a8f-96ad-b995efd00b54",
   "metadata": {},
   "outputs": [],
   "source": [
    "# Created function for scraping the 3200 most recent tweets from each party's official Twitter acccount \n",
    "def twitter_scraping_tool(twitter_handle):\n",
    "    \n",
    "    user = twitter_handle\n",
    "    limit = 3_200\n",
    "    \n",
    "    tweets = tweepy.Cursor(api.user_timeline, screen_name=user, count=3_200, tweet_mode='extended').items(limit)\n",
    "    \n",
    "    columns = ['time', 'user', 'tweet']\n",
    "\n",
    "    data = []\n",
    "\n",
    "    for tweet in tweets:\n",
    "        data.append([tweet.created_at, tweet.user.screen_name, tweet.full_text])\n",
    "\n",
    "    party_df = pd.DataFrame(data, columns=columns)\n",
    "    \n",
    "    return party_df"
   ]
  },
  {
   "cell_type": "markdown",
   "id": "544b4730-3594-4a30-a4ee-fa2a34277873",
   "metadata": {
    "jp-MarkdownHeadingCollapsed": true,
    "tags": []
   },
   "source": [
    "## Partido Acción Nacional (PAN)"
   ]
  },
  {
   "cell_type": "code",
   "execution_count": 112,
   "id": "b5e00b36-1d55-4b12-827a-1462876cf788",
   "metadata": {},
   "outputs": [
    {
     "data": {
      "text/html": [
       "<div>\n",
       "<style scoped>\n",
       "    .dataframe tbody tr th:only-of-type {\n",
       "        vertical-align: middle;\n",
       "    }\n",
       "\n",
       "    .dataframe tbody tr th {\n",
       "        vertical-align: top;\n",
       "    }\n",
       "\n",
       "    .dataframe thead th {\n",
       "        text-align: right;\n",
       "    }\n",
       "</style>\n",
       "<table border=\"1\" class=\"dataframe\">\n",
       "  <thead>\n",
       "    <tr style=\"text-align: right;\">\n",
       "      <th></th>\n",
       "      <th>time</th>\n",
       "      <th>user</th>\n",
       "      <th>tweet</th>\n",
       "    </tr>\n",
       "  </thead>\n",
       "  <tbody>\n",
       "    <tr>\n",
       "      <th>0</th>\n",
       "      <td>2022-06-06 22:52:00+00:00</td>\n",
       "      <td>AccionNacional</td>\n",
       "      <td>¡Lo hicimos, Durango! El municipio sigue pintá...</td>\n",
       "    </tr>\n",
       "    <tr>\n",
       "      <th>1</th>\n",
       "      <td>2022-06-06 17:01:25+00:00</td>\n",
       "      <td>AccionNacional</td>\n",
       "      <td>¡Ganamos Durango con @EVillegasV!\\n\\nGracias a...</td>\n",
       "    </tr>\n",
       "    <tr>\n",
       "      <th>2</th>\n",
       "      <td>2022-06-06 15:01:41+00:00</td>\n",
       "      <td>AccionNacional</td>\n",
       "      <td>¡Muchas felicidades @TereJimenezE por tu triun...</td>\n",
       "    </tr>\n",
       "    <tr>\n",
       "      <th>3</th>\n",
       "      <td>2022-06-06 14:06:27+00:00</td>\n",
       "      <td>AccionNacional</td>\n",
       "      <td>RT @TereJimenezE: ¡Hoy ganaron las propuestas ...</td>\n",
       "    </tr>\n",
       "    <tr>\n",
       "      <th>4</th>\n",
       "      <td>2022-06-06 14:06:15+00:00</td>\n",
       "      <td>AccionNacional</td>\n",
       "      <td>RT @EVillegasV: ¡Durango ganó con valor! Simpl...</td>\n",
       "    </tr>\n",
       "    <tr>\n",
       "      <th>...</th>\n",
       "      <td>...</td>\n",
       "      <td>...</td>\n",
       "      <td>...</td>\n",
       "    </tr>\n",
       "    <tr>\n",
       "      <th>3195</th>\n",
       "      <td>2020-11-01 14:38:10+00:00</td>\n",
       "      <td>AccionNacional</td>\n",
       "      <td>Esperamos la labor de la nueva titular de @SSP...</td>\n",
       "    </tr>\n",
       "    <tr>\n",
       "      <th>3196</th>\n",
       "      <td>2020-10-30 19:34:08+00:00</td>\n",
       "      <td>AccionNacional</td>\n",
       "      <td>RT @AsuntosIntl_PAN: 🇬🇷🇹🇷 Desde @AccionNaciona...</td>\n",
       "    </tr>\n",
       "    <tr>\n",
       "      <th>3197</th>\n",
       "      <td>2020-10-30 16:25:33+00:00</td>\n",
       "      <td>AccionNacional</td>\n",
       "      <td>RT @RevistaLaNacion: Te presentamos nuestro nu...</td>\n",
       "    </tr>\n",
       "    <tr>\n",
       "      <th>3198</th>\n",
       "      <td>2020-10-29 22:58:04+00:00</td>\n",
       "      <td>AccionNacional</td>\n",
       "      <td>RT @SenadoresdelPAN: El incremento al costo de...</td>\n",
       "    </tr>\n",
       "    <tr>\n",
       "      <th>3199</th>\n",
       "      <td>2020-10-29 16:12:06+00:00</td>\n",
       "      <td>AccionNacional</td>\n",
       "      <td>RT @AsuntosIntl_PAN: Desde @AccionNacional nos...</td>\n",
       "    </tr>\n",
       "  </tbody>\n",
       "</table>\n",
       "<p>3200 rows × 3 columns</p>\n",
       "</div>"
      ],
      "text/plain": [
       "                          time            user  \\\n",
       "0    2022-06-06 22:52:00+00:00  AccionNacional   \n",
       "1    2022-06-06 17:01:25+00:00  AccionNacional   \n",
       "2    2022-06-06 15:01:41+00:00  AccionNacional   \n",
       "3    2022-06-06 14:06:27+00:00  AccionNacional   \n",
       "4    2022-06-06 14:06:15+00:00  AccionNacional   \n",
       "...                        ...             ...   \n",
       "3195 2020-11-01 14:38:10+00:00  AccionNacional   \n",
       "3196 2020-10-30 19:34:08+00:00  AccionNacional   \n",
       "3197 2020-10-30 16:25:33+00:00  AccionNacional   \n",
       "3198 2020-10-29 22:58:04+00:00  AccionNacional   \n",
       "3199 2020-10-29 16:12:06+00:00  AccionNacional   \n",
       "\n",
       "                                                  tweet  \n",
       "0     ¡Lo hicimos, Durango! El municipio sigue pintá...  \n",
       "1     ¡Ganamos Durango con @EVillegasV!\\n\\nGracias a...  \n",
       "2     ¡Muchas felicidades @TereJimenezE por tu triun...  \n",
       "3     RT @TereJimenezE: ¡Hoy ganaron las propuestas ...  \n",
       "4     RT @EVillegasV: ¡Durango ganó con valor! Simpl...  \n",
       "...                                                 ...  \n",
       "3195  Esperamos la labor de la nueva titular de @SSP...  \n",
       "3196  RT @AsuntosIntl_PAN: 🇬🇷🇹🇷 Desde @AccionNaciona...  \n",
       "3197  RT @RevistaLaNacion: Te presentamos nuestro nu...  \n",
       "3198  RT @SenadoresdelPAN: El incremento al costo de...  \n",
       "3199  RT @AsuntosIntl_PAN: Desde @AccionNacional nos...  \n",
       "\n",
       "[3200 rows x 3 columns]"
      ]
     },
     "execution_count": 112,
     "metadata": {},
     "output_type": "execute_result"
    }
   ],
   "source": [
    "# Calling the scraping function for PAN party\n",
    "pan_df = twitter_scraping_tool('AccionNacional')\n",
    "pan_df"
   ]
  },
  {
   "cell_type": "code",
   "execution_count": 113,
   "id": "ccd698a6-b768-4bc2-89a4-8628db8066c2",
   "metadata": {},
   "outputs": [
    {
     "data": {
      "text/plain": [
       "2"
      ]
     },
     "execution_count": 113,
     "metadata": {},
     "output_type": "execute_result"
    }
   ],
   "source": [
    "# Investigating how many duplicate tweets exist prior to dropping them.\n",
    "pan_df['tweet'].duplicated().sum()"
   ]
  },
  {
   "cell_type": "code",
   "execution_count": 114,
   "id": "0a864c63-e934-4ed2-ab18-88cc7adf830a",
   "metadata": {},
   "outputs": [],
   "source": [
    "pan_df = pan_df.drop_duplicates(subset=['tweet'], keep = 'last')"
   ]
  },
  {
   "cell_type": "code",
   "execution_count": 115,
   "id": "d4e165fc-533c-4097-96b4-94f360ddc634",
   "metadata": {},
   "outputs": [
    {
     "data": {
      "text/plain": [
       "(3198, 3)"
      ]
     },
     "execution_count": 115,
     "metadata": {},
     "output_type": "execute_result"
    }
   ],
   "source": [
    "pan_df.shape"
   ]
  },
  {
   "cell_type": "code",
   "execution_count": 116,
   "id": "58513862-6183-4d4d-a10f-66c83d306d84",
   "metadata": {},
   "outputs": [
    {
     "data": {
      "text/plain": [
       "array(['AccionNacional'], dtype=object)"
      ]
     },
     "execution_count": 116,
     "metadata": {},
     "output_type": "execute_result"
    }
   ],
   "source": [
    "# Confirmed that the only value of the 'user' column in this DataFrame was \"AccionNacional\".\n",
    "pan_df['user'].unique()"
   ]
  },
  {
   "cell_type": "code",
   "execution_count": 117,
   "id": "76ee08a4-7282-4e81-ae74-407bed219ccc",
   "metadata": {},
   "outputs": [],
   "source": [
    "# Saved this duplicate-free DataFrame to a .csv file.\n",
    "pan_df.to_csv('../data/pan.csv', index=False)"
   ]
  },
  {
   "cell_type": "markdown",
   "id": "6608fa1a-44da-40d0-8f09-6e504e68816f",
   "metadata": {
    "jp-MarkdownHeadingCollapsed": true,
    "tags": []
   },
   "source": [
    "## Partido Revolucionario Institucional (PRI)"
   ]
  },
  {
   "cell_type": "code",
   "execution_count": 118,
   "id": "74fea853-6034-4926-be66-a01101b1f2e9",
   "metadata": {},
   "outputs": [
    {
     "data": {
      "text/html": [
       "<div>\n",
       "<style scoped>\n",
       "    .dataframe tbody tr th:only-of-type {\n",
       "        vertical-align: middle;\n",
       "    }\n",
       "\n",
       "    .dataframe tbody tr th {\n",
       "        vertical-align: top;\n",
       "    }\n",
       "\n",
       "    .dataframe thead th {\n",
       "        text-align: right;\n",
       "    }\n",
       "</style>\n",
       "<table border=\"1\" class=\"dataframe\">\n",
       "  <thead>\n",
       "    <tr style=\"text-align: right;\">\n",
       "      <th></th>\n",
       "      <th>time</th>\n",
       "      <th>user</th>\n",
       "      <th>tweet</th>\n",
       "    </tr>\n",
       "  </thead>\n",
       "  <tbody>\n",
       "    <tr>\n",
       "      <th>0</th>\n",
       "      <td>2022-06-06 15:11:49+00:00</td>\n",
       "      <td>PRI_Nacional</td>\n",
       "      <td>RT @alitomorenoc: ¡Claro que hay tiro para el ...</td>\n",
       "    </tr>\n",
       "    <tr>\n",
       "      <th>1</th>\n",
       "      <td>2022-06-06 15:11:47+00:00</td>\n",
       "      <td>PRI_Nacional</td>\n",
       "      <td>RT @alitomorenoc: A pesar de las violaciones a...</td>\n",
       "    </tr>\n",
       "    <tr>\n",
       "      <th>2</th>\n",
       "      <td>2022-06-06 04:58:48+00:00</td>\n",
       "      <td>PRI_Nacional</td>\n",
       "      <td>En Aguascalientes ganamos la gubernatura con @...</td>\n",
       "    </tr>\n",
       "    <tr>\n",
       "      <th>3</th>\n",
       "      <td>2022-06-06 03:27:47+00:00</td>\n",
       "      <td>PRI_Nacional</td>\n",
       "      <td>Felicidades @EVillegasV por ganar contundentem...</td>\n",
       "    </tr>\n",
       "    <tr>\n",
       "      <th>4</th>\n",
       "      <td>2022-06-06 00:57:56+00:00</td>\n",
       "      <td>PRI_Nacional</td>\n",
       "      <td>RT @EVillegasV: Dimos a conocer en rueda de pr...</td>\n",
       "    </tr>\n",
       "    <tr>\n",
       "      <th>...</th>\n",
       "      <td>...</td>\n",
       "      <td>...</td>\n",
       "      <td>...</td>\n",
       "    </tr>\n",
       "    <tr>\n",
       "      <th>3195</th>\n",
       "      <td>2021-01-16 18:42:00+00:00</td>\n",
       "      <td>PRI_Nacional</td>\n",
       "      <td>En @ChrisCastroB las familias campechanas han ...</td>\n",
       "    </tr>\n",
       "    <tr>\n",
       "      <th>3196</th>\n",
       "      <td>2021-01-16 18:00:25+00:00</td>\n",
       "      <td>PRI_Nacional</td>\n",
       "      <td>.@ChrisCastroB es un priista que cuenta con un...</td>\n",
       "    </tr>\n",
       "    <tr>\n",
       "      <th>3197</th>\n",
       "      <td>2021-01-15 22:03:08+00:00</td>\n",
       "      <td>PRI_Nacional</td>\n",
       "      <td>RT @alitomorenoc: Lo mejor del PRI se quedó en...</td>\n",
       "    </tr>\n",
       "    <tr>\n",
       "      <th>3198</th>\n",
       "      <td>2021-01-15 18:13:34+00:00</td>\n",
       "      <td>PRI_Nacional</td>\n",
       "      <td>En la sede nacional de nuestro partido, rendim...</td>\n",
       "    </tr>\n",
       "    <tr>\n",
       "      <th>3199</th>\n",
       "      <td>2021-01-15 17:11:09+00:00</td>\n",
       "      <td>PRI_Nacional</td>\n",
       "      <td>11:11 https://t.co/MMO3c28umo</td>\n",
       "    </tr>\n",
       "  </tbody>\n",
       "</table>\n",
       "<p>3200 rows × 3 columns</p>\n",
       "</div>"
      ],
      "text/plain": [
       "                          time          user  \\\n",
       "0    2022-06-06 15:11:49+00:00  PRI_Nacional   \n",
       "1    2022-06-06 15:11:47+00:00  PRI_Nacional   \n",
       "2    2022-06-06 04:58:48+00:00  PRI_Nacional   \n",
       "3    2022-06-06 03:27:47+00:00  PRI_Nacional   \n",
       "4    2022-06-06 00:57:56+00:00  PRI_Nacional   \n",
       "...                        ...           ...   \n",
       "3195 2021-01-16 18:42:00+00:00  PRI_Nacional   \n",
       "3196 2021-01-16 18:00:25+00:00  PRI_Nacional   \n",
       "3197 2021-01-15 22:03:08+00:00  PRI_Nacional   \n",
       "3198 2021-01-15 18:13:34+00:00  PRI_Nacional   \n",
       "3199 2021-01-15 17:11:09+00:00  PRI_Nacional   \n",
       "\n",
       "                                                  tweet  \n",
       "0     RT @alitomorenoc: ¡Claro que hay tiro para el ...  \n",
       "1     RT @alitomorenoc: A pesar de las violaciones a...  \n",
       "2     En Aguascalientes ganamos la gubernatura con @...  \n",
       "3     Felicidades @EVillegasV por ganar contundentem...  \n",
       "4     RT @EVillegasV: Dimos a conocer en rueda de pr...  \n",
       "...                                                 ...  \n",
       "3195  En @ChrisCastroB las familias campechanas han ...  \n",
       "3196  .@ChrisCastroB es un priista que cuenta con un...  \n",
       "3197  RT @alitomorenoc: Lo mejor del PRI se quedó en...  \n",
       "3198  En la sede nacional de nuestro partido, rendim...  \n",
       "3199                      11:11 https://t.co/MMO3c28umo  \n",
       "\n",
       "[3200 rows x 3 columns]"
      ]
     },
     "execution_count": 118,
     "metadata": {},
     "output_type": "execute_result"
    }
   ],
   "source": [
    "# Calling the scraping function for PRI party\n",
    "pri_df = twitter_scraping_tool('PRI_Nacional')\n",
    "pri_df"
   ]
  },
  {
   "cell_type": "code",
   "execution_count": 119,
   "id": "3d3b1884-946a-43b4-b257-c62290950158",
   "metadata": {},
   "outputs": [
    {
     "data": {
      "text/plain": [
       "1"
      ]
     },
     "execution_count": 119,
     "metadata": {},
     "output_type": "execute_result"
    }
   ],
   "source": [
    "# Investigating how many duplicate tweets exist prior to dropping them.\n",
    "pri_df['tweet'].duplicated().sum()"
   ]
  },
  {
   "cell_type": "code",
   "execution_count": 120,
   "id": "e4ae2c3c-1764-48d7-9f5f-61c5fd9ad864",
   "metadata": {},
   "outputs": [],
   "source": [
    "pri_df = pri_df.drop_duplicates(subset=['tweet'], keep = 'last')"
   ]
  },
  {
   "cell_type": "code",
   "execution_count": 121,
   "id": "b73462e3-7e85-46ee-8b14-d1b0180fdd37",
   "metadata": {},
   "outputs": [
    {
     "data": {
      "text/plain": [
       "(3199, 3)"
      ]
     },
     "execution_count": 121,
     "metadata": {},
     "output_type": "execute_result"
    }
   ],
   "source": [
    "pri_df.shape"
   ]
  },
  {
   "cell_type": "code",
   "execution_count": 122,
   "id": "729d2762-45e2-4f28-a6e2-b171f37fc1d9",
   "metadata": {},
   "outputs": [
    {
     "data": {
      "text/plain": [
       "array(['PRI_Nacional'], dtype=object)"
      ]
     },
     "execution_count": 122,
     "metadata": {},
     "output_type": "execute_result"
    }
   ],
   "source": [
    "# Confirmed that the only value of the 'user' column in this DataFrame was \"PRI_Nacional\".\n",
    "pri_df['user'].unique()"
   ]
  },
  {
   "cell_type": "code",
   "execution_count": 123,
   "id": "c16c7154-2cfe-4e6e-be4f-0b2c9ee941d4",
   "metadata": {},
   "outputs": [],
   "source": [
    "# Saved this duplicate-free DataFrame to a .csv file.\n",
    "pri_df.to_csv('../data/pri.csv', index=False)"
   ]
  },
  {
   "cell_type": "markdown",
   "id": "0e2cb5a6-b0cc-4a1c-8bcd-67f2c7a654cd",
   "metadata": {
    "jp-MarkdownHeadingCollapsed": true,
    "tags": []
   },
   "source": [
    "## Partido de la Revolución Democrática (PRD)"
   ]
  },
  {
   "cell_type": "code",
   "execution_count": 124,
   "id": "e5bb8d47-5ff6-40ac-ac74-2851be6fbfe0",
   "metadata": {},
   "outputs": [
    {
     "data": {
      "text/html": [
       "<div>\n",
       "<style scoped>\n",
       "    .dataframe tbody tr th:only-of-type {\n",
       "        vertical-align: middle;\n",
       "    }\n",
       "\n",
       "    .dataframe tbody tr th {\n",
       "        vertical-align: top;\n",
       "    }\n",
       "\n",
       "    .dataframe thead th {\n",
       "        text-align: right;\n",
       "    }\n",
       "</style>\n",
       "<table border=\"1\" class=\"dataframe\">\n",
       "  <thead>\n",
       "    <tr style=\"text-align: right;\">\n",
       "      <th></th>\n",
       "      <th>time</th>\n",
       "      <th>user</th>\n",
       "      <th>tweet</th>\n",
       "    </tr>\n",
       "  </thead>\n",
       "  <tbody>\n",
       "    <tr>\n",
       "      <th>0</th>\n",
       "      <td>2022-06-07 00:30:00+00:00</td>\n",
       "      <td>PRDMexico</td>\n",
       "      <td>Corrupción, mentiras e impunidad son las palab...</td>\n",
       "    </tr>\n",
       "    <tr>\n",
       "      <th>1</th>\n",
       "      <td>2022-06-07 00:11:42+00:00</td>\n",
       "      <td>PRDMexico</td>\n",
       "      <td>RT @GPPRDmx: Desde el #GPPRD lamentamos profun...</td>\n",
       "    </tr>\n",
       "    <tr>\n",
       "      <th>2</th>\n",
       "      <td>2022-06-07 00:08:40+00:00</td>\n",
       "      <td>PRDMexico</td>\n",
       "      <td>RT @PRDMexico: ¡Sin la diversidad no hay revol...</td>\n",
       "    </tr>\n",
       "    <tr>\n",
       "      <th>3</th>\n",
       "      <td>2022-06-06 23:00:02+00:00</td>\n",
       "      <td>PRDMexico</td>\n",
       "      <td>¡Mexicanas chingonas!\\nFelicitamos a Katya Ech...</td>\n",
       "    </tr>\n",
       "    <tr>\n",
       "      <th>4</th>\n",
       "      <td>2022-06-06 22:19:18+00:00</td>\n",
       "      <td>PRDMexico</td>\n",
       "      <td>RT @PRDMexico: Por un México con #MovilidadSeg...</td>\n",
       "    </tr>\n",
       "    <tr>\n",
       "      <th>...</th>\n",
       "      <td>...</td>\n",
       "      <td>...</td>\n",
       "      <td>...</td>\n",
       "    </tr>\n",
       "    <tr>\n",
       "      <th>3195</th>\n",
       "      <td>2022-03-10 23:14:36+00:00</td>\n",
       "      <td>PRDMexico</td>\n",
       "      <td>En el #PRD luchamos para que no haya un macho ...</td>\n",
       "    </tr>\n",
       "    <tr>\n",
       "      <th>3196</th>\n",
       "      <td>2022-03-10 22:30:00+00:00</td>\n",
       "      <td>PRDMexico</td>\n",
       "      <td>Ya es hora de que las y los niños reciban su v...</td>\n",
       "    </tr>\n",
       "    <tr>\n",
       "      <th>3197</th>\n",
       "      <td>2022-03-10 21:00:46+00:00</td>\n",
       "      <td>PRDMexico</td>\n",
       "      <td>Mujeres perredistas exigen la renuncia inmedia...</td>\n",
       "    </tr>\n",
       "    <tr>\n",
       "      <th>3198</th>\n",
       "      <td>2022-03-10 20:47:15+00:00</td>\n",
       "      <td>PRDMexico</td>\n",
       "      <td>Volvimos a salir a las calles para exigirle al...</td>\n",
       "    </tr>\n",
       "    <tr>\n",
       "      <th>3199</th>\n",
       "      <td>2022-03-10 20:30:22+00:00</td>\n",
       "      <td>PRDMexico</td>\n",
       "      <td>RT @GPPRDmx: Tuvimos la visita de Danna Laiza ...</td>\n",
       "    </tr>\n",
       "  </tbody>\n",
       "</table>\n",
       "<p>3200 rows × 3 columns</p>\n",
       "</div>"
      ],
      "text/plain": [
       "                          time       user  \\\n",
       "0    2022-06-07 00:30:00+00:00  PRDMexico   \n",
       "1    2022-06-07 00:11:42+00:00  PRDMexico   \n",
       "2    2022-06-07 00:08:40+00:00  PRDMexico   \n",
       "3    2022-06-06 23:00:02+00:00  PRDMexico   \n",
       "4    2022-06-06 22:19:18+00:00  PRDMexico   \n",
       "...                        ...        ...   \n",
       "3195 2022-03-10 23:14:36+00:00  PRDMexico   \n",
       "3196 2022-03-10 22:30:00+00:00  PRDMexico   \n",
       "3197 2022-03-10 21:00:46+00:00  PRDMexico   \n",
       "3198 2022-03-10 20:47:15+00:00  PRDMexico   \n",
       "3199 2022-03-10 20:30:22+00:00  PRDMexico   \n",
       "\n",
       "                                                  tweet  \n",
       "0     Corrupción, mentiras e impunidad son las palab...  \n",
       "1     RT @GPPRDmx: Desde el #GPPRD lamentamos profun...  \n",
       "2     RT @PRDMexico: ¡Sin la diversidad no hay revol...  \n",
       "3     ¡Mexicanas chingonas!\\nFelicitamos a Katya Ech...  \n",
       "4     RT @PRDMexico: Por un México con #MovilidadSeg...  \n",
       "...                                                 ...  \n",
       "3195  En el #PRD luchamos para que no haya un macho ...  \n",
       "3196  Ya es hora de que las y los niños reciban su v...  \n",
       "3197  Mujeres perredistas exigen la renuncia inmedia...  \n",
       "3198  Volvimos a salir a las calles para exigirle al...  \n",
       "3199  RT @GPPRDmx: Tuvimos la visita de Danna Laiza ...  \n",
       "\n",
       "[3200 rows x 3 columns]"
      ]
     },
     "execution_count": 124,
     "metadata": {},
     "output_type": "execute_result"
    }
   ],
   "source": [
    "# Calling the scraping function for PRD party\n",
    "prd_df = twitter_scraping_tool('PRDMexico')\n",
    "prd_df"
   ]
  },
  {
   "cell_type": "code",
   "execution_count": 125,
   "id": "2fb79853-43fa-407e-9a7e-f972b6166477",
   "metadata": {},
   "outputs": [
    {
     "data": {
      "text/plain": [
       "8"
      ]
     },
     "execution_count": 125,
     "metadata": {},
     "output_type": "execute_result"
    }
   ],
   "source": [
    "# Investigating how many duplicate tweets exist prior to dropping them.\n",
    "prd_df['tweet'].duplicated().sum()"
   ]
  },
  {
   "cell_type": "code",
   "execution_count": 126,
   "id": "11074007-82d3-42d6-a43d-ab158cc193db",
   "metadata": {},
   "outputs": [],
   "source": [
    "prd_df = prd_df.drop_duplicates(subset=['tweet'], keep = 'last')"
   ]
  },
  {
   "cell_type": "code",
   "execution_count": 127,
   "id": "27ec9ca6-0ff0-466a-b481-976246b5c89c",
   "metadata": {},
   "outputs": [
    {
     "data": {
      "text/plain": [
       "(3192, 3)"
      ]
     },
     "execution_count": 127,
     "metadata": {},
     "output_type": "execute_result"
    }
   ],
   "source": [
    "prd_df.shape"
   ]
  },
  {
   "cell_type": "code",
   "execution_count": 128,
   "id": "fb636971-8c51-4550-a559-5b80e73ab1ef",
   "metadata": {},
   "outputs": [
    {
     "data": {
      "text/plain": [
       "array(['PRDMexico'], dtype=object)"
      ]
     },
     "execution_count": 128,
     "metadata": {},
     "output_type": "execute_result"
    }
   ],
   "source": [
    "# Confirmed that the only value of the 'user' column in this DataFrame was \"PRDMexico\".\n",
    "prd_df['user'].unique()"
   ]
  },
  {
   "cell_type": "code",
   "execution_count": 129,
   "id": "7994923f-39a4-44f7-938e-2ff3ee4002ff",
   "metadata": {},
   "outputs": [],
   "source": [
    "# Saved this duplicate-free DataFrame to a .csv file.\n",
    "prd_df.to_csv('../data/prd.csv', index=False)"
   ]
  },
  {
   "cell_type": "markdown",
   "id": "d381cdc1-2292-4ddb-b82f-0b296c45f701",
   "metadata": {
    "tags": []
   },
   "source": [
    "## Partido Verde Ecologista de México (PV)"
   ]
  },
  {
   "cell_type": "code",
   "execution_count": 130,
   "id": "bf18c4c4-8398-417f-8c50-fa8773b41f86",
   "metadata": {},
   "outputs": [
    {
     "data": {
      "text/html": [
       "<div>\n",
       "<style scoped>\n",
       "    .dataframe tbody tr th:only-of-type {\n",
       "        vertical-align: middle;\n",
       "    }\n",
       "\n",
       "    .dataframe tbody tr th {\n",
       "        vertical-align: top;\n",
       "    }\n",
       "\n",
       "    .dataframe thead th {\n",
       "        text-align: right;\n",
       "    }\n",
       "</style>\n",
       "<table border=\"1\" class=\"dataframe\">\n",
       "  <thead>\n",
       "    <tr style=\"text-align: right;\">\n",
       "      <th></th>\n",
       "      <th>time</th>\n",
       "      <th>user</th>\n",
       "      <th>tweet</th>\n",
       "    </tr>\n",
       "  </thead>\n",
       "  <tbody>\n",
       "    <tr>\n",
       "      <th>0</th>\n",
       "      <td>2022-06-06 23:30:00+00:00</td>\n",
       "      <td>partidoverdemex</td>\n",
       "      <td>Estas son las #3DelVerde en el Senado #LoDesta...</td>\n",
       "    </tr>\n",
       "    <tr>\n",
       "      <th>1</th>\n",
       "      <td>2022-06-06 20:00:00+00:00</td>\n",
       "      <td>partidoverdemex</td>\n",
       "      <td>Reconocemos la gran labor de la @CNDH en estos...</td>\n",
       "    </tr>\n",
       "    <tr>\n",
       "      <th>2</th>\n",
       "      <td>2022-06-06 17:06:02+00:00</td>\n",
       "      <td>partidoverdemex</td>\n",
       "      <td>Conoce #LoDestacadoDeLaSemana en las #3DelVerd...</td>\n",
       "    </tr>\n",
       "    <tr>\n",
       "      <th>3</th>\n",
       "      <td>2022-06-06 03:43:01+00:00</td>\n",
       "      <td>partidoverdemex</td>\n",
       "      <td>RT @karencastrejont: Hoy se confirmó lo que he...</td>\n",
       "    </tr>\n",
       "    <tr>\n",
       "      <th>4</th>\n",
       "      <td>2022-06-06 03:28:36+00:00</td>\n",
       "      <td>partidoverdemex</td>\n",
       "      <td>RT @karencastrejont: El gobierno del Dr. @Dr_A...</td>\n",
       "    </tr>\n",
       "    <tr>\n",
       "      <th>...</th>\n",
       "      <td>...</td>\n",
       "      <td>...</td>\n",
       "      <td>...</td>\n",
       "    </tr>\n",
       "    <tr>\n",
       "      <th>3195</th>\n",
       "      <td>2018-10-22 20:12:37+00:00</td>\n",
       "      <td>partidoverdemex</td>\n",
       "      <td>Propone la Sen. @BenavidesCobos beneficiar con...</td>\n",
       "    </tr>\n",
       "    <tr>\n",
       "      <th>3196</th>\n",
       "      <td>2018-10-22 18:21:12+00:00</td>\n",
       "      <td>partidoverdemex</td>\n",
       "      <td>RT @VerdeSenadoMex: El coordinador @RaulBCCue ...</td>\n",
       "    </tr>\n",
       "    <tr>\n",
       "      <th>3197</th>\n",
       "      <td>2018-10-21 18:32:17+00:00</td>\n",
       "      <td>partidoverdemex</td>\n",
       "      <td>En el #DíaMundialDelAhorroDeEnergía sigamos pr...</td>\n",
       "    </tr>\n",
       "    <tr>\n",
       "      <th>3198</th>\n",
       "      <td>2018-10-21 18:26:25+00:00</td>\n",
       "      <td>partidoverdemex</td>\n",
       "      <td>Proyecto Tren Maya debe presentar los estudios...</td>\n",
       "    </tr>\n",
       "    <tr>\n",
       "      <th>3199</th>\n",
       "      <td>2018-10-20 18:19:52+00:00</td>\n",
       "      <td>partidoverdemex</td>\n",
       "      <td>Reafirma la Dip. @AlessandraRdlv compromiso de...</td>\n",
       "    </tr>\n",
       "  </tbody>\n",
       "</table>\n",
       "<p>3200 rows × 3 columns</p>\n",
       "</div>"
      ],
      "text/plain": [
       "                          time             user  \\\n",
       "0    2022-06-06 23:30:00+00:00  partidoverdemex   \n",
       "1    2022-06-06 20:00:00+00:00  partidoverdemex   \n",
       "2    2022-06-06 17:06:02+00:00  partidoverdemex   \n",
       "3    2022-06-06 03:43:01+00:00  partidoverdemex   \n",
       "4    2022-06-06 03:28:36+00:00  partidoverdemex   \n",
       "...                        ...              ...   \n",
       "3195 2018-10-22 20:12:37+00:00  partidoverdemex   \n",
       "3196 2018-10-22 18:21:12+00:00  partidoverdemex   \n",
       "3197 2018-10-21 18:32:17+00:00  partidoverdemex   \n",
       "3198 2018-10-21 18:26:25+00:00  partidoverdemex   \n",
       "3199 2018-10-20 18:19:52+00:00  partidoverdemex   \n",
       "\n",
       "                                                  tweet  \n",
       "0     Estas son las #3DelVerde en el Senado #LoDesta...  \n",
       "1     Reconocemos la gran labor de la @CNDH en estos...  \n",
       "2     Conoce #LoDestacadoDeLaSemana en las #3DelVerd...  \n",
       "3     RT @karencastrejont: Hoy se confirmó lo que he...  \n",
       "4     RT @karencastrejont: El gobierno del Dr. @Dr_A...  \n",
       "...                                                 ...  \n",
       "3195  Propone la Sen. @BenavidesCobos beneficiar con...  \n",
       "3196  RT @VerdeSenadoMex: El coordinador @RaulBCCue ...  \n",
       "3197  En el #DíaMundialDelAhorroDeEnergía sigamos pr...  \n",
       "3198  Proyecto Tren Maya debe presentar los estudios...  \n",
       "3199  Reafirma la Dip. @AlessandraRdlv compromiso de...  \n",
       "\n",
       "[3200 rows x 3 columns]"
      ]
     },
     "execution_count": 130,
     "metadata": {},
     "output_type": "execute_result"
    }
   ],
   "source": [
    "# Calling the scraping function for PV party\n",
    "pv_df = twitter_scraping_tool('partidoverdemex')\n",
    "pv_df"
   ]
  },
  {
   "cell_type": "code",
   "execution_count": 131,
   "id": "8c3a038c-c9ec-4091-92df-8747ba82653a",
   "metadata": {},
   "outputs": [
    {
     "data": {
      "text/plain": [
       "0"
      ]
     },
     "execution_count": 131,
     "metadata": {},
     "output_type": "execute_result"
    }
   ],
   "source": [
    "# Investigating how many duplicate tweets exist prior to dropping them.\n",
    "pv_df['tweet'].duplicated().sum()"
   ]
  },
  {
   "cell_type": "code",
   "execution_count": 132,
   "id": "7c4beabd-3483-499f-be3c-36701ae84fe9",
   "metadata": {},
   "outputs": [],
   "source": [
    "pv_df = pv_df.drop_duplicates(subset=['tweet'], keep = 'last')"
   ]
  },
  {
   "cell_type": "code",
   "execution_count": 133,
   "id": "bc0d5d80-8126-4ffd-a8c0-0a52b0998712",
   "metadata": {},
   "outputs": [
    {
     "data": {
      "text/plain": [
       "(3200, 3)"
      ]
     },
     "execution_count": 133,
     "metadata": {},
     "output_type": "execute_result"
    }
   ],
   "source": [
    "pv_df.shape"
   ]
  },
  {
   "cell_type": "code",
   "execution_count": 134,
   "id": "8c11cbab-29d2-4a35-9060-027aac151eb0",
   "metadata": {},
   "outputs": [
    {
     "data": {
      "text/plain": [
       "array(['partidoverdemex'], dtype=object)"
      ]
     },
     "execution_count": 134,
     "metadata": {},
     "output_type": "execute_result"
    }
   ],
   "source": [
    "# Confirmed that the only value of the 'user' column in this DataFrame was \"partidoverdemex\".\n",
    "pv_df['user'].unique()"
   ]
  },
  {
   "cell_type": "code",
   "execution_count": 135,
   "id": "0c969195-51eb-4373-9b44-9bb82a2a6a78",
   "metadata": {},
   "outputs": [],
   "source": [
    "# Saved this duplicate-free DataFrame to a .csv file.\n",
    "pv_df.to_csv('../data/pv.csv', index=False)"
   ]
  },
  {
   "cell_type": "markdown",
   "id": "4a473698-0196-446c-a09e-24eddec7fc05",
   "metadata": {
    "jp-MarkdownHeadingCollapsed": true,
    "tags": []
   },
   "source": [
    "## Movimiento Ciudadano (MC)"
   ]
  },
  {
   "cell_type": "code",
   "execution_count": 136,
   "id": "ed44e7ff-f12c-4179-8bac-ae36fd879a88",
   "metadata": {},
   "outputs": [
    {
     "data": {
      "text/html": [
       "<div>\n",
       "<style scoped>\n",
       "    .dataframe tbody tr th:only-of-type {\n",
       "        vertical-align: middle;\n",
       "    }\n",
       "\n",
       "    .dataframe tbody tr th {\n",
       "        vertical-align: top;\n",
       "    }\n",
       "\n",
       "    .dataframe thead th {\n",
       "        text-align: right;\n",
       "    }\n",
       "</style>\n",
       "<table border=\"1\" class=\"dataframe\">\n",
       "  <thead>\n",
       "    <tr style=\"text-align: right;\">\n",
       "      <th></th>\n",
       "      <th>time</th>\n",
       "      <th>user</th>\n",
       "      <th>tweet</th>\n",
       "    </tr>\n",
       "  </thead>\n",
       "  <tbody>\n",
       "    <tr>\n",
       "      <th>0</th>\n",
       "      <td>2022-06-07 00:00:03+00:00</td>\n",
       "      <td>MovCiudadanoMX</td>\n",
       "      <td>Día 167. #DelRíoPresoPolítico https://t.co/5rS...</td>\n",
       "    </tr>\n",
       "    <tr>\n",
       "      <th>1</th>\n",
       "      <td>2022-06-06 22:00:03+00:00</td>\n",
       "      <td>MovCiudadanoMX</td>\n",
       "      <td>Morena dejó plantada la regulación del cannabi...</td>\n",
       "    </tr>\n",
       "    <tr>\n",
       "      <th>2</th>\n",
       "      <td>2022-06-06 20:00:18+00:00</td>\n",
       "      <td>MovCiudadanoMX</td>\n",
       "      <td>¡Let´s roll! 🛼🛹🚲 Ya sea en patines, patineta o...</td>\n",
       "    </tr>\n",
       "    <tr>\n",
       "      <th>3</th>\n",
       "      <td>2022-06-06 18:33:54+00:00</td>\n",
       "      <td>MovCiudadanoMX</td>\n",
       "      <td>Pero no todas son malas noticias para las y lo...</td>\n",
       "    </tr>\n",
       "    <tr>\n",
       "      <th>4</th>\n",
       "      <td>2022-06-06 18:33:53+00:00</td>\n",
       "      <td>MovCiudadanoMX</td>\n",
       "      <td>Es muy difícil salir a buscar chamba cuando la...</td>\n",
       "    </tr>\n",
       "    <tr>\n",
       "      <th>...</th>\n",
       "      <td>...</td>\n",
       "      <td>...</td>\n",
       "      <td>...</td>\n",
       "    </tr>\n",
       "    <tr>\n",
       "      <th>3195</th>\n",
       "      <td>2021-09-07 20:00:21+00:00</td>\n",
       "      <td>MovCiudadanoMX</td>\n",
       "      <td>RT @Pat_MercadoC: ¡En México es inconstitucion...</td>\n",
       "    </tr>\n",
       "    <tr>\n",
       "      <th>3196</th>\n",
       "      <td>2021-09-07 19:53:16+00:00</td>\n",
       "      <td>MovCiudadanoMX</td>\n",
       "      <td>Esto es histórico: la Corte no solo garantizó ...</td>\n",
       "    </tr>\n",
       "    <tr>\n",
       "      <th>3197</th>\n",
       "      <td>2021-09-07 19:53:16+00:00</td>\n",
       "      <td>MovCiudadanoMX</td>\n",
       "      <td>Ayer se empezó a discutir en la @SCJN la incon...</td>\n",
       "    </tr>\n",
       "    <tr>\n",
       "      <th>3198</th>\n",
       "      <td>2021-09-07 19:53:15+00:00</td>\n",
       "      <td>MovCiudadanoMX</td>\n",
       "      <td>¿Qué está pasando en #Coahuila?\\n👉En el estado...</td>\n",
       "    </tr>\n",
       "    <tr>\n",
       "      <th>3199</th>\n",
       "      <td>2021-09-07 19:39:45+00:00</td>\n",
       "      <td>MovCiudadanoMX</td>\n",
       "      <td>#SeráLey https://t.co/M8gkX04la0</td>\n",
       "    </tr>\n",
       "  </tbody>\n",
       "</table>\n",
       "<p>3200 rows × 3 columns</p>\n",
       "</div>"
      ],
      "text/plain": [
       "                          time            user  \\\n",
       "0    2022-06-07 00:00:03+00:00  MovCiudadanoMX   \n",
       "1    2022-06-06 22:00:03+00:00  MovCiudadanoMX   \n",
       "2    2022-06-06 20:00:18+00:00  MovCiudadanoMX   \n",
       "3    2022-06-06 18:33:54+00:00  MovCiudadanoMX   \n",
       "4    2022-06-06 18:33:53+00:00  MovCiudadanoMX   \n",
       "...                        ...             ...   \n",
       "3195 2021-09-07 20:00:21+00:00  MovCiudadanoMX   \n",
       "3196 2021-09-07 19:53:16+00:00  MovCiudadanoMX   \n",
       "3197 2021-09-07 19:53:16+00:00  MovCiudadanoMX   \n",
       "3198 2021-09-07 19:53:15+00:00  MovCiudadanoMX   \n",
       "3199 2021-09-07 19:39:45+00:00  MovCiudadanoMX   \n",
       "\n",
       "                                                  tweet  \n",
       "0     Día 167. #DelRíoPresoPolítico https://t.co/5rS...  \n",
       "1     Morena dejó plantada la regulación del cannabi...  \n",
       "2     ¡Let´s roll! 🛼🛹🚲 Ya sea en patines, patineta o...  \n",
       "3     Pero no todas son malas noticias para las y lo...  \n",
       "4     Es muy difícil salir a buscar chamba cuando la...  \n",
       "...                                                 ...  \n",
       "3195  RT @Pat_MercadoC: ¡En México es inconstitucion...  \n",
       "3196  Esto es histórico: la Corte no solo garantizó ...  \n",
       "3197  Ayer se empezó a discutir en la @SCJN la incon...  \n",
       "3198  ¿Qué está pasando en #Coahuila?\\n👉En el estado...  \n",
       "3199                   #SeráLey https://t.co/M8gkX04la0  \n",
       "\n",
       "[3200 rows x 3 columns]"
      ]
     },
     "execution_count": 136,
     "metadata": {},
     "output_type": "execute_result"
    }
   ],
   "source": [
    "# Calling the scraping function for MC party\n",
    "mc_df = twitter_scraping_tool('MovCiudadanoMX')\n",
    "mc_df"
   ]
  },
  {
   "cell_type": "code",
   "execution_count": 137,
   "id": "9a71a8a2-27b6-40f2-a8c0-4ec17eeee193",
   "metadata": {},
   "outputs": [
    {
     "data": {
      "text/plain": [
       "17"
      ]
     },
     "execution_count": 137,
     "metadata": {},
     "output_type": "execute_result"
    }
   ],
   "source": [
    "# Investigating how many duplicate tweets exist prior to dropping them.\n",
    "mc_df['tweet'].duplicated().sum()"
   ]
  },
  {
   "cell_type": "code",
   "execution_count": 138,
   "id": "4838664f-2bcb-4908-86ee-832090156219",
   "metadata": {},
   "outputs": [],
   "source": [
    "mc_df = mc_df.drop_duplicates(subset=['tweet'], keep = 'last')"
   ]
  },
  {
   "cell_type": "code",
   "execution_count": 139,
   "id": "ef0a2253-3474-4965-b062-f545a4d55a04",
   "metadata": {},
   "outputs": [
    {
     "data": {
      "text/plain": [
       "(3183, 3)"
      ]
     },
     "execution_count": 139,
     "metadata": {},
     "output_type": "execute_result"
    }
   ],
   "source": [
    "mc_df.shape"
   ]
  },
  {
   "cell_type": "code",
   "execution_count": 140,
   "id": "f452bf7e-767c-4539-b514-0bfddc4e4c22",
   "metadata": {},
   "outputs": [
    {
     "data": {
      "text/plain": [
       "array(['MovCiudadanoMX'], dtype=object)"
      ]
     },
     "execution_count": 140,
     "metadata": {},
     "output_type": "execute_result"
    }
   ],
   "source": [
    "# Confirmed that the only value of the 'user' column in this DataFrame was \"MovCiudadanoMX\".\n",
    "mc_df['user'].unique()"
   ]
  },
  {
   "cell_type": "code",
   "execution_count": 141,
   "id": "c2d6a57d-c075-493c-bdc3-48049b2b582a",
   "metadata": {},
   "outputs": [],
   "source": [
    "# Saved this duplicate-free DataFrame to a .csv file.\n",
    "mc_df.to_csv('../data/mc.csv', index=False)"
   ]
  },
  {
   "cell_type": "markdown",
   "id": "9a4369ac-5d43-4371-a3c3-5e0b231e02cf",
   "metadata": {},
   "source": [
    "## Morena (MRN)"
   ]
  },
  {
   "cell_type": "code",
   "execution_count": 142,
   "id": "0310263a-03fc-4dd8-a2b5-b777ce6925ec",
   "metadata": {},
   "outputs": [
    {
     "data": {
      "text/html": [
       "<div>\n",
       "<style scoped>\n",
       "    .dataframe tbody tr th:only-of-type {\n",
       "        vertical-align: middle;\n",
       "    }\n",
       "\n",
       "    .dataframe tbody tr th {\n",
       "        vertical-align: top;\n",
       "    }\n",
       "\n",
       "    .dataframe thead th {\n",
       "        text-align: right;\n",
       "    }\n",
       "</style>\n",
       "<table border=\"1\" class=\"dataframe\">\n",
       "  <thead>\n",
       "    <tr style=\"text-align: right;\">\n",
       "      <th></th>\n",
       "      <th>time</th>\n",
       "      <th>user</th>\n",
       "      <th>tweet</th>\n",
       "    </tr>\n",
       "  </thead>\n",
       "  <tbody>\n",
       "    <tr>\n",
       "      <th>0</th>\n",
       "      <td>2022-06-07 01:00:01+00:00</td>\n",
       "      <td>PartidoMorenaMx</td>\n",
       "      <td>¡Con el voto de las y los oaxaqueños, Morena a...</td>\n",
       "    </tr>\n",
       "    <tr>\n",
       "      <th>1</th>\n",
       "      <td>2022-06-07 00:00:08+00:00</td>\n",
       "      <td>PartidoMorenaMx</td>\n",
       "      <td>El presidente @lopezobrador_ presentó los resu...</td>\n",
       "    </tr>\n",
       "    <tr>\n",
       "      <th>2</th>\n",
       "      <td>2022-06-06 22:30:25+00:00</td>\n",
       "      <td>PartidoMorenaMx</td>\n",
       "      <td>A pesar de la guerra sucia, en #Tamaulipas tri...</td>\n",
       "    </tr>\n",
       "    <tr>\n",
       "      <th>3</th>\n",
       "      <td>2022-06-06 21:16:09+00:00</td>\n",
       "      <td>PartidoMorenaMx</td>\n",
       "      <td>El presidente @lopezobrador_ informó que no as...</td>\n",
       "    </tr>\n",
       "    <tr>\n",
       "      <th>4</th>\n",
       "      <td>2022-06-06 20:18:00+00:00</td>\n",
       "      <td>PartidoMorenaMx</td>\n",
       "      <td>“Nunca voy a dejar de agradecerle al pueblo su...</td>\n",
       "    </tr>\n",
       "    <tr>\n",
       "      <th>...</th>\n",
       "      <td>...</td>\n",
       "      <td>...</td>\n",
       "      <td>...</td>\n",
       "    </tr>\n",
       "    <tr>\n",
       "      <th>3195</th>\n",
       "      <td>2021-11-25 16:31:34+00:00</td>\n",
       "      <td>PartidoMorenaMx</td>\n",
       "      <td>RT @DiputadosMorena: Hartas de violencias mach...</td>\n",
       "    </tr>\n",
       "    <tr>\n",
       "      <th>3196</th>\n",
       "      <td>2021-11-25 16:31:32+00:00</td>\n",
       "      <td>PartidoMorenaMx</td>\n",
       "      <td>RT @DiputadosMorena: Vivas, libres y en lucha ...</td>\n",
       "    </tr>\n",
       "    <tr>\n",
       "      <th>3197</th>\n",
       "      <td>2021-11-25 16:31:29+00:00</td>\n",
       "      <td>PartidoMorenaMx</td>\n",
       "      <td>RT @DiputadosMorena: No nos sentimos seguras, ...</td>\n",
       "    </tr>\n",
       "    <tr>\n",
       "      <th>3198</th>\n",
       "      <td>2021-11-25 16:31:26+00:00</td>\n",
       "      <td>PartidoMorenaMx</td>\n",
       "      <td>RT @DiputadosMorena: Luchamos hoy para no mori...</td>\n",
       "    </tr>\n",
       "    <tr>\n",
       "      <th>3199</th>\n",
       "      <td>2021-11-25 16:31:24+00:00</td>\n",
       "      <td>PartidoMorenaMx</td>\n",
       "      <td>RT @DiputadosMorena: No nací mujer para morir ...</td>\n",
       "    </tr>\n",
       "  </tbody>\n",
       "</table>\n",
       "<p>3200 rows × 3 columns</p>\n",
       "</div>"
      ],
      "text/plain": [
       "                          time             user  \\\n",
       "0    2022-06-07 01:00:01+00:00  PartidoMorenaMx   \n",
       "1    2022-06-07 00:00:08+00:00  PartidoMorenaMx   \n",
       "2    2022-06-06 22:30:25+00:00  PartidoMorenaMx   \n",
       "3    2022-06-06 21:16:09+00:00  PartidoMorenaMx   \n",
       "4    2022-06-06 20:18:00+00:00  PartidoMorenaMx   \n",
       "...                        ...              ...   \n",
       "3195 2021-11-25 16:31:34+00:00  PartidoMorenaMx   \n",
       "3196 2021-11-25 16:31:32+00:00  PartidoMorenaMx   \n",
       "3197 2021-11-25 16:31:29+00:00  PartidoMorenaMx   \n",
       "3198 2021-11-25 16:31:26+00:00  PartidoMorenaMx   \n",
       "3199 2021-11-25 16:31:24+00:00  PartidoMorenaMx   \n",
       "\n",
       "                                                  tweet  \n",
       "0     ¡Con el voto de las y los oaxaqueños, Morena a...  \n",
       "1     El presidente @lopezobrador_ presentó los resu...  \n",
       "2     A pesar de la guerra sucia, en #Tamaulipas tri...  \n",
       "3     El presidente @lopezobrador_ informó que no as...  \n",
       "4     “Nunca voy a dejar de agradecerle al pueblo su...  \n",
       "...                                                 ...  \n",
       "3195  RT @DiputadosMorena: Hartas de violencias mach...  \n",
       "3196  RT @DiputadosMorena: Vivas, libres y en lucha ...  \n",
       "3197  RT @DiputadosMorena: No nos sentimos seguras, ...  \n",
       "3198  RT @DiputadosMorena: Luchamos hoy para no mori...  \n",
       "3199  RT @DiputadosMorena: No nací mujer para morir ...  \n",
       "\n",
       "[3200 rows x 3 columns]"
      ]
     },
     "execution_count": 142,
     "metadata": {},
     "output_type": "execute_result"
    }
   ],
   "source": [
    "# Calling the scraping function for MRN party\n",
    "mrn_df = twitter_scraping_tool('PartidoMorenaMx')\n",
    "mrn_df"
   ]
  },
  {
   "cell_type": "code",
   "execution_count": 143,
   "id": "8bacbf10-bbd6-4f0c-82ff-1accc381d635",
   "metadata": {},
   "outputs": [
    {
     "data": {
      "text/plain": [
       "3"
      ]
     },
     "execution_count": 143,
     "metadata": {},
     "output_type": "execute_result"
    }
   ],
   "source": [
    "# Investigating how many duplicate tweets exist prior to dropping them.\n",
    "mrn_df['tweet'].duplicated().sum()"
   ]
  },
  {
   "cell_type": "code",
   "execution_count": 144,
   "id": "3d99ef31-eada-4583-9521-ecca8a20eac5",
   "metadata": {},
   "outputs": [],
   "source": [
    "mrn_df = mrn_df.drop_duplicates(subset=['tweet'], keep = 'last')"
   ]
  },
  {
   "cell_type": "code",
   "execution_count": 145,
   "id": "cbbb6082-ed57-48f5-ada4-d5d3ec9cd7d1",
   "metadata": {},
   "outputs": [
    {
     "data": {
      "text/plain": [
       "(3197, 3)"
      ]
     },
     "execution_count": 145,
     "metadata": {},
     "output_type": "execute_result"
    }
   ],
   "source": [
    "mrn_df.shape"
   ]
  },
  {
   "cell_type": "code",
   "execution_count": 146,
   "id": "9135c64b-e618-4bb0-b350-17e0ef793128",
   "metadata": {},
   "outputs": [
    {
     "data": {
      "text/plain": [
       "array(['PartidoMorenaMx'], dtype=object)"
      ]
     },
     "execution_count": 146,
     "metadata": {},
     "output_type": "execute_result"
    }
   ],
   "source": [
    "# Confirmed that the only value of the 'user' column in this DataFrame was \"PartidoMorenaMx\".\n",
    "mrn_df['user'].unique()"
   ]
  },
  {
   "cell_type": "code",
   "execution_count": 147,
   "id": "a464b7df-8ded-4960-956c-2a1bc2c6891b",
   "metadata": {},
   "outputs": [],
   "source": [
    "# Saved this duplicate-free DataFrame to a .csv file.\n",
    "mrn_df.to_csv('../data/mrn.csv', index=False)"
   ]
  },
  {
   "cell_type": "code",
   "execution_count": null,
   "id": "f249153c-3f55-414a-a65f-4cf59f4d3aeb",
   "metadata": {},
   "outputs": [],
   "source": []
  },
  {
   "cell_type": "code",
   "execution_count": 26,
   "id": "8822d19b-5cd6-40cf-a0d2-286ebf480244",
   "metadata": {},
   "outputs": [],
   "source": [
    "user = 'AccionNacional'\n",
    "limit=3000"
   ]
  },
  {
   "cell_type": "code",
   "execution_count": 27,
   "id": "e25bddc9-2f9e-4d32-823c-94ffb547cdbf",
   "metadata": {},
   "outputs": [],
   "source": [
    "pan_tweets = tweepy.Cursor(api.user_timeline, screen_name=user, count=3000, tweet_mode='extended').items(limit)"
   ]
  },
  {
   "cell_type": "code",
   "execution_count": 28,
   "id": "a7c13693-8af0-4f49-a5e4-1adadca8f167",
   "metadata": {},
   "outputs": [],
   "source": [
    "columns = ['Time', 'User', 'Tweet']\n",
    "\n",
    "data = []\n",
    "\n",
    "for tweet in pan_tweets:\n",
    "    data.append([tweet.created_at, tweet.user.screen_name, tweet.full_text])\n",
    "\n",
    "df = pd.DataFrame(data, columns=columns)\n",
    "\n",
    "df.to_csv('../data/tweets.csv', index=False)"
   ]
  },
  {
   "cell_type": "code",
   "execution_count": 59,
   "id": "659049f4-cada-4480-a914-3ae112bbacb1",
   "metadata": {},
   "outputs": [
    {
     "data": {
      "text/html": [
       "<div>\n",
       "<style scoped>\n",
       "    .dataframe tbody tr th:only-of-type {\n",
       "        vertical-align: middle;\n",
       "    }\n",
       "\n",
       "    .dataframe tbody tr th {\n",
       "        vertical-align: top;\n",
       "    }\n",
       "\n",
       "    .dataframe thead th {\n",
       "        text-align: right;\n",
       "    }\n",
       "</style>\n",
       "<table border=\"1\" class=\"dataframe\">\n",
       "  <thead>\n",
       "    <tr style=\"text-align: right;\">\n",
       "      <th></th>\n",
       "      <th>Time</th>\n",
       "      <th>User</th>\n",
       "      <th>Tweet</th>\n",
       "    </tr>\n",
       "  </thead>\n",
       "  <tbody>\n",
       "    <tr>\n",
       "      <th>0</th>\n",
       "      <td>2022-06-06 22:52:00+00:00</td>\n",
       "      <td>AccionNacional</td>\n",
       "      <td>¡Lo hicimos, Durango! El municipio sigue pintá...</td>\n",
       "    </tr>\n",
       "    <tr>\n",
       "      <th>1</th>\n",
       "      <td>2022-06-06 17:01:25+00:00</td>\n",
       "      <td>AccionNacional</td>\n",
       "      <td>¡Ganamos Durango con @EVillegasV!\\n\\nGracias a...</td>\n",
       "    </tr>\n",
       "    <tr>\n",
       "      <th>2</th>\n",
       "      <td>2022-06-06 15:01:41+00:00</td>\n",
       "      <td>AccionNacional</td>\n",
       "      <td>¡Muchas felicidades @TereJimenezE por tu triun...</td>\n",
       "    </tr>\n",
       "    <tr>\n",
       "      <th>3</th>\n",
       "      <td>2022-06-06 14:06:27+00:00</td>\n",
       "      <td>AccionNacional</td>\n",
       "      <td>RT @TereJimenezE: ¡Hoy ganaron las propuestas ...</td>\n",
       "    </tr>\n",
       "    <tr>\n",
       "      <th>4</th>\n",
       "      <td>2022-06-06 14:06:15+00:00</td>\n",
       "      <td>AccionNacional</td>\n",
       "      <td>RT @EVillegasV: ¡Durango ganó con valor! Simpl...</td>\n",
       "    </tr>\n",
       "    <tr>\n",
       "      <th>...</th>\n",
       "      <td>...</td>\n",
       "      <td>...</td>\n",
       "      <td>...</td>\n",
       "    </tr>\n",
       "    <tr>\n",
       "      <th>2995</th>\n",
       "      <td>2020-11-24 14:01:20+00:00</td>\n",
       "      <td>AccionNacional</td>\n",
       "      <td>México pierde hoy a un gran panista, líder, ex...</td>\n",
       "    </tr>\n",
       "    <tr>\n",
       "      <th>2996</th>\n",
       "      <td>2020-11-24 02:33:32+00:00</td>\n",
       "      <td>AccionNacional</td>\n",
       "      <td>En Acción Nacional trabajamos por un mejor pre...</td>\n",
       "    </tr>\n",
       "    <tr>\n",
       "      <th>2997</th>\n",
       "      <td>2020-11-23 21:30:58+00:00</td>\n",
       "      <td>AccionNacional</td>\n",
       "      <td>En el Día de la Armada de México, reconocemos ...</td>\n",
       "    </tr>\n",
       "    <tr>\n",
       "      <th>2998</th>\n",
       "      <td>2020-11-22 14:17:15+00:00</td>\n",
       "      <td>AccionNacional</td>\n",
       "      <td>Presentamos ante la @FGRMexico una denuncia po...</td>\n",
       "    </tr>\n",
       "    <tr>\n",
       "      <th>2999</th>\n",
       "      <td>2020-11-21 17:05:48+00:00</td>\n",
       "      <td>AccionNacional</td>\n",
       "      <td>RT @GOAN_MX: Hemos elegido a nuestro compañero...</td>\n",
       "    </tr>\n",
       "  </tbody>\n",
       "</table>\n",
       "<p>3000 rows × 3 columns</p>\n",
       "</div>"
      ],
      "text/plain": [
       "                          Time            User  \\\n",
       "0    2022-06-06 22:52:00+00:00  AccionNacional   \n",
       "1    2022-06-06 17:01:25+00:00  AccionNacional   \n",
       "2    2022-06-06 15:01:41+00:00  AccionNacional   \n",
       "3    2022-06-06 14:06:27+00:00  AccionNacional   \n",
       "4    2022-06-06 14:06:15+00:00  AccionNacional   \n",
       "...                        ...             ...   \n",
       "2995 2020-11-24 14:01:20+00:00  AccionNacional   \n",
       "2996 2020-11-24 02:33:32+00:00  AccionNacional   \n",
       "2997 2020-11-23 21:30:58+00:00  AccionNacional   \n",
       "2998 2020-11-22 14:17:15+00:00  AccionNacional   \n",
       "2999 2020-11-21 17:05:48+00:00  AccionNacional   \n",
       "\n",
       "                                                  Tweet  \n",
       "0     ¡Lo hicimos, Durango! El municipio sigue pintá...  \n",
       "1     ¡Ganamos Durango con @EVillegasV!\\n\\nGracias a...  \n",
       "2     ¡Muchas felicidades @TereJimenezE por tu triun...  \n",
       "3     RT @TereJimenezE: ¡Hoy ganaron las propuestas ...  \n",
       "4     RT @EVillegasV: ¡Durango ganó con valor! Simpl...  \n",
       "...                                                 ...  \n",
       "2995  México pierde hoy a un gran panista, líder, ex...  \n",
       "2996  En Acción Nacional trabajamos por un mejor pre...  \n",
       "2997  En el Día de la Armada de México, reconocemos ...  \n",
       "2998  Presentamos ante la @FGRMexico una denuncia po...  \n",
       "2999  RT @GOAN_MX: Hemos elegido a nuestro compañero...  \n",
       "\n",
       "[3000 rows x 3 columns]"
      ]
     },
     "execution_count": 59,
     "metadata": {},
     "output_type": "execute_result"
    }
   ],
   "source": [
    "df"
   ]
  },
  {
   "cell_type": "code",
   "execution_count": 18,
   "id": "10cccf43-3d16-449a-919d-f739f1123140",
   "metadata": {},
   "outputs": [
    {
     "name": "stdout",
     "output_type": "stream",
     "text": [
      "<class 'pandas.core.frame.DataFrame'>\n",
      "RangeIndex: 3000 entries, 0 to 2999\n",
      "Data columns (total 3 columns):\n",
      " #   Column  Non-Null Count  Dtype              \n",
      "---  ------  --------------  -----              \n",
      " 0   Time    3000 non-null   datetime64[ns, UTC]\n",
      " 1   User    3000 non-null   object             \n",
      " 2   Tweet   3000 non-null   object             \n",
      "dtypes: datetime64[ns, UTC](1), object(2)\n",
      "memory usage: 70.4+ KB\n"
     ]
    }
   ],
   "source": [
    "df.info()"
   ]
  },
  {
   "cell_type": "code",
   "execution_count": null,
   "id": "6942a15f-24a5-4217-bc6e-0f381c6ff4b3",
   "metadata": {},
   "outputs": [],
   "source": []
  }
 ],
 "metadata": {
  "kernelspec": {
   "display_name": "Python 3 (ipykernel)",
   "language": "python",
   "name": "python3"
  },
  "language_info": {
   "codemirror_mode": {
    "name": "ipython",
    "version": 3
   },
   "file_extension": ".py",
   "mimetype": "text/x-python",
   "name": "python",
   "nbconvert_exporter": "python",
   "pygments_lexer": "ipython3",
   "version": "3.9.7"
  }
 },
 "nbformat": 4,
 "nbformat_minor": 5
}
